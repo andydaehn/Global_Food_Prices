{
  "nbformat": 4,
  "nbformat_minor": 0,
  "metadata": {
    "colab": {
      "name": "World_Food_Prices.ipynb",
      "provenance": [],
      "include_colab_link": true
    },
    "kernelspec": {
      "name": "python3",
      "display_name": "Python 3"
    },
    "language_info": {
      "name": "python"
    }
  },
  "cells": [
    {
      "cell_type": "markdown",
      "metadata": {
        "id": "view-in-github",
        "colab_type": "text"
      },
      "source": [
        "<a href=\"https://colab.research.google.com/github/andydaehn/Global_Food_Prices/blob/main/World_Food_Prices.ipynb\" target=\"_parent\"><img src=\"https://colab.research.google.com/assets/colab-badge.svg\" alt=\"Open In Colab\"/></a>"
      ]
    },
    {
      "cell_type": "markdown",
      "source": [
        "# Global Food Prices\n",
        "\n",
        "\n"
      ],
      "metadata": {
        "id": "2dVaaRaGWggY"
      }
    },
    {
      "cell_type": "markdown",
      "source": [
        "This analysis will help predict the best drug to use for a particular patient, based on medical data from 200 patients, by classifying the patient to the drug profile."
      ],
      "metadata": {
        "id": "onD3KQy-Dxw1"
      }
    },
    {
      "cell_type": "markdown",
      "source": [
        "## Import Libraries and Data"
      ],
      "metadata": {
        "id": "zMbozx7IldCu"
      }
    },
    {
      "cell_type": "code",
      "source": [
        "!pip install jupyter-dash"
      ],
      "metadata": {
        "id": "sonwRTljX7Q_",
        "outputId": "5772aee7-834a-4ef8-b429-ec6cd7472a13",
        "colab": {
          "base_uri": "https://localhost:8080/"
        }
      },
      "execution_count": 1,
      "outputs": [
        {
          "output_type": "stream",
          "name": "stdout",
          "text": [
            "Looking in indexes: https://pypi.org/simple, https://us-python.pkg.dev/colab-wheels/public/simple/\n",
            "Requirement already satisfied: jupyter-dash in /usr/local/lib/python3.7/dist-packages (0.4.2)\n",
            "Requirement already satisfied: dash in /usr/local/lib/python3.7/dist-packages (from jupyter-dash) (2.6.1)\n",
            "Requirement already satisfied: flask in /usr/local/lib/python3.7/dist-packages (from jupyter-dash) (1.1.4)\n",
            "Requirement already satisfied: ipykernel in /usr/local/lib/python3.7/dist-packages (from jupyter-dash) (5.3.4)\n",
            "Requirement already satisfied: ipython in /usr/local/lib/python3.7/dist-packages (from jupyter-dash) (7.9.0)\n",
            "Requirement already satisfied: retrying in /usr/local/lib/python3.7/dist-packages (from jupyter-dash) (1.3.3)\n",
            "Requirement already satisfied: requests in /usr/local/lib/python3.7/dist-packages (from jupyter-dash) (2.23.0)\n",
            "Requirement already satisfied: ansi2html in /usr/local/lib/python3.7/dist-packages (from jupyter-dash) (1.8.0)\n",
            "Requirement already satisfied: nest-asyncio in /usr/local/lib/python3.7/dist-packages (from jupyter-dash) (1.5.5)\n",
            "Requirement already satisfied: importlib-metadata in /usr/local/lib/python3.7/dist-packages (from ansi2html->jupyter-dash) (4.12.0)\n",
            "Requirement already satisfied: flask-compress in /usr/local/lib/python3.7/dist-packages (from dash->jupyter-dash) (1.12)\n",
            "Requirement already satisfied: plotly>=5.0.0 in /usr/local/lib/python3.7/dist-packages (from dash->jupyter-dash) (5.5.0)\n",
            "Requirement already satisfied: dash-table==5.0.0 in /usr/local/lib/python3.7/dist-packages (from dash->jupyter-dash) (5.0.0)\n",
            "Requirement already satisfied: dash-html-components==2.0.0 in /usr/local/lib/python3.7/dist-packages (from dash->jupyter-dash) (2.0.0)\n",
            "Requirement already satisfied: dash-core-components==2.0.0 in /usr/local/lib/python3.7/dist-packages (from dash->jupyter-dash) (2.0.0)\n",
            "Requirement already satisfied: click<8.0,>=5.1 in /usr/local/lib/python3.7/dist-packages (from flask->jupyter-dash) (7.1.2)\n",
            "Requirement already satisfied: Werkzeug<2.0,>=0.15 in /usr/local/lib/python3.7/dist-packages (from flask->jupyter-dash) (1.0.1)\n",
            "Requirement already satisfied: Jinja2<3.0,>=2.10.1 in /usr/local/lib/python3.7/dist-packages (from flask->jupyter-dash) (2.11.3)\n",
            "Requirement already satisfied: itsdangerous<2.0,>=0.24 in /usr/local/lib/python3.7/dist-packages (from flask->jupyter-dash) (1.1.0)\n",
            "Requirement already satisfied: MarkupSafe>=0.23 in /usr/local/lib/python3.7/dist-packages (from Jinja2<3.0,>=2.10.1->flask->jupyter-dash) (2.0.1)\n",
            "Requirement already satisfied: six in /usr/local/lib/python3.7/dist-packages (from plotly>=5.0.0->dash->jupyter-dash) (1.15.0)\n",
            "Requirement already satisfied: tenacity>=6.2.0 in /usr/local/lib/python3.7/dist-packages (from plotly>=5.0.0->dash->jupyter-dash) (8.0.1)\n",
            "Requirement already satisfied: brotli in /usr/local/lib/python3.7/dist-packages (from flask-compress->dash->jupyter-dash) (1.0.9)\n",
            "Requirement already satisfied: typing-extensions>=3.6.4 in /usr/local/lib/python3.7/dist-packages (from importlib-metadata->ansi2html->jupyter-dash) (4.1.1)\n",
            "Requirement already satisfied: zipp>=0.5 in /usr/local/lib/python3.7/dist-packages (from importlib-metadata->ansi2html->jupyter-dash) (3.8.1)\n",
            "Requirement already satisfied: traitlets>=4.1.0 in /usr/local/lib/python3.7/dist-packages (from ipykernel->jupyter-dash) (5.1.1)\n",
            "Requirement already satisfied: jupyter-client in /usr/local/lib/python3.7/dist-packages (from ipykernel->jupyter-dash) (6.1.12)\n",
            "Requirement already satisfied: tornado>=4.2 in /usr/local/lib/python3.7/dist-packages (from ipykernel->jupyter-dash) (5.1.1)\n",
            "Requirement already satisfied: pexpect in /usr/local/lib/python3.7/dist-packages (from ipython->jupyter-dash) (4.8.0)\n",
            "Requirement already satisfied: prompt-toolkit<2.1.0,>=2.0.0 in /usr/local/lib/python3.7/dist-packages (from ipython->jupyter-dash) (2.0.10)\n",
            "Requirement already satisfied: pygments in /usr/local/lib/python3.7/dist-packages (from ipython->jupyter-dash) (2.6.1)\n",
            "Requirement already satisfied: setuptools>=18.5 in /usr/local/lib/python3.7/dist-packages (from ipython->jupyter-dash) (57.4.0)\n",
            "Requirement already satisfied: pickleshare in /usr/local/lib/python3.7/dist-packages (from ipython->jupyter-dash) (0.7.5)\n",
            "Requirement already satisfied: jedi>=0.10 in /usr/local/lib/python3.7/dist-packages (from ipython->jupyter-dash) (0.18.1)\n",
            "Requirement already satisfied: backcall in /usr/local/lib/python3.7/dist-packages (from ipython->jupyter-dash) (0.2.0)\n",
            "Requirement already satisfied: decorator in /usr/local/lib/python3.7/dist-packages (from ipython->jupyter-dash) (4.4.2)\n",
            "Requirement already satisfied: parso<0.9.0,>=0.8.0 in /usr/local/lib/python3.7/dist-packages (from jedi>=0.10->ipython->jupyter-dash) (0.8.3)\n",
            "Requirement already satisfied: wcwidth in /usr/local/lib/python3.7/dist-packages (from prompt-toolkit<2.1.0,>=2.0.0->ipython->jupyter-dash) (0.2.5)\n",
            "Requirement already satisfied: pyzmq>=13 in /usr/local/lib/python3.7/dist-packages (from jupyter-client->ipykernel->jupyter-dash) (23.2.0)\n",
            "Requirement already satisfied: python-dateutil>=2.1 in /usr/local/lib/python3.7/dist-packages (from jupyter-client->ipykernel->jupyter-dash) (2.8.2)\n",
            "Requirement already satisfied: jupyter-core>=4.6.0 in /usr/local/lib/python3.7/dist-packages (from jupyter-client->ipykernel->jupyter-dash) (4.11.1)\n",
            "Requirement already satisfied: ptyprocess>=0.5 in /usr/local/lib/python3.7/dist-packages (from pexpect->ipython->jupyter-dash) (0.7.0)\n",
            "Requirement already satisfied: idna<3,>=2.5 in /usr/local/lib/python3.7/dist-packages (from requests->jupyter-dash) (2.10)\n",
            "Requirement already satisfied: urllib3!=1.25.0,!=1.25.1,<1.26,>=1.21.1 in /usr/local/lib/python3.7/dist-packages (from requests->jupyter-dash) (1.24.3)\n",
            "Requirement already satisfied: certifi>=2017.4.17 in /usr/local/lib/python3.7/dist-packages (from requests->jupyter-dash) (2022.6.15)\n",
            "Requirement already satisfied: chardet<4,>=3.0.2 in /usr/local/lib/python3.7/dist-packages (from requests->jupyter-dash) (3.0.4)\n"
          ]
        }
      ]
    },
    {
      "cell_type": "code",
      "execution_count": 2,
      "metadata": {
        "id": "4PRKL0sC65PB"
      },
      "outputs": [],
      "source": [
        "# Import libraries necessary for this project\n",
        "import numpy as np\n",
        "import pandas as pd\n",
        "import matplotlib.pyplot as plt\n",
        "import seaborn as sns\n",
        "from sklearn.model_selection import train_test_split\n",
        "from sklearn.ensemble import RandomForestClassifier\n",
        "from sklearn.tree import DecisionTreeClassifier\n",
        "from sklearn.metrics import f1_score, classification_report\n",
        "import plotly.express as px\n",
        "import plotly.graph_objects as go\n",
        "import datetime\n",
        "\n",
        "# Pretty display for notebooks\n",
        "%matplotlib inline\n",
        "\n",
        "# Ensure visualizations can be viewed by all\n",
        "colorblind_seq = ['#8856a7', '#9ebcda','#de2d26']"
      ]
    },
    {
      "cell_type": "code",
      "source": [
        "# Imports for dashboards\n",
        "import dash\n",
        "from jupyter_dash import JupyterDash\n",
        "from dash import html, dcc\n",
        "from dash.dependencies import Input, Output\n",
        "import plotly.graph_objects as go"
      ],
      "metadata": {
        "id": "KY77EPYvX7Nv"
      },
      "execution_count": 3,
      "outputs": []
    },
    {
      "cell_type": "code",
      "source": [
        "congo_df = pd.read_csv('wfp_food_prices_cog.csv')"
      ],
      "metadata": {
        "id": "paz1djRxEzb9"
      },
      "execution_count": 4,
      "outputs": []
    },
    {
      "cell_type": "code",
      "source": [
        "congo_df.head()"
      ],
      "metadata": {
        "id": "BX9BVtyUeZsI",
        "outputId": "7bab29e2-2aab-455d-b790-7fbb67c45f93",
        "colab": {
          "base_uri": "https://localhost:8080/",
          "height": 409
        }
      },
      "execution_count": 5,
      "outputs": [
        {
          "output_type": "execute_result",
          "data": {
            "text/plain": [
              "         date       admin1       admin2            market    latitude  \\\n",
              "0       #date   #adm1+name   #adm2+name  #loc+market+name    #geo+lat   \n",
              "1  2011-01-15  Brazzaville  Brazzaville           Mikalou   -4.259167   \n",
              "2  2011-01-15  Brazzaville  Brazzaville          Moungali   -4.259167   \n",
              "3  2011-01-15  Brazzaville  Brazzaville          Moungali   -4.259167   \n",
              "4  2011-01-15  Brazzaville  Brazzaville            Ouenzé  -4.2452176   \n",
              "\n",
              "    longitude            category                  commodity        unit  \\\n",
              "0    #geo+lon          #item+type                 #item+name  #item+unit   \n",
              "1   15.284722  cereals and tubers  Rice (mixed, low quality)          KG   \n",
              "2   15.284722  cereals and tubers  Rice (mixed, low quality)          KG   \n",
              "3   15.284722     pulses and nuts              Beans (white)          KG   \n",
              "4  15.2809247  cereals and tubers  Rice (mixed, low quality)          KG   \n",
              "\n",
              "          priceflag         pricetype   currency   price    usdprice  \n",
              "0  #item+price+flag  #item+price+type  #currency  #value  #value+usd  \n",
              "1            actual            Retail        XAF   635.0       0.994  \n",
              "2            actual            Retail        XAF   575.0         0.9  \n",
              "3            actual            Retail        XAF  1739.0       2.722  \n",
              "4            actual            Retail        XAF   595.0      0.9313  "
            ],
            "text/html": [
              "\n",
              "  <div id=\"df-a6480584-d8c1-4dfd-86e4-a347ffcabb32\">\n",
              "    <div class=\"colab-df-container\">\n",
              "      <div>\n",
              "<style scoped>\n",
              "    .dataframe tbody tr th:only-of-type {\n",
              "        vertical-align: middle;\n",
              "    }\n",
              "\n",
              "    .dataframe tbody tr th {\n",
              "        vertical-align: top;\n",
              "    }\n",
              "\n",
              "    .dataframe thead th {\n",
              "        text-align: right;\n",
              "    }\n",
              "</style>\n",
              "<table border=\"1\" class=\"dataframe\">\n",
              "  <thead>\n",
              "    <tr style=\"text-align: right;\">\n",
              "      <th></th>\n",
              "      <th>date</th>\n",
              "      <th>admin1</th>\n",
              "      <th>admin2</th>\n",
              "      <th>market</th>\n",
              "      <th>latitude</th>\n",
              "      <th>longitude</th>\n",
              "      <th>category</th>\n",
              "      <th>commodity</th>\n",
              "      <th>unit</th>\n",
              "      <th>priceflag</th>\n",
              "      <th>pricetype</th>\n",
              "      <th>currency</th>\n",
              "      <th>price</th>\n",
              "      <th>usdprice</th>\n",
              "    </tr>\n",
              "  </thead>\n",
              "  <tbody>\n",
              "    <tr>\n",
              "      <th>0</th>\n",
              "      <td>#date</td>\n",
              "      <td>#adm1+name</td>\n",
              "      <td>#adm2+name</td>\n",
              "      <td>#loc+market+name</td>\n",
              "      <td>#geo+lat</td>\n",
              "      <td>#geo+lon</td>\n",
              "      <td>#item+type</td>\n",
              "      <td>#item+name</td>\n",
              "      <td>#item+unit</td>\n",
              "      <td>#item+price+flag</td>\n",
              "      <td>#item+price+type</td>\n",
              "      <td>#currency</td>\n",
              "      <td>#value</td>\n",
              "      <td>#value+usd</td>\n",
              "    </tr>\n",
              "    <tr>\n",
              "      <th>1</th>\n",
              "      <td>2011-01-15</td>\n",
              "      <td>Brazzaville</td>\n",
              "      <td>Brazzaville</td>\n",
              "      <td>Mikalou</td>\n",
              "      <td>-4.259167</td>\n",
              "      <td>15.284722</td>\n",
              "      <td>cereals and tubers</td>\n",
              "      <td>Rice (mixed, low quality)</td>\n",
              "      <td>KG</td>\n",
              "      <td>actual</td>\n",
              "      <td>Retail</td>\n",
              "      <td>XAF</td>\n",
              "      <td>635.0</td>\n",
              "      <td>0.994</td>\n",
              "    </tr>\n",
              "    <tr>\n",
              "      <th>2</th>\n",
              "      <td>2011-01-15</td>\n",
              "      <td>Brazzaville</td>\n",
              "      <td>Brazzaville</td>\n",
              "      <td>Moungali</td>\n",
              "      <td>-4.259167</td>\n",
              "      <td>15.284722</td>\n",
              "      <td>cereals and tubers</td>\n",
              "      <td>Rice (mixed, low quality)</td>\n",
              "      <td>KG</td>\n",
              "      <td>actual</td>\n",
              "      <td>Retail</td>\n",
              "      <td>XAF</td>\n",
              "      <td>575.0</td>\n",
              "      <td>0.9</td>\n",
              "    </tr>\n",
              "    <tr>\n",
              "      <th>3</th>\n",
              "      <td>2011-01-15</td>\n",
              "      <td>Brazzaville</td>\n",
              "      <td>Brazzaville</td>\n",
              "      <td>Moungali</td>\n",
              "      <td>-4.259167</td>\n",
              "      <td>15.284722</td>\n",
              "      <td>pulses and nuts</td>\n",
              "      <td>Beans (white)</td>\n",
              "      <td>KG</td>\n",
              "      <td>actual</td>\n",
              "      <td>Retail</td>\n",
              "      <td>XAF</td>\n",
              "      <td>1739.0</td>\n",
              "      <td>2.722</td>\n",
              "    </tr>\n",
              "    <tr>\n",
              "      <th>4</th>\n",
              "      <td>2011-01-15</td>\n",
              "      <td>Brazzaville</td>\n",
              "      <td>Brazzaville</td>\n",
              "      <td>Ouenzé</td>\n",
              "      <td>-4.2452176</td>\n",
              "      <td>15.2809247</td>\n",
              "      <td>cereals and tubers</td>\n",
              "      <td>Rice (mixed, low quality)</td>\n",
              "      <td>KG</td>\n",
              "      <td>actual</td>\n",
              "      <td>Retail</td>\n",
              "      <td>XAF</td>\n",
              "      <td>595.0</td>\n",
              "      <td>0.9313</td>\n",
              "    </tr>\n",
              "  </tbody>\n",
              "</table>\n",
              "</div>\n",
              "      <button class=\"colab-df-convert\" onclick=\"convertToInteractive('df-a6480584-d8c1-4dfd-86e4-a347ffcabb32')\"\n",
              "              title=\"Convert this dataframe to an interactive table.\"\n",
              "              style=\"display:none;\">\n",
              "        \n",
              "  <svg xmlns=\"http://www.w3.org/2000/svg\" height=\"24px\"viewBox=\"0 0 24 24\"\n",
              "       width=\"24px\">\n",
              "    <path d=\"M0 0h24v24H0V0z\" fill=\"none\"/>\n",
              "    <path d=\"M18.56 5.44l.94 2.06.94-2.06 2.06-.94-2.06-.94-.94-2.06-.94 2.06-2.06.94zm-11 1L8.5 8.5l.94-2.06 2.06-.94-2.06-.94L8.5 2.5l-.94 2.06-2.06.94zm10 10l.94 2.06.94-2.06 2.06-.94-2.06-.94-.94-2.06-.94 2.06-2.06.94z\"/><path d=\"M17.41 7.96l-1.37-1.37c-.4-.4-.92-.59-1.43-.59-.52 0-1.04.2-1.43.59L10.3 9.45l-7.72 7.72c-.78.78-.78 2.05 0 2.83L4 21.41c.39.39.9.59 1.41.59.51 0 1.02-.2 1.41-.59l7.78-7.78 2.81-2.81c.8-.78.8-2.07 0-2.86zM5.41 20L4 18.59l7.72-7.72 1.47 1.35L5.41 20z\"/>\n",
              "  </svg>\n",
              "      </button>\n",
              "      \n",
              "  <style>\n",
              "    .colab-df-container {\n",
              "      display:flex;\n",
              "      flex-wrap:wrap;\n",
              "      gap: 12px;\n",
              "    }\n",
              "\n",
              "    .colab-df-convert {\n",
              "      background-color: #E8F0FE;\n",
              "      border: none;\n",
              "      border-radius: 50%;\n",
              "      cursor: pointer;\n",
              "      display: none;\n",
              "      fill: #1967D2;\n",
              "      height: 32px;\n",
              "      padding: 0 0 0 0;\n",
              "      width: 32px;\n",
              "    }\n",
              "\n",
              "    .colab-df-convert:hover {\n",
              "      background-color: #E2EBFA;\n",
              "      box-shadow: 0px 1px 2px rgba(60, 64, 67, 0.3), 0px 1px 3px 1px rgba(60, 64, 67, 0.15);\n",
              "      fill: #174EA6;\n",
              "    }\n",
              "\n",
              "    [theme=dark] .colab-df-convert {\n",
              "      background-color: #3B4455;\n",
              "      fill: #D2E3FC;\n",
              "    }\n",
              "\n",
              "    [theme=dark] .colab-df-convert:hover {\n",
              "      background-color: #434B5C;\n",
              "      box-shadow: 0px 1px 3px 1px rgba(0, 0, 0, 0.15);\n",
              "      filter: drop-shadow(0px 1px 2px rgba(0, 0, 0, 0.3));\n",
              "      fill: #FFFFFF;\n",
              "    }\n",
              "  </style>\n",
              "\n",
              "      <script>\n",
              "        const buttonEl =\n",
              "          document.querySelector('#df-a6480584-d8c1-4dfd-86e4-a347ffcabb32 button.colab-df-convert');\n",
              "        buttonEl.style.display =\n",
              "          google.colab.kernel.accessAllowed ? 'block' : 'none';\n",
              "\n",
              "        async function convertToInteractive(key) {\n",
              "          const element = document.querySelector('#df-a6480584-d8c1-4dfd-86e4-a347ffcabb32');\n",
              "          const dataTable =\n",
              "            await google.colab.kernel.invokeFunction('convertToInteractive',\n",
              "                                                     [key], {});\n",
              "          if (!dataTable) return;\n",
              "\n",
              "          const docLinkHtml = 'Like what you see? Visit the ' +\n",
              "            '<a target=\"_blank\" href=https://colab.research.google.com/notebooks/data_table.ipynb>data table notebook</a>'\n",
              "            + ' to learn more about interactive tables.';\n",
              "          element.innerHTML = '';\n",
              "          dataTable['output_type'] = 'display_data';\n",
              "          await google.colab.output.renderOutput(dataTable, element);\n",
              "          const docLink = document.createElement('div');\n",
              "          docLink.innerHTML = docLinkHtml;\n",
              "          element.appendChild(docLink);\n",
              "        }\n",
              "      </script>\n",
              "    </div>\n",
              "  </div>\n",
              "  "
            ]
          },
          "metadata": {},
          "execution_count": 5
        }
      ]
    },
    {
      "cell_type": "code",
      "source": [
        "congo_df.info()"
      ],
      "metadata": {
        "id": "vO66wfPLeZnl",
        "outputId": "082d2c59-b44e-486d-d661-c160cbbee45c",
        "colab": {
          "base_uri": "https://localhost:8080/"
        }
      },
      "execution_count": 6,
      "outputs": [
        {
          "output_type": "stream",
          "name": "stdout",
          "text": [
            "<class 'pandas.core.frame.DataFrame'>\n",
            "RangeIndex: 4761 entries, 0 to 4760\n",
            "Data columns (total 14 columns):\n",
            " #   Column     Non-Null Count  Dtype \n",
            "---  ------     --------------  ----- \n",
            " 0   date       4761 non-null   object\n",
            " 1   admin1     4761 non-null   object\n",
            " 2   admin2     4761 non-null   object\n",
            " 3   market     4761 non-null   object\n",
            " 4   latitude   4761 non-null   object\n",
            " 5   longitude  4761 non-null   object\n",
            " 6   category   4761 non-null   object\n",
            " 7   commodity  4761 non-null   object\n",
            " 8   unit       4761 non-null   object\n",
            " 9   priceflag  4761 non-null   object\n",
            " 10  pricetype  4761 non-null   object\n",
            " 11  currency   4761 non-null   object\n",
            " 12  price      4761 non-null   object\n",
            " 13  usdprice   4761 non-null   object\n",
            "dtypes: object(14)\n",
            "memory usage: 520.9+ KB\n"
          ]
        }
      ]
    },
    {
      "cell_type": "code",
      "source": [
        "congo_df.describe()"
      ],
      "metadata": {
        "id": "rBzOJ5LteZkk",
        "outputId": "b83b146c-07ac-4a5a-ed4a-23758d55e509",
        "colab": {
          "base_uri": "https://localhost:8080/",
          "height": 175
        }
      },
      "execution_count": 7,
      "outputs": [
        {
          "output_type": "execute_result",
          "data": {
            "text/plain": [
              "              date       admin1       admin2 market   latitude  longitude  \\\n",
              "count         4761         4761         4761   4761       4761       4761   \n",
              "unique          98            8            9     12         10         10   \n",
              "top     2018-03-15  Brazzaville  Brazzaville  Total  -4.259167  15.284722   \n",
              "freq            82         1730         1730   1100       1522       1522   \n",
              "\n",
              "                  category                  commodity  unit priceflag  \\\n",
              "count                 4761                       4761  4761      4761   \n",
              "unique                   6                         19     3         2   \n",
              "top     cereals and tubers  Rice (mixed, low quality)    KG    actual   \n",
              "freq                  1893                        494  4054      4760   \n",
              "\n",
              "       pricetype currency  price usdprice  \n",
              "count       4761     4761   4761     4761  \n",
              "unique         2        2   1228     1228  \n",
              "top       Retail      XAF  800.0   1.2522  \n",
              "freq        4760     4760    193      193  "
            ],
            "text/html": [
              "\n",
              "  <div id=\"df-66d43290-df43-48ce-9f65-cfafb4a297e6\">\n",
              "    <div class=\"colab-df-container\">\n",
              "      <div>\n",
              "<style scoped>\n",
              "    .dataframe tbody tr th:only-of-type {\n",
              "        vertical-align: middle;\n",
              "    }\n",
              "\n",
              "    .dataframe tbody tr th {\n",
              "        vertical-align: top;\n",
              "    }\n",
              "\n",
              "    .dataframe thead th {\n",
              "        text-align: right;\n",
              "    }\n",
              "</style>\n",
              "<table border=\"1\" class=\"dataframe\">\n",
              "  <thead>\n",
              "    <tr style=\"text-align: right;\">\n",
              "      <th></th>\n",
              "      <th>date</th>\n",
              "      <th>admin1</th>\n",
              "      <th>admin2</th>\n",
              "      <th>market</th>\n",
              "      <th>latitude</th>\n",
              "      <th>longitude</th>\n",
              "      <th>category</th>\n",
              "      <th>commodity</th>\n",
              "      <th>unit</th>\n",
              "      <th>priceflag</th>\n",
              "      <th>pricetype</th>\n",
              "      <th>currency</th>\n",
              "      <th>price</th>\n",
              "      <th>usdprice</th>\n",
              "    </tr>\n",
              "  </thead>\n",
              "  <tbody>\n",
              "    <tr>\n",
              "      <th>count</th>\n",
              "      <td>4761</td>\n",
              "      <td>4761</td>\n",
              "      <td>4761</td>\n",
              "      <td>4761</td>\n",
              "      <td>4761</td>\n",
              "      <td>4761</td>\n",
              "      <td>4761</td>\n",
              "      <td>4761</td>\n",
              "      <td>4761</td>\n",
              "      <td>4761</td>\n",
              "      <td>4761</td>\n",
              "      <td>4761</td>\n",
              "      <td>4761</td>\n",
              "      <td>4761</td>\n",
              "    </tr>\n",
              "    <tr>\n",
              "      <th>unique</th>\n",
              "      <td>98</td>\n",
              "      <td>8</td>\n",
              "      <td>9</td>\n",
              "      <td>12</td>\n",
              "      <td>10</td>\n",
              "      <td>10</td>\n",
              "      <td>6</td>\n",
              "      <td>19</td>\n",
              "      <td>3</td>\n",
              "      <td>2</td>\n",
              "      <td>2</td>\n",
              "      <td>2</td>\n",
              "      <td>1228</td>\n",
              "      <td>1228</td>\n",
              "    </tr>\n",
              "    <tr>\n",
              "      <th>top</th>\n",
              "      <td>2018-03-15</td>\n",
              "      <td>Brazzaville</td>\n",
              "      <td>Brazzaville</td>\n",
              "      <td>Total</td>\n",
              "      <td>-4.259167</td>\n",
              "      <td>15.284722</td>\n",
              "      <td>cereals and tubers</td>\n",
              "      <td>Rice (mixed, low quality)</td>\n",
              "      <td>KG</td>\n",
              "      <td>actual</td>\n",
              "      <td>Retail</td>\n",
              "      <td>XAF</td>\n",
              "      <td>800.0</td>\n",
              "      <td>1.2522</td>\n",
              "    </tr>\n",
              "    <tr>\n",
              "      <th>freq</th>\n",
              "      <td>82</td>\n",
              "      <td>1730</td>\n",
              "      <td>1730</td>\n",
              "      <td>1100</td>\n",
              "      <td>1522</td>\n",
              "      <td>1522</td>\n",
              "      <td>1893</td>\n",
              "      <td>494</td>\n",
              "      <td>4054</td>\n",
              "      <td>4760</td>\n",
              "      <td>4760</td>\n",
              "      <td>4760</td>\n",
              "      <td>193</td>\n",
              "      <td>193</td>\n",
              "    </tr>\n",
              "  </tbody>\n",
              "</table>\n",
              "</div>\n",
              "      <button class=\"colab-df-convert\" onclick=\"convertToInteractive('df-66d43290-df43-48ce-9f65-cfafb4a297e6')\"\n",
              "              title=\"Convert this dataframe to an interactive table.\"\n",
              "              style=\"display:none;\">\n",
              "        \n",
              "  <svg xmlns=\"http://www.w3.org/2000/svg\" height=\"24px\"viewBox=\"0 0 24 24\"\n",
              "       width=\"24px\">\n",
              "    <path d=\"M0 0h24v24H0V0z\" fill=\"none\"/>\n",
              "    <path d=\"M18.56 5.44l.94 2.06.94-2.06 2.06-.94-2.06-.94-.94-2.06-.94 2.06-2.06.94zm-11 1L8.5 8.5l.94-2.06 2.06-.94-2.06-.94L8.5 2.5l-.94 2.06-2.06.94zm10 10l.94 2.06.94-2.06 2.06-.94-2.06-.94-.94-2.06-.94 2.06-2.06.94z\"/><path d=\"M17.41 7.96l-1.37-1.37c-.4-.4-.92-.59-1.43-.59-.52 0-1.04.2-1.43.59L10.3 9.45l-7.72 7.72c-.78.78-.78 2.05 0 2.83L4 21.41c.39.39.9.59 1.41.59.51 0 1.02-.2 1.41-.59l7.78-7.78 2.81-2.81c.8-.78.8-2.07 0-2.86zM5.41 20L4 18.59l7.72-7.72 1.47 1.35L5.41 20z\"/>\n",
              "  </svg>\n",
              "      </button>\n",
              "      \n",
              "  <style>\n",
              "    .colab-df-container {\n",
              "      display:flex;\n",
              "      flex-wrap:wrap;\n",
              "      gap: 12px;\n",
              "    }\n",
              "\n",
              "    .colab-df-convert {\n",
              "      background-color: #E8F0FE;\n",
              "      border: none;\n",
              "      border-radius: 50%;\n",
              "      cursor: pointer;\n",
              "      display: none;\n",
              "      fill: #1967D2;\n",
              "      height: 32px;\n",
              "      padding: 0 0 0 0;\n",
              "      width: 32px;\n",
              "    }\n",
              "\n",
              "    .colab-df-convert:hover {\n",
              "      background-color: #E2EBFA;\n",
              "      box-shadow: 0px 1px 2px rgba(60, 64, 67, 0.3), 0px 1px 3px 1px rgba(60, 64, 67, 0.15);\n",
              "      fill: #174EA6;\n",
              "    }\n",
              "\n",
              "    [theme=dark] .colab-df-convert {\n",
              "      background-color: #3B4455;\n",
              "      fill: #D2E3FC;\n",
              "    }\n",
              "\n",
              "    [theme=dark] .colab-df-convert:hover {\n",
              "      background-color: #434B5C;\n",
              "      box-shadow: 0px 1px 3px 1px rgba(0, 0, 0, 0.15);\n",
              "      filter: drop-shadow(0px 1px 2px rgba(0, 0, 0, 0.3));\n",
              "      fill: #FFFFFF;\n",
              "    }\n",
              "  </style>\n",
              "\n",
              "      <script>\n",
              "        const buttonEl =\n",
              "          document.querySelector('#df-66d43290-df43-48ce-9f65-cfafb4a297e6 button.colab-df-convert');\n",
              "        buttonEl.style.display =\n",
              "          google.colab.kernel.accessAllowed ? 'block' : 'none';\n",
              "\n",
              "        async function convertToInteractive(key) {\n",
              "          const element = document.querySelector('#df-66d43290-df43-48ce-9f65-cfafb4a297e6');\n",
              "          const dataTable =\n",
              "            await google.colab.kernel.invokeFunction('convertToInteractive',\n",
              "                                                     [key], {});\n",
              "          if (!dataTable) return;\n",
              "\n",
              "          const docLinkHtml = 'Like what you see? Visit the ' +\n",
              "            '<a target=\"_blank\" href=https://colab.research.google.com/notebooks/data_table.ipynb>data table notebook</a>'\n",
              "            + ' to learn more about interactive tables.';\n",
              "          element.innerHTML = '';\n",
              "          dataTable['output_type'] = 'display_data';\n",
              "          await google.colab.output.renderOutput(dataTable, element);\n",
              "          const docLink = document.createElement('div');\n",
              "          docLink.innerHTML = docLinkHtml;\n",
              "          element.appendChild(docLink);\n",
              "        }\n",
              "      </script>\n",
              "    </div>\n",
              "  </div>\n",
              "  "
            ]
          },
          "metadata": {},
          "execution_count": 7
        }
      ]
    },
    {
      "cell_type": "code",
      "source": [
        "congo_df = congo_df.drop([0])\n",
        "# resetting the DataFrame index\n",
        "congo_df.reset_index()"
      ],
      "metadata": {
        "id": "lFkLqvrBj22l",
        "outputId": "5e8f5f8e-d4b6-41f0-cc18-11bf5c55a616",
        "colab": {
          "base_uri": "https://localhost:8080/",
          "height": 887
        }
      },
      "execution_count": 10,
      "outputs": [
        {
          "output_type": "execute_result",
          "data": {
            "text/plain": [
              "      index        date       admin1        admin2  \\\n",
              "0         1  2011-01-15  Brazzaville   Brazzaville   \n",
              "1         2  2011-01-15  Brazzaville   Brazzaville   \n",
              "2         3  2011-01-15  Brazzaville   Brazzaville   \n",
              "3         4  2011-01-15  Brazzaville   Brazzaville   \n",
              "4         5  2011-01-15  Brazzaville   Brazzaville   \n",
              "...     ...         ...          ...           ...   \n",
              "4755   4756  2020-07-15  Point-Noire  Pointe-Noire   \n",
              "4756   4757  2020-07-15  Point-Noire  Pointe-Noire   \n",
              "4757   4758  2020-07-15  Point-Noire  Pointe-Noire   \n",
              "4758   4759  2020-07-15  Point-Noire  Pointe-Noire   \n",
              "4759   4760  2020-07-15  Point-Noire  Pointe-Noire   \n",
              "\n",
              "                                    market            latitude  \\\n",
              "0                                  Mikalou           -4.259167   \n",
              "1                                 Moungali           -4.259167   \n",
              "2                                 Moungali           -4.259167   \n",
              "3                                   Ouenzé          -4.2452176   \n",
              "4                                   Ouenzé          -4.2452176   \n",
              "...                                    ...                 ...   \n",
              "4755  Grand marché/Fond Ntié-Ntié/Nkouikou  -4.794722080230713   \n",
              "4756  Grand marché/Fond Ntié-Ntié/Nkouikou  -4.794722080230713   \n",
              "4757  Grand marché/Fond Ntié-Ntié/Nkouikou  -4.794722080230713   \n",
              "4758  Grand marché/Fond Ntié-Ntié/Nkouikou  -4.794722080230713   \n",
              "4759  Grand marché/Fond Ntié-Ntié/Nkouikou  -4.794722080230713   \n",
              "\n",
              "               longitude             category                  commodity unit  \\\n",
              "0              15.284722   cereals and tubers  Rice (mixed, low quality)   KG   \n",
              "1              15.284722   cereals and tubers  Rice (mixed, low quality)   KG   \n",
              "2              15.284722      pulses and nuts              Beans (white)   KG   \n",
              "3             15.2809247   cereals and tubers  Rice (mixed, low quality)   KG   \n",
              "4             15.2809247      pulses and nuts              Beans (white)   KG   \n",
              "...                  ...                  ...                        ...  ...   \n",
              "4755  11.846111297607422  meat, fish and eggs                Meat (beef)   KG   \n",
              "4756  11.846111297607422  meat, fish and eggs     Meat (chicken, frozen)   KG   \n",
              "4757  11.846111297607422         oil and fats                 Oil (palm)    L   \n",
              "4758  11.846111297607422         oil and fats            Oil (vegetable)    L   \n",
              "4759  11.846111297607422      pulses and nuts       Groundnuts (shelled)   KG   \n",
              "\n",
              "     priceflag pricetype currency   price usdprice  \n",
              "0       actual    Retail      XAF   635.0    0.994  \n",
              "1       actual    Retail      XAF   575.0      0.9  \n",
              "2       actual    Retail      XAF  1739.0    2.722  \n",
              "3       actual    Retail      XAF   595.0   0.9313  \n",
              "4       actual    Retail      XAF  1507.0   2.3589  \n",
              "...        ...       ...      ...     ...      ...  \n",
              "4755    actual    Retail      XAF  2500.0   3.9132  \n",
              "4756    actual    Retail      XAF   800.0   1.2522  \n",
              "4757    actual    Retail      XAF   850.0   1.3305  \n",
              "4758    actual    Retail      XAF   700.0   1.0957  \n",
              "4759    actual    Retail      XAF  1105.0   1.7296  \n",
              "\n",
              "[4760 rows x 15 columns]"
            ],
            "text/html": [
              "\n",
              "  <div id=\"df-e60ed5b4-af45-4fdb-850c-94165f10746a\">\n",
              "    <div class=\"colab-df-container\">\n",
              "      <div>\n",
              "<style scoped>\n",
              "    .dataframe tbody tr th:only-of-type {\n",
              "        vertical-align: middle;\n",
              "    }\n",
              "\n",
              "    .dataframe tbody tr th {\n",
              "        vertical-align: top;\n",
              "    }\n",
              "\n",
              "    .dataframe thead th {\n",
              "        text-align: right;\n",
              "    }\n",
              "</style>\n",
              "<table border=\"1\" class=\"dataframe\">\n",
              "  <thead>\n",
              "    <tr style=\"text-align: right;\">\n",
              "      <th></th>\n",
              "      <th>index</th>\n",
              "      <th>date</th>\n",
              "      <th>admin1</th>\n",
              "      <th>admin2</th>\n",
              "      <th>market</th>\n",
              "      <th>latitude</th>\n",
              "      <th>longitude</th>\n",
              "      <th>category</th>\n",
              "      <th>commodity</th>\n",
              "      <th>unit</th>\n",
              "      <th>priceflag</th>\n",
              "      <th>pricetype</th>\n",
              "      <th>currency</th>\n",
              "      <th>price</th>\n",
              "      <th>usdprice</th>\n",
              "    </tr>\n",
              "  </thead>\n",
              "  <tbody>\n",
              "    <tr>\n",
              "      <th>0</th>\n",
              "      <td>1</td>\n",
              "      <td>2011-01-15</td>\n",
              "      <td>Brazzaville</td>\n",
              "      <td>Brazzaville</td>\n",
              "      <td>Mikalou</td>\n",
              "      <td>-4.259167</td>\n",
              "      <td>15.284722</td>\n",
              "      <td>cereals and tubers</td>\n",
              "      <td>Rice (mixed, low quality)</td>\n",
              "      <td>KG</td>\n",
              "      <td>actual</td>\n",
              "      <td>Retail</td>\n",
              "      <td>XAF</td>\n",
              "      <td>635.0</td>\n",
              "      <td>0.994</td>\n",
              "    </tr>\n",
              "    <tr>\n",
              "      <th>1</th>\n",
              "      <td>2</td>\n",
              "      <td>2011-01-15</td>\n",
              "      <td>Brazzaville</td>\n",
              "      <td>Brazzaville</td>\n",
              "      <td>Moungali</td>\n",
              "      <td>-4.259167</td>\n",
              "      <td>15.284722</td>\n",
              "      <td>cereals and tubers</td>\n",
              "      <td>Rice (mixed, low quality)</td>\n",
              "      <td>KG</td>\n",
              "      <td>actual</td>\n",
              "      <td>Retail</td>\n",
              "      <td>XAF</td>\n",
              "      <td>575.0</td>\n",
              "      <td>0.9</td>\n",
              "    </tr>\n",
              "    <tr>\n",
              "      <th>2</th>\n",
              "      <td>3</td>\n",
              "      <td>2011-01-15</td>\n",
              "      <td>Brazzaville</td>\n",
              "      <td>Brazzaville</td>\n",
              "      <td>Moungali</td>\n",
              "      <td>-4.259167</td>\n",
              "      <td>15.284722</td>\n",
              "      <td>pulses and nuts</td>\n",
              "      <td>Beans (white)</td>\n",
              "      <td>KG</td>\n",
              "      <td>actual</td>\n",
              "      <td>Retail</td>\n",
              "      <td>XAF</td>\n",
              "      <td>1739.0</td>\n",
              "      <td>2.722</td>\n",
              "    </tr>\n",
              "    <tr>\n",
              "      <th>3</th>\n",
              "      <td>4</td>\n",
              "      <td>2011-01-15</td>\n",
              "      <td>Brazzaville</td>\n",
              "      <td>Brazzaville</td>\n",
              "      <td>Ouenzé</td>\n",
              "      <td>-4.2452176</td>\n",
              "      <td>15.2809247</td>\n",
              "      <td>cereals and tubers</td>\n",
              "      <td>Rice (mixed, low quality)</td>\n",
              "      <td>KG</td>\n",
              "      <td>actual</td>\n",
              "      <td>Retail</td>\n",
              "      <td>XAF</td>\n",
              "      <td>595.0</td>\n",
              "      <td>0.9313</td>\n",
              "    </tr>\n",
              "    <tr>\n",
              "      <th>4</th>\n",
              "      <td>5</td>\n",
              "      <td>2011-01-15</td>\n",
              "      <td>Brazzaville</td>\n",
              "      <td>Brazzaville</td>\n",
              "      <td>Ouenzé</td>\n",
              "      <td>-4.2452176</td>\n",
              "      <td>15.2809247</td>\n",
              "      <td>pulses and nuts</td>\n",
              "      <td>Beans (white)</td>\n",
              "      <td>KG</td>\n",
              "      <td>actual</td>\n",
              "      <td>Retail</td>\n",
              "      <td>XAF</td>\n",
              "      <td>1507.0</td>\n",
              "      <td>2.3589</td>\n",
              "    </tr>\n",
              "    <tr>\n",
              "      <th>...</th>\n",
              "      <td>...</td>\n",
              "      <td>...</td>\n",
              "      <td>...</td>\n",
              "      <td>...</td>\n",
              "      <td>...</td>\n",
              "      <td>...</td>\n",
              "      <td>...</td>\n",
              "      <td>...</td>\n",
              "      <td>...</td>\n",
              "      <td>...</td>\n",
              "      <td>...</td>\n",
              "      <td>...</td>\n",
              "      <td>...</td>\n",
              "      <td>...</td>\n",
              "      <td>...</td>\n",
              "    </tr>\n",
              "    <tr>\n",
              "      <th>4755</th>\n",
              "      <td>4756</td>\n",
              "      <td>2020-07-15</td>\n",
              "      <td>Point-Noire</td>\n",
              "      <td>Pointe-Noire</td>\n",
              "      <td>Grand marché/Fond Ntié-Ntié/Nkouikou</td>\n",
              "      <td>-4.794722080230713</td>\n",
              "      <td>11.846111297607422</td>\n",
              "      <td>meat, fish and eggs</td>\n",
              "      <td>Meat (beef)</td>\n",
              "      <td>KG</td>\n",
              "      <td>actual</td>\n",
              "      <td>Retail</td>\n",
              "      <td>XAF</td>\n",
              "      <td>2500.0</td>\n",
              "      <td>3.9132</td>\n",
              "    </tr>\n",
              "    <tr>\n",
              "      <th>4756</th>\n",
              "      <td>4757</td>\n",
              "      <td>2020-07-15</td>\n",
              "      <td>Point-Noire</td>\n",
              "      <td>Pointe-Noire</td>\n",
              "      <td>Grand marché/Fond Ntié-Ntié/Nkouikou</td>\n",
              "      <td>-4.794722080230713</td>\n",
              "      <td>11.846111297607422</td>\n",
              "      <td>meat, fish and eggs</td>\n",
              "      <td>Meat (chicken, frozen)</td>\n",
              "      <td>KG</td>\n",
              "      <td>actual</td>\n",
              "      <td>Retail</td>\n",
              "      <td>XAF</td>\n",
              "      <td>800.0</td>\n",
              "      <td>1.2522</td>\n",
              "    </tr>\n",
              "    <tr>\n",
              "      <th>4757</th>\n",
              "      <td>4758</td>\n",
              "      <td>2020-07-15</td>\n",
              "      <td>Point-Noire</td>\n",
              "      <td>Pointe-Noire</td>\n",
              "      <td>Grand marché/Fond Ntié-Ntié/Nkouikou</td>\n",
              "      <td>-4.794722080230713</td>\n",
              "      <td>11.846111297607422</td>\n",
              "      <td>oil and fats</td>\n",
              "      <td>Oil (palm)</td>\n",
              "      <td>L</td>\n",
              "      <td>actual</td>\n",
              "      <td>Retail</td>\n",
              "      <td>XAF</td>\n",
              "      <td>850.0</td>\n",
              "      <td>1.3305</td>\n",
              "    </tr>\n",
              "    <tr>\n",
              "      <th>4758</th>\n",
              "      <td>4759</td>\n",
              "      <td>2020-07-15</td>\n",
              "      <td>Point-Noire</td>\n",
              "      <td>Pointe-Noire</td>\n",
              "      <td>Grand marché/Fond Ntié-Ntié/Nkouikou</td>\n",
              "      <td>-4.794722080230713</td>\n",
              "      <td>11.846111297607422</td>\n",
              "      <td>oil and fats</td>\n",
              "      <td>Oil (vegetable)</td>\n",
              "      <td>L</td>\n",
              "      <td>actual</td>\n",
              "      <td>Retail</td>\n",
              "      <td>XAF</td>\n",
              "      <td>700.0</td>\n",
              "      <td>1.0957</td>\n",
              "    </tr>\n",
              "    <tr>\n",
              "      <th>4759</th>\n",
              "      <td>4760</td>\n",
              "      <td>2020-07-15</td>\n",
              "      <td>Point-Noire</td>\n",
              "      <td>Pointe-Noire</td>\n",
              "      <td>Grand marché/Fond Ntié-Ntié/Nkouikou</td>\n",
              "      <td>-4.794722080230713</td>\n",
              "      <td>11.846111297607422</td>\n",
              "      <td>pulses and nuts</td>\n",
              "      <td>Groundnuts (shelled)</td>\n",
              "      <td>KG</td>\n",
              "      <td>actual</td>\n",
              "      <td>Retail</td>\n",
              "      <td>XAF</td>\n",
              "      <td>1105.0</td>\n",
              "      <td>1.7296</td>\n",
              "    </tr>\n",
              "  </tbody>\n",
              "</table>\n",
              "<p>4760 rows × 15 columns</p>\n",
              "</div>\n",
              "      <button class=\"colab-df-convert\" onclick=\"convertToInteractive('df-e60ed5b4-af45-4fdb-850c-94165f10746a')\"\n",
              "              title=\"Convert this dataframe to an interactive table.\"\n",
              "              style=\"display:none;\">\n",
              "        \n",
              "  <svg xmlns=\"http://www.w3.org/2000/svg\" height=\"24px\"viewBox=\"0 0 24 24\"\n",
              "       width=\"24px\">\n",
              "    <path d=\"M0 0h24v24H0V0z\" fill=\"none\"/>\n",
              "    <path d=\"M18.56 5.44l.94 2.06.94-2.06 2.06-.94-2.06-.94-.94-2.06-.94 2.06-2.06.94zm-11 1L8.5 8.5l.94-2.06 2.06-.94-2.06-.94L8.5 2.5l-.94 2.06-2.06.94zm10 10l.94 2.06.94-2.06 2.06-.94-2.06-.94-.94-2.06-.94 2.06-2.06.94z\"/><path d=\"M17.41 7.96l-1.37-1.37c-.4-.4-.92-.59-1.43-.59-.52 0-1.04.2-1.43.59L10.3 9.45l-7.72 7.72c-.78.78-.78 2.05 0 2.83L4 21.41c.39.39.9.59 1.41.59.51 0 1.02-.2 1.41-.59l7.78-7.78 2.81-2.81c.8-.78.8-2.07 0-2.86zM5.41 20L4 18.59l7.72-7.72 1.47 1.35L5.41 20z\"/>\n",
              "  </svg>\n",
              "      </button>\n",
              "      \n",
              "  <style>\n",
              "    .colab-df-container {\n",
              "      display:flex;\n",
              "      flex-wrap:wrap;\n",
              "      gap: 12px;\n",
              "    }\n",
              "\n",
              "    .colab-df-convert {\n",
              "      background-color: #E8F0FE;\n",
              "      border: none;\n",
              "      border-radius: 50%;\n",
              "      cursor: pointer;\n",
              "      display: none;\n",
              "      fill: #1967D2;\n",
              "      height: 32px;\n",
              "      padding: 0 0 0 0;\n",
              "      width: 32px;\n",
              "    }\n",
              "\n",
              "    .colab-df-convert:hover {\n",
              "      background-color: #E2EBFA;\n",
              "      box-shadow: 0px 1px 2px rgba(60, 64, 67, 0.3), 0px 1px 3px 1px rgba(60, 64, 67, 0.15);\n",
              "      fill: #174EA6;\n",
              "    }\n",
              "\n",
              "    [theme=dark] .colab-df-convert {\n",
              "      background-color: #3B4455;\n",
              "      fill: #D2E3FC;\n",
              "    }\n",
              "\n",
              "    [theme=dark] .colab-df-convert:hover {\n",
              "      background-color: #434B5C;\n",
              "      box-shadow: 0px 1px 3px 1px rgba(0, 0, 0, 0.15);\n",
              "      filter: drop-shadow(0px 1px 2px rgba(0, 0, 0, 0.3));\n",
              "      fill: #FFFFFF;\n",
              "    }\n",
              "  </style>\n",
              "\n",
              "      <script>\n",
              "        const buttonEl =\n",
              "          document.querySelector('#df-e60ed5b4-af45-4fdb-850c-94165f10746a button.colab-df-convert');\n",
              "        buttonEl.style.display =\n",
              "          google.colab.kernel.accessAllowed ? 'block' : 'none';\n",
              "\n",
              "        async function convertToInteractive(key) {\n",
              "          const element = document.querySelector('#df-e60ed5b4-af45-4fdb-850c-94165f10746a');\n",
              "          const dataTable =\n",
              "            await google.colab.kernel.invokeFunction('convertToInteractive',\n",
              "                                                     [key], {});\n",
              "          if (!dataTable) return;\n",
              "\n",
              "          const docLinkHtml = 'Like what you see? Visit the ' +\n",
              "            '<a target=\"_blank\" href=https://colab.research.google.com/notebooks/data_table.ipynb>data table notebook</a>'\n",
              "            + ' to learn more about interactive tables.';\n",
              "          element.innerHTML = '';\n",
              "          dataTable['output_type'] = 'display_data';\n",
              "          await google.colab.output.renderOutput(dataTable, element);\n",
              "          const docLink = document.createElement('div');\n",
              "          docLink.innerHTML = docLinkHtml;\n",
              "          element.appendChild(docLink);\n",
              "        }\n",
              "      </script>\n",
              "    </div>\n",
              "  </div>\n",
              "  "
            ]
          },
          "metadata": {},
          "execution_count": 10
        }
      ]
    },
    {
      "cell_type": "code",
      "source": [
        "congo_df.head()"
      ],
      "metadata": {
        "id": "EjMsPothkKMA",
        "outputId": "e62c858e-4362-49a8-d46b-a2af9fcc084c",
        "colab": {
          "base_uri": "https://localhost:8080/",
          "height": 206
        }
      },
      "execution_count": 11,
      "outputs": [
        {
          "output_type": "execute_result",
          "data": {
            "text/plain": [
              "         date       admin1       admin2    market    latitude   longitude  \\\n",
              "1  2011-01-15  Brazzaville  Brazzaville   Mikalou   -4.259167   15.284722   \n",
              "2  2011-01-15  Brazzaville  Brazzaville  Moungali   -4.259167   15.284722   \n",
              "3  2011-01-15  Brazzaville  Brazzaville  Moungali   -4.259167   15.284722   \n",
              "4  2011-01-15  Brazzaville  Brazzaville    Ouenzé  -4.2452176  15.2809247   \n",
              "5  2011-01-15  Brazzaville  Brazzaville    Ouenzé  -4.2452176  15.2809247   \n",
              "\n",
              "             category                  commodity unit priceflag pricetype  \\\n",
              "1  cereals and tubers  Rice (mixed, low quality)   KG    actual    Retail   \n",
              "2  cereals and tubers  Rice (mixed, low quality)   KG    actual    Retail   \n",
              "3     pulses and nuts              Beans (white)   KG    actual    Retail   \n",
              "4  cereals and tubers  Rice (mixed, low quality)   KG    actual    Retail   \n",
              "5     pulses and nuts              Beans (white)   KG    actual    Retail   \n",
              "\n",
              "  currency   price usdprice  \n",
              "1      XAF   635.0    0.994  \n",
              "2      XAF   575.0      0.9  \n",
              "3      XAF  1739.0    2.722  \n",
              "4      XAF   595.0   0.9313  \n",
              "5      XAF  1507.0   2.3589  "
            ],
            "text/html": [
              "\n",
              "  <div id=\"df-0efc3583-7747-4b39-a7b6-5e58ba82fb6b\">\n",
              "    <div class=\"colab-df-container\">\n",
              "      <div>\n",
              "<style scoped>\n",
              "    .dataframe tbody tr th:only-of-type {\n",
              "        vertical-align: middle;\n",
              "    }\n",
              "\n",
              "    .dataframe tbody tr th {\n",
              "        vertical-align: top;\n",
              "    }\n",
              "\n",
              "    .dataframe thead th {\n",
              "        text-align: right;\n",
              "    }\n",
              "</style>\n",
              "<table border=\"1\" class=\"dataframe\">\n",
              "  <thead>\n",
              "    <tr style=\"text-align: right;\">\n",
              "      <th></th>\n",
              "      <th>date</th>\n",
              "      <th>admin1</th>\n",
              "      <th>admin2</th>\n",
              "      <th>market</th>\n",
              "      <th>latitude</th>\n",
              "      <th>longitude</th>\n",
              "      <th>category</th>\n",
              "      <th>commodity</th>\n",
              "      <th>unit</th>\n",
              "      <th>priceflag</th>\n",
              "      <th>pricetype</th>\n",
              "      <th>currency</th>\n",
              "      <th>price</th>\n",
              "      <th>usdprice</th>\n",
              "    </tr>\n",
              "  </thead>\n",
              "  <tbody>\n",
              "    <tr>\n",
              "      <th>1</th>\n",
              "      <td>2011-01-15</td>\n",
              "      <td>Brazzaville</td>\n",
              "      <td>Brazzaville</td>\n",
              "      <td>Mikalou</td>\n",
              "      <td>-4.259167</td>\n",
              "      <td>15.284722</td>\n",
              "      <td>cereals and tubers</td>\n",
              "      <td>Rice (mixed, low quality)</td>\n",
              "      <td>KG</td>\n",
              "      <td>actual</td>\n",
              "      <td>Retail</td>\n",
              "      <td>XAF</td>\n",
              "      <td>635.0</td>\n",
              "      <td>0.994</td>\n",
              "    </tr>\n",
              "    <tr>\n",
              "      <th>2</th>\n",
              "      <td>2011-01-15</td>\n",
              "      <td>Brazzaville</td>\n",
              "      <td>Brazzaville</td>\n",
              "      <td>Moungali</td>\n",
              "      <td>-4.259167</td>\n",
              "      <td>15.284722</td>\n",
              "      <td>cereals and tubers</td>\n",
              "      <td>Rice (mixed, low quality)</td>\n",
              "      <td>KG</td>\n",
              "      <td>actual</td>\n",
              "      <td>Retail</td>\n",
              "      <td>XAF</td>\n",
              "      <td>575.0</td>\n",
              "      <td>0.9</td>\n",
              "    </tr>\n",
              "    <tr>\n",
              "      <th>3</th>\n",
              "      <td>2011-01-15</td>\n",
              "      <td>Brazzaville</td>\n",
              "      <td>Brazzaville</td>\n",
              "      <td>Moungali</td>\n",
              "      <td>-4.259167</td>\n",
              "      <td>15.284722</td>\n",
              "      <td>pulses and nuts</td>\n",
              "      <td>Beans (white)</td>\n",
              "      <td>KG</td>\n",
              "      <td>actual</td>\n",
              "      <td>Retail</td>\n",
              "      <td>XAF</td>\n",
              "      <td>1739.0</td>\n",
              "      <td>2.722</td>\n",
              "    </tr>\n",
              "    <tr>\n",
              "      <th>4</th>\n",
              "      <td>2011-01-15</td>\n",
              "      <td>Brazzaville</td>\n",
              "      <td>Brazzaville</td>\n",
              "      <td>Ouenzé</td>\n",
              "      <td>-4.2452176</td>\n",
              "      <td>15.2809247</td>\n",
              "      <td>cereals and tubers</td>\n",
              "      <td>Rice (mixed, low quality)</td>\n",
              "      <td>KG</td>\n",
              "      <td>actual</td>\n",
              "      <td>Retail</td>\n",
              "      <td>XAF</td>\n",
              "      <td>595.0</td>\n",
              "      <td>0.9313</td>\n",
              "    </tr>\n",
              "    <tr>\n",
              "      <th>5</th>\n",
              "      <td>2011-01-15</td>\n",
              "      <td>Brazzaville</td>\n",
              "      <td>Brazzaville</td>\n",
              "      <td>Ouenzé</td>\n",
              "      <td>-4.2452176</td>\n",
              "      <td>15.2809247</td>\n",
              "      <td>pulses and nuts</td>\n",
              "      <td>Beans (white)</td>\n",
              "      <td>KG</td>\n",
              "      <td>actual</td>\n",
              "      <td>Retail</td>\n",
              "      <td>XAF</td>\n",
              "      <td>1507.0</td>\n",
              "      <td>2.3589</td>\n",
              "    </tr>\n",
              "  </tbody>\n",
              "</table>\n",
              "</div>\n",
              "      <button class=\"colab-df-convert\" onclick=\"convertToInteractive('df-0efc3583-7747-4b39-a7b6-5e58ba82fb6b')\"\n",
              "              title=\"Convert this dataframe to an interactive table.\"\n",
              "              style=\"display:none;\">\n",
              "        \n",
              "  <svg xmlns=\"http://www.w3.org/2000/svg\" height=\"24px\"viewBox=\"0 0 24 24\"\n",
              "       width=\"24px\">\n",
              "    <path d=\"M0 0h24v24H0V0z\" fill=\"none\"/>\n",
              "    <path d=\"M18.56 5.44l.94 2.06.94-2.06 2.06-.94-2.06-.94-.94-2.06-.94 2.06-2.06.94zm-11 1L8.5 8.5l.94-2.06 2.06-.94-2.06-.94L8.5 2.5l-.94 2.06-2.06.94zm10 10l.94 2.06.94-2.06 2.06-.94-2.06-.94-.94-2.06-.94 2.06-2.06.94z\"/><path d=\"M17.41 7.96l-1.37-1.37c-.4-.4-.92-.59-1.43-.59-.52 0-1.04.2-1.43.59L10.3 9.45l-7.72 7.72c-.78.78-.78 2.05 0 2.83L4 21.41c.39.39.9.59 1.41.59.51 0 1.02-.2 1.41-.59l7.78-7.78 2.81-2.81c.8-.78.8-2.07 0-2.86zM5.41 20L4 18.59l7.72-7.72 1.47 1.35L5.41 20z\"/>\n",
              "  </svg>\n",
              "      </button>\n",
              "      \n",
              "  <style>\n",
              "    .colab-df-container {\n",
              "      display:flex;\n",
              "      flex-wrap:wrap;\n",
              "      gap: 12px;\n",
              "    }\n",
              "\n",
              "    .colab-df-convert {\n",
              "      background-color: #E8F0FE;\n",
              "      border: none;\n",
              "      border-radius: 50%;\n",
              "      cursor: pointer;\n",
              "      display: none;\n",
              "      fill: #1967D2;\n",
              "      height: 32px;\n",
              "      padding: 0 0 0 0;\n",
              "      width: 32px;\n",
              "    }\n",
              "\n",
              "    .colab-df-convert:hover {\n",
              "      background-color: #E2EBFA;\n",
              "      box-shadow: 0px 1px 2px rgba(60, 64, 67, 0.3), 0px 1px 3px 1px rgba(60, 64, 67, 0.15);\n",
              "      fill: #174EA6;\n",
              "    }\n",
              "\n",
              "    [theme=dark] .colab-df-convert {\n",
              "      background-color: #3B4455;\n",
              "      fill: #D2E3FC;\n",
              "    }\n",
              "\n",
              "    [theme=dark] .colab-df-convert:hover {\n",
              "      background-color: #434B5C;\n",
              "      box-shadow: 0px 1px 3px 1px rgba(0, 0, 0, 0.15);\n",
              "      filter: drop-shadow(0px 1px 2px rgba(0, 0, 0, 0.3));\n",
              "      fill: #FFFFFF;\n",
              "    }\n",
              "  </style>\n",
              "\n",
              "      <script>\n",
              "        const buttonEl =\n",
              "          document.querySelector('#df-0efc3583-7747-4b39-a7b6-5e58ba82fb6b button.colab-df-convert');\n",
              "        buttonEl.style.display =\n",
              "          google.colab.kernel.accessAllowed ? 'block' : 'none';\n",
              "\n",
              "        async function convertToInteractive(key) {\n",
              "          const element = document.querySelector('#df-0efc3583-7747-4b39-a7b6-5e58ba82fb6b');\n",
              "          const dataTable =\n",
              "            await google.colab.kernel.invokeFunction('convertToInteractive',\n",
              "                                                     [key], {});\n",
              "          if (!dataTable) return;\n",
              "\n",
              "          const docLinkHtml = 'Like what you see? Visit the ' +\n",
              "            '<a target=\"_blank\" href=https://colab.research.google.com/notebooks/data_table.ipynb>data table notebook</a>'\n",
              "            + ' to learn more about interactive tables.';\n",
              "          element.innerHTML = '';\n",
              "          dataTable['output_type'] = 'display_data';\n",
              "          await google.colab.output.renderOutput(dataTable, element);\n",
              "          const docLink = document.createElement('div');\n",
              "          docLink.innerHTML = docLinkHtml;\n",
              "          element.appendChild(docLink);\n",
              "        }\n",
              "      </script>\n",
              "    </div>\n",
              "  </div>\n",
              "  "
            ]
          },
          "metadata": {},
          "execution_count": 11
        }
      ]
    },
    {
      "cell_type": "code",
      "source": [
        "#congo_df = congo_df[['date','usdprice']]"
      ],
      "metadata": {
        "id": "G9NTko3co_9Y"
      },
      "execution_count": 12,
      "outputs": []
    },
    {
      "cell_type": "code",
      "source": [
        "# congo_df = congo_df.set_index('date')\n",
        "# congo_df['date'] = pd.to_datetime(congo_df.Date, format='%Y-%m-%d')"
      ],
      "metadata": {
        "id": "WYo8N9h8tBSJ"
      },
      "execution_count": 13,
      "outputs": []
    },
    {
      "cell_type": "code",
      "source": [
        "\n",
        "\n",
        "congo_df['date'] = pd.to_datetime(congo_df['date'])\n",
        "congo_df.groupby(pd.Grouper(key='date', axis=0, freq='M')).sum()\n",
        "\n",
        "#congo_df.groupby(congo_df.date.dt.month)['usdprice'].sum()"
      ],
      "metadata": {
        "id": "u5Hz3foVwDJF",
        "outputId": "4746bab5-52e3-416f-9756-d8e679a9cb66",
        "colab": {
          "base_uri": "https://localhost:8080/",
          "height": 1000
        }
      },
      "execution_count": 16,
      "outputs": [
        {
          "output_type": "execute_result",
          "data": {
            "text/plain": [
              "                                                       admin1  \\\n",
              "date                                                            \n",
              "2011-01-31  BrazzavilleBrazzavilleBrazzavilleBrazzavilleBr...   \n",
              "2011-02-28  BrazzavilleBrazzavilleBrazzavilleBrazzavilleBr...   \n",
              "2011-03-31  BrazzavilleBrazzavilleBrazzavilleBrazzavilleBr...   \n",
              "2011-04-30  BrazzavilleBrazzavilleBrazzavilleBrazzavilleBr...   \n",
              "2011-05-31  BrazzavilleBrazzavilleBrazzavilleBrazzavilleBr...   \n",
              "...                                                       ...   \n",
              "2020-03-31  BouenzaBouenzaBouenzaBouenzaBouenzaBouenzaBoue...   \n",
              "2020-04-30  BouenzaBouenzaBouenzaBouenzaBouenzaBouenzaBoue...   \n",
              "2020-05-31  BouenzaBouenzaBouenzaBouenzaBouenzaBouenzaBoue...   \n",
              "2020-06-30  BouenzaBouenzaBouenzaBouenzaBouenzaBouenzaBoue...   \n",
              "2020-07-31  BouenzaBouenzaBouenzaBouenzaBouenzaBouenzaBoue...   \n",
              "\n",
              "                                                       admin2  \\\n",
              "date                                                            \n",
              "2011-01-31  BrazzavilleBrazzavilleBrazzavilleBrazzavilleBr...   \n",
              "2011-02-28  BrazzavilleBrazzavilleBrazzavilleBrazzavilleBr...   \n",
              "2011-03-31  BrazzavilleBrazzavilleBrazzavilleBrazzavilleBr...   \n",
              "2011-04-30  BrazzavilleBrazzavilleBrazzavilleBrazzavilleBr...   \n",
              "2011-05-31  BrazzavilleBrazzavilleBrazzavilleBrazzavilleBr...   \n",
              "...                                                       ...   \n",
              "2020-03-31  NkayiNkayiNkayiNkayiNkayiNkayiNkayiNkayiNkayiN...   \n",
              "2020-04-30  NkayiNkayiNkayiNkayiNkayiNkayiNkayiNkayiNkayiN...   \n",
              "2020-05-31  NkayiNkayiNkayiNkayiNkayiNkayiNkayiNkayiNkayiN...   \n",
              "2020-06-30  NkayiNkayiNkayiNkayiNkayiNkayiNkayiNkayiNkayiN...   \n",
              "2020-07-31  NkayiNkayiNkayiNkayiNkayiNkayiNkayiNkayiNkayiN...   \n",
              "\n",
              "                                                       market  \\\n",
              "date                                                            \n",
              "2011-01-31           MikalouMoungaliMoungaliOuenzéOuenzéTotal   \n",
              "2011-02-28  MikalouMikalouMoungaliMoungaliMoungaliOuenzéOu...   \n",
              "2011-03-31  MikalouMikalouMoungaliMoungaliMoungaliOuenzéOu...   \n",
              "2011-04-30  MikalouMikalouMoungaliMoungaliMoungaliOuenzéOu...   \n",
              "2011-05-31  MikalouMikalouMoungaliMoungaliMoungaliOuenzéOu...   \n",
              "...                                                       ...   \n",
              "2020-03-31  NkayiNkayiNkayiNkayiNkayiNkayiNkayiNkayiNkayiN...   \n",
              "2020-04-30  NkayiNkayiNkayiNkayiNkayiNkayiNkayiNkayiNkayiN...   \n",
              "2020-05-31  NkayiNkayiNkayiNkayiNkayiNkayiNkayiNkayiNkayiN...   \n",
              "2020-06-30  NkayiNkayiNkayiNkayiNkayiNkayiNkayiNkayiNkayiN...   \n",
              "2020-07-31  NkayiNkayiNkayiNkayiNkayiNkayiNkayiNkayiNkayiN...   \n",
              "\n",
              "                                                     latitude  \\\n",
              "date                                                            \n",
              "2011-01-31  -4.259167-4.259167-4.259167-4.2452176-4.245217...   \n",
              "2011-02-28  -4.259167-4.259167-4.259167-4.259167-4.259167-...   \n",
              "2011-03-31  -4.259167-4.259167-4.259167-4.259167-4.259167-...   \n",
              "2011-04-30  -4.259167-4.259167-4.259167-4.259167-4.259167-...   \n",
              "2011-05-31  -4.259167-4.259167-4.259167-4.259167-4.259167-...   \n",
              "...                                                       ...   \n",
              "2020-03-31  -4.1828379-4.1828379-4.1828379-4.1828379-4.182...   \n",
              "2020-04-30  -4.1828379-4.1828379-4.1828379-4.1828379-4.182...   \n",
              "2020-05-31  -4.1828379-4.1828379-4.1828379-4.1828379-4.182...   \n",
              "2020-06-30  -4.1828379-4.1828379-4.1828379-4.1828379-4.182...   \n",
              "2020-07-31  -4.1828379-4.1828379-4.1828379-4.1828379-4.182...   \n",
              "\n",
              "                                                    longitude  \\\n",
              "date                                                            \n",
              "2011-01-31  15.28472215.28472215.28472215.280924715.280924...   \n",
              "2011-02-28  15.28472215.28472215.28472215.28472215.2847221...   \n",
              "2011-03-31  15.28472215.28472215.28472215.28472215.2847221...   \n",
              "2011-04-30  15.28472215.28472215.28472215.28472215.2847221...   \n",
              "2011-05-31  15.28472215.28472215.28472215.28472215.2847221...   \n",
              "...                                                       ...   \n",
              "2020-03-31  13.286550413.286550413.286550413.286550413.286...   \n",
              "2020-04-30  13.286550413.286550413.286550413.286550413.286...   \n",
              "2020-05-31  13.286550413.286550413.286550413.286550413.286...   \n",
              "2020-06-30  13.286550413.286550413.286550413.286550413.286...   \n",
              "2020-07-31  13.286550413.286550413.286550413.286550413.286...   \n",
              "\n",
              "                                                     category  \\\n",
              "date                                                            \n",
              "2011-01-31  cereals and tuberscereals and tuberspulses and...   \n",
              "2011-02-28  cereals and tuberscereals and tuberscereals an...   \n",
              "2011-03-31  cereals and tuberscereals and tuberscereals an...   \n",
              "2011-04-30  cereals and tuberscereals and tuberscereals an...   \n",
              "2011-05-31  cereals and tuberscereals and tuberscereals an...   \n",
              "...                                                       ...   \n",
              "2020-03-31  cereals and tuberscereals and tuberscereals an...   \n",
              "2020-04-30  cereals and tuberscereals and tuberscereals an...   \n",
              "2020-05-31  cereals and tuberscereals and tuberscereals an...   \n",
              "2020-06-30  cereals and tuberscereals and tuberscereals an...   \n",
              "2020-07-31  cereals and tuberscereals and tuberscereals an...   \n",
              "\n",
              "                                                    commodity  \\\n",
              "date                                                            \n",
              "2011-01-31  Rice (mixed, low quality)Rice (mixed, low qual...   \n",
              "2011-02-28  Rice (mixed, low quality)Wheat flourRice (mixe...   \n",
              "2011-03-31  Rice (mixed, low quality)Wheat flourRice (mixe...   \n",
              "2011-04-30  Rice (mixed, low quality)Wheat flourRice (mixe...   \n",
              "2011-05-31  Rice (mixed, low quality)Wheat flourRice (mixe...   \n",
              "...                                                       ...   \n",
              "2020-03-31  BreadCassava (fresh)Cassava flourRice (mixed, ...   \n",
              "2020-04-30  BreadCassava (fresh)Cassava flourRice (mixed, ...   \n",
              "2020-05-31  BreadCassava (fresh)Cassava flourRice (mixed, ...   \n",
              "2020-06-30  BreadCassava (fresh)Cassava flourRice (mixed, ...   \n",
              "2020-07-31  BreadCassava (fresh)Cassava flourRice (mixed, ...   \n",
              "\n",
              "                                                         unit  \\\n",
              "date                                                            \n",
              "2011-01-31                                       KGKGKGKGKGKG   \n",
              "2011-02-28                 KGKGKGKGKGKGKGKGKGKGKGKGKGKGKGKGKG   \n",
              "2011-03-31                 KGKGKGKGKGKGKGKGKGKGKGKGKGKGKGKGKG   \n",
              "2011-04-30                   KGKGKGKGKGKGKGKGKGKGKGKGKGKGKGKG   \n",
              "2011-05-31                     KGKGKGKGKGKGKGKGKGKGKGKGKGKGKG   \n",
              "...                                                       ...   \n",
              "2020-03-31  KGKGKGKGKGKGKGKGKGLLKGKGKGKGKGKGKGKGKGKGKGLLKG...   \n",
              "2020-04-30  KGKGKGKGKGKGKGKGKGLLKGKGKGKGKGKGKGKGKGKGKGLLKG...   \n",
              "2020-05-31  KGKGKGKGKGKGKGKGKGLLKGKGKGKGKGKGKGKGKGKGKGLLKG...   \n",
              "2020-06-30  KGKGKGKGKGKGKGKGKGLLKGKGKGKGKGKGKGKGKGKGKGLLKG...   \n",
              "2020-07-31  KGKGKGKGKGKGKGKGKGLLKGKGKGKGKGKGKGKGKGKGKGKGLL...   \n",
              "\n",
              "                                                    priceflag  \\\n",
              "date                                                            \n",
              "2011-01-31               actualactualactualactualactualactual   \n",
              "2011-02-28  actualactualactualactualactualactualactualactu...   \n",
              "2011-03-31  actualactualactualactualactualactualactualactu...   \n",
              "2011-04-30  actualactualactualactualactualactualactualactu...   \n",
              "2011-05-31  actualactualactualactualactualactualactualactu...   \n",
              "...                                                       ...   \n",
              "2020-03-31  actualactualactualactualactualactualactualactu...   \n",
              "2020-04-30  actualactualactualactualactualactualactualactu...   \n",
              "2020-05-31  actualactualactualactualactualactualactualactu...   \n",
              "2020-06-30  actualactualactualactualactualactualactualactu...   \n",
              "2020-07-31  actualactualactualactualactualactualactualactu...   \n",
              "\n",
              "                                                    pricetype  \\\n",
              "date                                                            \n",
              "2011-01-31               RetailRetailRetailRetailRetailRetail   \n",
              "2011-02-28  RetailRetailRetailRetailRetailRetailRetailReta...   \n",
              "2011-03-31  RetailRetailRetailRetailRetailRetailRetailReta...   \n",
              "2011-04-30  RetailRetailRetailRetailRetailRetailRetailReta...   \n",
              "2011-05-31  RetailRetailRetailRetailRetailRetailRetailReta...   \n",
              "...                                                       ...   \n",
              "2020-03-31  RetailRetailRetailRetailRetailRetailRetailReta...   \n",
              "2020-04-30  RetailRetailRetailRetailRetailRetailRetailReta...   \n",
              "2020-05-31  RetailRetailRetailRetailRetailRetailRetailReta...   \n",
              "2020-06-30  RetailRetailRetailRetailRetailRetailRetailReta...   \n",
              "2020-07-31  RetailRetailRetailRetailRetailRetailRetailReta...   \n",
              "\n",
              "                                                     currency  \\\n",
              "date                                                            \n",
              "2011-01-31                                 XAFXAFXAFXAFXAFXAF   \n",
              "2011-02-28  XAFXAFXAFXAFXAFXAFXAFXAFXAFXAFXAFXAFXAFXAFXAFX...   \n",
              "2011-03-31  XAFXAFXAFXAFXAFXAFXAFXAFXAFXAFXAFXAFXAFXAFXAFX...   \n",
              "2011-04-30   XAFXAFXAFXAFXAFXAFXAFXAFXAFXAFXAFXAFXAFXAFXAFXAF   \n",
              "2011-05-31      XAFXAFXAFXAFXAFXAFXAFXAFXAFXAFXAFXAFXAFXAFXAF   \n",
              "...                                                       ...   \n",
              "2020-03-31  XAFXAFXAFXAFXAFXAFXAFXAFXAFXAFXAFXAFXAFXAFXAFX...   \n",
              "2020-04-30  XAFXAFXAFXAFXAFXAFXAFXAFXAFXAFXAFXAFXAFXAFXAFX...   \n",
              "2020-05-31  XAFXAFXAFXAFXAFXAFXAFXAFXAFXAFXAFXAFXAFXAFXAFX...   \n",
              "2020-06-30  XAFXAFXAFXAFXAFXAFXAFXAFXAFXAFXAFXAFXAFXAFXAFX...   \n",
              "2020-07-31  XAFXAFXAFXAFXAFXAFXAFXAFXAFXAFXAFXAFXAFXAFXAFX...   \n",
              "\n",
              "                                                        price  \\\n",
              "date                                                            \n",
              "2011-01-31                   635.0575.01739.0595.01507.0514.0   \n",
              "2011-02-28  631.0633.0557.0604.01728.0562.0620.01723.0576....   \n",
              "2011-03-31  654.0633.0550.0604.01355.0521.0620.01572.0551....   \n",
              "2011-04-30  662.0620.0581.0600.01428.0545.0600.0532.0590.0...   \n",
              "2011-05-31  701.0650.0575.0600.01524.0581.0614.0531.0596.0...   \n",
              "...                                                       ...   \n",
              "2020-03-31  1194.0502.0544.0730.03055.04500.03288.02500.01...   \n",
              "2020-04-30  1168.0488.0502.0715.02000.03500.03330.03000.01...   \n",
              "2020-05-31  1124.0596.0513.0742.02200.04000.03347.03000.01...   \n",
              "2020-06-30  1104.0422.0470.0718.02340.04000.03132.03000.01...   \n",
              "2020-07-31  1108.0418.0433.0682.02268.04000.03074.03000.01...   \n",
              "\n",
              "                                                     usdprice  \n",
              "date                                                           \n",
              "2011-01-31                    0.9940.92.7220.93132.35890.8046  \n",
              "2011-02-28  0.98770.99080.87190.94542.70480.87970.97052.69...  \n",
              "2011-03-31  1.02370.99080.86090.94542.1210.81550.97052.460...  \n",
              "2011-04-30  1.03620.97050.90940.93922.23520.85310.93920.83...  \n",
              "2011-05-31  1.09731.01740.90.93922.38550.90940.96110.83120...  \n",
              "...                                                       ...  \n",
              "2020-03-31  1.86890.78580.85151.14274.78197.04385.14663.91...  \n",
              "2020-04-30  1.82830.76390.78581.11923.13065.47855.21244.69...  \n",
              "2020-05-31  1.75940.93290.8031.16143.44366.26115.2394.6958...  \n",
              "2020-06-30  1.72810.66050.73571.12393.66286.26114.90254.69...  \n",
              "2020-07-31  1.73430.65430.67781.06753.55016.26114.81174.69...  \n",
              "\n",
              "[115 rows x 13 columns]"
            ],
            "text/html": [
              "\n",
              "  <div id=\"df-fe69937d-5046-4fb1-a1e9-87ba12a20be2\">\n",
              "    <div class=\"colab-df-container\">\n",
              "      <div>\n",
              "<style scoped>\n",
              "    .dataframe tbody tr th:only-of-type {\n",
              "        vertical-align: middle;\n",
              "    }\n",
              "\n",
              "    .dataframe tbody tr th {\n",
              "        vertical-align: top;\n",
              "    }\n",
              "\n",
              "    .dataframe thead th {\n",
              "        text-align: right;\n",
              "    }\n",
              "</style>\n",
              "<table border=\"1\" class=\"dataframe\">\n",
              "  <thead>\n",
              "    <tr style=\"text-align: right;\">\n",
              "      <th></th>\n",
              "      <th>admin1</th>\n",
              "      <th>admin2</th>\n",
              "      <th>market</th>\n",
              "      <th>latitude</th>\n",
              "      <th>longitude</th>\n",
              "      <th>category</th>\n",
              "      <th>commodity</th>\n",
              "      <th>unit</th>\n",
              "      <th>priceflag</th>\n",
              "      <th>pricetype</th>\n",
              "      <th>currency</th>\n",
              "      <th>price</th>\n",
              "      <th>usdprice</th>\n",
              "    </tr>\n",
              "    <tr>\n",
              "      <th>date</th>\n",
              "      <th></th>\n",
              "      <th></th>\n",
              "      <th></th>\n",
              "      <th></th>\n",
              "      <th></th>\n",
              "      <th></th>\n",
              "      <th></th>\n",
              "      <th></th>\n",
              "      <th></th>\n",
              "      <th></th>\n",
              "      <th></th>\n",
              "      <th></th>\n",
              "      <th></th>\n",
              "    </tr>\n",
              "  </thead>\n",
              "  <tbody>\n",
              "    <tr>\n",
              "      <th>2011-01-31</th>\n",
              "      <td>BrazzavilleBrazzavilleBrazzavilleBrazzavilleBr...</td>\n",
              "      <td>BrazzavilleBrazzavilleBrazzavilleBrazzavilleBr...</td>\n",
              "      <td>MikalouMoungaliMoungaliOuenzéOuenzéTotal</td>\n",
              "      <td>-4.259167-4.259167-4.259167-4.2452176-4.245217...</td>\n",
              "      <td>15.28472215.28472215.28472215.280924715.280924...</td>\n",
              "      <td>cereals and tuberscereals and tuberspulses and...</td>\n",
              "      <td>Rice (mixed, low quality)Rice (mixed, low qual...</td>\n",
              "      <td>KGKGKGKGKGKG</td>\n",
              "      <td>actualactualactualactualactualactual</td>\n",
              "      <td>RetailRetailRetailRetailRetailRetail</td>\n",
              "      <td>XAFXAFXAFXAFXAFXAF</td>\n",
              "      <td>635.0575.01739.0595.01507.0514.0</td>\n",
              "      <td>0.9940.92.7220.93132.35890.8046</td>\n",
              "    </tr>\n",
              "    <tr>\n",
              "      <th>2011-02-28</th>\n",
              "      <td>BrazzavilleBrazzavilleBrazzavilleBrazzavilleBr...</td>\n",
              "      <td>BrazzavilleBrazzavilleBrazzavilleBrazzavilleBr...</td>\n",
              "      <td>MikalouMikalouMoungaliMoungaliMoungaliOuenzéOu...</td>\n",
              "      <td>-4.259167-4.259167-4.259167-4.259167-4.259167-...</td>\n",
              "      <td>15.28472215.28472215.28472215.28472215.2847221...</td>\n",
              "      <td>cereals and tuberscereals and tuberscereals an...</td>\n",
              "      <td>Rice (mixed, low quality)Wheat flourRice (mixe...</td>\n",
              "      <td>KGKGKGKGKGKGKGKGKGKGKGKGKGKGKGKGKG</td>\n",
              "      <td>actualactualactualactualactualactualactualactu...</td>\n",
              "      <td>RetailRetailRetailRetailRetailRetailRetailReta...</td>\n",
              "      <td>XAFXAFXAFXAFXAFXAFXAFXAFXAFXAFXAFXAFXAFXAFXAFX...</td>\n",
              "      <td>631.0633.0557.0604.01728.0562.0620.01723.0576....</td>\n",
              "      <td>0.98770.99080.87190.94542.70480.87970.97052.69...</td>\n",
              "    </tr>\n",
              "    <tr>\n",
              "      <th>2011-03-31</th>\n",
              "      <td>BrazzavilleBrazzavilleBrazzavilleBrazzavilleBr...</td>\n",
              "      <td>BrazzavilleBrazzavilleBrazzavilleBrazzavilleBr...</td>\n",
              "      <td>MikalouMikalouMoungaliMoungaliMoungaliOuenzéOu...</td>\n",
              "      <td>-4.259167-4.259167-4.259167-4.259167-4.259167-...</td>\n",
              "      <td>15.28472215.28472215.28472215.28472215.2847221...</td>\n",
              "      <td>cereals and tuberscereals and tuberscereals an...</td>\n",
              "      <td>Rice (mixed, low quality)Wheat flourRice (mixe...</td>\n",
              "      <td>KGKGKGKGKGKGKGKGKGKGKGKGKGKGKGKGKG</td>\n",
              "      <td>actualactualactualactualactualactualactualactu...</td>\n",
              "      <td>RetailRetailRetailRetailRetailRetailRetailReta...</td>\n",
              "      <td>XAFXAFXAFXAFXAFXAFXAFXAFXAFXAFXAFXAFXAFXAFXAFX...</td>\n",
              "      <td>654.0633.0550.0604.01355.0521.0620.01572.0551....</td>\n",
              "      <td>1.02370.99080.86090.94542.1210.81550.97052.460...</td>\n",
              "    </tr>\n",
              "    <tr>\n",
              "      <th>2011-04-30</th>\n",
              "      <td>BrazzavilleBrazzavilleBrazzavilleBrazzavilleBr...</td>\n",
              "      <td>BrazzavilleBrazzavilleBrazzavilleBrazzavilleBr...</td>\n",
              "      <td>MikalouMikalouMoungaliMoungaliMoungaliOuenzéOu...</td>\n",
              "      <td>-4.259167-4.259167-4.259167-4.259167-4.259167-...</td>\n",
              "      <td>15.28472215.28472215.28472215.28472215.2847221...</td>\n",
              "      <td>cereals and tuberscereals and tuberscereals an...</td>\n",
              "      <td>Rice (mixed, low quality)Wheat flourRice (mixe...</td>\n",
              "      <td>KGKGKGKGKGKGKGKGKGKGKGKGKGKGKGKG</td>\n",
              "      <td>actualactualactualactualactualactualactualactu...</td>\n",
              "      <td>RetailRetailRetailRetailRetailRetailRetailReta...</td>\n",
              "      <td>XAFXAFXAFXAFXAFXAFXAFXAFXAFXAFXAFXAFXAFXAFXAFXAF</td>\n",
              "      <td>662.0620.0581.0600.01428.0545.0600.0532.0590.0...</td>\n",
              "      <td>1.03620.97050.90940.93922.23520.85310.93920.83...</td>\n",
              "    </tr>\n",
              "    <tr>\n",
              "      <th>2011-05-31</th>\n",
              "      <td>BrazzavilleBrazzavilleBrazzavilleBrazzavilleBr...</td>\n",
              "      <td>BrazzavilleBrazzavilleBrazzavilleBrazzavilleBr...</td>\n",
              "      <td>MikalouMikalouMoungaliMoungaliMoungaliOuenzéOu...</td>\n",
              "      <td>-4.259167-4.259167-4.259167-4.259167-4.259167-...</td>\n",
              "      <td>15.28472215.28472215.28472215.28472215.2847221...</td>\n",
              "      <td>cereals and tuberscereals and tuberscereals an...</td>\n",
              "      <td>Rice (mixed, low quality)Wheat flourRice (mixe...</td>\n",
              "      <td>KGKGKGKGKGKGKGKGKGKGKGKGKGKGKG</td>\n",
              "      <td>actualactualactualactualactualactualactualactu...</td>\n",
              "      <td>RetailRetailRetailRetailRetailRetailRetailReta...</td>\n",
              "      <td>XAFXAFXAFXAFXAFXAFXAFXAFXAFXAFXAFXAFXAFXAFXAF</td>\n",
              "      <td>701.0650.0575.0600.01524.0581.0614.0531.0596.0...</td>\n",
              "      <td>1.09731.01740.90.93922.38550.90940.96110.83120...</td>\n",
              "    </tr>\n",
              "    <tr>\n",
              "      <th>...</th>\n",
              "      <td>...</td>\n",
              "      <td>...</td>\n",
              "      <td>...</td>\n",
              "      <td>...</td>\n",
              "      <td>...</td>\n",
              "      <td>...</td>\n",
              "      <td>...</td>\n",
              "      <td>...</td>\n",
              "      <td>...</td>\n",
              "      <td>...</td>\n",
              "      <td>...</td>\n",
              "      <td>...</td>\n",
              "      <td>...</td>\n",
              "    </tr>\n",
              "    <tr>\n",
              "      <th>2020-03-31</th>\n",
              "      <td>BouenzaBouenzaBouenzaBouenzaBouenzaBouenzaBoue...</td>\n",
              "      <td>NkayiNkayiNkayiNkayiNkayiNkayiNkayiNkayiNkayiN...</td>\n",
              "      <td>NkayiNkayiNkayiNkayiNkayiNkayiNkayiNkayiNkayiN...</td>\n",
              "      <td>-4.1828379-4.1828379-4.1828379-4.1828379-4.182...</td>\n",
              "      <td>13.286550413.286550413.286550413.286550413.286...</td>\n",
              "      <td>cereals and tuberscereals and tuberscereals an...</td>\n",
              "      <td>BreadCassava (fresh)Cassava flourRice (mixed, ...</td>\n",
              "      <td>KGKGKGKGKGKGKGKGKGLLKGKGKGKGKGKGKGKGKGKGKGLLKG...</td>\n",
              "      <td>actualactualactualactualactualactualactualactu...</td>\n",
              "      <td>RetailRetailRetailRetailRetailRetailRetailReta...</td>\n",
              "      <td>XAFXAFXAFXAFXAFXAFXAFXAFXAFXAFXAFXAFXAFXAFXAFX...</td>\n",
              "      <td>1194.0502.0544.0730.03055.04500.03288.02500.01...</td>\n",
              "      <td>1.86890.78580.85151.14274.78197.04385.14663.91...</td>\n",
              "    </tr>\n",
              "    <tr>\n",
              "      <th>2020-04-30</th>\n",
              "      <td>BouenzaBouenzaBouenzaBouenzaBouenzaBouenzaBoue...</td>\n",
              "      <td>NkayiNkayiNkayiNkayiNkayiNkayiNkayiNkayiNkayiN...</td>\n",
              "      <td>NkayiNkayiNkayiNkayiNkayiNkayiNkayiNkayiNkayiN...</td>\n",
              "      <td>-4.1828379-4.1828379-4.1828379-4.1828379-4.182...</td>\n",
              "      <td>13.286550413.286550413.286550413.286550413.286...</td>\n",
              "      <td>cereals and tuberscereals and tuberscereals an...</td>\n",
              "      <td>BreadCassava (fresh)Cassava flourRice (mixed, ...</td>\n",
              "      <td>KGKGKGKGKGKGKGKGKGLLKGKGKGKGKGKGKGKGKGKGKGLLKG...</td>\n",
              "      <td>actualactualactualactualactualactualactualactu...</td>\n",
              "      <td>RetailRetailRetailRetailRetailRetailRetailReta...</td>\n",
              "      <td>XAFXAFXAFXAFXAFXAFXAFXAFXAFXAFXAFXAFXAFXAFXAFX...</td>\n",
              "      <td>1168.0488.0502.0715.02000.03500.03330.03000.01...</td>\n",
              "      <td>1.82830.76390.78581.11923.13065.47855.21244.69...</td>\n",
              "    </tr>\n",
              "    <tr>\n",
              "      <th>2020-05-31</th>\n",
              "      <td>BouenzaBouenzaBouenzaBouenzaBouenzaBouenzaBoue...</td>\n",
              "      <td>NkayiNkayiNkayiNkayiNkayiNkayiNkayiNkayiNkayiN...</td>\n",
              "      <td>NkayiNkayiNkayiNkayiNkayiNkayiNkayiNkayiNkayiN...</td>\n",
              "      <td>-4.1828379-4.1828379-4.1828379-4.1828379-4.182...</td>\n",
              "      <td>13.286550413.286550413.286550413.286550413.286...</td>\n",
              "      <td>cereals and tuberscereals and tuberscereals an...</td>\n",
              "      <td>BreadCassava (fresh)Cassava flourRice (mixed, ...</td>\n",
              "      <td>KGKGKGKGKGKGKGKGKGLLKGKGKGKGKGKGKGKGKGKGKGLLKG...</td>\n",
              "      <td>actualactualactualactualactualactualactualactu...</td>\n",
              "      <td>RetailRetailRetailRetailRetailRetailRetailReta...</td>\n",
              "      <td>XAFXAFXAFXAFXAFXAFXAFXAFXAFXAFXAFXAFXAFXAFXAFX...</td>\n",
              "      <td>1124.0596.0513.0742.02200.04000.03347.03000.01...</td>\n",
              "      <td>1.75940.93290.8031.16143.44366.26115.2394.6958...</td>\n",
              "    </tr>\n",
              "    <tr>\n",
              "      <th>2020-06-30</th>\n",
              "      <td>BouenzaBouenzaBouenzaBouenzaBouenzaBouenzaBoue...</td>\n",
              "      <td>NkayiNkayiNkayiNkayiNkayiNkayiNkayiNkayiNkayiN...</td>\n",
              "      <td>NkayiNkayiNkayiNkayiNkayiNkayiNkayiNkayiNkayiN...</td>\n",
              "      <td>-4.1828379-4.1828379-4.1828379-4.1828379-4.182...</td>\n",
              "      <td>13.286550413.286550413.286550413.286550413.286...</td>\n",
              "      <td>cereals and tuberscereals and tuberscereals an...</td>\n",
              "      <td>BreadCassava (fresh)Cassava flourRice (mixed, ...</td>\n",
              "      <td>KGKGKGKGKGKGKGKGKGLLKGKGKGKGKGKGKGKGKGKGKGLLKG...</td>\n",
              "      <td>actualactualactualactualactualactualactualactu...</td>\n",
              "      <td>RetailRetailRetailRetailRetailRetailRetailReta...</td>\n",
              "      <td>XAFXAFXAFXAFXAFXAFXAFXAFXAFXAFXAFXAFXAFXAFXAFX...</td>\n",
              "      <td>1104.0422.0470.0718.02340.04000.03132.03000.01...</td>\n",
              "      <td>1.72810.66050.73571.12393.66286.26114.90254.69...</td>\n",
              "    </tr>\n",
              "    <tr>\n",
              "      <th>2020-07-31</th>\n",
              "      <td>BouenzaBouenzaBouenzaBouenzaBouenzaBouenzaBoue...</td>\n",
              "      <td>NkayiNkayiNkayiNkayiNkayiNkayiNkayiNkayiNkayiN...</td>\n",
              "      <td>NkayiNkayiNkayiNkayiNkayiNkayiNkayiNkayiNkayiN...</td>\n",
              "      <td>-4.1828379-4.1828379-4.1828379-4.1828379-4.182...</td>\n",
              "      <td>13.286550413.286550413.286550413.286550413.286...</td>\n",
              "      <td>cereals and tuberscereals and tuberscereals an...</td>\n",
              "      <td>BreadCassava (fresh)Cassava flourRice (mixed, ...</td>\n",
              "      <td>KGKGKGKGKGKGKGKGKGLLKGKGKGKGKGKGKGKGKGKGKGKGLL...</td>\n",
              "      <td>actualactualactualactualactualactualactualactu...</td>\n",
              "      <td>RetailRetailRetailRetailRetailRetailRetailReta...</td>\n",
              "      <td>XAFXAFXAFXAFXAFXAFXAFXAFXAFXAFXAFXAFXAFXAFXAFX...</td>\n",
              "      <td>1108.0418.0433.0682.02268.04000.03074.03000.01...</td>\n",
              "      <td>1.73430.65430.67781.06753.55016.26114.81174.69...</td>\n",
              "    </tr>\n",
              "  </tbody>\n",
              "</table>\n",
              "<p>115 rows × 13 columns</p>\n",
              "</div>\n",
              "      <button class=\"colab-df-convert\" onclick=\"convertToInteractive('df-fe69937d-5046-4fb1-a1e9-87ba12a20be2')\"\n",
              "              title=\"Convert this dataframe to an interactive table.\"\n",
              "              style=\"display:none;\">\n",
              "        \n",
              "  <svg xmlns=\"http://www.w3.org/2000/svg\" height=\"24px\"viewBox=\"0 0 24 24\"\n",
              "       width=\"24px\">\n",
              "    <path d=\"M0 0h24v24H0V0z\" fill=\"none\"/>\n",
              "    <path d=\"M18.56 5.44l.94 2.06.94-2.06 2.06-.94-2.06-.94-.94-2.06-.94 2.06-2.06.94zm-11 1L8.5 8.5l.94-2.06 2.06-.94-2.06-.94L8.5 2.5l-.94 2.06-2.06.94zm10 10l.94 2.06.94-2.06 2.06-.94-2.06-.94-.94-2.06-.94 2.06-2.06.94z\"/><path d=\"M17.41 7.96l-1.37-1.37c-.4-.4-.92-.59-1.43-.59-.52 0-1.04.2-1.43.59L10.3 9.45l-7.72 7.72c-.78.78-.78 2.05 0 2.83L4 21.41c.39.39.9.59 1.41.59.51 0 1.02-.2 1.41-.59l7.78-7.78 2.81-2.81c.8-.78.8-2.07 0-2.86zM5.41 20L4 18.59l7.72-7.72 1.47 1.35L5.41 20z\"/>\n",
              "  </svg>\n",
              "      </button>\n",
              "      \n",
              "  <style>\n",
              "    .colab-df-container {\n",
              "      display:flex;\n",
              "      flex-wrap:wrap;\n",
              "      gap: 12px;\n",
              "    }\n",
              "\n",
              "    .colab-df-convert {\n",
              "      background-color: #E8F0FE;\n",
              "      border: none;\n",
              "      border-radius: 50%;\n",
              "      cursor: pointer;\n",
              "      display: none;\n",
              "      fill: #1967D2;\n",
              "      height: 32px;\n",
              "      padding: 0 0 0 0;\n",
              "      width: 32px;\n",
              "    }\n",
              "\n",
              "    .colab-df-convert:hover {\n",
              "      background-color: #E2EBFA;\n",
              "      box-shadow: 0px 1px 2px rgba(60, 64, 67, 0.3), 0px 1px 3px 1px rgba(60, 64, 67, 0.15);\n",
              "      fill: #174EA6;\n",
              "    }\n",
              "\n",
              "    [theme=dark] .colab-df-convert {\n",
              "      background-color: #3B4455;\n",
              "      fill: #D2E3FC;\n",
              "    }\n",
              "\n",
              "    [theme=dark] .colab-df-convert:hover {\n",
              "      background-color: #434B5C;\n",
              "      box-shadow: 0px 1px 3px 1px rgba(0, 0, 0, 0.15);\n",
              "      filter: drop-shadow(0px 1px 2px rgba(0, 0, 0, 0.3));\n",
              "      fill: #FFFFFF;\n",
              "    }\n",
              "  </style>\n",
              "\n",
              "      <script>\n",
              "        const buttonEl =\n",
              "          document.querySelector('#df-fe69937d-5046-4fb1-a1e9-87ba12a20be2 button.colab-df-convert');\n",
              "        buttonEl.style.display =\n",
              "          google.colab.kernel.accessAllowed ? 'block' : 'none';\n",
              "\n",
              "        async function convertToInteractive(key) {\n",
              "          const element = document.querySelector('#df-fe69937d-5046-4fb1-a1e9-87ba12a20be2');\n",
              "          const dataTable =\n",
              "            await google.colab.kernel.invokeFunction('convertToInteractive',\n",
              "                                                     [key], {});\n",
              "          if (!dataTable) return;\n",
              "\n",
              "          const docLinkHtml = 'Like what you see? Visit the ' +\n",
              "            '<a target=\"_blank\" href=https://colab.research.google.com/notebooks/data_table.ipynb>data table notebook</a>'\n",
              "            + ' to learn more about interactive tables.';\n",
              "          element.innerHTML = '';\n",
              "          dataTable['output_type'] = 'display_data';\n",
              "          await google.colab.output.renderOutput(dataTable, element);\n",
              "          const docLink = document.createElement('div');\n",
              "          docLink.innerHTML = docLinkHtml;\n",
              "          element.appendChild(docLink);\n",
              "        }\n",
              "      </script>\n",
              "    </div>\n",
              "  </div>\n",
              "  "
            ]
          },
          "metadata": {},
          "execution_count": 16
        }
      ]
    },
    {
      "cell_type": "code",
      "source": [
        "congo_df.head()"
      ],
      "metadata": {
        "id": "3xrQG_J5wDB1",
        "outputId": "1eb0ff61-5f37-4db2-8846-678add370032",
        "colab": {
          "base_uri": "https://localhost:8080/",
          "height": 206
        }
      },
      "execution_count": 17,
      "outputs": [
        {
          "output_type": "execute_result",
          "data": {
            "text/plain": [
              "        date       admin1       admin2    market    latitude   longitude  \\\n",
              "1 2011-01-15  Brazzaville  Brazzaville   Mikalou   -4.259167   15.284722   \n",
              "2 2011-01-15  Brazzaville  Brazzaville  Moungali   -4.259167   15.284722   \n",
              "3 2011-01-15  Brazzaville  Brazzaville  Moungali   -4.259167   15.284722   \n",
              "4 2011-01-15  Brazzaville  Brazzaville    Ouenzé  -4.2452176  15.2809247   \n",
              "5 2011-01-15  Brazzaville  Brazzaville    Ouenzé  -4.2452176  15.2809247   \n",
              "\n",
              "             category                  commodity unit priceflag pricetype  \\\n",
              "1  cereals and tubers  Rice (mixed, low quality)   KG    actual    Retail   \n",
              "2  cereals and tubers  Rice (mixed, low quality)   KG    actual    Retail   \n",
              "3     pulses and nuts              Beans (white)   KG    actual    Retail   \n",
              "4  cereals and tubers  Rice (mixed, low quality)   KG    actual    Retail   \n",
              "5     pulses and nuts              Beans (white)   KG    actual    Retail   \n",
              "\n",
              "  currency   price usdprice  \n",
              "1      XAF   635.0    0.994  \n",
              "2      XAF   575.0      0.9  \n",
              "3      XAF  1739.0    2.722  \n",
              "4      XAF   595.0   0.9313  \n",
              "5      XAF  1507.0   2.3589  "
            ],
            "text/html": [
              "\n",
              "  <div id=\"df-8c6bc27d-f1d3-4736-9a80-e89a63d1ef23\">\n",
              "    <div class=\"colab-df-container\">\n",
              "      <div>\n",
              "<style scoped>\n",
              "    .dataframe tbody tr th:only-of-type {\n",
              "        vertical-align: middle;\n",
              "    }\n",
              "\n",
              "    .dataframe tbody tr th {\n",
              "        vertical-align: top;\n",
              "    }\n",
              "\n",
              "    .dataframe thead th {\n",
              "        text-align: right;\n",
              "    }\n",
              "</style>\n",
              "<table border=\"1\" class=\"dataframe\">\n",
              "  <thead>\n",
              "    <tr style=\"text-align: right;\">\n",
              "      <th></th>\n",
              "      <th>date</th>\n",
              "      <th>admin1</th>\n",
              "      <th>admin2</th>\n",
              "      <th>market</th>\n",
              "      <th>latitude</th>\n",
              "      <th>longitude</th>\n",
              "      <th>category</th>\n",
              "      <th>commodity</th>\n",
              "      <th>unit</th>\n",
              "      <th>priceflag</th>\n",
              "      <th>pricetype</th>\n",
              "      <th>currency</th>\n",
              "      <th>price</th>\n",
              "      <th>usdprice</th>\n",
              "    </tr>\n",
              "  </thead>\n",
              "  <tbody>\n",
              "    <tr>\n",
              "      <th>1</th>\n",
              "      <td>2011-01-15</td>\n",
              "      <td>Brazzaville</td>\n",
              "      <td>Brazzaville</td>\n",
              "      <td>Mikalou</td>\n",
              "      <td>-4.259167</td>\n",
              "      <td>15.284722</td>\n",
              "      <td>cereals and tubers</td>\n",
              "      <td>Rice (mixed, low quality)</td>\n",
              "      <td>KG</td>\n",
              "      <td>actual</td>\n",
              "      <td>Retail</td>\n",
              "      <td>XAF</td>\n",
              "      <td>635.0</td>\n",
              "      <td>0.994</td>\n",
              "    </tr>\n",
              "    <tr>\n",
              "      <th>2</th>\n",
              "      <td>2011-01-15</td>\n",
              "      <td>Brazzaville</td>\n",
              "      <td>Brazzaville</td>\n",
              "      <td>Moungali</td>\n",
              "      <td>-4.259167</td>\n",
              "      <td>15.284722</td>\n",
              "      <td>cereals and tubers</td>\n",
              "      <td>Rice (mixed, low quality)</td>\n",
              "      <td>KG</td>\n",
              "      <td>actual</td>\n",
              "      <td>Retail</td>\n",
              "      <td>XAF</td>\n",
              "      <td>575.0</td>\n",
              "      <td>0.9</td>\n",
              "    </tr>\n",
              "    <tr>\n",
              "      <th>3</th>\n",
              "      <td>2011-01-15</td>\n",
              "      <td>Brazzaville</td>\n",
              "      <td>Brazzaville</td>\n",
              "      <td>Moungali</td>\n",
              "      <td>-4.259167</td>\n",
              "      <td>15.284722</td>\n",
              "      <td>pulses and nuts</td>\n",
              "      <td>Beans (white)</td>\n",
              "      <td>KG</td>\n",
              "      <td>actual</td>\n",
              "      <td>Retail</td>\n",
              "      <td>XAF</td>\n",
              "      <td>1739.0</td>\n",
              "      <td>2.722</td>\n",
              "    </tr>\n",
              "    <tr>\n",
              "      <th>4</th>\n",
              "      <td>2011-01-15</td>\n",
              "      <td>Brazzaville</td>\n",
              "      <td>Brazzaville</td>\n",
              "      <td>Ouenzé</td>\n",
              "      <td>-4.2452176</td>\n",
              "      <td>15.2809247</td>\n",
              "      <td>cereals and tubers</td>\n",
              "      <td>Rice (mixed, low quality)</td>\n",
              "      <td>KG</td>\n",
              "      <td>actual</td>\n",
              "      <td>Retail</td>\n",
              "      <td>XAF</td>\n",
              "      <td>595.0</td>\n",
              "      <td>0.9313</td>\n",
              "    </tr>\n",
              "    <tr>\n",
              "      <th>5</th>\n",
              "      <td>2011-01-15</td>\n",
              "      <td>Brazzaville</td>\n",
              "      <td>Brazzaville</td>\n",
              "      <td>Ouenzé</td>\n",
              "      <td>-4.2452176</td>\n",
              "      <td>15.2809247</td>\n",
              "      <td>pulses and nuts</td>\n",
              "      <td>Beans (white)</td>\n",
              "      <td>KG</td>\n",
              "      <td>actual</td>\n",
              "      <td>Retail</td>\n",
              "      <td>XAF</td>\n",
              "      <td>1507.0</td>\n",
              "      <td>2.3589</td>\n",
              "    </tr>\n",
              "  </tbody>\n",
              "</table>\n",
              "</div>\n",
              "      <button class=\"colab-df-convert\" onclick=\"convertToInteractive('df-8c6bc27d-f1d3-4736-9a80-e89a63d1ef23')\"\n",
              "              title=\"Convert this dataframe to an interactive table.\"\n",
              "              style=\"display:none;\">\n",
              "        \n",
              "  <svg xmlns=\"http://www.w3.org/2000/svg\" height=\"24px\"viewBox=\"0 0 24 24\"\n",
              "       width=\"24px\">\n",
              "    <path d=\"M0 0h24v24H0V0z\" fill=\"none\"/>\n",
              "    <path d=\"M18.56 5.44l.94 2.06.94-2.06 2.06-.94-2.06-.94-.94-2.06-.94 2.06-2.06.94zm-11 1L8.5 8.5l.94-2.06 2.06-.94-2.06-.94L8.5 2.5l-.94 2.06-2.06.94zm10 10l.94 2.06.94-2.06 2.06-.94-2.06-.94-.94-2.06-.94 2.06-2.06.94z\"/><path d=\"M17.41 7.96l-1.37-1.37c-.4-.4-.92-.59-1.43-.59-.52 0-1.04.2-1.43.59L10.3 9.45l-7.72 7.72c-.78.78-.78 2.05 0 2.83L4 21.41c.39.39.9.59 1.41.59.51 0 1.02-.2 1.41-.59l7.78-7.78 2.81-2.81c.8-.78.8-2.07 0-2.86zM5.41 20L4 18.59l7.72-7.72 1.47 1.35L5.41 20z\"/>\n",
              "  </svg>\n",
              "      </button>\n",
              "      \n",
              "  <style>\n",
              "    .colab-df-container {\n",
              "      display:flex;\n",
              "      flex-wrap:wrap;\n",
              "      gap: 12px;\n",
              "    }\n",
              "\n",
              "    .colab-df-convert {\n",
              "      background-color: #E8F0FE;\n",
              "      border: none;\n",
              "      border-radius: 50%;\n",
              "      cursor: pointer;\n",
              "      display: none;\n",
              "      fill: #1967D2;\n",
              "      height: 32px;\n",
              "      padding: 0 0 0 0;\n",
              "      width: 32px;\n",
              "    }\n",
              "\n",
              "    .colab-df-convert:hover {\n",
              "      background-color: #E2EBFA;\n",
              "      box-shadow: 0px 1px 2px rgba(60, 64, 67, 0.3), 0px 1px 3px 1px rgba(60, 64, 67, 0.15);\n",
              "      fill: #174EA6;\n",
              "    }\n",
              "\n",
              "    [theme=dark] .colab-df-convert {\n",
              "      background-color: #3B4455;\n",
              "      fill: #D2E3FC;\n",
              "    }\n",
              "\n",
              "    [theme=dark] .colab-df-convert:hover {\n",
              "      background-color: #434B5C;\n",
              "      box-shadow: 0px 1px 3px 1px rgba(0, 0, 0, 0.15);\n",
              "      filter: drop-shadow(0px 1px 2px rgba(0, 0, 0, 0.3));\n",
              "      fill: #FFFFFF;\n",
              "    }\n",
              "  </style>\n",
              "\n",
              "      <script>\n",
              "        const buttonEl =\n",
              "          document.querySelector('#df-8c6bc27d-f1d3-4736-9a80-e89a63d1ef23 button.colab-df-convert');\n",
              "        buttonEl.style.display =\n",
              "          google.colab.kernel.accessAllowed ? 'block' : 'none';\n",
              "\n",
              "        async function convertToInteractive(key) {\n",
              "          const element = document.querySelector('#df-8c6bc27d-f1d3-4736-9a80-e89a63d1ef23');\n",
              "          const dataTable =\n",
              "            await google.colab.kernel.invokeFunction('convertToInteractive',\n",
              "                                                     [key], {});\n",
              "          if (!dataTable) return;\n",
              "\n",
              "          const docLinkHtml = 'Like what you see? Visit the ' +\n",
              "            '<a target=\"_blank\" href=https://colab.research.google.com/notebooks/data_table.ipynb>data table notebook</a>'\n",
              "            + ' to learn more about interactive tables.';\n",
              "          element.innerHTML = '';\n",
              "          dataTable['output_type'] = 'display_data';\n",
              "          await google.colab.output.renderOutput(dataTable, element);\n",
              "          const docLink = document.createElement('div');\n",
              "          docLink.innerHTML = docLinkHtml;\n",
              "          element.appendChild(docLink);\n",
              "        }\n",
              "      </script>\n",
              "    </div>\n",
              "  </div>\n",
              "  "
            ]
          },
          "metadata": {},
          "execution_count": 17
        }
      ]
    },
    {
      "cell_type": "code",
      "source": [
        "fig = px.line(congo_df, x='date', y='usdprice')\n",
        "fig.show()"
      ],
      "metadata": {
        "id": "uKZd-n7SsRZ1",
        "outputId": "ad733479-fa93-4e02-99e1-6774c832e74b",
        "colab": {
          "base_uri": "https://localhost:8080/",
          "height": 542
        }
      },
      "execution_count": 28,
      "outputs": [
        {
          "output_type": "display_data",
          "data": {
            "text/html": [
              "<html>\n",
              "<head><meta charset=\"utf-8\" /></head>\n",
              "<body>\n",
              "    <div>            <script src=\"https://cdnjs.cloudflare.com/ajax/libs/mathjax/2.7.5/MathJax.js?config=TeX-AMS-MML_SVG\"></script><script type=\"text/javascript\">if (window.MathJax) {MathJax.Hub.Config({SVG: {font: \"STIX-Web\"}});}</script>                <script type=\"text/javascript\">window.PlotlyConfig = {MathJaxConfig: 'local'};</script>\n",
              "        <script src=\"https://cdn.plot.ly/plotly-2.8.3.min.js\"></script>                <div id=\"a28275dd-d8e9-4dd4-b812-daed7f4067a1\" class=\"plotly-graph-div\" style=\"height:525px; width:100%;\"></div>            <script type=\"text/javascript\">                                    window.PLOTLYENV=window.PLOTLYENV || {};                                    if (document.getElementById(\"a28275dd-d8e9-4dd4-b812-daed7f4067a1\")) {                    Plotly.newPlot(                        \"a28275dd-d8e9-4dd4-b812-daed7f4067a1\",                        [{\"hovertemplate\":\"date=%{x}<br>usdprice=%{y}<extra></extra>\",\"legendgroup\":\"\",\"line\":{\"color\":\"#636efa\",\"dash\":\"solid\"},\"marker\":{\"symbol\":\"circle\"},\"mode\":\"lines\",\"name\":\"\",\"showlegend\":false,\"x\":[\"2011-01-15T00:00:00\",\"2011-01-15T00:00:00\",\"2011-01-15T00:00:00\",\"2011-01-15T00:00:00\",\"2011-01-15T00:00:00\",\"2011-01-15T00:00:00\",\"2011-02-15T00:00:00\",\"2011-02-15T00:00:00\",\"2011-02-15T00:00:00\",\"2011-02-15T00:00:00\",\"2011-02-15T00:00:00\",\"2011-02-15T00:00:00\",\"2011-02-15T00:00:00\",\"2011-02-15T00:00:00\",\"2011-02-15T00:00:00\",\"2011-02-15T00:00:00\",\"2011-02-15T00:00:00\",\"2011-02-15T00:00:00\",\"2011-02-15T00:00:00\",\"2011-02-15T00:00:00\",\"2011-02-15T00:00:00\",\"2011-02-15T00:00:00\",\"2011-02-15T00:00:00\",\"2011-03-15T00:00:00\",\"2011-03-15T00:00:00\",\"2011-03-15T00:00:00\",\"2011-03-15T00:00:00\",\"2011-03-15T00:00:00\",\"2011-03-15T00:00:00\",\"2011-03-15T00:00:00\",\"2011-03-15T00:00:00\",\"2011-03-15T00:00:00\",\"2011-03-15T00:00:00\",\"2011-03-15T00:00:00\",\"2011-03-15T00:00:00\",\"2011-03-15T00:00:00\",\"2011-03-15T00:00:00\",\"2011-03-15T00:00:00\",\"2011-03-15T00:00:00\",\"2011-03-15T00:00:00\",\"2011-04-15T00:00:00\",\"2011-04-15T00:00:00\",\"2011-04-15T00:00:00\",\"2011-04-15T00:00:00\",\"2011-04-15T00:00:00\",\"2011-04-15T00:00:00\",\"2011-04-15T00:00:00\",\"2011-04-15T00:00:00\",\"2011-04-15T00:00:00\",\"2011-04-15T00:00:00\",\"2011-04-15T00:00:00\",\"2011-04-15T00:00:00\",\"2011-04-15T00:00:00\",\"2011-04-15T00:00:00\",\"2011-04-15T00:00:00\",\"2011-04-15T00:00:00\",\"2011-05-15T00:00:00\",\"2011-05-15T00:00:00\",\"2011-05-15T00:00:00\",\"2011-05-15T00:00:00\",\"2011-05-15T00:00:00\",\"2011-05-15T00:00:00\",\"2011-05-15T00:00:00\",\"2011-05-15T00:00:00\",\"2011-05-15T00:00:00\",\"2011-05-15T00:00:00\",\"2011-05-15T00:00:00\",\"2011-05-15T00:00:00\",\"2011-05-15T00:00:00\",\"2011-05-15T00:00:00\",\"2011-05-15T00:00:00\",\"2011-07-15T00:00:00\",\"2011-07-15T00:00:00\",\"2011-07-15T00:00:00\",\"2011-07-15T00:00:00\",\"2011-07-15T00:00:00\",\"2011-07-15T00:00:00\",\"2011-07-15T00:00:00\",\"2011-07-15T00:00:00\",\"2011-07-15T00:00:00\",\"2011-07-15T00:00:00\",\"2011-07-15T00:00:00\",\"2011-07-15T00:00:00\",\"2011-07-15T00:00:00\",\"2011-07-15T00:00:00\",\"2011-07-15T00:00:00\",\"2011-07-15T00:00:00\",\"2011-07-15T00:00:00\",\"2011-07-15T00:00:00\",\"2011-07-15T00:00:00\",\"2011-07-15T00:00:00\",\"2011-07-15T00:00:00\",\"2011-07-15T00:00:00\",\"2011-07-15T00:00:00\",\"2011-08-15T00:00:00\",\"2011-08-15T00:00:00\",\"2011-08-15T00:00:00\",\"2011-08-15T00:00:00\",\"2011-08-15T00:00:00\",\"2011-08-15T00:00:00\",\"2011-08-15T00:00:00\",\"2011-08-15T00:00:00\",\"2011-08-15T00:00:00\",\"2011-08-15T00:00:00\",\"2011-08-15T00:00:00\",\"2011-08-15T00:00:00\",\"2011-08-15T00:00:00\",\"2011-08-15T00:00:00\",\"2011-08-15T00:00:00\",\"2011-08-15T00:00:00\",\"2011-08-15T00:00:00\",\"2011-08-15T00:00:00\",\"2011-08-15T00:00:00\",\"2011-08-15T00:00:00\",\"2011-08-15T00:00:00\",\"2011-08-15T00:00:00\",\"2011-08-15T00:00:00\",\"2011-09-15T00:00:00\",\"2011-09-15T00:00:00\",\"2011-09-15T00:00:00\",\"2011-09-15T00:00:00\",\"2011-09-15T00:00:00\",\"2011-09-15T00:00:00\",\"2011-09-15T00:00:00\",\"2011-09-15T00:00:00\",\"2011-09-15T00:00:00\",\"2011-09-15T00:00:00\",\"2011-09-15T00:00:00\",\"2011-09-15T00:00:00\",\"2011-09-15T00:00:00\",\"2011-09-15T00:00:00\",\"2011-09-15T00:00:00\",\"2011-09-15T00:00:00\",\"2011-09-15T00:00:00\",\"2011-09-15T00:00:00\",\"2011-09-15T00:00:00\",\"2011-09-15T00:00:00\",\"2011-09-15T00:00:00\",\"2011-09-15T00:00:00\",\"2011-09-15T00:00:00\",\"2011-09-15T00:00:00\",\"2011-10-15T00:00:00\",\"2011-10-15T00:00:00\",\"2011-10-15T00:00:00\",\"2011-10-15T00:00:00\",\"2011-10-15T00:00:00\",\"2011-10-15T00:00:00\",\"2011-10-15T00:00:00\",\"2011-10-15T00:00:00\",\"2011-10-15T00:00:00\",\"2011-10-15T00:00:00\",\"2011-10-15T00:00:00\",\"2011-10-15T00:00:00\",\"2011-10-15T00:00:00\",\"2011-10-15T00:00:00\",\"2011-10-15T00:00:00\",\"2011-10-15T00:00:00\",\"2011-10-15T00:00:00\",\"2011-10-15T00:00:00\",\"2011-10-15T00:00:00\",\"2011-10-15T00:00:00\",\"2011-10-15T00:00:00\",\"2011-10-15T00:00:00\",\"2011-11-15T00:00:00\",\"2011-11-15T00:00:00\",\"2011-11-15T00:00:00\",\"2011-11-15T00:00:00\",\"2011-11-15T00:00:00\",\"2011-11-15T00:00:00\",\"2011-11-15T00:00:00\",\"2011-11-15T00:00:00\",\"2011-11-15T00:00:00\",\"2011-11-15T00:00:00\",\"2011-11-15T00:00:00\",\"2011-11-15T00:00:00\",\"2011-11-15T00:00:00\",\"2011-11-15T00:00:00\",\"2011-11-15T00:00:00\",\"2011-11-15T00:00:00\",\"2011-11-15T00:00:00\",\"2011-11-15T00:00:00\",\"2011-11-15T00:00:00\",\"2011-11-15T00:00:00\",\"2011-11-15T00:00:00\",\"2011-11-15T00:00:00\",\"2011-12-15T00:00:00\",\"2011-12-15T00:00:00\",\"2011-12-15T00:00:00\",\"2011-12-15T00:00:00\",\"2011-12-15T00:00:00\",\"2011-12-15T00:00:00\",\"2011-12-15T00:00:00\",\"2011-12-15T00:00:00\",\"2011-12-15T00:00:00\",\"2011-12-15T00:00:00\",\"2011-12-15T00:00:00\",\"2011-12-15T00:00:00\",\"2011-12-15T00:00:00\",\"2011-12-15T00:00:00\",\"2011-12-15T00:00:00\",\"2011-12-15T00:00:00\",\"2011-12-15T00:00:00\",\"2011-12-15T00:00:00\",\"2011-12-15T00:00:00\",\"2011-12-15T00:00:00\",\"2011-12-15T00:00:00\",\"2011-12-15T00:00:00\",\"2012-01-15T00:00:00\",\"2012-01-15T00:00:00\",\"2012-01-15T00:00:00\",\"2012-01-15T00:00:00\",\"2012-01-15T00:00:00\",\"2012-01-15T00:00:00\",\"2012-01-15T00:00:00\",\"2012-01-15T00:00:00\",\"2012-01-15T00:00:00\",\"2012-01-15T00:00:00\",\"2012-01-15T00:00:00\",\"2012-01-15T00:00:00\",\"2012-01-15T00:00:00\",\"2012-01-15T00:00:00\",\"2012-01-15T00:00:00\",\"2012-01-15T00:00:00\",\"2012-01-15T00:00:00\",\"2012-01-15T00:00:00\",\"2012-01-15T00:00:00\",\"2012-01-15T00:00:00\",\"2012-01-15T00:00:00\",\"2012-01-15T00:00:00\",\"2012-01-15T00:00:00\",\"2012-01-15T00:00:00\",\"2012-01-15T00:00:00\",\"2012-01-15T00:00:00\",\"2012-01-15T00:00:00\",\"2012-01-15T00:00:00\",\"2012-01-15T00:00:00\",\"2012-01-15T00:00:00\",\"2012-01-15T00:00:00\",\"2012-01-15T00:00:00\",\"2012-01-15T00:00:00\",\"2012-01-15T00:00:00\",\"2012-01-15T00:00:00\",\"2012-01-15T00:00:00\",\"2012-01-15T00:00:00\",\"2012-01-15T00:00:00\",\"2012-01-15T00:00:00\",\"2012-01-15T00:00:00\",\"2012-01-15T00:00:00\",\"2012-02-15T00:00:00\",\"2012-02-15T00:00:00\",\"2012-02-15T00:00:00\",\"2012-02-15T00:00:00\",\"2012-02-15T00:00:00\",\"2012-02-15T00:00:00\",\"2012-02-15T00:00:00\",\"2012-02-15T00:00:00\",\"2012-02-15T00:00:00\",\"2012-02-15T00:00:00\",\"2012-02-15T00:00:00\",\"2012-02-15T00:00:00\",\"2012-02-15T00:00:00\",\"2012-02-15T00:00:00\",\"2012-02-15T00:00:00\",\"2012-02-15T00:00:00\",\"2012-02-15T00:00:00\",\"2012-02-15T00:00:00\",\"2012-02-15T00:00:00\",\"2012-02-15T00:00:00\",\"2012-02-15T00:00:00\",\"2012-02-15T00:00:00\",\"2012-02-15T00:00:00\",\"2012-02-15T00:00:00\",\"2012-02-15T00:00:00\",\"2012-02-15T00:00:00\",\"2012-02-15T00:00:00\",\"2012-02-15T00:00:00\",\"2012-02-15T00:00:00\",\"2012-02-15T00:00:00\",\"2012-02-15T00:00:00\",\"2012-02-15T00:00:00\",\"2012-02-15T00:00:00\",\"2012-02-15T00:00:00\",\"2012-02-15T00:00:00\",\"2012-02-15T00:00:00\",\"2012-02-15T00:00:00\",\"2012-02-15T00:00:00\",\"2012-02-15T00:00:00\",\"2012-02-15T00:00:00\",\"2012-02-15T00:00:00\",\"2012-03-15T00:00:00\",\"2012-03-15T00:00:00\",\"2012-03-15T00:00:00\",\"2012-03-15T00:00:00\",\"2012-03-15T00:00:00\",\"2012-03-15T00:00:00\",\"2012-03-15T00:00:00\",\"2012-03-15T00:00:00\",\"2012-03-15T00:00:00\",\"2012-03-15T00:00:00\",\"2012-03-15T00:00:00\",\"2012-03-15T00:00:00\",\"2012-03-15T00:00:00\",\"2012-03-15T00:00:00\",\"2012-03-15T00:00:00\",\"2012-03-15T00:00:00\",\"2012-03-15T00:00:00\",\"2012-03-15T00:00:00\",\"2012-03-15T00:00:00\",\"2012-03-15T00:00:00\",\"2012-03-15T00:00:00\",\"2012-03-15T00:00:00\",\"2012-03-15T00:00:00\",\"2012-03-15T00:00:00\",\"2012-03-15T00:00:00\",\"2012-03-15T00:00:00\",\"2012-03-15T00:00:00\",\"2012-03-15T00:00:00\",\"2012-03-15T00:00:00\",\"2012-03-15T00:00:00\",\"2012-03-15T00:00:00\",\"2012-03-15T00:00:00\",\"2012-03-15T00:00:00\",\"2012-03-15T00:00:00\",\"2012-03-15T00:00:00\",\"2012-03-15T00:00:00\",\"2012-03-15T00:00:00\",\"2012-03-15T00:00:00\",\"2012-03-15T00:00:00\",\"2012-03-15T00:00:00\",\"2012-03-15T00:00:00\",\"2012-03-15T00:00:00\",\"2012-07-15T00:00:00\",\"2012-07-15T00:00:00\",\"2012-07-15T00:00:00\",\"2012-07-15T00:00:00\",\"2012-07-15T00:00:00\",\"2012-07-15T00:00:00\",\"2012-07-15T00:00:00\",\"2012-07-15T00:00:00\",\"2012-07-15T00:00:00\",\"2012-07-15T00:00:00\",\"2012-07-15T00:00:00\",\"2012-07-15T00:00:00\",\"2012-07-15T00:00:00\",\"2012-07-15T00:00:00\",\"2012-07-15T00:00:00\",\"2012-08-15T00:00:00\",\"2012-08-15T00:00:00\",\"2012-08-15T00:00:00\",\"2012-08-15T00:00:00\",\"2012-08-15T00:00:00\",\"2012-08-15T00:00:00\",\"2012-08-15T00:00:00\",\"2012-08-15T00:00:00\",\"2012-08-15T00:00:00\",\"2012-08-15T00:00:00\",\"2012-08-15T00:00:00\",\"2012-08-15T00:00:00\",\"2012-08-15T00:00:00\",\"2012-08-15T00:00:00\",\"2012-08-15T00:00:00\",\"2012-09-15T00:00:00\",\"2012-09-15T00:00:00\",\"2012-09-15T00:00:00\",\"2012-09-15T00:00:00\",\"2012-09-15T00:00:00\",\"2012-09-15T00:00:00\",\"2012-09-15T00:00:00\",\"2012-09-15T00:00:00\",\"2012-09-15T00:00:00\",\"2012-09-15T00:00:00\",\"2012-09-15T00:00:00\",\"2012-09-15T00:00:00\",\"2012-09-15T00:00:00\",\"2012-09-15T00:00:00\",\"2012-09-15T00:00:00\",\"2012-09-15T00:00:00\",\"2012-09-15T00:00:00\",\"2012-10-15T00:00:00\",\"2012-10-15T00:00:00\",\"2012-10-15T00:00:00\",\"2012-10-15T00:00:00\",\"2012-10-15T00:00:00\",\"2012-10-15T00:00:00\",\"2012-10-15T00:00:00\",\"2012-10-15T00:00:00\",\"2012-10-15T00:00:00\",\"2012-10-15T00:00:00\",\"2012-10-15T00:00:00\",\"2012-10-15T00:00:00\",\"2012-10-15T00:00:00\",\"2012-10-15T00:00:00\",\"2012-10-15T00:00:00\",\"2012-10-15T00:00:00\",\"2012-11-15T00:00:00\",\"2012-11-15T00:00:00\",\"2012-11-15T00:00:00\",\"2012-11-15T00:00:00\",\"2012-11-15T00:00:00\",\"2012-11-15T00:00:00\",\"2012-11-15T00:00:00\",\"2012-11-15T00:00:00\",\"2012-11-15T00:00:00\",\"2012-11-15T00:00:00\",\"2012-11-15T00:00:00\",\"2012-11-15T00:00:00\",\"2012-11-15T00:00:00\",\"2012-11-15T00:00:00\",\"2012-11-15T00:00:00\",\"2012-11-15T00:00:00\",\"2012-12-15T00:00:00\",\"2012-12-15T00:00:00\",\"2012-12-15T00:00:00\",\"2012-12-15T00:00:00\",\"2012-12-15T00:00:00\",\"2012-12-15T00:00:00\",\"2012-12-15T00:00:00\",\"2012-12-15T00:00:00\",\"2012-12-15T00:00:00\",\"2012-12-15T00:00:00\",\"2012-12-15T00:00:00\",\"2012-12-15T00:00:00\",\"2012-12-15T00:00:00\",\"2012-12-15T00:00:00\",\"2012-12-15T00:00:00\",\"2012-12-15T00:00:00\",\"2013-01-15T00:00:00\",\"2013-01-15T00:00:00\",\"2013-01-15T00:00:00\",\"2013-01-15T00:00:00\",\"2013-01-15T00:00:00\",\"2013-01-15T00:00:00\",\"2013-01-15T00:00:00\",\"2013-01-15T00:00:00\",\"2013-01-15T00:00:00\",\"2013-01-15T00:00:00\",\"2013-01-15T00:00:00\",\"2013-01-15T00:00:00\",\"2013-01-15T00:00:00\",\"2013-01-15T00:00:00\",\"2013-01-15T00:00:00\",\"2013-01-15T00:00:00\",\"2013-01-15T00:00:00\",\"2013-01-15T00:00:00\",\"2013-02-15T00:00:00\",\"2013-02-15T00:00:00\",\"2013-02-15T00:00:00\",\"2013-02-15T00:00:00\",\"2013-02-15T00:00:00\",\"2013-02-15T00:00:00\",\"2013-02-15T00:00:00\",\"2013-02-15T00:00:00\",\"2013-02-15T00:00:00\",\"2013-02-15T00:00:00\",\"2013-02-15T00:00:00\",\"2013-02-15T00:00:00\",\"2013-02-15T00:00:00\",\"2013-02-15T00:00:00\",\"2013-02-15T00:00:00\",\"2013-02-15T00:00:00\",\"2013-02-15T00:00:00\",\"2013-02-15T00:00:00\",\"2013-02-15T00:00:00\",\"2013-02-15T00:00:00\",\"2013-02-15T00:00:00\",\"2013-02-15T00:00:00\",\"2013-02-15T00:00:00\",\"2013-02-15T00:00:00\",\"2013-02-15T00:00:00\",\"2013-02-15T00:00:00\",\"2013-02-15T00:00:00\",\"2013-02-15T00:00:00\",\"2013-02-15T00:00:00\",\"2013-02-15T00:00:00\",\"2013-02-15T00:00:00\",\"2013-02-15T00:00:00\",\"2013-02-15T00:00:00\",\"2013-02-15T00:00:00\",\"2013-02-15T00:00:00\",\"2013-02-15T00:00:00\",\"2013-02-15T00:00:00\",\"2013-02-15T00:00:00\",\"2013-02-15T00:00:00\",\"2013-02-15T00:00:00\",\"2013-02-15T00:00:00\",\"2013-03-15T00:00:00\",\"2013-03-15T00:00:00\",\"2013-03-15T00:00:00\",\"2013-03-15T00:00:00\",\"2013-03-15T00:00:00\",\"2013-03-15T00:00:00\",\"2013-03-15T00:00:00\",\"2013-03-15T00:00:00\",\"2013-03-15T00:00:00\",\"2013-03-15T00:00:00\",\"2013-03-15T00:00:00\",\"2013-03-15T00:00:00\",\"2013-03-15T00:00:00\",\"2013-03-15T00:00:00\",\"2013-03-15T00:00:00\",\"2013-03-15T00:00:00\",\"2013-03-15T00:00:00\",\"2013-03-15T00:00:00\",\"2013-03-15T00:00:00\",\"2013-03-15T00:00:00\",\"2013-03-15T00:00:00\",\"2013-03-15T00:00:00\",\"2013-03-15T00:00:00\",\"2013-03-15T00:00:00\",\"2013-03-15T00:00:00\",\"2013-03-15T00:00:00\",\"2013-03-15T00:00:00\",\"2013-03-15T00:00:00\",\"2013-03-15T00:00:00\",\"2013-03-15T00:00:00\",\"2013-03-15T00:00:00\",\"2013-03-15T00:00:00\",\"2013-03-15T00:00:00\",\"2013-03-15T00:00:00\",\"2013-03-15T00:00:00\",\"2013-03-15T00:00:00\",\"2013-03-15T00:00:00\",\"2013-03-15T00:00:00\",\"2013-03-15T00:00:00\",\"2013-03-15T00:00:00\",\"2013-03-15T00:00:00\",\"2013-04-15T00:00:00\",\"2013-04-15T00:00:00\",\"2013-04-15T00:00:00\",\"2013-04-15T00:00:00\",\"2013-04-15T00:00:00\",\"2013-04-15T00:00:00\",\"2013-04-15T00:00:00\",\"2013-04-15T00:00:00\",\"2013-04-15T00:00:00\",\"2013-04-15T00:00:00\",\"2013-04-15T00:00:00\",\"2013-04-15T00:00:00\",\"2013-04-15T00:00:00\",\"2013-04-15T00:00:00\",\"2013-04-15T00:00:00\",\"2013-04-15T00:00:00\",\"2013-04-15T00:00:00\",\"2013-04-15T00:00:00\",\"2013-04-15T00:00:00\",\"2013-04-15T00:00:00\",\"2013-04-15T00:00:00\",\"2013-04-15T00:00:00\",\"2013-04-15T00:00:00\",\"2013-04-15T00:00:00\",\"2013-04-15T00:00:00\",\"2013-04-15T00:00:00\",\"2013-04-15T00:00:00\",\"2013-04-15T00:00:00\",\"2013-04-15T00:00:00\",\"2013-04-15T00:00:00\",\"2013-04-15T00:00:00\",\"2013-04-15T00:00:00\",\"2013-04-15T00:00:00\",\"2013-04-15T00:00:00\",\"2013-04-15T00:00:00\",\"2013-04-15T00:00:00\",\"2013-04-15T00:00:00\",\"2013-04-15T00:00:00\",\"2013-04-15T00:00:00\",\"2013-04-15T00:00:00\",\"2013-05-15T00:00:00\",\"2013-05-15T00:00:00\",\"2013-05-15T00:00:00\",\"2013-05-15T00:00:00\",\"2013-05-15T00:00:00\",\"2013-05-15T00:00:00\",\"2013-05-15T00:00:00\",\"2013-05-15T00:00:00\",\"2013-05-15T00:00:00\",\"2013-05-15T00:00:00\",\"2013-05-15T00:00:00\",\"2013-05-15T00:00:00\",\"2013-05-15T00:00:00\",\"2013-05-15T00:00:00\",\"2013-05-15T00:00:00\",\"2013-05-15T00:00:00\",\"2013-05-15T00:00:00\",\"2013-05-15T00:00:00\",\"2013-05-15T00:00:00\",\"2013-05-15T00:00:00\",\"2013-05-15T00:00:00\",\"2013-05-15T00:00:00\",\"2013-05-15T00:00:00\",\"2013-05-15T00:00:00\",\"2013-05-15T00:00:00\",\"2013-05-15T00:00:00\",\"2013-05-15T00:00:00\",\"2013-05-15T00:00:00\",\"2013-05-15T00:00:00\",\"2013-05-15T00:00:00\",\"2013-05-15T00:00:00\",\"2013-05-15T00:00:00\",\"2013-05-15T00:00:00\",\"2013-05-15T00:00:00\",\"2013-05-15T00:00:00\",\"2013-05-15T00:00:00\",\"2013-05-15T00:00:00\",\"2013-05-15T00:00:00\",\"2013-05-15T00:00:00\",\"2013-06-15T00:00:00\",\"2013-06-15T00:00:00\",\"2013-06-15T00:00:00\",\"2013-06-15T00:00:00\",\"2013-06-15T00:00:00\",\"2013-06-15T00:00:00\",\"2013-06-15T00:00:00\",\"2013-06-15T00:00:00\",\"2013-06-15T00:00:00\",\"2013-06-15T00:00:00\",\"2013-06-15T00:00:00\",\"2013-06-15T00:00:00\",\"2013-06-15T00:00:00\",\"2013-06-15T00:00:00\",\"2013-06-15T00:00:00\",\"2013-06-15T00:00:00\",\"2013-06-15T00:00:00\",\"2013-06-15T00:00:00\",\"2013-06-15T00:00:00\",\"2013-06-15T00:00:00\",\"2013-06-15T00:00:00\",\"2013-06-15T00:00:00\",\"2013-06-15T00:00:00\",\"2013-06-15T00:00:00\",\"2013-06-15T00:00:00\",\"2013-06-15T00:00:00\",\"2013-06-15T00:00:00\",\"2013-06-15T00:00:00\",\"2013-06-15T00:00:00\",\"2013-06-15T00:00:00\",\"2013-06-15T00:00:00\",\"2013-06-15T00:00:00\",\"2013-06-15T00:00:00\",\"2013-06-15T00:00:00\",\"2013-06-15T00:00:00\",\"2013-06-15T00:00:00\",\"2013-06-15T00:00:00\",\"2013-06-15T00:00:00\",\"2013-06-15T00:00:00\",\"2013-07-15T00:00:00\",\"2013-07-15T00:00:00\",\"2013-07-15T00:00:00\",\"2013-07-15T00:00:00\",\"2013-07-15T00:00:00\",\"2013-07-15T00:00:00\",\"2013-07-15T00:00:00\",\"2013-07-15T00:00:00\",\"2013-07-15T00:00:00\",\"2013-07-15T00:00:00\",\"2013-07-15T00:00:00\",\"2013-07-15T00:00:00\",\"2013-07-15T00:00:00\",\"2013-07-15T00:00:00\",\"2013-07-15T00:00:00\",\"2013-07-15T00:00:00\",\"2013-07-15T00:00:00\",\"2013-07-15T00:00:00\",\"2013-07-15T00:00:00\",\"2013-07-15T00:00:00\",\"2013-07-15T00:00:00\",\"2013-07-15T00:00:00\",\"2013-07-15T00:00:00\",\"2013-07-15T00:00:00\",\"2013-07-15T00:00:00\",\"2013-07-15T00:00:00\",\"2013-07-15T00:00:00\",\"2013-07-15T00:00:00\",\"2013-07-15T00:00:00\",\"2013-07-15T00:00:00\",\"2013-07-15T00:00:00\",\"2013-07-15T00:00:00\",\"2013-07-15T00:00:00\",\"2013-07-15T00:00:00\",\"2013-07-15T00:00:00\",\"2013-07-15T00:00:00\",\"2013-07-15T00:00:00\",\"2013-07-15T00:00:00\",\"2013-07-15T00:00:00\",\"2013-08-15T00:00:00\",\"2013-08-15T00:00:00\",\"2013-08-15T00:00:00\",\"2013-08-15T00:00:00\",\"2013-08-15T00:00:00\",\"2013-08-15T00:00:00\",\"2013-08-15T00:00:00\",\"2013-08-15T00:00:00\",\"2013-08-15T00:00:00\",\"2013-08-15T00:00:00\",\"2013-08-15T00:00:00\",\"2013-08-15T00:00:00\",\"2013-08-15T00:00:00\",\"2013-08-15T00:00:00\",\"2013-08-15T00:00:00\",\"2013-08-15T00:00:00\",\"2013-08-15T00:00:00\",\"2013-08-15T00:00:00\",\"2013-08-15T00:00:00\",\"2013-08-15T00:00:00\",\"2013-08-15T00:00:00\",\"2013-08-15T00:00:00\",\"2013-08-15T00:00:00\",\"2013-08-15T00:00:00\",\"2013-08-15T00:00:00\",\"2013-08-15T00:00:00\",\"2013-08-15T00:00:00\",\"2013-08-15T00:00:00\",\"2013-08-15T00:00:00\",\"2013-08-15T00:00:00\",\"2013-08-15T00:00:00\",\"2013-08-15T00:00:00\",\"2013-08-15T00:00:00\",\"2013-08-15T00:00:00\",\"2013-08-15T00:00:00\",\"2013-08-15T00:00:00\",\"2013-08-15T00:00:00\",\"2013-08-15T00:00:00\",\"2013-08-15T00:00:00\",\"2013-08-15T00:00:00\",\"2013-09-15T00:00:00\",\"2013-09-15T00:00:00\",\"2013-09-15T00:00:00\",\"2013-09-15T00:00:00\",\"2013-09-15T00:00:00\",\"2013-09-15T00:00:00\",\"2013-09-15T00:00:00\",\"2013-09-15T00:00:00\",\"2013-09-15T00:00:00\",\"2013-09-15T00:00:00\",\"2013-09-15T00:00:00\",\"2013-09-15T00:00:00\",\"2013-09-15T00:00:00\",\"2013-09-15T00:00:00\",\"2013-09-15T00:00:00\",\"2013-09-15T00:00:00\",\"2013-09-15T00:00:00\",\"2013-09-15T00:00:00\",\"2013-09-15T00:00:00\",\"2013-09-15T00:00:00\",\"2013-09-15T00:00:00\",\"2013-09-15T00:00:00\",\"2013-09-15T00:00:00\",\"2013-09-15T00:00:00\",\"2013-09-15T00:00:00\",\"2013-09-15T00:00:00\",\"2013-09-15T00:00:00\",\"2013-09-15T00:00:00\",\"2013-09-15T00:00:00\",\"2013-09-15T00:00:00\",\"2013-09-15T00:00:00\",\"2013-09-15T00:00:00\",\"2013-09-15T00:00:00\",\"2013-09-15T00:00:00\",\"2013-09-15T00:00:00\",\"2013-09-15T00:00:00\",\"2013-09-15T00:00:00\",\"2013-09-15T00:00:00\",\"2013-09-15T00:00:00\",\"2013-09-15T00:00:00\",\"2013-09-15T00:00:00\",\"2013-10-15T00:00:00\",\"2013-10-15T00:00:00\",\"2013-10-15T00:00:00\",\"2013-10-15T00:00:00\",\"2013-10-15T00:00:00\",\"2013-10-15T00:00:00\",\"2013-10-15T00:00:00\",\"2013-10-15T00:00:00\",\"2013-10-15T00:00:00\",\"2013-10-15T00:00:00\",\"2013-10-15T00:00:00\",\"2013-10-15T00:00:00\",\"2013-10-15T00:00:00\",\"2013-10-15T00:00:00\",\"2013-10-15T00:00:00\",\"2013-10-15T00:00:00\",\"2013-10-15T00:00:00\",\"2013-10-15T00:00:00\",\"2013-10-15T00:00:00\",\"2013-10-15T00:00:00\",\"2013-10-15T00:00:00\",\"2013-10-15T00:00:00\",\"2013-10-15T00:00:00\",\"2013-10-15T00:00:00\",\"2013-10-15T00:00:00\",\"2013-10-15T00:00:00\",\"2013-10-15T00:00:00\",\"2013-10-15T00:00:00\",\"2013-10-15T00:00:00\",\"2013-10-15T00:00:00\",\"2013-10-15T00:00:00\",\"2013-10-15T00:00:00\",\"2013-10-15T00:00:00\",\"2013-10-15T00:00:00\",\"2013-10-15T00:00:00\",\"2013-10-15T00:00:00\",\"2013-10-15T00:00:00\",\"2013-10-15T00:00:00\",\"2013-10-15T00:00:00\",\"2013-10-15T00:00:00\",\"2013-11-15T00:00:00\",\"2013-11-15T00:00:00\",\"2013-11-15T00:00:00\",\"2013-11-15T00:00:00\",\"2013-11-15T00:00:00\",\"2013-11-15T00:00:00\",\"2013-11-15T00:00:00\",\"2013-11-15T00:00:00\",\"2013-11-15T00:00:00\",\"2013-11-15T00:00:00\",\"2013-11-15T00:00:00\",\"2013-11-15T00:00:00\",\"2013-11-15T00:00:00\",\"2013-11-15T00:00:00\",\"2013-11-15T00:00:00\",\"2013-11-15T00:00:00\",\"2013-11-15T00:00:00\",\"2013-11-15T00:00:00\",\"2013-11-15T00:00:00\",\"2013-11-15T00:00:00\",\"2013-11-15T00:00:00\",\"2013-11-15T00:00:00\",\"2013-11-15T00:00:00\",\"2013-11-15T00:00:00\",\"2013-11-15T00:00:00\",\"2013-11-15T00:00:00\",\"2013-11-15T00:00:00\",\"2013-11-15T00:00:00\",\"2013-11-15T00:00:00\",\"2013-11-15T00:00:00\",\"2013-11-15T00:00:00\",\"2013-11-15T00:00:00\",\"2013-11-15T00:00:00\",\"2013-11-15T00:00:00\",\"2013-11-15T00:00:00\",\"2013-11-15T00:00:00\",\"2013-11-15T00:00:00\",\"2013-11-15T00:00:00\",\"2013-11-15T00:00:00\",\"2013-12-15T00:00:00\",\"2013-12-15T00:00:00\",\"2013-12-15T00:00:00\",\"2013-12-15T00:00:00\",\"2013-12-15T00:00:00\",\"2013-12-15T00:00:00\",\"2013-12-15T00:00:00\",\"2013-12-15T00:00:00\",\"2013-12-15T00:00:00\",\"2013-12-15T00:00:00\",\"2013-12-15T00:00:00\",\"2013-12-15T00:00:00\",\"2013-12-15T00:00:00\",\"2013-12-15T00:00:00\",\"2013-12-15T00:00:00\",\"2013-12-15T00:00:00\",\"2013-12-15T00:00:00\",\"2013-12-15T00:00:00\",\"2013-12-15T00:00:00\",\"2013-12-15T00:00:00\",\"2013-12-15T00:00:00\",\"2013-12-15T00:00:00\",\"2013-12-15T00:00:00\",\"2013-12-15T00:00:00\",\"2013-12-15T00:00:00\",\"2013-12-15T00:00:00\",\"2013-12-15T00:00:00\",\"2013-12-15T00:00:00\",\"2013-12-15T00:00:00\",\"2013-12-15T00:00:00\",\"2013-12-15T00:00:00\",\"2013-12-15T00:00:00\",\"2013-12-15T00:00:00\",\"2013-12-15T00:00:00\",\"2013-12-15T00:00:00\",\"2013-12-15T00:00:00\",\"2013-12-15T00:00:00\",\"2014-01-15T00:00:00\",\"2014-01-15T00:00:00\",\"2014-01-15T00:00:00\",\"2014-01-15T00:00:00\",\"2014-01-15T00:00:00\",\"2014-01-15T00:00:00\",\"2014-01-15T00:00:00\",\"2014-01-15T00:00:00\",\"2014-01-15T00:00:00\",\"2014-01-15T00:00:00\",\"2014-01-15T00:00:00\",\"2014-01-15T00:00:00\",\"2014-01-15T00:00:00\",\"2014-01-15T00:00:00\",\"2014-01-15T00:00:00\",\"2014-01-15T00:00:00\",\"2014-01-15T00:00:00\",\"2014-01-15T00:00:00\",\"2014-01-15T00:00:00\",\"2014-01-15T00:00:00\",\"2014-01-15T00:00:00\",\"2014-01-15T00:00:00\",\"2014-01-15T00:00:00\",\"2014-01-15T00:00:00\",\"2014-01-15T00:00:00\",\"2014-01-15T00:00:00\",\"2014-01-15T00:00:00\",\"2014-01-15T00:00:00\",\"2014-01-15T00:00:00\",\"2014-01-15T00:00:00\",\"2014-01-15T00:00:00\",\"2014-01-15T00:00:00\",\"2014-01-15T00:00:00\",\"2014-01-15T00:00:00\",\"2014-01-15T00:00:00\",\"2014-01-15T00:00:00\",\"2014-01-15T00:00:00\",\"2014-01-15T00:00:00\",\"2014-01-15T00:00:00\",\"2014-01-15T00:00:00\",\"2015-04-15T00:00:00\",\"2015-04-15T00:00:00\",\"2015-04-15T00:00:00\",\"2015-04-15T00:00:00\",\"2015-04-15T00:00:00\",\"2015-04-15T00:00:00\",\"2015-04-15T00:00:00\",\"2015-04-15T00:00:00\",\"2015-04-15T00:00:00\",\"2015-04-15T00:00:00\",\"2015-04-15T00:00:00\",\"2015-04-15T00:00:00\",\"2015-04-15T00:00:00\",\"2015-04-15T00:00:00\",\"2015-04-15T00:00:00\",\"2015-04-15T00:00:00\",\"2015-04-15T00:00:00\",\"2015-04-15T00:00:00\",\"2015-04-15T00:00:00\",\"2015-04-15T00:00:00\",\"2015-04-15T00:00:00\",\"2015-04-15T00:00:00\",\"2015-04-15T00:00:00\",\"2015-04-15T00:00:00\",\"2015-04-15T00:00:00\",\"2015-04-15T00:00:00\",\"2015-04-15T00:00:00\",\"2015-04-15T00:00:00\",\"2015-04-15T00:00:00\",\"2015-04-15T00:00:00\",\"2015-04-15T00:00:00\",\"2015-05-15T00:00:00\",\"2015-05-15T00:00:00\",\"2015-05-15T00:00:00\",\"2015-05-15T00:00:00\",\"2015-05-15T00:00:00\",\"2015-05-15T00:00:00\",\"2015-05-15T00:00:00\",\"2015-05-15T00:00:00\",\"2015-05-15T00:00:00\",\"2015-05-15T00:00:00\",\"2015-05-15T00:00:00\",\"2015-05-15T00:00:00\",\"2015-05-15T00:00:00\",\"2015-05-15T00:00:00\",\"2015-05-15T00:00:00\",\"2015-05-15T00:00:00\",\"2015-05-15T00:00:00\",\"2015-05-15T00:00:00\",\"2015-05-15T00:00:00\",\"2015-05-15T00:00:00\",\"2015-05-15T00:00:00\",\"2015-05-15T00:00:00\",\"2015-05-15T00:00:00\",\"2015-05-15T00:00:00\",\"2015-05-15T00:00:00\",\"2015-05-15T00:00:00\",\"2015-05-15T00:00:00\",\"2015-05-15T00:00:00\",\"2015-05-15T00:00:00\",\"2015-06-15T00:00:00\",\"2015-06-15T00:00:00\",\"2015-06-15T00:00:00\",\"2015-06-15T00:00:00\",\"2015-06-15T00:00:00\",\"2015-06-15T00:00:00\",\"2015-06-15T00:00:00\",\"2015-06-15T00:00:00\",\"2015-06-15T00:00:00\",\"2015-06-15T00:00:00\",\"2015-06-15T00:00:00\",\"2015-06-15T00:00:00\",\"2015-06-15T00:00:00\",\"2015-06-15T00:00:00\",\"2015-06-15T00:00:00\",\"2015-06-15T00:00:00\",\"2015-06-15T00:00:00\",\"2015-06-15T00:00:00\",\"2015-06-15T00:00:00\",\"2015-06-15T00:00:00\",\"2015-06-15T00:00:00\",\"2015-06-15T00:00:00\",\"2015-06-15T00:00:00\",\"2015-06-15T00:00:00\",\"2015-06-15T00:00:00\",\"2015-06-15T00:00:00\",\"2015-06-15T00:00:00\",\"2015-06-15T00:00:00\",\"2015-06-15T00:00:00\",\"2015-07-15T00:00:00\",\"2015-07-15T00:00:00\",\"2015-07-15T00:00:00\",\"2015-07-15T00:00:00\",\"2015-07-15T00:00:00\",\"2015-07-15T00:00:00\",\"2015-07-15T00:00:00\",\"2015-07-15T00:00:00\",\"2015-07-15T00:00:00\",\"2015-07-15T00:00:00\",\"2015-07-15T00:00:00\",\"2015-07-15T00:00:00\",\"2015-07-15T00:00:00\",\"2015-07-15T00:00:00\",\"2015-07-15T00:00:00\",\"2015-07-15T00:00:00\",\"2015-07-15T00:00:00\",\"2015-07-15T00:00:00\",\"2015-07-15T00:00:00\",\"2015-07-15T00:00:00\",\"2015-07-15T00:00:00\",\"2015-07-15T00:00:00\",\"2015-07-15T00:00:00\",\"2015-07-15T00:00:00\",\"2015-07-15T00:00:00\",\"2015-07-15T00:00:00\",\"2015-07-15T00:00:00\",\"2015-07-15T00:00:00\",\"2015-07-15T00:00:00\",\"2015-07-15T00:00:00\",\"2015-08-15T00:00:00\",\"2015-08-15T00:00:00\",\"2015-08-15T00:00:00\",\"2015-08-15T00:00:00\",\"2015-08-15T00:00:00\",\"2015-08-15T00:00:00\",\"2015-08-15T00:00:00\",\"2015-08-15T00:00:00\",\"2015-08-15T00:00:00\",\"2015-08-15T00:00:00\",\"2015-08-15T00:00:00\",\"2015-08-15T00:00:00\",\"2015-08-15T00:00:00\",\"2015-08-15T00:00:00\",\"2015-08-15T00:00:00\",\"2015-08-15T00:00:00\",\"2015-08-15T00:00:00\",\"2015-08-15T00:00:00\",\"2015-08-15T00:00:00\",\"2015-08-15T00:00:00\",\"2015-08-15T00:00:00\",\"2015-08-15T00:00:00\",\"2015-08-15T00:00:00\",\"2015-08-15T00:00:00\",\"2015-08-15T00:00:00\",\"2015-08-15T00:00:00\",\"2015-08-15T00:00:00\",\"2015-08-15T00:00:00\",\"2015-08-15T00:00:00\",\"2015-09-15T00:00:00\",\"2015-09-15T00:00:00\",\"2015-09-15T00:00:00\",\"2015-09-15T00:00:00\",\"2015-09-15T00:00:00\",\"2015-09-15T00:00:00\",\"2015-09-15T00:00:00\",\"2015-09-15T00:00:00\",\"2015-09-15T00:00:00\",\"2015-09-15T00:00:00\",\"2015-09-15T00:00:00\",\"2015-09-15T00:00:00\",\"2015-09-15T00:00:00\",\"2015-09-15T00:00:00\",\"2015-09-15T00:00:00\",\"2015-09-15T00:00:00\",\"2015-09-15T00:00:00\",\"2015-09-15T00:00:00\",\"2015-09-15T00:00:00\",\"2015-09-15T00:00:00\",\"2015-09-15T00:00:00\",\"2015-09-15T00:00:00\",\"2015-09-15T00:00:00\",\"2015-09-15T00:00:00\",\"2015-09-15T00:00:00\",\"2015-09-15T00:00:00\",\"2015-09-15T00:00:00\",\"2015-09-15T00:00:00\",\"2015-09-15T00:00:00\",\"2015-09-15T00:00:00\",\"2015-10-15T00:00:00\",\"2015-10-15T00:00:00\",\"2015-10-15T00:00:00\",\"2015-10-15T00:00:00\",\"2015-10-15T00:00:00\",\"2015-10-15T00:00:00\",\"2015-10-15T00:00:00\",\"2015-10-15T00:00:00\",\"2015-10-15T00:00:00\",\"2015-10-15T00:00:00\",\"2015-10-15T00:00:00\",\"2015-10-15T00:00:00\",\"2015-10-15T00:00:00\",\"2015-10-15T00:00:00\",\"2015-10-15T00:00:00\",\"2015-10-15T00:00:00\",\"2015-10-15T00:00:00\",\"2015-10-15T00:00:00\",\"2015-10-15T00:00:00\",\"2015-10-15T00:00:00\",\"2015-10-15T00:00:00\",\"2015-10-15T00:00:00\",\"2015-10-15T00:00:00\",\"2015-10-15T00:00:00\",\"2015-10-15T00:00:00\",\"2015-10-15T00:00:00\",\"2015-10-15T00:00:00\",\"2015-10-15T00:00:00\",\"2015-10-15T00:00:00\",\"2015-10-15T00:00:00\",\"2015-11-15T00:00:00\",\"2015-11-15T00:00:00\",\"2015-11-15T00:00:00\",\"2015-11-15T00:00:00\",\"2015-11-15T00:00:00\",\"2015-11-15T00:00:00\",\"2015-11-15T00:00:00\",\"2015-11-15T00:00:00\",\"2015-11-15T00:00:00\",\"2015-11-15T00:00:00\",\"2015-11-15T00:00:00\",\"2015-11-15T00:00:00\",\"2015-11-15T00:00:00\",\"2015-11-15T00:00:00\",\"2015-11-15T00:00:00\",\"2015-11-15T00:00:00\",\"2015-11-15T00:00:00\",\"2015-11-15T00:00:00\",\"2015-11-15T00:00:00\",\"2015-11-15T00:00:00\",\"2015-11-15T00:00:00\",\"2015-11-15T00:00:00\",\"2015-11-15T00:00:00\",\"2015-11-15T00:00:00\",\"2015-11-15T00:00:00\",\"2015-11-15T00:00:00\",\"2015-11-15T00:00:00\",\"2015-11-15T00:00:00\",\"2015-11-15T00:00:00\",\"2015-11-15T00:00:00\",\"2015-12-15T00:00:00\",\"2015-12-15T00:00:00\",\"2015-12-15T00:00:00\",\"2015-12-15T00:00:00\",\"2015-12-15T00:00:00\",\"2015-12-15T00:00:00\",\"2015-12-15T00:00:00\",\"2015-12-15T00:00:00\",\"2015-12-15T00:00:00\",\"2015-12-15T00:00:00\",\"2015-12-15T00:00:00\",\"2015-12-15T00:00:00\",\"2015-12-15T00:00:00\",\"2015-12-15T00:00:00\",\"2015-12-15T00:00:00\",\"2015-12-15T00:00:00\",\"2015-12-15T00:00:00\",\"2015-12-15T00:00:00\",\"2015-12-15T00:00:00\",\"2015-12-15T00:00:00\",\"2015-12-15T00:00:00\",\"2015-12-15T00:00:00\",\"2015-12-15T00:00:00\",\"2015-12-15T00:00:00\",\"2015-12-15T00:00:00\",\"2015-12-15T00:00:00\",\"2015-12-15T00:00:00\",\"2015-12-15T00:00:00\",\"2015-12-15T00:00:00\",\"2015-12-15T00:00:00\",\"2016-01-15T00:00:00\",\"2016-01-15T00:00:00\",\"2016-01-15T00:00:00\",\"2016-01-15T00:00:00\",\"2016-01-15T00:00:00\",\"2016-01-15T00:00:00\",\"2016-01-15T00:00:00\",\"2016-01-15T00:00:00\",\"2016-01-15T00:00:00\",\"2016-01-15T00:00:00\",\"2016-01-15T00:00:00\",\"2016-01-15T00:00:00\",\"2016-01-15T00:00:00\",\"2016-01-15T00:00:00\",\"2016-01-15T00:00:00\",\"2016-01-15T00:00:00\",\"2016-01-15T00:00:00\",\"2016-01-15T00:00:00\",\"2016-01-15T00:00:00\",\"2016-01-15T00:00:00\",\"2016-01-15T00:00:00\",\"2016-01-15T00:00:00\",\"2016-01-15T00:00:00\",\"2016-01-15T00:00:00\",\"2016-01-15T00:00:00\",\"2016-01-15T00:00:00\",\"2016-01-15T00:00:00\",\"2016-01-15T00:00:00\",\"2016-01-15T00:00:00\",\"2016-01-15T00:00:00\",\"2016-01-15T00:00:00\",\"2016-01-15T00:00:00\",\"2016-01-15T00:00:00\",\"2016-01-15T00:00:00\",\"2016-01-15T00:00:00\",\"2016-01-15T00:00:00\",\"2016-01-15T00:00:00\",\"2016-01-15T00:00:00\",\"2016-01-15T00:00:00\",\"2016-01-15T00:00:00\",\"2016-01-15T00:00:00\",\"2016-01-15T00:00:00\",\"2016-01-15T00:00:00\",\"2016-01-15T00:00:00\",\"2016-01-15T00:00:00\",\"2016-01-15T00:00:00\",\"2016-01-15T00:00:00\",\"2016-01-15T00:00:00\",\"2016-01-15T00:00:00\",\"2016-01-15T00:00:00\",\"2016-01-15T00:00:00\",\"2016-01-15T00:00:00\",\"2016-01-15T00:00:00\",\"2016-01-15T00:00:00\",\"2016-01-15T00:00:00\",\"2016-01-15T00:00:00\",\"2016-01-15T00:00:00\",\"2016-01-15T00:00:00\",\"2016-01-15T00:00:00\",\"2016-01-15T00:00:00\",\"2016-01-15T00:00:00\",\"2016-01-15T00:00:00\",\"2016-01-15T00:00:00\",\"2016-01-15T00:00:00\",\"2016-01-15T00:00:00\",\"2016-01-15T00:00:00\",\"2016-01-15T00:00:00\",\"2016-01-15T00:00:00\",\"2016-01-15T00:00:00\",\"2016-02-15T00:00:00\",\"2016-02-15T00:00:00\",\"2016-02-15T00:00:00\",\"2016-02-15T00:00:00\",\"2016-02-15T00:00:00\",\"2016-02-15T00:00:00\",\"2016-02-15T00:00:00\",\"2016-02-15T00:00:00\",\"2016-02-15T00:00:00\",\"2016-02-15T00:00:00\",\"2016-02-15T00:00:00\",\"2016-02-15T00:00:00\",\"2016-02-15T00:00:00\",\"2016-02-15T00:00:00\",\"2016-02-15T00:00:00\",\"2016-02-15T00:00:00\",\"2016-02-15T00:00:00\",\"2016-02-15T00:00:00\",\"2016-02-15T00:00:00\",\"2016-02-15T00:00:00\",\"2016-02-15T00:00:00\",\"2016-02-15T00:00:00\",\"2016-02-15T00:00:00\",\"2016-02-15T00:00:00\",\"2016-02-15T00:00:00\",\"2016-02-15T00:00:00\",\"2016-02-15T00:00:00\",\"2016-02-15T00:00:00\",\"2016-02-15T00:00:00\",\"2016-02-15T00:00:00\",\"2016-02-15T00:00:00\",\"2016-02-15T00:00:00\",\"2016-02-15T00:00:00\",\"2016-02-15T00:00:00\",\"2016-02-15T00:00:00\",\"2016-02-15T00:00:00\",\"2016-02-15T00:00:00\",\"2016-02-15T00:00:00\",\"2016-02-15T00:00:00\",\"2016-02-15T00:00:00\",\"2016-02-15T00:00:00\",\"2016-02-15T00:00:00\",\"2016-02-15T00:00:00\",\"2016-02-15T00:00:00\",\"2016-02-15T00:00:00\",\"2016-02-15T00:00:00\",\"2016-02-15T00:00:00\",\"2016-02-15T00:00:00\",\"2016-02-15T00:00:00\",\"2016-02-15T00:00:00\",\"2016-02-15T00:00:00\",\"2016-02-15T00:00:00\",\"2016-02-15T00:00:00\",\"2016-02-15T00:00:00\",\"2016-02-15T00:00:00\",\"2016-02-15T00:00:00\",\"2016-02-15T00:00:00\",\"2016-02-15T00:00:00\",\"2016-02-15T00:00:00\",\"2016-02-15T00:00:00\",\"2016-02-15T00:00:00\",\"2016-02-15T00:00:00\",\"2016-02-15T00:00:00\",\"2016-02-15T00:00:00\",\"2016-02-15T00:00:00\",\"2016-02-15T00:00:00\",\"2016-02-15T00:00:00\",\"2016-02-15T00:00:00\",\"2016-02-15T00:00:00\",\"2016-03-15T00:00:00\",\"2016-03-15T00:00:00\",\"2016-03-15T00:00:00\",\"2016-03-15T00:00:00\",\"2016-03-15T00:00:00\",\"2016-03-15T00:00:00\",\"2016-03-15T00:00:00\",\"2016-03-15T00:00:00\",\"2016-03-15T00:00:00\",\"2016-03-15T00:00:00\",\"2016-03-15T00:00:00\",\"2016-03-15T00:00:00\",\"2016-03-15T00:00:00\",\"2016-03-15T00:00:00\",\"2016-03-15T00:00:00\",\"2016-03-15T00:00:00\",\"2016-03-15T00:00:00\",\"2016-03-15T00:00:00\",\"2016-03-15T00:00:00\",\"2016-03-15T00:00:00\",\"2016-03-15T00:00:00\",\"2016-03-15T00:00:00\",\"2016-03-15T00:00:00\",\"2016-03-15T00:00:00\",\"2016-03-15T00:00:00\",\"2016-03-15T00:00:00\",\"2016-03-15T00:00:00\",\"2016-03-15T00:00:00\",\"2016-03-15T00:00:00\",\"2016-03-15T00:00:00\",\"2016-03-15T00:00:00\",\"2016-03-15T00:00:00\",\"2016-03-15T00:00:00\",\"2016-03-15T00:00:00\",\"2016-03-15T00:00:00\",\"2016-03-15T00:00:00\",\"2016-03-15T00:00:00\",\"2016-03-15T00:00:00\",\"2016-03-15T00:00:00\",\"2016-03-15T00:00:00\",\"2016-03-15T00:00:00\",\"2016-03-15T00:00:00\",\"2016-03-15T00:00:00\",\"2016-03-15T00:00:00\",\"2016-03-15T00:00:00\",\"2016-03-15T00:00:00\",\"2016-03-15T00:00:00\",\"2016-03-15T00:00:00\",\"2016-03-15T00:00:00\",\"2016-03-15T00:00:00\",\"2016-03-15T00:00:00\",\"2016-03-15T00:00:00\",\"2016-03-15T00:00:00\",\"2016-03-15T00:00:00\",\"2016-03-15T00:00:00\",\"2016-03-15T00:00:00\",\"2016-03-15T00:00:00\",\"2016-03-15T00:00:00\",\"2016-03-15T00:00:00\",\"2016-03-15T00:00:00\",\"2016-03-15T00:00:00\",\"2016-03-15T00:00:00\",\"2016-03-15T00:00:00\",\"2016-03-15T00:00:00\",\"2016-03-15T00:00:00\",\"2016-03-15T00:00:00\",\"2016-03-15T00:00:00\",\"2016-03-15T00:00:00\",\"2016-03-15T00:00:00\",\"2016-03-15T00:00:00\",\"2016-03-15T00:00:00\",\"2016-03-15T00:00:00\",\"2016-03-15T00:00:00\",\"2016-03-15T00:00:00\",\"2016-03-15T00:00:00\",\"2016-03-15T00:00:00\",\"2016-03-15T00:00:00\",\"2016-04-15T00:00:00\",\"2016-04-15T00:00:00\",\"2016-04-15T00:00:00\",\"2016-04-15T00:00:00\",\"2016-04-15T00:00:00\",\"2016-04-15T00:00:00\",\"2016-04-15T00:00:00\",\"2016-04-15T00:00:00\",\"2016-04-15T00:00:00\",\"2016-04-15T00:00:00\",\"2016-04-15T00:00:00\",\"2016-04-15T00:00:00\",\"2016-04-15T00:00:00\",\"2016-04-15T00:00:00\",\"2016-04-15T00:00:00\",\"2016-04-15T00:00:00\",\"2016-04-15T00:00:00\",\"2016-04-15T00:00:00\",\"2016-04-15T00:00:00\",\"2016-04-15T00:00:00\",\"2016-04-15T00:00:00\",\"2016-04-15T00:00:00\",\"2016-04-15T00:00:00\",\"2016-04-15T00:00:00\",\"2016-04-15T00:00:00\",\"2016-04-15T00:00:00\",\"2016-04-15T00:00:00\",\"2016-04-15T00:00:00\",\"2016-04-15T00:00:00\",\"2016-04-15T00:00:00\",\"2016-04-15T00:00:00\",\"2016-04-15T00:00:00\",\"2016-04-15T00:00:00\",\"2016-04-15T00:00:00\",\"2016-04-15T00:00:00\",\"2016-04-15T00:00:00\",\"2016-04-15T00:00:00\",\"2016-04-15T00:00:00\",\"2016-04-15T00:00:00\",\"2016-04-15T00:00:00\",\"2016-04-15T00:00:00\",\"2016-04-15T00:00:00\",\"2016-04-15T00:00:00\",\"2016-04-15T00:00:00\",\"2016-04-15T00:00:00\",\"2016-04-15T00:00:00\",\"2016-04-15T00:00:00\",\"2016-04-15T00:00:00\",\"2016-04-15T00:00:00\",\"2016-04-15T00:00:00\",\"2016-04-15T00:00:00\",\"2016-04-15T00:00:00\",\"2016-04-15T00:00:00\",\"2016-04-15T00:00:00\",\"2016-04-15T00:00:00\",\"2016-04-15T00:00:00\",\"2016-04-15T00:00:00\",\"2016-04-15T00:00:00\",\"2016-04-15T00:00:00\",\"2016-04-15T00:00:00\",\"2016-04-15T00:00:00\",\"2016-04-15T00:00:00\",\"2016-04-15T00:00:00\",\"2016-04-15T00:00:00\",\"2016-04-15T00:00:00\",\"2016-04-15T00:00:00\",\"2016-04-15T00:00:00\",\"2016-04-15T00:00:00\",\"2016-04-15T00:00:00\",\"2016-04-15T00:00:00\",\"2016-04-15T00:00:00\",\"2016-04-15T00:00:00\",\"2016-04-15T00:00:00\",\"2016-04-15T00:00:00\",\"2016-04-15T00:00:00\",\"2016-04-15T00:00:00\",\"2016-04-15T00:00:00\",\"2016-05-15T00:00:00\",\"2016-05-15T00:00:00\",\"2016-05-15T00:00:00\",\"2016-05-15T00:00:00\",\"2016-05-15T00:00:00\",\"2016-05-15T00:00:00\",\"2016-05-15T00:00:00\",\"2016-05-15T00:00:00\",\"2016-05-15T00:00:00\",\"2016-05-15T00:00:00\",\"2016-05-15T00:00:00\",\"2016-05-15T00:00:00\",\"2016-05-15T00:00:00\",\"2016-05-15T00:00:00\",\"2016-05-15T00:00:00\",\"2016-05-15T00:00:00\",\"2016-05-15T00:00:00\",\"2016-05-15T00:00:00\",\"2016-05-15T00:00:00\",\"2016-05-15T00:00:00\",\"2016-05-15T00:00:00\",\"2016-05-15T00:00:00\",\"2016-05-15T00:00:00\",\"2016-05-15T00:00:00\",\"2016-05-15T00:00:00\",\"2016-05-15T00:00:00\",\"2016-05-15T00:00:00\",\"2016-05-15T00:00:00\",\"2016-05-15T00:00:00\",\"2016-05-15T00:00:00\",\"2016-05-15T00:00:00\",\"2016-05-15T00:00:00\",\"2016-05-15T00:00:00\",\"2016-05-15T00:00:00\",\"2016-05-15T00:00:00\",\"2016-05-15T00:00:00\",\"2016-05-15T00:00:00\",\"2016-05-15T00:00:00\",\"2016-05-15T00:00:00\",\"2016-05-15T00:00:00\",\"2016-05-15T00:00:00\",\"2016-05-15T00:00:00\",\"2016-05-15T00:00:00\",\"2016-05-15T00:00:00\",\"2016-05-15T00:00:00\",\"2016-05-15T00:00:00\",\"2016-05-15T00:00:00\",\"2016-05-15T00:00:00\",\"2016-05-15T00:00:00\",\"2016-05-15T00:00:00\",\"2016-05-15T00:00:00\",\"2016-05-15T00:00:00\",\"2016-05-15T00:00:00\",\"2016-05-15T00:00:00\",\"2016-05-15T00:00:00\",\"2016-05-15T00:00:00\",\"2016-05-15T00:00:00\",\"2016-05-15T00:00:00\",\"2016-05-15T00:00:00\",\"2016-05-15T00:00:00\",\"2016-05-15T00:00:00\",\"2016-05-15T00:00:00\",\"2016-05-15T00:00:00\",\"2016-05-15T00:00:00\",\"2016-05-15T00:00:00\",\"2016-05-15T00:00:00\",\"2016-05-15T00:00:00\",\"2016-05-15T00:00:00\",\"2016-05-15T00:00:00\",\"2016-05-15T00:00:00\",\"2016-05-15T00:00:00\",\"2016-05-15T00:00:00\",\"2016-05-15T00:00:00\",\"2016-05-15T00:00:00\",\"2016-05-15T00:00:00\",\"2016-05-15T00:00:00\",\"2016-06-15T00:00:00\",\"2016-06-15T00:00:00\",\"2016-06-15T00:00:00\",\"2016-06-15T00:00:00\",\"2016-06-15T00:00:00\",\"2016-06-15T00:00:00\",\"2016-06-15T00:00:00\",\"2016-06-15T00:00:00\",\"2016-06-15T00:00:00\",\"2016-06-15T00:00:00\",\"2016-06-15T00:00:00\",\"2016-06-15T00:00:00\",\"2016-06-15T00:00:00\",\"2016-06-15T00:00:00\",\"2016-06-15T00:00:00\",\"2016-06-15T00:00:00\",\"2016-06-15T00:00:00\",\"2016-06-15T00:00:00\",\"2016-06-15T00:00:00\",\"2016-06-15T00:00:00\",\"2016-06-15T00:00:00\",\"2016-06-15T00:00:00\",\"2016-06-15T00:00:00\",\"2016-06-15T00:00:00\",\"2016-06-15T00:00:00\",\"2016-06-15T00:00:00\",\"2016-06-15T00:00:00\",\"2016-06-15T00:00:00\",\"2016-06-15T00:00:00\",\"2016-06-15T00:00:00\",\"2016-06-15T00:00:00\",\"2016-06-15T00:00:00\",\"2016-06-15T00:00:00\",\"2016-06-15T00:00:00\",\"2016-06-15T00:00:00\",\"2016-06-15T00:00:00\",\"2016-06-15T00:00:00\",\"2016-06-15T00:00:00\",\"2016-06-15T00:00:00\",\"2016-06-15T00:00:00\",\"2016-06-15T00:00:00\",\"2016-06-15T00:00:00\",\"2016-06-15T00:00:00\",\"2016-06-15T00:00:00\",\"2016-06-15T00:00:00\",\"2016-06-15T00:00:00\",\"2016-06-15T00:00:00\",\"2016-06-15T00:00:00\",\"2016-06-15T00:00:00\",\"2016-06-15T00:00:00\",\"2016-06-15T00:00:00\",\"2016-06-15T00:00:00\",\"2016-06-15T00:00:00\",\"2016-06-15T00:00:00\",\"2016-06-15T00:00:00\",\"2016-06-15T00:00:00\",\"2016-06-15T00:00:00\",\"2016-06-15T00:00:00\",\"2016-06-15T00:00:00\",\"2016-06-15T00:00:00\",\"2016-06-15T00:00:00\",\"2016-06-15T00:00:00\",\"2016-06-15T00:00:00\",\"2016-06-15T00:00:00\",\"2016-06-15T00:00:00\",\"2016-06-15T00:00:00\",\"2016-06-15T00:00:00\",\"2016-06-15T00:00:00\",\"2016-06-15T00:00:00\",\"2016-06-15T00:00:00\",\"2016-06-15T00:00:00\",\"2016-06-15T00:00:00\",\"2016-06-15T00:00:00\",\"2016-06-15T00:00:00\",\"2016-06-15T00:00:00\",\"2016-06-15T00:00:00\",\"2016-07-15T00:00:00\",\"2016-07-15T00:00:00\",\"2016-07-15T00:00:00\",\"2016-07-15T00:00:00\",\"2016-07-15T00:00:00\",\"2016-07-15T00:00:00\",\"2016-07-15T00:00:00\",\"2016-07-15T00:00:00\",\"2016-07-15T00:00:00\",\"2016-07-15T00:00:00\",\"2016-07-15T00:00:00\",\"2016-07-15T00:00:00\",\"2016-07-15T00:00:00\",\"2016-07-15T00:00:00\",\"2016-07-15T00:00:00\",\"2016-07-15T00:00:00\",\"2016-07-15T00:00:00\",\"2016-07-15T00:00:00\",\"2016-07-15T00:00:00\",\"2016-07-15T00:00:00\",\"2016-07-15T00:00:00\",\"2016-07-15T00:00:00\",\"2016-07-15T00:00:00\",\"2016-07-15T00:00:00\",\"2016-07-15T00:00:00\",\"2016-07-15T00:00:00\",\"2016-07-15T00:00:00\",\"2016-07-15T00:00:00\",\"2016-07-15T00:00:00\",\"2016-07-15T00:00:00\",\"2016-07-15T00:00:00\",\"2016-07-15T00:00:00\",\"2016-07-15T00:00:00\",\"2016-07-15T00:00:00\",\"2016-07-15T00:00:00\",\"2016-07-15T00:00:00\",\"2016-07-15T00:00:00\",\"2016-07-15T00:00:00\",\"2016-07-15T00:00:00\",\"2016-07-15T00:00:00\",\"2016-07-15T00:00:00\",\"2016-07-15T00:00:00\",\"2016-07-15T00:00:00\",\"2016-07-15T00:00:00\",\"2016-07-15T00:00:00\",\"2016-07-15T00:00:00\",\"2016-07-15T00:00:00\",\"2016-07-15T00:00:00\",\"2016-07-15T00:00:00\",\"2016-07-15T00:00:00\",\"2016-07-15T00:00:00\",\"2016-07-15T00:00:00\",\"2016-07-15T00:00:00\",\"2016-07-15T00:00:00\",\"2016-07-15T00:00:00\",\"2016-07-15T00:00:00\",\"2016-08-15T00:00:00\",\"2016-08-15T00:00:00\",\"2016-08-15T00:00:00\",\"2016-08-15T00:00:00\",\"2016-08-15T00:00:00\",\"2016-08-15T00:00:00\",\"2016-08-15T00:00:00\",\"2016-08-15T00:00:00\",\"2016-08-15T00:00:00\",\"2016-08-15T00:00:00\",\"2016-08-15T00:00:00\",\"2016-08-15T00:00:00\",\"2016-08-15T00:00:00\",\"2016-08-15T00:00:00\",\"2016-08-15T00:00:00\",\"2016-08-15T00:00:00\",\"2016-08-15T00:00:00\",\"2016-08-15T00:00:00\",\"2016-08-15T00:00:00\",\"2016-08-15T00:00:00\",\"2016-08-15T00:00:00\",\"2016-08-15T00:00:00\",\"2016-08-15T00:00:00\",\"2016-08-15T00:00:00\",\"2016-08-15T00:00:00\",\"2016-08-15T00:00:00\",\"2016-08-15T00:00:00\",\"2016-08-15T00:00:00\",\"2016-08-15T00:00:00\",\"2016-08-15T00:00:00\",\"2016-08-15T00:00:00\",\"2016-08-15T00:00:00\",\"2016-08-15T00:00:00\",\"2016-08-15T00:00:00\",\"2016-08-15T00:00:00\",\"2016-08-15T00:00:00\",\"2016-08-15T00:00:00\",\"2016-08-15T00:00:00\",\"2016-08-15T00:00:00\",\"2016-08-15T00:00:00\",\"2016-08-15T00:00:00\",\"2016-08-15T00:00:00\",\"2016-08-15T00:00:00\",\"2016-08-15T00:00:00\",\"2016-08-15T00:00:00\",\"2016-08-15T00:00:00\",\"2016-08-15T00:00:00\",\"2016-08-15T00:00:00\",\"2016-08-15T00:00:00\",\"2016-08-15T00:00:00\",\"2016-08-15T00:00:00\",\"2016-08-15T00:00:00\",\"2016-08-15T00:00:00\",\"2016-08-15T00:00:00\",\"2016-08-15T00:00:00\",\"2016-08-15T00:00:00\",\"2016-08-15T00:00:00\",\"2016-08-15T00:00:00\",\"2016-09-15T00:00:00\",\"2016-09-15T00:00:00\",\"2016-09-15T00:00:00\",\"2016-09-15T00:00:00\",\"2016-09-15T00:00:00\",\"2016-09-15T00:00:00\",\"2016-09-15T00:00:00\",\"2016-09-15T00:00:00\",\"2016-09-15T00:00:00\",\"2016-09-15T00:00:00\",\"2016-09-15T00:00:00\",\"2016-09-15T00:00:00\",\"2016-09-15T00:00:00\",\"2016-09-15T00:00:00\",\"2016-09-15T00:00:00\",\"2016-09-15T00:00:00\",\"2016-09-15T00:00:00\",\"2016-09-15T00:00:00\",\"2016-09-15T00:00:00\",\"2016-09-15T00:00:00\",\"2016-09-15T00:00:00\",\"2016-09-15T00:00:00\",\"2016-09-15T00:00:00\",\"2016-09-15T00:00:00\",\"2016-09-15T00:00:00\",\"2016-09-15T00:00:00\",\"2016-09-15T00:00:00\",\"2016-09-15T00:00:00\",\"2016-09-15T00:00:00\",\"2016-09-15T00:00:00\",\"2016-09-15T00:00:00\",\"2016-09-15T00:00:00\",\"2016-09-15T00:00:00\",\"2016-09-15T00:00:00\",\"2016-09-15T00:00:00\",\"2016-09-15T00:00:00\",\"2016-09-15T00:00:00\",\"2016-09-15T00:00:00\",\"2016-09-15T00:00:00\",\"2016-09-15T00:00:00\",\"2016-09-15T00:00:00\",\"2016-09-15T00:00:00\",\"2016-09-15T00:00:00\",\"2016-09-15T00:00:00\",\"2016-09-15T00:00:00\",\"2016-09-15T00:00:00\",\"2016-09-15T00:00:00\",\"2016-09-15T00:00:00\",\"2016-09-15T00:00:00\",\"2016-09-15T00:00:00\",\"2016-09-15T00:00:00\",\"2016-09-15T00:00:00\",\"2016-09-15T00:00:00\",\"2016-09-15T00:00:00\",\"2016-09-15T00:00:00\",\"2016-09-15T00:00:00\",\"2016-09-15T00:00:00\",\"2016-09-15T00:00:00\",\"2016-09-15T00:00:00\",\"2016-09-15T00:00:00\",\"2016-09-15T00:00:00\",\"2016-09-15T00:00:00\",\"2016-09-15T00:00:00\",\"2016-09-15T00:00:00\",\"2016-09-15T00:00:00\",\"2016-09-15T00:00:00\",\"2016-09-15T00:00:00\",\"2016-10-15T00:00:00\",\"2016-10-15T00:00:00\",\"2016-10-15T00:00:00\",\"2016-10-15T00:00:00\",\"2016-10-15T00:00:00\",\"2016-10-15T00:00:00\",\"2016-10-15T00:00:00\",\"2016-10-15T00:00:00\",\"2016-10-15T00:00:00\",\"2016-10-15T00:00:00\",\"2016-10-15T00:00:00\",\"2016-10-15T00:00:00\",\"2016-10-15T00:00:00\",\"2016-10-15T00:00:00\",\"2016-10-15T00:00:00\",\"2016-10-15T00:00:00\",\"2016-10-15T00:00:00\",\"2016-10-15T00:00:00\",\"2016-10-15T00:00:00\",\"2016-10-15T00:00:00\",\"2016-10-15T00:00:00\",\"2016-10-15T00:00:00\",\"2016-10-15T00:00:00\",\"2016-10-15T00:00:00\",\"2016-10-15T00:00:00\",\"2016-10-15T00:00:00\",\"2016-10-15T00:00:00\",\"2016-10-15T00:00:00\",\"2016-10-15T00:00:00\",\"2016-10-15T00:00:00\",\"2016-10-15T00:00:00\",\"2016-10-15T00:00:00\",\"2016-10-15T00:00:00\",\"2016-10-15T00:00:00\",\"2016-10-15T00:00:00\",\"2016-10-15T00:00:00\",\"2016-10-15T00:00:00\",\"2016-10-15T00:00:00\",\"2016-10-15T00:00:00\",\"2016-10-15T00:00:00\",\"2016-10-15T00:00:00\",\"2016-10-15T00:00:00\",\"2016-10-15T00:00:00\",\"2016-10-15T00:00:00\",\"2016-10-15T00:00:00\",\"2016-10-15T00:00:00\",\"2016-10-15T00:00:00\",\"2016-10-15T00:00:00\",\"2016-10-15T00:00:00\",\"2016-10-15T00:00:00\",\"2016-10-15T00:00:00\",\"2016-10-15T00:00:00\",\"2016-10-15T00:00:00\",\"2016-10-15T00:00:00\",\"2016-10-15T00:00:00\",\"2016-10-15T00:00:00\",\"2016-11-15T00:00:00\",\"2016-11-15T00:00:00\",\"2016-11-15T00:00:00\",\"2016-11-15T00:00:00\",\"2016-11-15T00:00:00\",\"2016-11-15T00:00:00\",\"2016-11-15T00:00:00\",\"2016-11-15T00:00:00\",\"2016-11-15T00:00:00\",\"2016-11-15T00:00:00\",\"2016-11-15T00:00:00\",\"2016-11-15T00:00:00\",\"2016-11-15T00:00:00\",\"2016-11-15T00:00:00\",\"2016-11-15T00:00:00\",\"2016-11-15T00:00:00\",\"2016-11-15T00:00:00\",\"2016-11-15T00:00:00\",\"2016-11-15T00:00:00\",\"2016-11-15T00:00:00\",\"2016-11-15T00:00:00\",\"2016-12-15T00:00:00\",\"2016-12-15T00:00:00\",\"2016-12-15T00:00:00\",\"2016-12-15T00:00:00\",\"2016-12-15T00:00:00\",\"2016-12-15T00:00:00\",\"2016-12-15T00:00:00\",\"2016-12-15T00:00:00\",\"2016-12-15T00:00:00\",\"2016-12-15T00:00:00\",\"2016-12-15T00:00:00\",\"2016-12-15T00:00:00\",\"2016-12-15T00:00:00\",\"2016-12-15T00:00:00\",\"2016-12-15T00:00:00\",\"2016-12-15T00:00:00\",\"2016-12-15T00:00:00\",\"2016-12-15T00:00:00\",\"2016-12-15T00:00:00\",\"2016-12-15T00:00:00\",\"2016-12-15T00:00:00\",\"2016-12-15T00:00:00\",\"2016-12-15T00:00:00\",\"2016-12-15T00:00:00\",\"2016-12-15T00:00:00\",\"2016-12-15T00:00:00\",\"2016-12-15T00:00:00\",\"2016-12-15T00:00:00\",\"2016-12-15T00:00:00\",\"2016-12-15T00:00:00\",\"2016-12-15T00:00:00\",\"2016-12-15T00:00:00\",\"2016-12-15T00:00:00\",\"2016-12-15T00:00:00\",\"2016-12-15T00:00:00\",\"2016-12-15T00:00:00\",\"2016-12-15T00:00:00\",\"2016-12-15T00:00:00\",\"2016-12-15T00:00:00\",\"2016-12-15T00:00:00\",\"2016-12-15T00:00:00\",\"2016-12-15T00:00:00\",\"2016-12-15T00:00:00\",\"2016-12-15T00:00:00\",\"2016-12-15T00:00:00\",\"2016-12-15T00:00:00\",\"2016-12-15T00:00:00\",\"2016-12-15T00:00:00\",\"2016-12-15T00:00:00\",\"2016-12-15T00:00:00\",\"2016-12-15T00:00:00\",\"2016-12-15T00:00:00\",\"2016-12-15T00:00:00\",\"2016-12-15T00:00:00\",\"2016-12-15T00:00:00\",\"2016-12-15T00:00:00\",\"2016-12-15T00:00:00\",\"2016-12-15T00:00:00\",\"2016-12-15T00:00:00\",\"2016-12-15T00:00:00\",\"2016-12-15T00:00:00\",\"2016-12-15T00:00:00\",\"2016-12-15T00:00:00\",\"2016-12-15T00:00:00\",\"2016-12-15T00:00:00\",\"2016-12-15T00:00:00\",\"2016-12-15T00:00:00\",\"2016-12-15T00:00:00\",\"2016-12-15T00:00:00\",\"2017-01-15T00:00:00\",\"2017-01-15T00:00:00\",\"2017-01-15T00:00:00\",\"2017-01-15T00:00:00\",\"2017-01-15T00:00:00\",\"2017-01-15T00:00:00\",\"2017-01-15T00:00:00\",\"2017-01-15T00:00:00\",\"2017-01-15T00:00:00\",\"2017-01-15T00:00:00\",\"2017-01-15T00:00:00\",\"2017-01-15T00:00:00\",\"2017-01-15T00:00:00\",\"2017-01-15T00:00:00\",\"2017-01-15T00:00:00\",\"2017-01-15T00:00:00\",\"2017-01-15T00:00:00\",\"2017-01-15T00:00:00\",\"2017-01-15T00:00:00\",\"2017-01-15T00:00:00\",\"2017-01-15T00:00:00\",\"2017-01-15T00:00:00\",\"2017-01-15T00:00:00\",\"2017-01-15T00:00:00\",\"2017-01-15T00:00:00\",\"2017-01-15T00:00:00\",\"2017-01-15T00:00:00\",\"2017-01-15T00:00:00\",\"2017-01-15T00:00:00\",\"2017-01-15T00:00:00\",\"2017-01-15T00:00:00\",\"2017-01-15T00:00:00\",\"2017-01-15T00:00:00\",\"2017-01-15T00:00:00\",\"2017-01-15T00:00:00\",\"2017-01-15T00:00:00\",\"2017-01-15T00:00:00\",\"2017-01-15T00:00:00\",\"2017-01-15T00:00:00\",\"2017-01-15T00:00:00\",\"2017-01-15T00:00:00\",\"2017-01-15T00:00:00\",\"2017-01-15T00:00:00\",\"2017-01-15T00:00:00\",\"2017-01-15T00:00:00\",\"2017-01-15T00:00:00\",\"2017-01-15T00:00:00\",\"2017-01-15T00:00:00\",\"2017-01-15T00:00:00\",\"2017-01-15T00:00:00\",\"2017-01-15T00:00:00\",\"2017-01-15T00:00:00\",\"2017-01-15T00:00:00\",\"2017-01-15T00:00:00\",\"2017-01-15T00:00:00\",\"2017-01-15T00:00:00\",\"2017-01-15T00:00:00\",\"2017-01-15T00:00:00\",\"2017-01-15T00:00:00\",\"2017-01-15T00:00:00\",\"2017-01-15T00:00:00\",\"2017-01-15T00:00:00\",\"2017-01-15T00:00:00\",\"2017-01-15T00:00:00\",\"2017-01-15T00:00:00\",\"2017-01-15T00:00:00\",\"2017-02-15T00:00:00\",\"2017-02-15T00:00:00\",\"2017-02-15T00:00:00\",\"2017-02-15T00:00:00\",\"2017-02-15T00:00:00\",\"2017-02-15T00:00:00\",\"2017-02-15T00:00:00\",\"2017-02-15T00:00:00\",\"2017-02-15T00:00:00\",\"2017-02-15T00:00:00\",\"2017-02-15T00:00:00\",\"2017-02-15T00:00:00\",\"2017-02-15T00:00:00\",\"2017-02-15T00:00:00\",\"2017-02-15T00:00:00\",\"2017-02-15T00:00:00\",\"2017-02-15T00:00:00\",\"2017-02-15T00:00:00\",\"2017-02-15T00:00:00\",\"2017-02-15T00:00:00\",\"2017-02-15T00:00:00\",\"2017-02-15T00:00:00\",\"2017-02-15T00:00:00\",\"2017-02-15T00:00:00\",\"2017-02-15T00:00:00\",\"2017-02-15T00:00:00\",\"2017-02-15T00:00:00\",\"2017-02-15T00:00:00\",\"2017-02-15T00:00:00\",\"2017-02-15T00:00:00\",\"2017-02-15T00:00:00\",\"2017-02-15T00:00:00\",\"2017-02-15T00:00:00\",\"2017-02-15T00:00:00\",\"2017-02-15T00:00:00\",\"2017-02-15T00:00:00\",\"2017-02-15T00:00:00\",\"2017-02-15T00:00:00\",\"2017-02-15T00:00:00\",\"2017-02-15T00:00:00\",\"2017-02-15T00:00:00\",\"2017-02-15T00:00:00\",\"2017-02-15T00:00:00\",\"2017-02-15T00:00:00\",\"2017-02-15T00:00:00\",\"2017-02-15T00:00:00\",\"2017-02-15T00:00:00\",\"2017-02-15T00:00:00\",\"2017-02-15T00:00:00\",\"2017-02-15T00:00:00\",\"2017-02-15T00:00:00\",\"2017-02-15T00:00:00\",\"2017-02-15T00:00:00\",\"2017-02-15T00:00:00\",\"2017-02-15T00:00:00\",\"2017-02-15T00:00:00\",\"2017-02-15T00:00:00\",\"2017-03-15T00:00:00\",\"2017-03-15T00:00:00\",\"2017-03-15T00:00:00\",\"2017-03-15T00:00:00\",\"2017-03-15T00:00:00\",\"2017-03-15T00:00:00\",\"2017-03-15T00:00:00\",\"2017-03-15T00:00:00\",\"2017-03-15T00:00:00\",\"2017-03-15T00:00:00\",\"2017-03-15T00:00:00\",\"2017-03-15T00:00:00\",\"2017-03-15T00:00:00\",\"2017-03-15T00:00:00\",\"2017-03-15T00:00:00\",\"2017-03-15T00:00:00\",\"2017-03-15T00:00:00\",\"2017-03-15T00:00:00\",\"2017-03-15T00:00:00\",\"2017-03-15T00:00:00\",\"2017-03-15T00:00:00\",\"2017-03-15T00:00:00\",\"2017-03-15T00:00:00\",\"2017-03-15T00:00:00\",\"2017-03-15T00:00:00\",\"2017-03-15T00:00:00\",\"2017-03-15T00:00:00\",\"2017-03-15T00:00:00\",\"2017-03-15T00:00:00\",\"2017-03-15T00:00:00\",\"2017-03-15T00:00:00\",\"2017-03-15T00:00:00\",\"2017-03-15T00:00:00\",\"2017-03-15T00:00:00\",\"2017-03-15T00:00:00\",\"2017-03-15T00:00:00\",\"2017-03-15T00:00:00\",\"2017-03-15T00:00:00\",\"2017-03-15T00:00:00\",\"2017-03-15T00:00:00\",\"2017-03-15T00:00:00\",\"2017-03-15T00:00:00\",\"2017-03-15T00:00:00\",\"2017-03-15T00:00:00\",\"2017-03-15T00:00:00\",\"2017-03-15T00:00:00\",\"2017-03-15T00:00:00\",\"2017-03-15T00:00:00\",\"2017-03-15T00:00:00\",\"2017-03-15T00:00:00\",\"2017-03-15T00:00:00\",\"2017-03-15T00:00:00\",\"2017-03-15T00:00:00\",\"2017-03-15T00:00:00\",\"2017-03-15T00:00:00\",\"2017-03-15T00:00:00\",\"2017-03-15T00:00:00\",\"2017-04-15T00:00:00\",\"2017-04-15T00:00:00\",\"2017-04-15T00:00:00\",\"2017-04-15T00:00:00\",\"2017-04-15T00:00:00\",\"2017-04-15T00:00:00\",\"2017-04-15T00:00:00\",\"2017-04-15T00:00:00\",\"2017-04-15T00:00:00\",\"2017-04-15T00:00:00\",\"2017-04-15T00:00:00\",\"2017-04-15T00:00:00\",\"2017-04-15T00:00:00\",\"2017-04-15T00:00:00\",\"2017-04-15T00:00:00\",\"2017-04-15T00:00:00\",\"2017-04-15T00:00:00\",\"2017-04-15T00:00:00\",\"2017-04-15T00:00:00\",\"2017-04-15T00:00:00\",\"2017-04-15T00:00:00\",\"2017-04-15T00:00:00\",\"2017-04-15T00:00:00\",\"2017-04-15T00:00:00\",\"2017-04-15T00:00:00\",\"2017-04-15T00:00:00\",\"2017-04-15T00:00:00\",\"2017-04-15T00:00:00\",\"2017-04-15T00:00:00\",\"2017-04-15T00:00:00\",\"2017-04-15T00:00:00\",\"2017-04-15T00:00:00\",\"2017-04-15T00:00:00\",\"2017-04-15T00:00:00\",\"2017-04-15T00:00:00\",\"2017-04-15T00:00:00\",\"2017-04-15T00:00:00\",\"2017-04-15T00:00:00\",\"2017-04-15T00:00:00\",\"2017-04-15T00:00:00\",\"2017-04-15T00:00:00\",\"2017-04-15T00:00:00\",\"2017-04-15T00:00:00\",\"2017-04-15T00:00:00\",\"2017-04-15T00:00:00\",\"2017-04-15T00:00:00\",\"2017-04-15T00:00:00\",\"2017-04-15T00:00:00\",\"2017-04-15T00:00:00\",\"2017-04-15T00:00:00\",\"2017-04-15T00:00:00\",\"2017-04-15T00:00:00\",\"2017-04-15T00:00:00\",\"2017-04-15T00:00:00\",\"2017-05-15T00:00:00\",\"2017-05-15T00:00:00\",\"2017-05-15T00:00:00\",\"2017-05-15T00:00:00\",\"2017-05-15T00:00:00\",\"2017-05-15T00:00:00\",\"2017-05-15T00:00:00\",\"2017-05-15T00:00:00\",\"2017-05-15T00:00:00\",\"2017-05-15T00:00:00\",\"2017-05-15T00:00:00\",\"2017-05-15T00:00:00\",\"2017-05-15T00:00:00\",\"2017-05-15T00:00:00\",\"2017-05-15T00:00:00\",\"2017-05-15T00:00:00\",\"2017-05-15T00:00:00\",\"2017-05-15T00:00:00\",\"2017-05-15T00:00:00\",\"2017-05-15T00:00:00\",\"2017-05-15T00:00:00\",\"2017-05-15T00:00:00\",\"2017-05-15T00:00:00\",\"2017-05-15T00:00:00\",\"2017-05-15T00:00:00\",\"2017-05-15T00:00:00\",\"2017-05-15T00:00:00\",\"2017-05-15T00:00:00\",\"2017-05-15T00:00:00\",\"2017-05-15T00:00:00\",\"2017-05-15T00:00:00\",\"2017-05-15T00:00:00\",\"2017-05-15T00:00:00\",\"2017-05-15T00:00:00\",\"2017-05-15T00:00:00\",\"2017-05-15T00:00:00\",\"2017-05-15T00:00:00\",\"2017-05-15T00:00:00\",\"2017-05-15T00:00:00\",\"2017-05-15T00:00:00\",\"2017-05-15T00:00:00\",\"2017-05-15T00:00:00\",\"2017-05-15T00:00:00\",\"2017-05-15T00:00:00\",\"2017-05-15T00:00:00\",\"2017-05-15T00:00:00\",\"2017-05-15T00:00:00\",\"2017-05-15T00:00:00\",\"2017-05-15T00:00:00\",\"2017-05-15T00:00:00\",\"2017-05-15T00:00:00\",\"2017-05-15T00:00:00\",\"2017-05-15T00:00:00\",\"2017-05-15T00:00:00\",\"2017-05-15T00:00:00\",\"2017-05-15T00:00:00\",\"2017-05-15T00:00:00\",\"2017-05-15T00:00:00\",\"2017-05-15T00:00:00\",\"2017-05-15T00:00:00\",\"2017-05-15T00:00:00\",\"2017-05-15T00:00:00\",\"2017-05-15T00:00:00\",\"2017-05-15T00:00:00\",\"2017-05-15T00:00:00\",\"2017-05-15T00:00:00\",\"2017-05-15T00:00:00\",\"2017-05-15T00:00:00\",\"2017-06-15T00:00:00\",\"2017-06-15T00:00:00\",\"2017-06-15T00:00:00\",\"2017-06-15T00:00:00\",\"2017-06-15T00:00:00\",\"2017-06-15T00:00:00\",\"2017-06-15T00:00:00\",\"2017-06-15T00:00:00\",\"2017-06-15T00:00:00\",\"2017-06-15T00:00:00\",\"2017-06-15T00:00:00\",\"2017-06-15T00:00:00\",\"2017-06-15T00:00:00\",\"2017-06-15T00:00:00\",\"2017-06-15T00:00:00\",\"2017-06-15T00:00:00\",\"2017-06-15T00:00:00\",\"2017-06-15T00:00:00\",\"2017-06-15T00:00:00\",\"2017-06-15T00:00:00\",\"2017-06-15T00:00:00\",\"2017-06-15T00:00:00\",\"2017-06-15T00:00:00\",\"2017-06-15T00:00:00\",\"2017-06-15T00:00:00\",\"2017-06-15T00:00:00\",\"2017-06-15T00:00:00\",\"2017-06-15T00:00:00\",\"2017-06-15T00:00:00\",\"2017-06-15T00:00:00\",\"2017-06-15T00:00:00\",\"2017-06-15T00:00:00\",\"2017-06-15T00:00:00\",\"2017-06-15T00:00:00\",\"2017-06-15T00:00:00\",\"2017-06-15T00:00:00\",\"2017-06-15T00:00:00\",\"2017-06-15T00:00:00\",\"2017-06-15T00:00:00\",\"2017-06-15T00:00:00\",\"2017-06-15T00:00:00\",\"2017-06-15T00:00:00\",\"2017-06-15T00:00:00\",\"2017-06-15T00:00:00\",\"2017-06-15T00:00:00\",\"2017-06-15T00:00:00\",\"2017-06-15T00:00:00\",\"2017-06-15T00:00:00\",\"2017-06-15T00:00:00\",\"2017-06-15T00:00:00\",\"2017-06-15T00:00:00\",\"2017-06-15T00:00:00\",\"2017-06-15T00:00:00\",\"2017-06-15T00:00:00\",\"2017-06-15T00:00:00\",\"2017-06-15T00:00:00\",\"2017-06-15T00:00:00\",\"2017-06-15T00:00:00\",\"2017-06-15T00:00:00\",\"2017-06-15T00:00:00\",\"2017-06-15T00:00:00\",\"2017-06-15T00:00:00\",\"2017-06-15T00:00:00\",\"2017-06-15T00:00:00\",\"2017-06-15T00:00:00\",\"2017-06-15T00:00:00\",\"2017-07-15T00:00:00\",\"2017-07-15T00:00:00\",\"2017-07-15T00:00:00\",\"2017-07-15T00:00:00\",\"2017-07-15T00:00:00\",\"2017-07-15T00:00:00\",\"2017-07-15T00:00:00\",\"2017-07-15T00:00:00\",\"2017-07-15T00:00:00\",\"2017-07-15T00:00:00\",\"2017-07-15T00:00:00\",\"2017-07-15T00:00:00\",\"2017-07-15T00:00:00\",\"2017-07-15T00:00:00\",\"2017-07-15T00:00:00\",\"2017-07-15T00:00:00\",\"2017-07-15T00:00:00\",\"2017-07-15T00:00:00\",\"2017-07-15T00:00:00\",\"2017-07-15T00:00:00\",\"2017-07-15T00:00:00\",\"2017-07-15T00:00:00\",\"2017-07-15T00:00:00\",\"2017-07-15T00:00:00\",\"2017-07-15T00:00:00\",\"2017-07-15T00:00:00\",\"2017-07-15T00:00:00\",\"2017-07-15T00:00:00\",\"2017-07-15T00:00:00\",\"2017-07-15T00:00:00\",\"2017-07-15T00:00:00\",\"2017-07-15T00:00:00\",\"2017-07-15T00:00:00\",\"2017-07-15T00:00:00\",\"2017-07-15T00:00:00\",\"2017-07-15T00:00:00\",\"2017-07-15T00:00:00\",\"2017-07-15T00:00:00\",\"2017-07-15T00:00:00\",\"2017-07-15T00:00:00\",\"2017-07-15T00:00:00\",\"2017-07-15T00:00:00\",\"2017-07-15T00:00:00\",\"2017-07-15T00:00:00\",\"2017-07-15T00:00:00\",\"2017-07-15T00:00:00\",\"2017-07-15T00:00:00\",\"2017-07-15T00:00:00\",\"2017-07-15T00:00:00\",\"2017-07-15T00:00:00\",\"2017-07-15T00:00:00\",\"2017-07-15T00:00:00\",\"2017-07-15T00:00:00\",\"2017-07-15T00:00:00\",\"2017-07-15T00:00:00\",\"2017-07-15T00:00:00\",\"2017-07-15T00:00:00\",\"2017-07-15T00:00:00\",\"2017-07-15T00:00:00\",\"2017-07-15T00:00:00\",\"2017-07-15T00:00:00\",\"2017-07-15T00:00:00\",\"2017-07-15T00:00:00\",\"2017-07-15T00:00:00\",\"2017-07-15T00:00:00\",\"2017-07-15T00:00:00\",\"2017-07-15T00:00:00\",\"2017-07-15T00:00:00\",\"2017-07-15T00:00:00\",\"2017-07-15T00:00:00\",\"2017-07-15T00:00:00\",\"2017-07-15T00:00:00\",\"2017-07-15T00:00:00\",\"2017-07-15T00:00:00\",\"2017-07-15T00:00:00\",\"2017-07-15T00:00:00\",\"2017-07-15T00:00:00\",\"2017-07-15T00:00:00\",\"2017-07-15T00:00:00\",\"2017-08-15T00:00:00\",\"2017-08-15T00:00:00\",\"2017-08-15T00:00:00\",\"2017-08-15T00:00:00\",\"2017-08-15T00:00:00\",\"2017-08-15T00:00:00\",\"2017-08-15T00:00:00\",\"2017-08-15T00:00:00\",\"2017-08-15T00:00:00\",\"2017-08-15T00:00:00\",\"2017-08-15T00:00:00\",\"2017-08-15T00:00:00\",\"2017-08-15T00:00:00\",\"2017-08-15T00:00:00\",\"2017-08-15T00:00:00\",\"2017-08-15T00:00:00\",\"2017-08-15T00:00:00\",\"2017-08-15T00:00:00\",\"2017-08-15T00:00:00\",\"2017-08-15T00:00:00\",\"2017-08-15T00:00:00\",\"2017-08-15T00:00:00\",\"2017-08-15T00:00:00\",\"2017-08-15T00:00:00\",\"2017-08-15T00:00:00\",\"2017-08-15T00:00:00\",\"2017-08-15T00:00:00\",\"2017-08-15T00:00:00\",\"2017-08-15T00:00:00\",\"2017-08-15T00:00:00\",\"2017-08-15T00:00:00\",\"2017-08-15T00:00:00\",\"2017-08-15T00:00:00\",\"2017-08-15T00:00:00\",\"2017-08-15T00:00:00\",\"2017-08-15T00:00:00\",\"2017-08-15T00:00:00\",\"2017-08-15T00:00:00\",\"2017-08-15T00:00:00\",\"2017-08-15T00:00:00\",\"2017-08-15T00:00:00\",\"2017-08-15T00:00:00\",\"2017-08-15T00:00:00\",\"2017-08-15T00:00:00\",\"2017-08-15T00:00:00\",\"2017-08-15T00:00:00\",\"2017-08-15T00:00:00\",\"2017-08-15T00:00:00\",\"2017-08-15T00:00:00\",\"2017-08-15T00:00:00\",\"2017-08-15T00:00:00\",\"2017-08-15T00:00:00\",\"2017-08-15T00:00:00\",\"2017-08-15T00:00:00\",\"2017-08-15T00:00:00\",\"2017-08-15T00:00:00\",\"2017-08-15T00:00:00\",\"2017-08-15T00:00:00\",\"2017-08-15T00:00:00\",\"2017-08-15T00:00:00\",\"2017-08-15T00:00:00\",\"2017-08-15T00:00:00\",\"2017-08-15T00:00:00\",\"2017-08-15T00:00:00\",\"2017-08-15T00:00:00\",\"2017-08-15T00:00:00\",\"2017-08-15T00:00:00\",\"2017-08-15T00:00:00\",\"2017-08-15T00:00:00\",\"2017-08-15T00:00:00\",\"2017-08-15T00:00:00\",\"2017-08-15T00:00:00\",\"2017-08-15T00:00:00\",\"2017-08-15T00:00:00\",\"2017-08-15T00:00:00\",\"2017-08-15T00:00:00\",\"2017-08-15T00:00:00\",\"2017-08-15T00:00:00\",\"2017-08-15T00:00:00\",\"2017-09-15T00:00:00\",\"2017-09-15T00:00:00\",\"2017-09-15T00:00:00\",\"2017-09-15T00:00:00\",\"2017-09-15T00:00:00\",\"2017-09-15T00:00:00\",\"2017-09-15T00:00:00\",\"2017-09-15T00:00:00\",\"2017-09-15T00:00:00\",\"2017-09-15T00:00:00\",\"2017-09-15T00:00:00\",\"2017-09-15T00:00:00\",\"2017-09-15T00:00:00\",\"2017-09-15T00:00:00\",\"2017-09-15T00:00:00\",\"2017-09-15T00:00:00\",\"2017-09-15T00:00:00\",\"2017-09-15T00:00:00\",\"2017-09-15T00:00:00\",\"2017-09-15T00:00:00\",\"2017-09-15T00:00:00\",\"2017-09-15T00:00:00\",\"2017-09-15T00:00:00\",\"2017-09-15T00:00:00\",\"2017-09-15T00:00:00\",\"2017-09-15T00:00:00\",\"2017-09-15T00:00:00\",\"2017-09-15T00:00:00\",\"2017-09-15T00:00:00\",\"2017-09-15T00:00:00\",\"2017-09-15T00:00:00\",\"2017-09-15T00:00:00\",\"2017-09-15T00:00:00\",\"2017-09-15T00:00:00\",\"2017-09-15T00:00:00\",\"2017-09-15T00:00:00\",\"2017-09-15T00:00:00\",\"2017-09-15T00:00:00\",\"2017-09-15T00:00:00\",\"2017-09-15T00:00:00\",\"2017-09-15T00:00:00\",\"2017-09-15T00:00:00\",\"2017-09-15T00:00:00\",\"2017-09-15T00:00:00\",\"2017-09-15T00:00:00\",\"2017-09-15T00:00:00\",\"2017-09-15T00:00:00\",\"2017-09-15T00:00:00\",\"2017-09-15T00:00:00\",\"2017-09-15T00:00:00\",\"2017-09-15T00:00:00\",\"2017-09-15T00:00:00\",\"2017-09-15T00:00:00\",\"2017-09-15T00:00:00\",\"2017-09-15T00:00:00\",\"2017-09-15T00:00:00\",\"2017-09-15T00:00:00\",\"2017-09-15T00:00:00\",\"2017-09-15T00:00:00\",\"2017-09-15T00:00:00\",\"2017-09-15T00:00:00\",\"2017-09-15T00:00:00\",\"2017-09-15T00:00:00\",\"2017-09-15T00:00:00\",\"2017-09-15T00:00:00\",\"2017-09-15T00:00:00\",\"2017-09-15T00:00:00\",\"2017-09-15T00:00:00\",\"2017-09-15T00:00:00\",\"2017-09-15T00:00:00\",\"2017-09-15T00:00:00\",\"2017-09-15T00:00:00\",\"2017-09-15T00:00:00\",\"2017-09-15T00:00:00\",\"2017-09-15T00:00:00\",\"2017-09-15T00:00:00\",\"2017-09-15T00:00:00\",\"2017-09-15T00:00:00\",\"2017-09-15T00:00:00\",\"2017-10-15T00:00:00\",\"2017-10-15T00:00:00\",\"2017-10-15T00:00:00\",\"2017-10-15T00:00:00\",\"2017-10-15T00:00:00\",\"2017-10-15T00:00:00\",\"2017-10-15T00:00:00\",\"2017-10-15T00:00:00\",\"2017-10-15T00:00:00\",\"2017-10-15T00:00:00\",\"2017-10-15T00:00:00\",\"2017-10-15T00:00:00\",\"2017-10-15T00:00:00\",\"2017-10-15T00:00:00\",\"2017-10-15T00:00:00\",\"2017-10-15T00:00:00\",\"2017-10-15T00:00:00\",\"2017-10-15T00:00:00\",\"2017-10-15T00:00:00\",\"2017-10-15T00:00:00\",\"2017-10-15T00:00:00\",\"2017-10-15T00:00:00\",\"2017-10-15T00:00:00\",\"2017-10-15T00:00:00\",\"2017-10-15T00:00:00\",\"2017-10-15T00:00:00\",\"2017-10-15T00:00:00\",\"2017-10-15T00:00:00\",\"2017-10-15T00:00:00\",\"2017-10-15T00:00:00\",\"2017-10-15T00:00:00\",\"2017-10-15T00:00:00\",\"2017-10-15T00:00:00\",\"2017-10-15T00:00:00\",\"2017-10-15T00:00:00\",\"2017-10-15T00:00:00\",\"2017-10-15T00:00:00\",\"2017-10-15T00:00:00\",\"2017-10-15T00:00:00\",\"2017-10-15T00:00:00\",\"2017-10-15T00:00:00\",\"2017-10-15T00:00:00\",\"2017-10-15T00:00:00\",\"2017-10-15T00:00:00\",\"2017-10-15T00:00:00\",\"2017-10-15T00:00:00\",\"2017-10-15T00:00:00\",\"2017-10-15T00:00:00\",\"2017-10-15T00:00:00\",\"2017-10-15T00:00:00\",\"2017-10-15T00:00:00\",\"2017-10-15T00:00:00\",\"2017-10-15T00:00:00\",\"2017-10-15T00:00:00\",\"2017-10-15T00:00:00\",\"2017-10-15T00:00:00\",\"2017-10-15T00:00:00\",\"2017-10-15T00:00:00\",\"2017-10-15T00:00:00\",\"2017-10-15T00:00:00\",\"2017-10-15T00:00:00\",\"2017-10-15T00:00:00\",\"2017-10-15T00:00:00\",\"2017-10-15T00:00:00\",\"2017-10-15T00:00:00\",\"2017-10-15T00:00:00\",\"2017-10-15T00:00:00\",\"2017-10-15T00:00:00\",\"2017-10-15T00:00:00\",\"2017-10-15T00:00:00\",\"2017-10-15T00:00:00\",\"2017-10-15T00:00:00\",\"2017-10-15T00:00:00\",\"2017-10-15T00:00:00\",\"2017-10-15T00:00:00\",\"2017-10-15T00:00:00\",\"2017-10-15T00:00:00\",\"2017-10-15T00:00:00\",\"2017-10-15T00:00:00\",\"2017-10-15T00:00:00\",\"2017-11-15T00:00:00\",\"2017-11-15T00:00:00\",\"2017-11-15T00:00:00\",\"2017-11-15T00:00:00\",\"2017-11-15T00:00:00\",\"2017-11-15T00:00:00\",\"2017-11-15T00:00:00\",\"2017-11-15T00:00:00\",\"2017-11-15T00:00:00\",\"2017-11-15T00:00:00\",\"2017-11-15T00:00:00\",\"2017-11-15T00:00:00\",\"2017-11-15T00:00:00\",\"2017-11-15T00:00:00\",\"2017-11-15T00:00:00\",\"2017-11-15T00:00:00\",\"2017-11-15T00:00:00\",\"2017-11-15T00:00:00\",\"2017-11-15T00:00:00\",\"2017-11-15T00:00:00\",\"2017-11-15T00:00:00\",\"2017-11-15T00:00:00\",\"2017-11-15T00:00:00\",\"2017-11-15T00:00:00\",\"2017-11-15T00:00:00\",\"2017-11-15T00:00:00\",\"2017-11-15T00:00:00\",\"2017-11-15T00:00:00\",\"2017-11-15T00:00:00\",\"2017-11-15T00:00:00\",\"2017-11-15T00:00:00\",\"2017-11-15T00:00:00\",\"2017-11-15T00:00:00\",\"2017-11-15T00:00:00\",\"2017-11-15T00:00:00\",\"2017-11-15T00:00:00\",\"2017-11-15T00:00:00\",\"2017-11-15T00:00:00\",\"2017-11-15T00:00:00\",\"2017-11-15T00:00:00\",\"2017-11-15T00:00:00\",\"2017-11-15T00:00:00\",\"2017-11-15T00:00:00\",\"2017-11-15T00:00:00\",\"2017-11-15T00:00:00\",\"2017-11-15T00:00:00\",\"2017-11-15T00:00:00\",\"2017-11-15T00:00:00\",\"2017-11-15T00:00:00\",\"2017-11-15T00:00:00\",\"2017-11-15T00:00:00\",\"2017-11-15T00:00:00\",\"2017-11-15T00:00:00\",\"2017-11-15T00:00:00\",\"2017-11-15T00:00:00\",\"2017-11-15T00:00:00\",\"2017-11-15T00:00:00\",\"2017-11-15T00:00:00\",\"2017-11-15T00:00:00\",\"2017-11-15T00:00:00\",\"2017-11-15T00:00:00\",\"2017-11-15T00:00:00\",\"2017-11-15T00:00:00\",\"2017-11-15T00:00:00\",\"2017-11-15T00:00:00\",\"2017-11-15T00:00:00\",\"2017-11-15T00:00:00\",\"2017-11-15T00:00:00\",\"2017-11-15T00:00:00\",\"2017-11-15T00:00:00\",\"2017-11-15T00:00:00\",\"2017-11-15T00:00:00\",\"2017-11-15T00:00:00\",\"2017-11-15T00:00:00\",\"2017-11-15T00:00:00\",\"2017-11-15T00:00:00\",\"2017-11-15T00:00:00\",\"2017-12-15T00:00:00\",\"2017-12-15T00:00:00\",\"2017-12-15T00:00:00\",\"2017-12-15T00:00:00\",\"2017-12-15T00:00:00\",\"2017-12-15T00:00:00\",\"2017-12-15T00:00:00\",\"2017-12-15T00:00:00\",\"2017-12-15T00:00:00\",\"2017-12-15T00:00:00\",\"2017-12-15T00:00:00\",\"2017-12-15T00:00:00\",\"2017-12-15T00:00:00\",\"2017-12-15T00:00:00\",\"2017-12-15T00:00:00\",\"2017-12-15T00:00:00\",\"2017-12-15T00:00:00\",\"2017-12-15T00:00:00\",\"2017-12-15T00:00:00\",\"2017-12-15T00:00:00\",\"2017-12-15T00:00:00\",\"2017-12-15T00:00:00\",\"2017-12-15T00:00:00\",\"2017-12-15T00:00:00\",\"2017-12-15T00:00:00\",\"2017-12-15T00:00:00\",\"2017-12-15T00:00:00\",\"2017-12-15T00:00:00\",\"2017-12-15T00:00:00\",\"2017-12-15T00:00:00\",\"2017-12-15T00:00:00\",\"2017-12-15T00:00:00\",\"2017-12-15T00:00:00\",\"2017-12-15T00:00:00\",\"2017-12-15T00:00:00\",\"2017-12-15T00:00:00\",\"2017-12-15T00:00:00\",\"2017-12-15T00:00:00\",\"2017-12-15T00:00:00\",\"2017-12-15T00:00:00\",\"2017-12-15T00:00:00\",\"2017-12-15T00:00:00\",\"2017-12-15T00:00:00\",\"2017-12-15T00:00:00\",\"2017-12-15T00:00:00\",\"2017-12-15T00:00:00\",\"2017-12-15T00:00:00\",\"2017-12-15T00:00:00\",\"2017-12-15T00:00:00\",\"2017-12-15T00:00:00\",\"2017-12-15T00:00:00\",\"2017-12-15T00:00:00\",\"2017-12-15T00:00:00\",\"2017-12-15T00:00:00\",\"2017-12-15T00:00:00\",\"2017-12-15T00:00:00\",\"2017-12-15T00:00:00\",\"2017-12-15T00:00:00\",\"2017-12-15T00:00:00\",\"2017-12-15T00:00:00\",\"2017-12-15T00:00:00\",\"2017-12-15T00:00:00\",\"2017-12-15T00:00:00\",\"2017-12-15T00:00:00\",\"2017-12-15T00:00:00\",\"2017-12-15T00:00:00\",\"2017-12-15T00:00:00\",\"2017-12-15T00:00:00\",\"2017-12-15T00:00:00\",\"2017-12-15T00:00:00\",\"2017-12-15T00:00:00\",\"2017-12-15T00:00:00\",\"2017-12-15T00:00:00\",\"2017-12-15T00:00:00\",\"2017-12-15T00:00:00\",\"2017-12-15T00:00:00\",\"2017-12-15T00:00:00\",\"2017-12-15T00:00:00\",\"2017-12-15T00:00:00\",\"2018-01-15T00:00:00\",\"2018-01-15T00:00:00\",\"2018-01-15T00:00:00\",\"2018-01-15T00:00:00\",\"2018-01-15T00:00:00\",\"2018-01-15T00:00:00\",\"2018-01-15T00:00:00\",\"2018-01-15T00:00:00\",\"2018-01-15T00:00:00\",\"2018-01-15T00:00:00\",\"2018-01-15T00:00:00\",\"2018-01-15T00:00:00\",\"2018-01-15T00:00:00\",\"2018-01-15T00:00:00\",\"2018-01-15T00:00:00\",\"2018-01-15T00:00:00\",\"2018-01-15T00:00:00\",\"2018-01-15T00:00:00\",\"2018-01-15T00:00:00\",\"2018-01-15T00:00:00\",\"2018-01-15T00:00:00\",\"2018-01-15T00:00:00\",\"2018-01-15T00:00:00\",\"2018-01-15T00:00:00\",\"2018-01-15T00:00:00\",\"2018-01-15T00:00:00\",\"2018-01-15T00:00:00\",\"2018-01-15T00:00:00\",\"2018-01-15T00:00:00\",\"2018-01-15T00:00:00\",\"2018-01-15T00:00:00\",\"2018-01-15T00:00:00\",\"2018-01-15T00:00:00\",\"2018-01-15T00:00:00\",\"2018-01-15T00:00:00\",\"2018-01-15T00:00:00\",\"2018-01-15T00:00:00\",\"2018-01-15T00:00:00\",\"2018-01-15T00:00:00\",\"2018-01-15T00:00:00\",\"2018-01-15T00:00:00\",\"2018-01-15T00:00:00\",\"2018-01-15T00:00:00\",\"2018-01-15T00:00:00\",\"2018-01-15T00:00:00\",\"2018-01-15T00:00:00\",\"2018-01-15T00:00:00\",\"2018-01-15T00:00:00\",\"2018-01-15T00:00:00\",\"2018-01-15T00:00:00\",\"2018-01-15T00:00:00\",\"2018-01-15T00:00:00\",\"2018-01-15T00:00:00\",\"2018-01-15T00:00:00\",\"2018-01-15T00:00:00\",\"2018-01-15T00:00:00\",\"2018-01-15T00:00:00\",\"2018-01-15T00:00:00\",\"2018-01-15T00:00:00\",\"2018-01-15T00:00:00\",\"2018-01-15T00:00:00\",\"2018-01-15T00:00:00\",\"2018-01-15T00:00:00\",\"2018-01-15T00:00:00\",\"2018-01-15T00:00:00\",\"2018-01-15T00:00:00\",\"2018-01-15T00:00:00\",\"2018-01-15T00:00:00\",\"2018-01-15T00:00:00\",\"2018-01-15T00:00:00\",\"2018-01-15T00:00:00\",\"2018-01-15T00:00:00\",\"2018-01-15T00:00:00\",\"2018-01-15T00:00:00\",\"2018-01-15T00:00:00\",\"2018-01-15T00:00:00\",\"2018-01-15T00:00:00\",\"2018-01-15T00:00:00\",\"2018-01-15T00:00:00\",\"2018-01-15T00:00:00\",\"2018-01-15T00:00:00\",\"2018-02-15T00:00:00\",\"2018-02-15T00:00:00\",\"2018-02-15T00:00:00\",\"2018-02-15T00:00:00\",\"2018-02-15T00:00:00\",\"2018-02-15T00:00:00\",\"2018-02-15T00:00:00\",\"2018-02-15T00:00:00\",\"2018-02-15T00:00:00\",\"2018-02-15T00:00:00\",\"2018-02-15T00:00:00\",\"2018-02-15T00:00:00\",\"2018-02-15T00:00:00\",\"2018-02-15T00:00:00\",\"2018-02-15T00:00:00\",\"2018-02-15T00:00:00\",\"2018-02-15T00:00:00\",\"2018-02-15T00:00:00\",\"2018-02-15T00:00:00\",\"2018-02-15T00:00:00\",\"2018-02-15T00:00:00\",\"2018-02-15T00:00:00\",\"2018-02-15T00:00:00\",\"2018-02-15T00:00:00\",\"2018-02-15T00:00:00\",\"2018-02-15T00:00:00\",\"2018-02-15T00:00:00\",\"2018-02-15T00:00:00\",\"2018-02-15T00:00:00\",\"2018-02-15T00:00:00\",\"2018-02-15T00:00:00\",\"2018-02-15T00:00:00\",\"2018-02-15T00:00:00\",\"2018-02-15T00:00:00\",\"2018-02-15T00:00:00\",\"2018-02-15T00:00:00\",\"2018-02-15T00:00:00\",\"2018-02-15T00:00:00\",\"2018-02-15T00:00:00\",\"2018-02-15T00:00:00\",\"2018-02-15T00:00:00\",\"2018-02-15T00:00:00\",\"2018-02-15T00:00:00\",\"2018-02-15T00:00:00\",\"2018-02-15T00:00:00\",\"2018-02-15T00:00:00\",\"2018-02-15T00:00:00\",\"2018-02-15T00:00:00\",\"2018-02-15T00:00:00\",\"2018-02-15T00:00:00\",\"2018-02-15T00:00:00\",\"2018-02-15T00:00:00\",\"2018-02-15T00:00:00\",\"2018-02-15T00:00:00\",\"2018-02-15T00:00:00\",\"2018-02-15T00:00:00\",\"2018-02-15T00:00:00\",\"2018-02-15T00:00:00\",\"2018-02-15T00:00:00\",\"2018-02-15T00:00:00\",\"2018-02-15T00:00:00\",\"2018-02-15T00:00:00\",\"2018-02-15T00:00:00\",\"2018-02-15T00:00:00\",\"2018-02-15T00:00:00\",\"2018-02-15T00:00:00\",\"2018-02-15T00:00:00\",\"2018-02-15T00:00:00\",\"2018-02-15T00:00:00\",\"2018-02-15T00:00:00\",\"2018-02-15T00:00:00\",\"2018-02-15T00:00:00\",\"2018-02-15T00:00:00\",\"2018-02-15T00:00:00\",\"2018-02-15T00:00:00\",\"2018-02-15T00:00:00\",\"2018-02-15T00:00:00\",\"2018-02-15T00:00:00\",\"2018-02-15T00:00:00\",\"2018-02-15T00:00:00\",\"2018-02-15T00:00:00\",\"2018-03-15T00:00:00\",\"2018-03-15T00:00:00\",\"2018-03-15T00:00:00\",\"2018-03-15T00:00:00\",\"2018-03-15T00:00:00\",\"2018-03-15T00:00:00\",\"2018-03-15T00:00:00\",\"2018-03-15T00:00:00\",\"2018-03-15T00:00:00\",\"2018-03-15T00:00:00\",\"2018-03-15T00:00:00\",\"2018-03-15T00:00:00\",\"2018-03-15T00:00:00\",\"2018-03-15T00:00:00\",\"2018-03-15T00:00:00\",\"2018-03-15T00:00:00\",\"2018-03-15T00:00:00\",\"2018-03-15T00:00:00\",\"2018-03-15T00:00:00\",\"2018-03-15T00:00:00\",\"2018-03-15T00:00:00\",\"2018-03-15T00:00:00\",\"2018-03-15T00:00:00\",\"2018-03-15T00:00:00\",\"2018-03-15T00:00:00\",\"2018-03-15T00:00:00\",\"2018-03-15T00:00:00\",\"2018-03-15T00:00:00\",\"2018-03-15T00:00:00\",\"2018-03-15T00:00:00\",\"2018-03-15T00:00:00\",\"2018-03-15T00:00:00\",\"2018-03-15T00:00:00\",\"2018-03-15T00:00:00\",\"2018-03-15T00:00:00\",\"2018-03-15T00:00:00\",\"2018-03-15T00:00:00\",\"2018-03-15T00:00:00\",\"2018-03-15T00:00:00\",\"2018-03-15T00:00:00\",\"2018-03-15T00:00:00\",\"2018-03-15T00:00:00\",\"2018-03-15T00:00:00\",\"2018-03-15T00:00:00\",\"2018-03-15T00:00:00\",\"2018-03-15T00:00:00\",\"2018-03-15T00:00:00\",\"2018-03-15T00:00:00\",\"2018-03-15T00:00:00\",\"2018-03-15T00:00:00\",\"2018-03-15T00:00:00\",\"2018-03-15T00:00:00\",\"2018-03-15T00:00:00\",\"2018-03-15T00:00:00\",\"2018-03-15T00:00:00\",\"2018-03-15T00:00:00\",\"2018-03-15T00:00:00\",\"2018-03-15T00:00:00\",\"2018-03-15T00:00:00\",\"2018-03-15T00:00:00\",\"2018-03-15T00:00:00\",\"2018-03-15T00:00:00\",\"2018-03-15T00:00:00\",\"2018-03-15T00:00:00\",\"2018-03-15T00:00:00\",\"2018-03-15T00:00:00\",\"2018-03-15T00:00:00\",\"2018-03-15T00:00:00\",\"2018-03-15T00:00:00\",\"2018-03-15T00:00:00\",\"2018-03-15T00:00:00\",\"2018-03-15T00:00:00\",\"2018-03-15T00:00:00\",\"2018-03-15T00:00:00\",\"2018-03-15T00:00:00\",\"2018-03-15T00:00:00\",\"2018-03-15T00:00:00\",\"2018-03-15T00:00:00\",\"2018-03-15T00:00:00\",\"2018-03-15T00:00:00\",\"2018-03-15T00:00:00\",\"2018-03-15T00:00:00\",\"2018-04-15T00:00:00\",\"2018-04-15T00:00:00\",\"2018-04-15T00:00:00\",\"2018-04-15T00:00:00\",\"2018-04-15T00:00:00\",\"2018-04-15T00:00:00\",\"2018-04-15T00:00:00\",\"2018-04-15T00:00:00\",\"2018-04-15T00:00:00\",\"2018-04-15T00:00:00\",\"2018-04-15T00:00:00\",\"2018-04-15T00:00:00\",\"2018-04-15T00:00:00\",\"2018-04-15T00:00:00\",\"2018-04-15T00:00:00\",\"2018-04-15T00:00:00\",\"2018-04-15T00:00:00\",\"2018-04-15T00:00:00\",\"2018-04-15T00:00:00\",\"2018-04-15T00:00:00\",\"2018-04-15T00:00:00\",\"2018-04-15T00:00:00\",\"2018-04-15T00:00:00\",\"2018-04-15T00:00:00\",\"2018-04-15T00:00:00\",\"2018-04-15T00:00:00\",\"2018-04-15T00:00:00\",\"2018-04-15T00:00:00\",\"2018-04-15T00:00:00\",\"2018-04-15T00:00:00\",\"2018-04-15T00:00:00\",\"2018-04-15T00:00:00\",\"2018-04-15T00:00:00\",\"2018-04-15T00:00:00\",\"2018-04-15T00:00:00\",\"2018-04-15T00:00:00\",\"2018-04-15T00:00:00\",\"2018-04-15T00:00:00\",\"2018-04-15T00:00:00\",\"2018-04-15T00:00:00\",\"2018-04-15T00:00:00\",\"2018-04-15T00:00:00\",\"2018-04-15T00:00:00\",\"2018-04-15T00:00:00\",\"2018-04-15T00:00:00\",\"2018-04-15T00:00:00\",\"2018-04-15T00:00:00\",\"2018-04-15T00:00:00\",\"2018-04-15T00:00:00\",\"2018-04-15T00:00:00\",\"2018-04-15T00:00:00\",\"2018-04-15T00:00:00\",\"2018-04-15T00:00:00\",\"2018-04-15T00:00:00\",\"2018-04-15T00:00:00\",\"2018-04-15T00:00:00\",\"2018-04-15T00:00:00\",\"2018-04-15T00:00:00\",\"2018-04-15T00:00:00\",\"2018-04-15T00:00:00\",\"2018-04-15T00:00:00\",\"2018-04-15T00:00:00\",\"2018-04-15T00:00:00\",\"2018-04-15T00:00:00\",\"2018-04-15T00:00:00\",\"2018-04-15T00:00:00\",\"2018-04-15T00:00:00\",\"2018-04-15T00:00:00\",\"2018-04-15T00:00:00\",\"2018-04-15T00:00:00\",\"2018-04-15T00:00:00\",\"2018-04-15T00:00:00\",\"2018-04-15T00:00:00\",\"2018-04-15T00:00:00\",\"2018-04-15T00:00:00\",\"2018-04-15T00:00:00\",\"2018-04-15T00:00:00\",\"2018-04-15T00:00:00\",\"2018-04-15T00:00:00\",\"2018-04-15T00:00:00\",\"2018-05-15T00:00:00\",\"2018-05-15T00:00:00\",\"2018-05-15T00:00:00\",\"2018-05-15T00:00:00\",\"2018-05-15T00:00:00\",\"2018-05-15T00:00:00\",\"2018-05-15T00:00:00\",\"2018-05-15T00:00:00\",\"2018-05-15T00:00:00\",\"2018-05-15T00:00:00\",\"2018-05-15T00:00:00\",\"2018-05-15T00:00:00\",\"2018-05-15T00:00:00\",\"2018-05-15T00:00:00\",\"2018-05-15T00:00:00\",\"2018-05-15T00:00:00\",\"2018-05-15T00:00:00\",\"2018-05-15T00:00:00\",\"2018-05-15T00:00:00\",\"2018-05-15T00:00:00\",\"2018-05-15T00:00:00\",\"2018-05-15T00:00:00\",\"2018-05-15T00:00:00\",\"2018-05-15T00:00:00\",\"2018-05-15T00:00:00\",\"2018-05-15T00:00:00\",\"2018-05-15T00:00:00\",\"2018-05-15T00:00:00\",\"2018-05-15T00:00:00\",\"2018-05-15T00:00:00\",\"2018-05-15T00:00:00\",\"2018-05-15T00:00:00\",\"2018-05-15T00:00:00\",\"2018-05-15T00:00:00\",\"2018-05-15T00:00:00\",\"2018-05-15T00:00:00\",\"2018-05-15T00:00:00\",\"2018-05-15T00:00:00\",\"2018-05-15T00:00:00\",\"2018-05-15T00:00:00\",\"2018-05-15T00:00:00\",\"2018-05-15T00:00:00\",\"2018-05-15T00:00:00\",\"2018-05-15T00:00:00\",\"2018-05-15T00:00:00\",\"2018-05-15T00:00:00\",\"2018-05-15T00:00:00\",\"2018-05-15T00:00:00\",\"2018-05-15T00:00:00\",\"2018-05-15T00:00:00\",\"2018-05-15T00:00:00\",\"2018-05-15T00:00:00\",\"2018-05-15T00:00:00\",\"2018-05-15T00:00:00\",\"2018-05-15T00:00:00\",\"2018-05-15T00:00:00\",\"2018-05-15T00:00:00\",\"2018-05-15T00:00:00\",\"2018-05-15T00:00:00\",\"2018-05-15T00:00:00\",\"2018-05-15T00:00:00\",\"2018-05-15T00:00:00\",\"2018-05-15T00:00:00\",\"2018-05-15T00:00:00\",\"2018-05-15T00:00:00\",\"2018-05-15T00:00:00\",\"2018-05-15T00:00:00\",\"2018-05-15T00:00:00\",\"2018-05-15T00:00:00\",\"2018-05-15T00:00:00\",\"2018-05-15T00:00:00\",\"2018-05-15T00:00:00\",\"2018-05-15T00:00:00\",\"2018-05-15T00:00:00\",\"2018-05-15T00:00:00\",\"2018-05-15T00:00:00\",\"2018-05-15T00:00:00\",\"2018-05-15T00:00:00\",\"2018-05-15T00:00:00\",\"2018-06-15T00:00:00\",\"2018-06-15T00:00:00\",\"2018-06-15T00:00:00\",\"2018-06-15T00:00:00\",\"2018-06-15T00:00:00\",\"2018-06-15T00:00:00\",\"2018-06-15T00:00:00\",\"2018-06-15T00:00:00\",\"2018-06-15T00:00:00\",\"2018-06-15T00:00:00\",\"2018-06-15T00:00:00\",\"2018-06-15T00:00:00\",\"2018-06-15T00:00:00\",\"2018-06-15T00:00:00\",\"2018-06-15T00:00:00\",\"2018-06-15T00:00:00\",\"2018-06-15T00:00:00\",\"2018-06-15T00:00:00\",\"2018-06-15T00:00:00\",\"2018-06-15T00:00:00\",\"2018-06-15T00:00:00\",\"2018-06-15T00:00:00\",\"2018-06-15T00:00:00\",\"2018-06-15T00:00:00\",\"2018-06-15T00:00:00\",\"2018-06-15T00:00:00\",\"2018-06-15T00:00:00\",\"2018-06-15T00:00:00\",\"2018-06-15T00:00:00\",\"2018-06-15T00:00:00\",\"2018-06-15T00:00:00\",\"2018-06-15T00:00:00\",\"2018-06-15T00:00:00\",\"2018-06-15T00:00:00\",\"2018-06-15T00:00:00\",\"2018-06-15T00:00:00\",\"2018-06-15T00:00:00\",\"2018-06-15T00:00:00\",\"2018-06-15T00:00:00\",\"2018-06-15T00:00:00\",\"2018-06-15T00:00:00\",\"2018-06-15T00:00:00\",\"2018-06-15T00:00:00\",\"2018-06-15T00:00:00\",\"2018-06-15T00:00:00\",\"2018-06-15T00:00:00\",\"2018-06-15T00:00:00\",\"2018-06-15T00:00:00\",\"2018-06-15T00:00:00\",\"2018-06-15T00:00:00\",\"2018-06-15T00:00:00\",\"2018-06-15T00:00:00\",\"2018-06-15T00:00:00\",\"2018-06-15T00:00:00\",\"2018-06-15T00:00:00\",\"2018-06-15T00:00:00\",\"2018-06-15T00:00:00\",\"2018-06-15T00:00:00\",\"2018-06-15T00:00:00\",\"2018-06-15T00:00:00\",\"2018-06-15T00:00:00\",\"2018-06-15T00:00:00\",\"2018-06-15T00:00:00\",\"2018-06-15T00:00:00\",\"2018-06-15T00:00:00\",\"2018-06-15T00:00:00\",\"2018-06-15T00:00:00\",\"2018-06-15T00:00:00\",\"2018-06-15T00:00:00\",\"2018-06-15T00:00:00\",\"2018-06-15T00:00:00\",\"2018-06-15T00:00:00\",\"2018-06-15T00:00:00\",\"2018-06-15T00:00:00\",\"2018-06-15T00:00:00\",\"2018-06-15T00:00:00\",\"2018-06-15T00:00:00\",\"2018-06-15T00:00:00\",\"2018-06-15T00:00:00\",\"2018-07-15T00:00:00\",\"2018-07-15T00:00:00\",\"2018-07-15T00:00:00\",\"2018-07-15T00:00:00\",\"2018-07-15T00:00:00\",\"2018-07-15T00:00:00\",\"2018-07-15T00:00:00\",\"2018-07-15T00:00:00\",\"2018-07-15T00:00:00\",\"2018-07-15T00:00:00\",\"2018-07-15T00:00:00\",\"2018-07-15T00:00:00\",\"2018-07-15T00:00:00\",\"2018-07-15T00:00:00\",\"2018-07-15T00:00:00\",\"2018-07-15T00:00:00\",\"2018-07-15T00:00:00\",\"2018-07-15T00:00:00\",\"2018-07-15T00:00:00\",\"2018-07-15T00:00:00\",\"2018-07-15T00:00:00\",\"2018-07-15T00:00:00\",\"2018-07-15T00:00:00\",\"2018-07-15T00:00:00\",\"2018-07-15T00:00:00\",\"2018-07-15T00:00:00\",\"2018-07-15T00:00:00\",\"2018-07-15T00:00:00\",\"2018-07-15T00:00:00\",\"2018-07-15T00:00:00\",\"2018-07-15T00:00:00\",\"2018-07-15T00:00:00\",\"2018-07-15T00:00:00\",\"2018-07-15T00:00:00\",\"2018-07-15T00:00:00\",\"2018-07-15T00:00:00\",\"2018-07-15T00:00:00\",\"2018-07-15T00:00:00\",\"2018-07-15T00:00:00\",\"2018-07-15T00:00:00\",\"2018-07-15T00:00:00\",\"2018-07-15T00:00:00\",\"2018-07-15T00:00:00\",\"2018-07-15T00:00:00\",\"2018-07-15T00:00:00\",\"2018-07-15T00:00:00\",\"2018-07-15T00:00:00\",\"2018-07-15T00:00:00\",\"2018-07-15T00:00:00\",\"2018-07-15T00:00:00\",\"2018-07-15T00:00:00\",\"2018-07-15T00:00:00\",\"2018-07-15T00:00:00\",\"2018-07-15T00:00:00\",\"2018-07-15T00:00:00\",\"2018-07-15T00:00:00\",\"2018-07-15T00:00:00\",\"2018-07-15T00:00:00\",\"2018-07-15T00:00:00\",\"2018-07-15T00:00:00\",\"2018-07-15T00:00:00\",\"2018-07-15T00:00:00\",\"2018-07-15T00:00:00\",\"2018-07-15T00:00:00\",\"2018-07-15T00:00:00\",\"2018-07-15T00:00:00\",\"2018-07-15T00:00:00\",\"2018-07-15T00:00:00\",\"2018-07-15T00:00:00\",\"2018-07-15T00:00:00\",\"2018-07-15T00:00:00\",\"2018-07-15T00:00:00\",\"2018-07-15T00:00:00\",\"2018-07-15T00:00:00\",\"2018-07-15T00:00:00\",\"2018-07-15T00:00:00\",\"2018-07-15T00:00:00\",\"2018-07-15T00:00:00\",\"2018-07-15T00:00:00\",\"2018-08-15T00:00:00\",\"2018-08-15T00:00:00\",\"2018-08-15T00:00:00\",\"2018-08-15T00:00:00\",\"2018-08-15T00:00:00\",\"2018-08-15T00:00:00\",\"2018-08-15T00:00:00\",\"2018-08-15T00:00:00\",\"2018-08-15T00:00:00\",\"2018-08-15T00:00:00\",\"2018-08-15T00:00:00\",\"2018-08-15T00:00:00\",\"2018-08-15T00:00:00\",\"2018-08-15T00:00:00\",\"2018-08-15T00:00:00\",\"2018-08-15T00:00:00\",\"2018-08-15T00:00:00\",\"2018-08-15T00:00:00\",\"2018-08-15T00:00:00\",\"2018-08-15T00:00:00\",\"2018-08-15T00:00:00\",\"2018-08-15T00:00:00\",\"2018-08-15T00:00:00\",\"2018-08-15T00:00:00\",\"2018-08-15T00:00:00\",\"2018-08-15T00:00:00\",\"2018-08-15T00:00:00\",\"2018-08-15T00:00:00\",\"2018-08-15T00:00:00\",\"2018-08-15T00:00:00\",\"2018-08-15T00:00:00\",\"2018-08-15T00:00:00\",\"2018-08-15T00:00:00\",\"2018-08-15T00:00:00\",\"2018-08-15T00:00:00\",\"2018-08-15T00:00:00\",\"2018-08-15T00:00:00\",\"2018-08-15T00:00:00\",\"2018-08-15T00:00:00\",\"2018-08-15T00:00:00\",\"2018-08-15T00:00:00\",\"2018-08-15T00:00:00\",\"2018-08-15T00:00:00\",\"2018-08-15T00:00:00\",\"2018-08-15T00:00:00\",\"2018-08-15T00:00:00\",\"2018-08-15T00:00:00\",\"2018-08-15T00:00:00\",\"2018-08-15T00:00:00\",\"2018-08-15T00:00:00\",\"2018-08-15T00:00:00\",\"2018-08-15T00:00:00\",\"2018-08-15T00:00:00\",\"2018-08-15T00:00:00\",\"2018-08-15T00:00:00\",\"2018-08-15T00:00:00\",\"2018-08-15T00:00:00\",\"2018-08-15T00:00:00\",\"2018-08-15T00:00:00\",\"2018-08-15T00:00:00\",\"2018-08-15T00:00:00\",\"2018-08-15T00:00:00\",\"2018-08-15T00:00:00\",\"2018-08-15T00:00:00\",\"2018-08-15T00:00:00\",\"2018-08-15T00:00:00\",\"2018-08-15T00:00:00\",\"2018-08-15T00:00:00\",\"2018-08-15T00:00:00\",\"2018-08-15T00:00:00\",\"2018-08-15T00:00:00\",\"2018-08-15T00:00:00\",\"2018-08-15T00:00:00\",\"2018-08-15T00:00:00\",\"2018-08-15T00:00:00\",\"2018-08-15T00:00:00\",\"2018-08-15T00:00:00\",\"2018-08-15T00:00:00\",\"2018-08-15T00:00:00\",\"2018-09-15T00:00:00\",\"2018-09-15T00:00:00\",\"2018-09-15T00:00:00\",\"2018-09-15T00:00:00\",\"2018-09-15T00:00:00\",\"2018-09-15T00:00:00\",\"2018-09-15T00:00:00\",\"2018-09-15T00:00:00\",\"2018-09-15T00:00:00\",\"2018-09-15T00:00:00\",\"2018-09-15T00:00:00\",\"2018-09-15T00:00:00\",\"2018-09-15T00:00:00\",\"2018-09-15T00:00:00\",\"2018-09-15T00:00:00\",\"2018-09-15T00:00:00\",\"2018-09-15T00:00:00\",\"2018-09-15T00:00:00\",\"2018-09-15T00:00:00\",\"2018-09-15T00:00:00\",\"2018-09-15T00:00:00\",\"2018-09-15T00:00:00\",\"2018-09-15T00:00:00\",\"2018-09-15T00:00:00\",\"2018-09-15T00:00:00\",\"2018-09-15T00:00:00\",\"2018-09-15T00:00:00\",\"2018-09-15T00:00:00\",\"2018-09-15T00:00:00\",\"2018-09-15T00:00:00\",\"2018-09-15T00:00:00\",\"2018-09-15T00:00:00\",\"2018-09-15T00:00:00\",\"2018-09-15T00:00:00\",\"2018-09-15T00:00:00\",\"2018-09-15T00:00:00\",\"2018-09-15T00:00:00\",\"2018-09-15T00:00:00\",\"2018-09-15T00:00:00\",\"2018-09-15T00:00:00\",\"2018-09-15T00:00:00\",\"2018-09-15T00:00:00\",\"2018-09-15T00:00:00\",\"2018-09-15T00:00:00\",\"2018-09-15T00:00:00\",\"2018-09-15T00:00:00\",\"2018-09-15T00:00:00\",\"2018-09-15T00:00:00\",\"2018-09-15T00:00:00\",\"2018-09-15T00:00:00\",\"2018-09-15T00:00:00\",\"2018-09-15T00:00:00\",\"2018-09-15T00:00:00\",\"2018-09-15T00:00:00\",\"2018-09-15T00:00:00\",\"2018-09-15T00:00:00\",\"2018-09-15T00:00:00\",\"2018-09-15T00:00:00\",\"2018-09-15T00:00:00\",\"2018-09-15T00:00:00\",\"2018-09-15T00:00:00\",\"2018-09-15T00:00:00\",\"2018-09-15T00:00:00\",\"2018-09-15T00:00:00\",\"2018-09-15T00:00:00\",\"2018-09-15T00:00:00\",\"2018-09-15T00:00:00\",\"2018-09-15T00:00:00\",\"2018-09-15T00:00:00\",\"2018-09-15T00:00:00\",\"2018-09-15T00:00:00\",\"2018-09-15T00:00:00\",\"2018-09-15T00:00:00\",\"2018-09-15T00:00:00\",\"2018-09-15T00:00:00\",\"2018-09-15T00:00:00\",\"2018-09-15T00:00:00\",\"2018-09-15T00:00:00\",\"2018-09-15T00:00:00\",\"2018-10-15T00:00:00\",\"2018-10-15T00:00:00\",\"2018-10-15T00:00:00\",\"2018-10-15T00:00:00\",\"2018-10-15T00:00:00\",\"2018-10-15T00:00:00\",\"2018-10-15T00:00:00\",\"2018-10-15T00:00:00\",\"2018-10-15T00:00:00\",\"2018-10-15T00:00:00\",\"2018-10-15T00:00:00\",\"2018-10-15T00:00:00\",\"2018-10-15T00:00:00\",\"2018-10-15T00:00:00\",\"2018-10-15T00:00:00\",\"2018-10-15T00:00:00\",\"2018-10-15T00:00:00\",\"2018-10-15T00:00:00\",\"2018-10-15T00:00:00\",\"2018-10-15T00:00:00\",\"2018-10-15T00:00:00\",\"2018-10-15T00:00:00\",\"2018-10-15T00:00:00\",\"2018-10-15T00:00:00\",\"2018-10-15T00:00:00\",\"2018-10-15T00:00:00\",\"2018-10-15T00:00:00\",\"2018-10-15T00:00:00\",\"2018-10-15T00:00:00\",\"2018-10-15T00:00:00\",\"2018-10-15T00:00:00\",\"2018-10-15T00:00:00\",\"2018-10-15T00:00:00\",\"2018-10-15T00:00:00\",\"2018-10-15T00:00:00\",\"2018-10-15T00:00:00\",\"2018-10-15T00:00:00\",\"2018-10-15T00:00:00\",\"2018-10-15T00:00:00\",\"2018-10-15T00:00:00\",\"2018-10-15T00:00:00\",\"2018-10-15T00:00:00\",\"2018-10-15T00:00:00\",\"2018-10-15T00:00:00\",\"2018-10-15T00:00:00\",\"2018-10-15T00:00:00\",\"2018-10-15T00:00:00\",\"2018-10-15T00:00:00\",\"2018-10-15T00:00:00\",\"2018-10-15T00:00:00\",\"2018-10-15T00:00:00\",\"2018-10-15T00:00:00\",\"2018-10-15T00:00:00\",\"2018-10-15T00:00:00\",\"2018-10-15T00:00:00\",\"2018-11-15T00:00:00\",\"2018-11-15T00:00:00\",\"2018-11-15T00:00:00\",\"2018-11-15T00:00:00\",\"2018-11-15T00:00:00\",\"2018-11-15T00:00:00\",\"2018-11-15T00:00:00\",\"2018-11-15T00:00:00\",\"2018-11-15T00:00:00\",\"2018-11-15T00:00:00\",\"2018-11-15T00:00:00\",\"2018-11-15T00:00:00\",\"2018-11-15T00:00:00\",\"2018-11-15T00:00:00\",\"2018-11-15T00:00:00\",\"2018-11-15T00:00:00\",\"2018-11-15T00:00:00\",\"2018-11-15T00:00:00\",\"2018-11-15T00:00:00\",\"2018-11-15T00:00:00\",\"2018-11-15T00:00:00\",\"2018-11-15T00:00:00\",\"2018-11-15T00:00:00\",\"2018-11-15T00:00:00\",\"2018-11-15T00:00:00\",\"2018-11-15T00:00:00\",\"2018-11-15T00:00:00\",\"2018-11-15T00:00:00\",\"2018-11-15T00:00:00\",\"2018-11-15T00:00:00\",\"2018-11-15T00:00:00\",\"2018-11-15T00:00:00\",\"2018-11-15T00:00:00\",\"2018-11-15T00:00:00\",\"2018-11-15T00:00:00\",\"2018-11-15T00:00:00\",\"2018-11-15T00:00:00\",\"2018-11-15T00:00:00\",\"2018-11-15T00:00:00\",\"2018-11-15T00:00:00\",\"2018-11-15T00:00:00\",\"2018-11-15T00:00:00\",\"2018-11-15T00:00:00\",\"2018-11-15T00:00:00\",\"2018-11-15T00:00:00\",\"2018-11-15T00:00:00\",\"2018-11-15T00:00:00\",\"2018-11-15T00:00:00\",\"2018-11-15T00:00:00\",\"2018-11-15T00:00:00\",\"2018-11-15T00:00:00\",\"2018-11-15T00:00:00\",\"2018-11-15T00:00:00\",\"2018-11-15T00:00:00\",\"2018-11-15T00:00:00\",\"2018-12-15T00:00:00\",\"2018-12-15T00:00:00\",\"2018-12-15T00:00:00\",\"2018-12-15T00:00:00\",\"2018-12-15T00:00:00\",\"2018-12-15T00:00:00\",\"2018-12-15T00:00:00\",\"2018-12-15T00:00:00\",\"2018-12-15T00:00:00\",\"2018-12-15T00:00:00\",\"2018-12-15T00:00:00\",\"2018-12-15T00:00:00\",\"2018-12-15T00:00:00\",\"2018-12-15T00:00:00\",\"2018-12-15T00:00:00\",\"2018-12-15T00:00:00\",\"2018-12-15T00:00:00\",\"2018-12-15T00:00:00\",\"2018-12-15T00:00:00\",\"2018-12-15T00:00:00\",\"2018-12-15T00:00:00\",\"2018-12-15T00:00:00\",\"2018-12-15T00:00:00\",\"2018-12-15T00:00:00\",\"2018-12-15T00:00:00\",\"2018-12-15T00:00:00\",\"2018-12-15T00:00:00\",\"2018-12-15T00:00:00\",\"2018-12-15T00:00:00\",\"2018-12-15T00:00:00\",\"2018-12-15T00:00:00\",\"2018-12-15T00:00:00\",\"2018-12-15T00:00:00\",\"2018-12-15T00:00:00\",\"2018-12-15T00:00:00\",\"2018-12-15T00:00:00\",\"2018-12-15T00:00:00\",\"2018-12-15T00:00:00\",\"2018-12-15T00:00:00\",\"2018-12-15T00:00:00\",\"2018-12-15T00:00:00\",\"2018-12-15T00:00:00\",\"2018-12-15T00:00:00\",\"2018-12-15T00:00:00\",\"2018-12-15T00:00:00\",\"2018-12-15T00:00:00\",\"2018-12-15T00:00:00\",\"2018-12-15T00:00:00\",\"2018-12-15T00:00:00\",\"2018-12-15T00:00:00\",\"2018-12-15T00:00:00\",\"2018-12-15T00:00:00\",\"2018-12-15T00:00:00\",\"2018-12-15T00:00:00\",\"2018-12-15T00:00:00\",\"2018-12-15T00:00:00\",\"2018-12-15T00:00:00\",\"2019-01-15T00:00:00\",\"2019-01-15T00:00:00\",\"2019-01-15T00:00:00\",\"2019-01-15T00:00:00\",\"2019-01-15T00:00:00\",\"2019-01-15T00:00:00\",\"2019-01-15T00:00:00\",\"2019-01-15T00:00:00\",\"2019-01-15T00:00:00\",\"2019-01-15T00:00:00\",\"2019-01-15T00:00:00\",\"2019-01-15T00:00:00\",\"2019-01-15T00:00:00\",\"2019-01-15T00:00:00\",\"2019-01-15T00:00:00\",\"2019-01-15T00:00:00\",\"2019-01-15T00:00:00\",\"2019-01-15T00:00:00\",\"2019-01-15T00:00:00\",\"2019-01-15T00:00:00\",\"2019-01-15T00:00:00\",\"2019-01-15T00:00:00\",\"2019-01-15T00:00:00\",\"2019-01-15T00:00:00\",\"2019-01-15T00:00:00\",\"2019-01-15T00:00:00\",\"2019-01-15T00:00:00\",\"2019-01-15T00:00:00\",\"2019-01-15T00:00:00\",\"2019-01-15T00:00:00\",\"2019-01-15T00:00:00\",\"2019-01-15T00:00:00\",\"2019-01-15T00:00:00\",\"2019-01-15T00:00:00\",\"2019-01-15T00:00:00\",\"2019-01-15T00:00:00\",\"2019-01-15T00:00:00\",\"2019-01-15T00:00:00\",\"2019-01-15T00:00:00\",\"2019-01-15T00:00:00\",\"2019-01-15T00:00:00\",\"2019-01-15T00:00:00\",\"2019-01-15T00:00:00\",\"2019-01-15T00:00:00\",\"2019-01-15T00:00:00\",\"2019-01-15T00:00:00\",\"2019-01-15T00:00:00\",\"2019-01-15T00:00:00\",\"2019-01-15T00:00:00\",\"2019-01-15T00:00:00\",\"2019-01-15T00:00:00\",\"2019-01-15T00:00:00\",\"2019-01-15T00:00:00\",\"2019-01-15T00:00:00\",\"2019-01-15T00:00:00\",\"2019-01-15T00:00:00\",\"2019-02-15T00:00:00\",\"2019-02-15T00:00:00\",\"2019-02-15T00:00:00\",\"2019-02-15T00:00:00\",\"2019-02-15T00:00:00\",\"2019-02-15T00:00:00\",\"2019-02-15T00:00:00\",\"2019-02-15T00:00:00\",\"2019-02-15T00:00:00\",\"2019-02-15T00:00:00\",\"2019-02-15T00:00:00\",\"2019-02-15T00:00:00\",\"2019-02-15T00:00:00\",\"2019-02-15T00:00:00\",\"2019-02-15T00:00:00\",\"2019-02-15T00:00:00\",\"2019-02-15T00:00:00\",\"2019-02-15T00:00:00\",\"2019-02-15T00:00:00\",\"2019-02-15T00:00:00\",\"2019-02-15T00:00:00\",\"2019-02-15T00:00:00\",\"2019-02-15T00:00:00\",\"2019-02-15T00:00:00\",\"2019-02-15T00:00:00\",\"2019-02-15T00:00:00\",\"2019-02-15T00:00:00\",\"2019-02-15T00:00:00\",\"2019-02-15T00:00:00\",\"2019-02-15T00:00:00\",\"2019-02-15T00:00:00\",\"2019-02-15T00:00:00\",\"2019-02-15T00:00:00\",\"2019-02-15T00:00:00\",\"2019-02-15T00:00:00\",\"2019-02-15T00:00:00\",\"2019-02-15T00:00:00\",\"2019-02-15T00:00:00\",\"2019-02-15T00:00:00\",\"2019-02-15T00:00:00\",\"2019-02-15T00:00:00\",\"2019-02-15T00:00:00\",\"2019-02-15T00:00:00\",\"2019-02-15T00:00:00\",\"2019-02-15T00:00:00\",\"2019-02-15T00:00:00\",\"2019-02-15T00:00:00\",\"2019-02-15T00:00:00\",\"2019-02-15T00:00:00\",\"2019-02-15T00:00:00\",\"2019-02-15T00:00:00\",\"2019-02-15T00:00:00\",\"2019-02-15T00:00:00\",\"2019-02-15T00:00:00\",\"2019-02-15T00:00:00\",\"2019-02-15T00:00:00\",\"2019-03-15T00:00:00\",\"2019-03-15T00:00:00\",\"2019-03-15T00:00:00\",\"2019-03-15T00:00:00\",\"2019-03-15T00:00:00\",\"2019-03-15T00:00:00\",\"2019-03-15T00:00:00\",\"2019-03-15T00:00:00\",\"2019-03-15T00:00:00\",\"2019-03-15T00:00:00\",\"2019-03-15T00:00:00\",\"2019-03-15T00:00:00\",\"2019-03-15T00:00:00\",\"2019-03-15T00:00:00\",\"2019-03-15T00:00:00\",\"2019-03-15T00:00:00\",\"2019-03-15T00:00:00\",\"2019-03-15T00:00:00\",\"2019-03-15T00:00:00\",\"2019-03-15T00:00:00\",\"2019-03-15T00:00:00\",\"2019-03-15T00:00:00\",\"2019-03-15T00:00:00\",\"2019-03-15T00:00:00\",\"2019-03-15T00:00:00\",\"2019-03-15T00:00:00\",\"2019-03-15T00:00:00\",\"2019-03-15T00:00:00\",\"2019-03-15T00:00:00\",\"2019-03-15T00:00:00\",\"2019-03-15T00:00:00\",\"2019-03-15T00:00:00\",\"2019-03-15T00:00:00\",\"2019-03-15T00:00:00\",\"2019-03-15T00:00:00\",\"2019-03-15T00:00:00\",\"2019-03-15T00:00:00\",\"2019-03-15T00:00:00\",\"2019-03-15T00:00:00\",\"2019-03-15T00:00:00\",\"2019-03-15T00:00:00\",\"2019-03-15T00:00:00\",\"2019-03-15T00:00:00\",\"2019-03-15T00:00:00\",\"2019-03-15T00:00:00\",\"2019-03-15T00:00:00\",\"2019-03-15T00:00:00\",\"2019-03-15T00:00:00\",\"2019-03-15T00:00:00\",\"2019-03-15T00:00:00\",\"2019-03-15T00:00:00\",\"2019-03-15T00:00:00\",\"2019-03-15T00:00:00\",\"2019-03-15T00:00:00\",\"2019-03-15T00:00:00\",\"2019-03-15T00:00:00\",\"2019-04-15T00:00:00\",\"2019-04-15T00:00:00\",\"2019-04-15T00:00:00\",\"2019-04-15T00:00:00\",\"2019-04-15T00:00:00\",\"2019-04-15T00:00:00\",\"2019-04-15T00:00:00\",\"2019-04-15T00:00:00\",\"2019-04-15T00:00:00\",\"2019-04-15T00:00:00\",\"2019-04-15T00:00:00\",\"2019-04-15T00:00:00\",\"2019-04-15T00:00:00\",\"2019-04-15T00:00:00\",\"2019-04-15T00:00:00\",\"2019-04-15T00:00:00\",\"2019-04-15T00:00:00\",\"2019-04-15T00:00:00\",\"2019-04-15T00:00:00\",\"2019-04-15T00:00:00\",\"2019-04-15T00:00:00\",\"2019-04-15T00:00:00\",\"2019-04-15T00:00:00\",\"2019-04-15T00:00:00\",\"2019-04-15T00:00:00\",\"2019-04-15T00:00:00\",\"2019-04-15T00:00:00\",\"2019-04-15T00:00:00\",\"2019-04-15T00:00:00\",\"2019-04-15T00:00:00\",\"2019-04-15T00:00:00\",\"2019-04-15T00:00:00\",\"2019-04-15T00:00:00\",\"2019-04-15T00:00:00\",\"2019-04-15T00:00:00\",\"2019-04-15T00:00:00\",\"2019-04-15T00:00:00\",\"2019-04-15T00:00:00\",\"2019-04-15T00:00:00\",\"2019-04-15T00:00:00\",\"2019-04-15T00:00:00\",\"2019-04-15T00:00:00\",\"2019-04-15T00:00:00\",\"2019-04-15T00:00:00\",\"2019-04-15T00:00:00\",\"2019-04-15T00:00:00\",\"2019-04-15T00:00:00\",\"2019-04-15T00:00:00\",\"2019-04-15T00:00:00\",\"2019-04-15T00:00:00\",\"2019-04-15T00:00:00\",\"2019-04-15T00:00:00\",\"2019-04-15T00:00:00\",\"2019-04-15T00:00:00\",\"2019-04-15T00:00:00\",\"2019-04-15T00:00:00\",\"2019-05-15T00:00:00\",\"2019-05-15T00:00:00\",\"2019-05-15T00:00:00\",\"2019-05-15T00:00:00\",\"2019-05-15T00:00:00\",\"2019-05-15T00:00:00\",\"2019-05-15T00:00:00\",\"2019-05-15T00:00:00\",\"2019-05-15T00:00:00\",\"2019-05-15T00:00:00\",\"2019-05-15T00:00:00\",\"2019-05-15T00:00:00\",\"2019-05-15T00:00:00\",\"2019-05-15T00:00:00\",\"2019-05-15T00:00:00\",\"2019-05-15T00:00:00\",\"2019-05-15T00:00:00\",\"2019-05-15T00:00:00\",\"2019-05-15T00:00:00\",\"2019-05-15T00:00:00\",\"2019-05-15T00:00:00\",\"2019-05-15T00:00:00\",\"2019-05-15T00:00:00\",\"2019-05-15T00:00:00\",\"2019-05-15T00:00:00\",\"2019-05-15T00:00:00\",\"2019-05-15T00:00:00\",\"2019-05-15T00:00:00\",\"2019-05-15T00:00:00\",\"2019-05-15T00:00:00\",\"2019-05-15T00:00:00\",\"2019-05-15T00:00:00\",\"2019-05-15T00:00:00\",\"2019-05-15T00:00:00\",\"2019-05-15T00:00:00\",\"2019-05-15T00:00:00\",\"2019-05-15T00:00:00\",\"2019-05-15T00:00:00\",\"2019-05-15T00:00:00\",\"2019-05-15T00:00:00\",\"2019-05-15T00:00:00\",\"2019-05-15T00:00:00\",\"2019-05-15T00:00:00\",\"2019-05-15T00:00:00\",\"2019-05-15T00:00:00\",\"2019-05-15T00:00:00\",\"2019-05-15T00:00:00\",\"2019-05-15T00:00:00\",\"2019-05-15T00:00:00\",\"2019-05-15T00:00:00\",\"2019-05-15T00:00:00\",\"2019-05-15T00:00:00\",\"2019-05-15T00:00:00\",\"2019-05-15T00:00:00\",\"2019-05-15T00:00:00\",\"2019-06-15T00:00:00\",\"2019-06-15T00:00:00\",\"2019-06-15T00:00:00\",\"2019-06-15T00:00:00\",\"2019-06-15T00:00:00\",\"2019-06-15T00:00:00\",\"2019-06-15T00:00:00\",\"2019-06-15T00:00:00\",\"2019-06-15T00:00:00\",\"2019-06-15T00:00:00\",\"2019-06-15T00:00:00\",\"2019-06-15T00:00:00\",\"2019-06-15T00:00:00\",\"2019-06-15T00:00:00\",\"2019-06-15T00:00:00\",\"2019-06-15T00:00:00\",\"2019-06-15T00:00:00\",\"2019-06-15T00:00:00\",\"2019-06-15T00:00:00\",\"2019-06-15T00:00:00\",\"2019-06-15T00:00:00\",\"2019-06-15T00:00:00\",\"2019-06-15T00:00:00\",\"2019-06-15T00:00:00\",\"2019-06-15T00:00:00\",\"2019-06-15T00:00:00\",\"2019-06-15T00:00:00\",\"2019-06-15T00:00:00\",\"2019-06-15T00:00:00\",\"2019-06-15T00:00:00\",\"2019-06-15T00:00:00\",\"2019-06-15T00:00:00\",\"2019-06-15T00:00:00\",\"2019-06-15T00:00:00\",\"2019-06-15T00:00:00\",\"2019-06-15T00:00:00\",\"2019-06-15T00:00:00\",\"2019-06-15T00:00:00\",\"2019-06-15T00:00:00\",\"2019-06-15T00:00:00\",\"2019-06-15T00:00:00\",\"2019-06-15T00:00:00\",\"2019-06-15T00:00:00\",\"2019-06-15T00:00:00\",\"2019-06-15T00:00:00\",\"2019-06-15T00:00:00\",\"2019-06-15T00:00:00\",\"2019-06-15T00:00:00\",\"2019-06-15T00:00:00\",\"2019-06-15T00:00:00\",\"2019-06-15T00:00:00\",\"2019-06-15T00:00:00\",\"2019-06-15T00:00:00\",\"2019-06-15T00:00:00\",\"2019-06-15T00:00:00\",\"2019-07-15T00:00:00\",\"2019-07-15T00:00:00\",\"2019-07-15T00:00:00\",\"2019-07-15T00:00:00\",\"2019-07-15T00:00:00\",\"2019-07-15T00:00:00\",\"2019-07-15T00:00:00\",\"2019-07-15T00:00:00\",\"2019-07-15T00:00:00\",\"2019-07-15T00:00:00\",\"2019-07-15T00:00:00\",\"2019-07-15T00:00:00\",\"2019-07-15T00:00:00\",\"2019-07-15T00:00:00\",\"2019-07-15T00:00:00\",\"2019-07-15T00:00:00\",\"2019-07-15T00:00:00\",\"2019-07-15T00:00:00\",\"2019-07-15T00:00:00\",\"2019-07-15T00:00:00\",\"2019-07-15T00:00:00\",\"2019-07-15T00:00:00\",\"2019-07-15T00:00:00\",\"2019-07-15T00:00:00\",\"2019-07-15T00:00:00\",\"2019-07-15T00:00:00\",\"2019-07-15T00:00:00\",\"2019-07-15T00:00:00\",\"2019-07-15T00:00:00\",\"2019-07-15T00:00:00\",\"2019-07-15T00:00:00\",\"2019-07-15T00:00:00\",\"2019-07-15T00:00:00\",\"2019-07-15T00:00:00\",\"2019-07-15T00:00:00\",\"2019-07-15T00:00:00\",\"2019-07-15T00:00:00\",\"2019-07-15T00:00:00\",\"2019-07-15T00:00:00\",\"2019-07-15T00:00:00\",\"2019-07-15T00:00:00\",\"2019-07-15T00:00:00\",\"2019-07-15T00:00:00\",\"2019-07-15T00:00:00\",\"2019-07-15T00:00:00\",\"2019-07-15T00:00:00\",\"2019-07-15T00:00:00\",\"2019-07-15T00:00:00\",\"2019-07-15T00:00:00\",\"2019-07-15T00:00:00\",\"2019-07-15T00:00:00\",\"2019-07-15T00:00:00\",\"2019-07-15T00:00:00\",\"2019-07-15T00:00:00\",\"2019-07-15T00:00:00\",\"2019-07-15T00:00:00\",\"2019-08-15T00:00:00\",\"2019-08-15T00:00:00\",\"2019-08-15T00:00:00\",\"2019-08-15T00:00:00\",\"2019-08-15T00:00:00\",\"2019-08-15T00:00:00\",\"2019-08-15T00:00:00\",\"2019-08-15T00:00:00\",\"2019-08-15T00:00:00\",\"2019-08-15T00:00:00\",\"2019-08-15T00:00:00\",\"2019-08-15T00:00:00\",\"2019-08-15T00:00:00\",\"2019-08-15T00:00:00\",\"2019-08-15T00:00:00\",\"2019-08-15T00:00:00\",\"2019-08-15T00:00:00\",\"2019-08-15T00:00:00\",\"2019-08-15T00:00:00\",\"2019-08-15T00:00:00\",\"2019-08-15T00:00:00\",\"2019-08-15T00:00:00\",\"2019-08-15T00:00:00\",\"2019-08-15T00:00:00\",\"2019-08-15T00:00:00\",\"2019-08-15T00:00:00\",\"2019-08-15T00:00:00\",\"2019-08-15T00:00:00\",\"2019-08-15T00:00:00\",\"2019-08-15T00:00:00\",\"2019-08-15T00:00:00\",\"2019-08-15T00:00:00\",\"2019-08-15T00:00:00\",\"2019-08-15T00:00:00\",\"2019-08-15T00:00:00\",\"2019-08-15T00:00:00\",\"2019-08-15T00:00:00\",\"2019-08-15T00:00:00\",\"2019-08-15T00:00:00\",\"2019-08-15T00:00:00\",\"2019-08-15T00:00:00\",\"2019-08-15T00:00:00\",\"2019-08-15T00:00:00\",\"2019-08-15T00:00:00\",\"2019-08-15T00:00:00\",\"2019-08-15T00:00:00\",\"2019-08-15T00:00:00\",\"2019-08-15T00:00:00\",\"2019-08-15T00:00:00\",\"2019-08-15T00:00:00\",\"2019-08-15T00:00:00\",\"2019-08-15T00:00:00\",\"2019-08-15T00:00:00\",\"2019-08-15T00:00:00\",\"2019-08-15T00:00:00\",\"2019-08-15T00:00:00\",\"2019-08-15T00:00:00\",\"2019-08-15T00:00:00\",\"2019-09-15T00:00:00\",\"2019-09-15T00:00:00\",\"2019-09-15T00:00:00\",\"2019-09-15T00:00:00\",\"2019-09-15T00:00:00\",\"2019-09-15T00:00:00\",\"2019-09-15T00:00:00\",\"2019-09-15T00:00:00\",\"2019-09-15T00:00:00\",\"2019-09-15T00:00:00\",\"2019-09-15T00:00:00\",\"2019-09-15T00:00:00\",\"2019-09-15T00:00:00\",\"2019-09-15T00:00:00\",\"2019-09-15T00:00:00\",\"2019-09-15T00:00:00\",\"2019-09-15T00:00:00\",\"2019-09-15T00:00:00\",\"2019-09-15T00:00:00\",\"2019-09-15T00:00:00\",\"2019-09-15T00:00:00\",\"2019-09-15T00:00:00\",\"2019-09-15T00:00:00\",\"2019-09-15T00:00:00\",\"2019-09-15T00:00:00\",\"2019-09-15T00:00:00\",\"2019-09-15T00:00:00\",\"2019-09-15T00:00:00\",\"2019-09-15T00:00:00\",\"2019-09-15T00:00:00\",\"2019-09-15T00:00:00\",\"2019-09-15T00:00:00\",\"2019-09-15T00:00:00\",\"2019-09-15T00:00:00\",\"2019-09-15T00:00:00\",\"2019-09-15T00:00:00\",\"2019-09-15T00:00:00\",\"2019-09-15T00:00:00\",\"2019-09-15T00:00:00\",\"2019-09-15T00:00:00\",\"2019-09-15T00:00:00\",\"2019-09-15T00:00:00\",\"2019-09-15T00:00:00\",\"2019-09-15T00:00:00\",\"2019-09-15T00:00:00\",\"2019-09-15T00:00:00\",\"2019-09-15T00:00:00\",\"2019-09-15T00:00:00\",\"2019-09-15T00:00:00\",\"2019-09-15T00:00:00\",\"2019-09-15T00:00:00\",\"2019-09-15T00:00:00\",\"2019-09-15T00:00:00\",\"2019-09-15T00:00:00\",\"2019-09-15T00:00:00\",\"2019-09-15T00:00:00\",\"2019-09-15T00:00:00\",\"2019-09-15T00:00:00\",\"2019-10-15T00:00:00\",\"2019-10-15T00:00:00\",\"2019-10-15T00:00:00\",\"2019-10-15T00:00:00\",\"2019-10-15T00:00:00\",\"2019-10-15T00:00:00\",\"2019-10-15T00:00:00\",\"2019-10-15T00:00:00\",\"2019-10-15T00:00:00\",\"2019-10-15T00:00:00\",\"2019-10-15T00:00:00\",\"2019-10-15T00:00:00\",\"2019-10-15T00:00:00\",\"2019-10-15T00:00:00\",\"2019-10-15T00:00:00\",\"2019-10-15T00:00:00\",\"2019-10-15T00:00:00\",\"2019-10-15T00:00:00\",\"2019-10-15T00:00:00\",\"2019-10-15T00:00:00\",\"2019-10-15T00:00:00\",\"2019-10-15T00:00:00\",\"2019-10-15T00:00:00\",\"2019-10-15T00:00:00\",\"2019-10-15T00:00:00\",\"2019-10-15T00:00:00\",\"2019-10-15T00:00:00\",\"2019-10-15T00:00:00\",\"2019-10-15T00:00:00\",\"2019-10-15T00:00:00\",\"2019-10-15T00:00:00\",\"2019-10-15T00:00:00\",\"2019-10-15T00:00:00\",\"2019-10-15T00:00:00\",\"2019-10-15T00:00:00\",\"2019-10-15T00:00:00\",\"2019-10-15T00:00:00\",\"2019-10-15T00:00:00\",\"2019-10-15T00:00:00\",\"2019-10-15T00:00:00\",\"2019-10-15T00:00:00\",\"2019-10-15T00:00:00\",\"2019-10-15T00:00:00\",\"2019-10-15T00:00:00\",\"2019-10-15T00:00:00\",\"2019-10-15T00:00:00\",\"2019-10-15T00:00:00\",\"2019-10-15T00:00:00\",\"2019-10-15T00:00:00\",\"2019-10-15T00:00:00\",\"2019-10-15T00:00:00\",\"2019-10-15T00:00:00\",\"2019-10-15T00:00:00\",\"2019-10-15T00:00:00\",\"2019-10-15T00:00:00\",\"2019-10-15T00:00:00\",\"2019-10-15T00:00:00\",\"2019-10-15T00:00:00\",\"2019-11-15T00:00:00\",\"2019-11-15T00:00:00\",\"2019-11-15T00:00:00\",\"2019-11-15T00:00:00\",\"2019-11-15T00:00:00\",\"2019-11-15T00:00:00\",\"2019-11-15T00:00:00\",\"2019-11-15T00:00:00\",\"2019-11-15T00:00:00\",\"2019-11-15T00:00:00\",\"2019-11-15T00:00:00\",\"2019-11-15T00:00:00\",\"2019-11-15T00:00:00\",\"2019-11-15T00:00:00\",\"2019-11-15T00:00:00\",\"2019-11-15T00:00:00\",\"2019-11-15T00:00:00\",\"2019-11-15T00:00:00\",\"2019-11-15T00:00:00\",\"2019-11-15T00:00:00\",\"2019-11-15T00:00:00\",\"2019-11-15T00:00:00\",\"2019-11-15T00:00:00\",\"2019-11-15T00:00:00\",\"2019-11-15T00:00:00\",\"2019-11-15T00:00:00\",\"2019-11-15T00:00:00\",\"2019-11-15T00:00:00\",\"2019-11-15T00:00:00\",\"2019-11-15T00:00:00\",\"2019-11-15T00:00:00\",\"2019-11-15T00:00:00\",\"2019-11-15T00:00:00\",\"2019-11-15T00:00:00\",\"2019-11-15T00:00:00\",\"2019-11-15T00:00:00\",\"2019-11-15T00:00:00\",\"2019-11-15T00:00:00\",\"2019-11-15T00:00:00\",\"2019-11-15T00:00:00\",\"2019-11-15T00:00:00\",\"2019-11-15T00:00:00\",\"2019-11-15T00:00:00\",\"2019-11-15T00:00:00\",\"2019-11-15T00:00:00\",\"2019-11-15T00:00:00\",\"2019-11-15T00:00:00\",\"2019-11-15T00:00:00\",\"2019-11-15T00:00:00\",\"2019-11-15T00:00:00\",\"2019-11-15T00:00:00\",\"2019-11-15T00:00:00\",\"2019-11-15T00:00:00\",\"2019-11-15T00:00:00\",\"2019-11-15T00:00:00\",\"2019-11-15T00:00:00\",\"2019-11-15T00:00:00\",\"2019-12-15T00:00:00\",\"2019-12-15T00:00:00\",\"2019-12-15T00:00:00\",\"2019-12-15T00:00:00\",\"2019-12-15T00:00:00\",\"2019-12-15T00:00:00\",\"2019-12-15T00:00:00\",\"2019-12-15T00:00:00\",\"2019-12-15T00:00:00\",\"2019-12-15T00:00:00\",\"2019-12-15T00:00:00\",\"2019-12-15T00:00:00\",\"2019-12-15T00:00:00\",\"2019-12-15T00:00:00\",\"2019-12-15T00:00:00\",\"2019-12-15T00:00:00\",\"2019-12-15T00:00:00\",\"2019-12-15T00:00:00\",\"2019-12-15T00:00:00\",\"2019-12-15T00:00:00\",\"2019-12-15T00:00:00\",\"2019-12-15T00:00:00\",\"2019-12-15T00:00:00\",\"2019-12-15T00:00:00\",\"2019-12-15T00:00:00\",\"2019-12-15T00:00:00\",\"2019-12-15T00:00:00\",\"2019-12-15T00:00:00\",\"2019-12-15T00:00:00\",\"2019-12-15T00:00:00\",\"2019-12-15T00:00:00\",\"2019-12-15T00:00:00\",\"2019-12-15T00:00:00\",\"2019-12-15T00:00:00\",\"2019-12-15T00:00:00\",\"2019-12-15T00:00:00\",\"2019-12-15T00:00:00\",\"2019-12-15T00:00:00\",\"2019-12-15T00:00:00\",\"2019-12-15T00:00:00\",\"2019-12-15T00:00:00\",\"2019-12-15T00:00:00\",\"2019-12-15T00:00:00\",\"2019-12-15T00:00:00\",\"2019-12-15T00:00:00\",\"2019-12-15T00:00:00\",\"2019-12-15T00:00:00\",\"2019-12-15T00:00:00\",\"2019-12-15T00:00:00\",\"2019-12-15T00:00:00\",\"2019-12-15T00:00:00\",\"2019-12-15T00:00:00\",\"2019-12-15T00:00:00\",\"2019-12-15T00:00:00\",\"2019-12-15T00:00:00\",\"2019-12-15T00:00:00\",\"2019-12-15T00:00:00\",\"2019-12-15T00:00:00\",\"2020-01-15T00:00:00\",\"2020-01-15T00:00:00\",\"2020-01-15T00:00:00\",\"2020-01-15T00:00:00\",\"2020-01-15T00:00:00\",\"2020-01-15T00:00:00\",\"2020-01-15T00:00:00\",\"2020-01-15T00:00:00\",\"2020-01-15T00:00:00\",\"2020-01-15T00:00:00\",\"2020-01-15T00:00:00\",\"2020-01-15T00:00:00\",\"2020-01-15T00:00:00\",\"2020-01-15T00:00:00\",\"2020-01-15T00:00:00\",\"2020-01-15T00:00:00\",\"2020-01-15T00:00:00\",\"2020-01-15T00:00:00\",\"2020-01-15T00:00:00\",\"2020-01-15T00:00:00\",\"2020-01-15T00:00:00\",\"2020-01-15T00:00:00\",\"2020-01-15T00:00:00\",\"2020-01-15T00:00:00\",\"2020-01-15T00:00:00\",\"2020-01-15T00:00:00\",\"2020-01-15T00:00:00\",\"2020-01-15T00:00:00\",\"2020-01-15T00:00:00\",\"2020-01-15T00:00:00\",\"2020-01-15T00:00:00\",\"2020-01-15T00:00:00\",\"2020-01-15T00:00:00\",\"2020-01-15T00:00:00\",\"2020-01-15T00:00:00\",\"2020-01-15T00:00:00\",\"2020-01-15T00:00:00\",\"2020-01-15T00:00:00\",\"2020-01-15T00:00:00\",\"2020-01-15T00:00:00\",\"2020-01-15T00:00:00\",\"2020-01-15T00:00:00\",\"2020-01-15T00:00:00\",\"2020-01-15T00:00:00\",\"2020-01-15T00:00:00\",\"2020-01-15T00:00:00\",\"2020-01-15T00:00:00\",\"2020-01-15T00:00:00\",\"2020-01-15T00:00:00\",\"2020-01-15T00:00:00\",\"2020-01-15T00:00:00\",\"2020-01-15T00:00:00\",\"2020-01-15T00:00:00\",\"2020-01-15T00:00:00\",\"2020-01-15T00:00:00\",\"2020-02-15T00:00:00\",\"2020-02-15T00:00:00\",\"2020-02-15T00:00:00\",\"2020-02-15T00:00:00\",\"2020-02-15T00:00:00\",\"2020-02-15T00:00:00\",\"2020-02-15T00:00:00\",\"2020-02-15T00:00:00\",\"2020-02-15T00:00:00\",\"2020-02-15T00:00:00\",\"2020-02-15T00:00:00\",\"2020-02-15T00:00:00\",\"2020-02-15T00:00:00\",\"2020-02-15T00:00:00\",\"2020-02-15T00:00:00\",\"2020-02-15T00:00:00\",\"2020-02-15T00:00:00\",\"2020-02-15T00:00:00\",\"2020-02-15T00:00:00\",\"2020-02-15T00:00:00\",\"2020-02-15T00:00:00\",\"2020-02-15T00:00:00\",\"2020-02-15T00:00:00\",\"2020-02-15T00:00:00\",\"2020-02-15T00:00:00\",\"2020-02-15T00:00:00\",\"2020-02-15T00:00:00\",\"2020-02-15T00:00:00\",\"2020-02-15T00:00:00\",\"2020-02-15T00:00:00\",\"2020-02-15T00:00:00\",\"2020-02-15T00:00:00\",\"2020-02-15T00:00:00\",\"2020-02-15T00:00:00\",\"2020-02-15T00:00:00\",\"2020-02-15T00:00:00\",\"2020-02-15T00:00:00\",\"2020-02-15T00:00:00\",\"2020-02-15T00:00:00\",\"2020-02-15T00:00:00\",\"2020-02-15T00:00:00\",\"2020-02-15T00:00:00\",\"2020-02-15T00:00:00\",\"2020-02-15T00:00:00\",\"2020-02-15T00:00:00\",\"2020-02-15T00:00:00\",\"2020-02-15T00:00:00\",\"2020-02-15T00:00:00\",\"2020-02-15T00:00:00\",\"2020-02-15T00:00:00\",\"2020-02-15T00:00:00\",\"2020-02-15T00:00:00\",\"2020-02-15T00:00:00\",\"2020-02-15T00:00:00\",\"2020-02-15T00:00:00\",\"2020-03-15T00:00:00\",\"2020-03-15T00:00:00\",\"2020-03-15T00:00:00\",\"2020-03-15T00:00:00\",\"2020-03-15T00:00:00\",\"2020-03-15T00:00:00\",\"2020-03-15T00:00:00\",\"2020-03-15T00:00:00\",\"2020-03-15T00:00:00\",\"2020-03-15T00:00:00\",\"2020-03-15T00:00:00\",\"2020-03-15T00:00:00\",\"2020-03-15T00:00:00\",\"2020-03-15T00:00:00\",\"2020-03-15T00:00:00\",\"2020-03-15T00:00:00\",\"2020-03-15T00:00:00\",\"2020-03-15T00:00:00\",\"2020-03-15T00:00:00\",\"2020-03-15T00:00:00\",\"2020-03-15T00:00:00\",\"2020-03-15T00:00:00\",\"2020-03-15T00:00:00\",\"2020-03-15T00:00:00\",\"2020-03-15T00:00:00\",\"2020-03-15T00:00:00\",\"2020-03-15T00:00:00\",\"2020-03-15T00:00:00\",\"2020-03-15T00:00:00\",\"2020-03-15T00:00:00\",\"2020-03-15T00:00:00\",\"2020-03-15T00:00:00\",\"2020-03-15T00:00:00\",\"2020-03-15T00:00:00\",\"2020-03-15T00:00:00\",\"2020-03-15T00:00:00\",\"2020-03-15T00:00:00\",\"2020-03-15T00:00:00\",\"2020-03-15T00:00:00\",\"2020-03-15T00:00:00\",\"2020-03-15T00:00:00\",\"2020-03-15T00:00:00\",\"2020-03-15T00:00:00\",\"2020-03-15T00:00:00\",\"2020-03-15T00:00:00\",\"2020-03-15T00:00:00\",\"2020-03-15T00:00:00\",\"2020-03-15T00:00:00\",\"2020-03-15T00:00:00\",\"2020-03-15T00:00:00\",\"2020-03-15T00:00:00\",\"2020-03-15T00:00:00\",\"2020-03-15T00:00:00\",\"2020-03-15T00:00:00\",\"2020-03-15T00:00:00\",\"2020-03-15T00:00:00\",\"2020-04-15T00:00:00\",\"2020-04-15T00:00:00\",\"2020-04-15T00:00:00\",\"2020-04-15T00:00:00\",\"2020-04-15T00:00:00\",\"2020-04-15T00:00:00\",\"2020-04-15T00:00:00\",\"2020-04-15T00:00:00\",\"2020-04-15T00:00:00\",\"2020-04-15T00:00:00\",\"2020-04-15T00:00:00\",\"2020-04-15T00:00:00\",\"2020-04-15T00:00:00\",\"2020-04-15T00:00:00\",\"2020-04-15T00:00:00\",\"2020-04-15T00:00:00\",\"2020-04-15T00:00:00\",\"2020-04-15T00:00:00\",\"2020-04-15T00:00:00\",\"2020-04-15T00:00:00\",\"2020-04-15T00:00:00\",\"2020-04-15T00:00:00\",\"2020-04-15T00:00:00\",\"2020-04-15T00:00:00\",\"2020-04-15T00:00:00\",\"2020-04-15T00:00:00\",\"2020-04-15T00:00:00\",\"2020-04-15T00:00:00\",\"2020-04-15T00:00:00\",\"2020-04-15T00:00:00\",\"2020-04-15T00:00:00\",\"2020-04-15T00:00:00\",\"2020-04-15T00:00:00\",\"2020-04-15T00:00:00\",\"2020-04-15T00:00:00\",\"2020-04-15T00:00:00\",\"2020-04-15T00:00:00\",\"2020-04-15T00:00:00\",\"2020-04-15T00:00:00\",\"2020-04-15T00:00:00\",\"2020-04-15T00:00:00\",\"2020-04-15T00:00:00\",\"2020-04-15T00:00:00\",\"2020-04-15T00:00:00\",\"2020-04-15T00:00:00\",\"2020-04-15T00:00:00\",\"2020-04-15T00:00:00\",\"2020-04-15T00:00:00\",\"2020-04-15T00:00:00\",\"2020-04-15T00:00:00\",\"2020-04-15T00:00:00\",\"2020-04-15T00:00:00\",\"2020-04-15T00:00:00\",\"2020-04-15T00:00:00\",\"2020-04-15T00:00:00\",\"2020-04-15T00:00:00\",\"2020-04-15T00:00:00\",\"2020-04-15T00:00:00\",\"2020-05-15T00:00:00\",\"2020-05-15T00:00:00\",\"2020-05-15T00:00:00\",\"2020-05-15T00:00:00\",\"2020-05-15T00:00:00\",\"2020-05-15T00:00:00\",\"2020-05-15T00:00:00\",\"2020-05-15T00:00:00\",\"2020-05-15T00:00:00\",\"2020-05-15T00:00:00\",\"2020-05-15T00:00:00\",\"2020-05-15T00:00:00\",\"2020-05-15T00:00:00\",\"2020-05-15T00:00:00\",\"2020-05-15T00:00:00\",\"2020-05-15T00:00:00\",\"2020-05-15T00:00:00\",\"2020-05-15T00:00:00\",\"2020-05-15T00:00:00\",\"2020-05-15T00:00:00\",\"2020-05-15T00:00:00\",\"2020-05-15T00:00:00\",\"2020-05-15T00:00:00\",\"2020-05-15T00:00:00\",\"2020-05-15T00:00:00\",\"2020-05-15T00:00:00\",\"2020-05-15T00:00:00\",\"2020-05-15T00:00:00\",\"2020-05-15T00:00:00\",\"2020-05-15T00:00:00\",\"2020-05-15T00:00:00\",\"2020-05-15T00:00:00\",\"2020-05-15T00:00:00\",\"2020-05-15T00:00:00\",\"2020-05-15T00:00:00\",\"2020-05-15T00:00:00\",\"2020-05-15T00:00:00\",\"2020-05-15T00:00:00\",\"2020-05-15T00:00:00\",\"2020-05-15T00:00:00\",\"2020-05-15T00:00:00\",\"2020-05-15T00:00:00\",\"2020-05-15T00:00:00\",\"2020-05-15T00:00:00\",\"2020-05-15T00:00:00\",\"2020-05-15T00:00:00\",\"2020-05-15T00:00:00\",\"2020-05-15T00:00:00\",\"2020-05-15T00:00:00\",\"2020-05-15T00:00:00\",\"2020-05-15T00:00:00\",\"2020-05-15T00:00:00\",\"2020-05-15T00:00:00\",\"2020-05-15T00:00:00\",\"2020-05-15T00:00:00\",\"2020-05-15T00:00:00\",\"2020-06-15T00:00:00\",\"2020-06-15T00:00:00\",\"2020-06-15T00:00:00\",\"2020-06-15T00:00:00\",\"2020-06-15T00:00:00\",\"2020-06-15T00:00:00\",\"2020-06-15T00:00:00\",\"2020-06-15T00:00:00\",\"2020-06-15T00:00:00\",\"2020-06-15T00:00:00\",\"2020-06-15T00:00:00\",\"2020-06-15T00:00:00\",\"2020-06-15T00:00:00\",\"2020-06-15T00:00:00\",\"2020-06-15T00:00:00\",\"2020-06-15T00:00:00\",\"2020-06-15T00:00:00\",\"2020-06-15T00:00:00\",\"2020-06-15T00:00:00\",\"2020-06-15T00:00:00\",\"2020-06-15T00:00:00\",\"2020-06-15T00:00:00\",\"2020-06-15T00:00:00\",\"2020-06-15T00:00:00\",\"2020-06-15T00:00:00\",\"2020-06-15T00:00:00\",\"2020-06-15T00:00:00\",\"2020-06-15T00:00:00\",\"2020-06-15T00:00:00\",\"2020-06-15T00:00:00\",\"2020-06-15T00:00:00\",\"2020-06-15T00:00:00\",\"2020-06-15T00:00:00\",\"2020-06-15T00:00:00\",\"2020-06-15T00:00:00\",\"2020-06-15T00:00:00\",\"2020-06-15T00:00:00\",\"2020-06-15T00:00:00\",\"2020-06-15T00:00:00\",\"2020-06-15T00:00:00\",\"2020-06-15T00:00:00\",\"2020-06-15T00:00:00\",\"2020-06-15T00:00:00\",\"2020-06-15T00:00:00\",\"2020-06-15T00:00:00\",\"2020-06-15T00:00:00\",\"2020-06-15T00:00:00\",\"2020-06-15T00:00:00\",\"2020-06-15T00:00:00\",\"2020-06-15T00:00:00\",\"2020-06-15T00:00:00\",\"2020-06-15T00:00:00\",\"2020-06-15T00:00:00\",\"2020-06-15T00:00:00\",\"2020-06-15T00:00:00\",\"2020-06-15T00:00:00\",\"2020-06-15T00:00:00\",\"2020-06-15T00:00:00\",\"2020-07-15T00:00:00\",\"2020-07-15T00:00:00\",\"2020-07-15T00:00:00\",\"2020-07-15T00:00:00\",\"2020-07-15T00:00:00\",\"2020-07-15T00:00:00\",\"2020-07-15T00:00:00\",\"2020-07-15T00:00:00\",\"2020-07-15T00:00:00\",\"2020-07-15T00:00:00\",\"2020-07-15T00:00:00\",\"2020-07-15T00:00:00\",\"2020-07-15T00:00:00\",\"2020-07-15T00:00:00\",\"2020-07-15T00:00:00\",\"2020-07-15T00:00:00\",\"2020-07-15T00:00:00\",\"2020-07-15T00:00:00\",\"2020-07-15T00:00:00\",\"2020-07-15T00:00:00\",\"2020-07-15T00:00:00\",\"2020-07-15T00:00:00\",\"2020-07-15T00:00:00\",\"2020-07-15T00:00:00\",\"2020-07-15T00:00:00\",\"2020-07-15T00:00:00\",\"2020-07-15T00:00:00\",\"2020-07-15T00:00:00\",\"2020-07-15T00:00:00\",\"2020-07-15T00:00:00\",\"2020-07-15T00:00:00\",\"2020-07-15T00:00:00\",\"2020-07-15T00:00:00\",\"2020-07-15T00:00:00\",\"2020-07-15T00:00:00\",\"2020-07-15T00:00:00\",\"2020-07-15T00:00:00\",\"2020-07-15T00:00:00\",\"2020-07-15T00:00:00\",\"2020-07-15T00:00:00\",\"2020-07-15T00:00:00\",\"2020-07-15T00:00:00\",\"2020-07-15T00:00:00\",\"2020-07-15T00:00:00\",\"2020-07-15T00:00:00\",\"2020-07-15T00:00:00\",\"2020-07-15T00:00:00\",\"2020-07-15T00:00:00\",\"2020-07-15T00:00:00\",\"2020-07-15T00:00:00\",\"2020-07-15T00:00:00\",\"2020-07-15T00:00:00\",\"2020-07-15T00:00:00\",\"2020-07-15T00:00:00\",\"2020-07-15T00:00:00\",\"2020-07-15T00:00:00\",\"2020-07-15T00:00:00\"],\"xaxis\":\"x\",\"y\":[\"0.994\",\"0.9\",\"2.722\",\"0.9313\",\"2.3589\",\"0.8046\",\"0.9877\",\"0.9908\",\"0.8719\",\"0.9454\",\"2.7048\",\"0.8797\",\"0.9705\",\"2.697\",\"0.9016\",\"0.9329\",\"0.7044\",\"0.9392\",\"0.9392\",\"0.9392\",\"0.6981\",\"0.7826\",\"2.4622\",\"1.0237\",\"0.9908\",\"0.8609\",\"0.9454\",\"2.121\",\"0.8155\",\"0.9705\",\"2.4606\",\"0.8625\",\"0.9329\",\"0.7044\",\"0.9392\",\"0.8061\",\"0.9392\",\"0.9783\",\"0.7826\",\"2.3479\",\"1.0362\",\"0.9705\",\"0.9094\",\"0.9392\",\"2.2352\",\"0.8531\",\"0.9392\",\"0.8327\",\"0.9235\",\"0.9392\",\"0.9392\",\"0.9392\",\"0.9392\",\"0.9783\",\"0.7826\",\"2.5264\",\"1.0973\",\"1.0174\",\"0.9\",\"0.9392\",\"2.3855\",\"0.9094\",\"0.9611\",\"0.8312\",\"0.9329\",\"0.7592\",\"0.9392\",\"0.9392\",\"0.9392\",\"0.8609\",\"0.7826\",\"0.6183\",\"0.8453\",\"1.0894\",\"0.6261\",\"0.7826\",\"1.091\",\"2.1241\",\"0.6731\",\"0.8218\",\"1.0879\",\"0.5635\",\"0.7826\",\"1.0879\",\"2.0114\",\"0.2974\",\"0.2661\",\"0.7044\",\"0.9392\",\"0.3131\",\"0.8766\",\"1.127\",\"0.9392\",\"0.8609\",\"0.6261\",\"0.8139\",\"0.9329\",\"0.6731\",\"0.8609\",\"0.9329\",\"2.1241\",\"0.6574\",\"0.8296\",\"0.9329\",\"0.5948\",\"0.7826\",\"0.9329\",\"2.0114\",\"0.3131\",\"0.3522\",\"0.7826\",\"0.9392\",\"0.2896\",\"0.9783\",\"1.1583\",\"1.0174\",\"0.9392\",\"0.6527\",\"0.7826\",\"1.2444\",\"0.6574\",\"0.7826\",\"1.0879\",\"2.0114\",\"0.6793\",\"0.7826\",\"1.0894\",\"0.6261\",\"0.7826\",\"1.0894\",\"2.0114\",\"0.3131\",\"0.3913\",\"0.7826\",\"0.9392\",\"0.3131\",\"1.0096\",\"0.9392\",\"0.6261\",\"0.7826\",\"0.7826\",\"0.6731\",\"0.7826\",\"1.1129\",\"0.6652\",\"0.8938\",\"0.9376\",\"2.0114\",\"0.6762\",\"0.7826\",\"1.0894\",\"0.6496\",\"0.7826\",\"1.0894\",\"0.2598\",\"0.7826\",\"0.9392\",\"0.3052\",\"1.1114\",\"0.8609\",\"0.6261\",\"0.7826\",\"0.7044\",\"0.6793\",\"0.7826\",\"1.1129\",\"0.6731\",\"0.8938\",\"0.9376\",\"2.0114\",\"0.6762\",\"0.7826\",\"1.0894\",\"0.6574\",\"0.7826\",\"1.0894\",\"0.3131\",\"0.7826\",\"0.9392\",\"0.3193\",\"1.1035\",\"0.8609\",\"0.6261\",\"0.7826\",\"0.7044\",\"0.6778\",\"0.8938\",\"0.9329\",\"0.6261\",\"0.7826\",\"0.9063\",\"2.1617\",\"0.6668\",\"0.7826\",\"0.9329\",\"0.6418\",\"0.7826\",\"0.9329\",\"0.2864\",\"0.8609\",\"0.9392\",\"0.3287\",\"1.0409\",\"0.7905\",\"0.6418\",\"0.7826\",\"0.7044\",\"0.6386\",\"0.8312\",\"1.0362\",\"0.8938\",\"1.0894\",\"2.4465\",\"4.3828\",\"2.1131\",\"1.3524\",\"1.3039\",\"0.6261\",\"0.7122\",\"0.7826\",\"0.9861\",\"2.1914\",\"4.3311\",\"2.0349\",\"1.3039\",\"1.4088\",\"2.1617\",\"0.6809\",\"0.7513\",\"1.2178\",\"0.7826\",\"0.9329\",\"2.661\",\"4.3828\",\"2.0349\",\"1.3039\",\"1.3571\",\"2.3088\",\"0.6496\",\"0.7576\",\"1.0362\",\"0.7826\",\"0.9329\",\"2.1147\",\"4.3311\",\"2.0349\",\"1.354\",\"1.0957\",\"0.6386\",\"0.8327\",\"0.9501\",\"0.8938\",\"1.0894\",\"2.4465\",\"4.3828\",\"2.1131\",\"1.3524\",\"1.2256\",\"0.6261\",\"0.7122\",\"0.7826\",\"0.9861\",\"2.2697\",\"4.3311\",\"2.0349\",\"1.3039\",\"1.2006\",\"2.1617\",\"0.6809\",\"0.7388\",\"1.2178\",\"0.7826\",\"0.9329\",\"2.661\",\"4.3828\",\"2.0349\",\"1.3039\",\"1.3571\",\"2.3088\",\"0.6496\",\"0.6308\",\"1.0362\",\"0.7826\",\"0.9329\",\"2.1319\",\"4.3311\",\"2.0349\",\"1.354\",\"1.174\",\"0.6496\",\"0.8327\",\"0.8938\",\"1.0894\",\"2.4465\",\"4.2779\",\"2.1131\",\"1.3039\",\"1.2256\",\"0.6261\",\"0.7169\",\"1.0362\",\"0.9313\",\"0.9063\",\"2.2697\",\"4.3311\",\"2.0349\",\"1.3039\",\"1.2256\",\"2.1617\",\"0.6887\",\"0.7388\",\"1.0362\",\"0.7826\",\"0.9329\",\"2.661\",\"4.3828\",\"2.0349\",\"1.3039\",\"1.3571\",\"2.3088\",\"0.6496\",\"0.6261\",\"1.0362\",\"0.8938\",\"0.9329\",\"2.5843\",\"4.2779\",\"2.0349\",\"1.354\",\"1.174\",\"2.0114\",\"0.6652\",\"1.0174\",\"0.9924\",\"0.6574\",\"0.8453\",\"0.9548\",\"0.958\",\"1.8783\",\"0.6386\",\"0.8218\",\"1.0284\",\"0.9783\",\"0.6496\",\"0.875\",\"1.0096\",\"0.6652\",\"1.0174\",\"1.0127\",\"0.6652\",\"0.8453\",\"1.0331\",\"0.9705\",\"1.7218\",\"0.6496\",\"0.8202\",\"1.0174\",\"1.0268\",\"0.6809\",\"1.0018\",\"1.0096\",\"0.6574\",\"1.0957\",\"1.0018\",\"0.6574\",\"1.2334\",\"1.0957\",\"0.9705\",\"2.1914\",\"0.6418\",\"1.2272\",\"1.1427\",\"1.0174\",\"0.6731\",\"1.2021\",\"1.0487\",\"0.9861\",\"2.1679\",\"0.6699\",\"0.8797\",\"0.9392\",\"0.9392\",\"0.6652\",\"0.8938\",\"0.9298\",\"2.0114\",\"0.6684\",\"0.8687\",\"0.8969\",\"0.9298\",\"0.6809\",\"0.8922\",\"0.9\",\"0.9392\",\"0.6731\",\"0.8797\",\"0.9705\",\"0.9392\",\"0.6652\",\"0.9392\",\"0.9329\",\"1.9003\",\"0.6652\",\"0.8218\",\"0.9423\",\"0.9313\",\"0.6652\",\"0.8656\",\"1.0096\",\"0.9329\",\"0.6762\",\"0.8766\",\"0.9705\",\"1.0894\",\"0.6856\",\"0.8515\",\"0.9767\",\"1.0847\",\"2.2227\",\"0.6809\",\"0.8734\",\"0.9767\",\"1.0894\",\"0.6605\",\"1.0096\",\"1.0879\",\"0.6762\",\"0.8766\",\"1.0049\",\"1.0894\",\"0.684\",\"0.9767\",\"1.0847\",\"2.229\",\"0.6809\",\"0.8766\",\"0.9783\",\"1.0894\",\"2.229\",\"0.6731\",\"0.8797\",\"1.0096\",\"1.0879\",\"2.2352\",\"0.6621\",\"0.8766\",\"1.1896\",\"1.0049\",\"1.0894\",\"3.7489\",\"4.3828\",\"2.8895\",\"1.3461\",\"1.739\",\"0.684\",\"1.2945\",\"0.9767\",\"1.0847\",\"3.6784\",\"4.2263\",\"2.8285\",\"1.3305\",\"1.8783\",\"1.883\",\"0.6512\",\"0.8766\",\"1.271\",\"0.9783\",\"1.0894\",\"3.7019\",\"4.3045\",\"2.8285\",\"1.3321\",\"1.7296\",\"1.739\",\"0.695\",\"0.8797\",\"1.0362\",\"1.0096\",\"1.0879\",\"3.7567\",\"4.3828\",\"2.8895\",\"1.3414\",\"1.739\",\"0.6512\",\"0.8766\",\"1.1896\",\"0.8938\",\"1.0894\",\"3.7207\",\"4.3828\",\"2.8895\",\"1.174\",\"1.4479\",\"0.6621\",\"1.2945\",\"0.9501\",\"1.0847\",\"3.6784\",\"4.2263\",\"2.769\",\"1.174\",\"1.7218\",\"1.739\",\"0.6919\",\"0.8766\",\"1.271\",\"0.8969\",\"1.0894\",\"3.7019\",\"4.3045\",\"2.8285\",\"1.0957\",\"1.5935\",\"0.695\",\"0.8797\",\"1.0362\",\"0.8938\",\"1.0879\",\"3.7254\",\"4.3828\",\"2.8895\",\"1.0957\",\"1.5653\",\"1.4479\",\"0.6574\",\"0.8766\",\"1.1896\",\"0.8938\",\"1.0894\",\"3.7207\",\"4.3045\",\"2.8895\",\"1.174\",\"1.4479\",\"0.6605\",\"1.2945\",\"0.9501\",\"1.0894\",\"3.6784\",\"4.3828\",\"2.769\",\"1.2522\",\"2.1241\",\"1.739\",\"0.6887\",\"0.8766\",\"1.271\",\"0.8969\",\"1.0894\",\"3.7019\",\"4.3828\",\"2.8285\",\"1.2522\",\"1.5935\",\"0.6903\",\"0.8797\",\"1.0362\",\"0.8938\",\"1.0894\",\"3.7254\",\"4.3828\",\"2.8895\",\"1.2522\",\"1.4479\",\"0.6527\",\"0.8766\",\"1.1896\",\"0.8938\",\"1.0894\",\"3.7207\",\"4.3828\",\"2.8895\",\"1.2522\",\"1.4479\",\"0.6652\",\"0.8327\",\"1.2945\",\"1.0049\",\"1.0894\",\"3.6784\",\"4.3828\",\"2.769\",\"1.2522\",\"2.1241\",\"1.739\",\"0.6887\",\"1.0049\",\"1.0894\",\"3.7019\",\"4.4078\",\"2.8285\",\"1.2522\",\"1.5935\",\"0.6981\",\"0.8797\",\"1.0362\",\"0.8938\",\"1.0894\",\"3.7254\",\"4.3828\",\"2.769\",\"1.2522\",\"1.4479\",\"0.6527\",\"0.8766\",\"1.1896\",\"0.8938\",\"1.0894\",\"3.7207\",\"4.3828\",\"2.8895\",\"1.2522\",\"1.5935\",\"0.6762\",\"0.8453\",\"1.2945\",\"0.8938\",\"1.0894\",\"3.6784\",\"4.3828\",\"2.769\",\"1.2522\",\"2.1241\",\"1.739\",\"0.6512\",\"0.8938\",\"1.0894\",\"3.7019\",\"4.4078\",\"2.8285\",\"1.4088\",\"1.5935\",\"0.7044\",\"0.8766\",\"1.091\",\"0.8938\",\"1.0894\",\"3.7254\",\"4.3828\",\"2.769\",\"1.2522\",\"1.4479\",\"0.6386\",\"0.8938\",\"1.0894\",\"3.7207\",\"4.3828\",\"2.8895\",\"1.2522\",\"1.5935\",\"0.659\",\"0.8233\",\"1.2945\",\"0.8938\",\"1.0894\",\"3.7019\",\"4.3828\",\"2.769\",\"1.2522\",\"2.2352\",\"1.7453\",\"0.6966\",\"0.8766\",\"1.271\",\"0.7826\",\"1.0894\",\"3.7019\",\"4.5785\",\"2.8285\",\"1.4088\",\"1.5935\",\"0.7826\",\"0.8609\",\"0.8938\",\"1.0894\",\"3.7254\",\"4.3828\",\"2.769\",\"1.2522\",\"2.0114\",\"1.5935\",\"0.72\",\"0.8687\",\"1.03\",\"1.0894\",\"3.4843\",\"4.3828\",\"2.9537\",\"1.3821\",\"1.5935\",\"0.72\",\"0.8233\",\"1.2945\",\"1.0268\",\"1.0894\",\"3.4843\",\"4.5393\",\"2.9553\",\"1.3555\",\"2.805\",\"1.7453\",\"0.7263\",\"0.8766\",\"1.271\",\"1.0174\",\"1.0894\",\"3.4843\",\"4.5393\",\"2.9521\",\"1.4088\",\"1.5935\",\"0.7232\",\"0.8609\",\"1.0174\",\"1.0894\",\"3.4843\",\"4.3828\",\"2.9537\",\"1.3821\",\"2.805\",\"1.5935\",\"0.7466\",\"0.8687\",\"1.0174\",\"1.0894\",\"3.2808\",\"4.5393\",\"2.974\",\"1.4275\",\"1.5935\",\"0.7466\",\"0.8233\",\"1.2945\",\"1.0237\",\"1.0894\",\"3.2714\",\"4.5393\",\"3.0523\",\"1.4135\",\"2.6594\",\"1.7453\",\"0.7466\",\"0.8766\",\"1.271\",\"1.0206\",\"1.0894\",\"3.2793\",\"4.5393\",\"3.1306\",\"1.4275\",\"1.5935\",\"0.7466\",\"0.8609\",\"1.2945\",\"1.0206\",\"1.0894\",\"3.2871\",\"4.5393\",\"3.0523\",\"1.4416\",\"2.5984\",\"1.5935\",\"0.7357\",\"0.8719\",\"1.2945\",\"1.127\",\"1.0894\",\"3.4436\",\"4.4611\",\"2.9803\",\"1.3054\",\"1.5935\",\"0.7279\",\"0.8609\",\"1.127\",\"1.0894\",\"3.4749\",\"4.6958\",\"2.9803\",\"1.2522\",\"2.7846\",\"1.7453\",\"0.72\",\"0.8766\",\"1.271\",\"1.127\",\"1.0894\",\"3.7019\",\"4.5785\",\"2.9803\",\"1.3461\",\"1.5935\",\"0.7279\",\"0.8922\",\"1.2945\",\"1.127\",\"1.0894\",\"3.4874\",\"4.4611\",\"2.9803\",\"1.3023\",\"1.5935\",\"0.6559\",\"0.8766\",\"1.2945\",\"1.0112\",\"1.0894\",\"3.7535\",\"4.3828\",\"2.8895\",\"1.3023\",\"1.5935\",\"0.659\",\"0.8296\",\"1.0112\",\"1.0894\",\"3.8036\",\"4.3828\",\"2.8175\",\"1.3023\",\"2.8347\",\"1.7453\",\"0.6574\",\"1.271\",\"1.0112\",\"1.0894\",\"3.8068\",\"4.4611\",\"2.8206\",\"1.3023\",\"1.5935\",\"0.6574\",\"0.8531\",\"1.2945\",\"1.0112\",\"1.0894\",\"3.813\",\"4.4611\",\"2.8144\",\"1.3023\",\"1.5935\",\"0.6386\",\"1.2945\",\"0.8938\",\"1.0894\",\"3.7207\",\"4.3828\",\"2.8895\",\"1.2522\",\"1.5935\",\"0.659\",\"0.8233\",\"1.2945\",\"0.8938\",\"1.0894\",\"3.7019\",\"4.3828\",\"2.769\",\"1.2522\",\"2.2352\",\"1.7453\",\"0.6966\",\"0.8766\",\"0.7826\",\"1.0894\",\"3.7019\",\"4.5785\",\"2.8285\",\"1.4088\",\"1.5935\",\"0.7826\",\"0.8938\",\"1.0894\",\"3.7254\",\"4.3828\",\"2.769\",\"1.2522\",\"1.5935\",\"0.6386\",\"0.8687\",\"1.2945\",\"0.8938\",\"1.0894\",\"3.7207\",\"4.3828\",\"2.8895\",\"1.2522\",\"1.5935\",\"0.659\",\"0.8938\",\"1.0894\",\"3.7019\",\"4.3828\",\"2.769\",\"1.2522\",\"2.2352\",\"1.7453\",\"0.6966\",\"0.8766\",\"1.271\",\"0.7826\",\"1.0894\",\"3.7019\",\"4.5785\",\"2.8285\",\"1.4088\",\"2.2352\",\"1.5935\",\"0.7826\",\"0.8609\",\"1.2945\",\"0.8938\",\"1.0894\",\"3.7254\",\"4.3828\",\"2.769\",\"1.2522\",\"1.5935\",\"1.6514\",\"0.5792\",\"0.8906\",\"1.1035\",\"0.8766\",\"3.4436\",\"9.7235\",\"13.3487\",\"5.9324\",\"2.8175\",\"2.0521\",\"1.9175\",\"1.2694\",\"3.4499\",\"0.9313\",\"1.1974\",\"0.6261\",\"0.9126\",\"0.9626\",\"0.7764\",\"2.5045\",\"8.4024\",\"17.8442\",\"5.7055\",\"2.3479\",\"2.1867\",\"2.1523\",\"1.0894\",\"2.6375\",\"2.5952\",\"0.958\",\"1.5888\",\"0.5807\",\"0.9392\",\"1.0253\",\"5.6632\",\"10.3309\",\"16.3102\",\"7.3803\",\"2.099\",\"1.7876\",\"1.3321\",\"1.2413\",\"4.8852\",\"1.1959\",\"1.1661\",\"0.5792\",\"0.947\",\"0.7232\",\"0.7873\",\"5.4221\",\"7.8342\",\"19.66\",\"5.9246\",\"1.9738\",\"2.038\",\"1.5121\",\"1.1004\",\"2.6046\",\"0.9407\",\"1.7062\",\"0.6292\",\"0.9486\",\"0.9705\",\"5.5646\",\"11.1292\",\"16.8628\",\"6.5476\",\"2.1664\",\"1.9629\",\"1.3148\",\"1.2601\",\"5.5896\",\"1.066\",\"1.1505\",\"0.5823\",\"0.9313\",\"0.7388\",\"0.7701\",\"5.4221\",\"8.6091\",\"20.3487\",\"5.9371\",\"1.9754\",\"2.038\",\"1.4917\",\"1.0863\",\"2.6046\",\"0.9423\",\"1.6279\",\"0.587\",\"0.9392\",\"1.127\",\"0.8609\",\"3.6236\",\"9.9255\",\"14.1157\",\"5.8229\",\"2.8332\",\"2.1053\",\"1.9644\",\"1.2522\",\"2.794\",\"3.5626\",\"1.2554\",\"1.1317\",\"0.6652\",\"0.9783\",\"0.6605\",\"2.661\",\"8.5214\",\"18.9399\",\"5.6585\",\"2.3479\",\"2.2196\",\"2.1757\",\"0.9783\",\"2.661\",\"1.0957\",\"1.6858\",\"0.5635\",\"0.9392\",\"1.1927\",\"0.8922\",\"3.8115\",\"10.9601\",\"14.4006\",\"5.7915\",\"2.8285\",\"2.1757\",\"2.0349\",\"1.2632\",\"3.6017\",\"1.2867\",\"1.1348\",\"0.6809\",\"1.0253\",\"0.6261\",\"2.794\",\"8.7656\",\"19.2765\",\"5.6381\",\"2.4262\",\"2.2697\",\"2.1288\",\"0.9893\",\"2.6954\",\"1.174\",\"1.7218\",\"0.5087\",\"0.9392\",\"1.2053\",\"0.864\",\"3.9163\",\"11.1307\",\"14.7137\",\"5.7915\",\"2.8253\",\"2.193\",\"2.0693\",\"1.2679\",\"3.6988\",\"1.2522\",\"1.1192\",\"0.6496\",\"0.8609\",\"1.0644\",\"0.6418\",\"2.8175\",\"8.7656\",\"19.4095\",\"5.5568\",\"2.3479\",\"2.3166\",\"2.1601\",\"1.0174\",\"2.7392\",\"1.2131\",\"1.57\",\"0.5478\",\"0.9861\",\"1.2053\",\"0.864\",\"3.9132\",\"10.9617\",\"14.5806\",\"5.7602\",\"2.8175\",\"2.2305\",\"2.0349\",\"1.2522\",\"3.7082\",\"1.1959\",\"1.1114\",\"0.6652\",\"0.8922\",\"1.0644\",\"0.6418\",\"2.9036\",\"8.6951\",\"19.253\",\"5.4785\",\"2.3479\",\"2.3417\",\"2.0975\",\"0.9783\",\"2.7627\",\"1.1051\",\"1.5731\",\"0.6105\",\"1.0644\",\"1.1783\",\"0.8155\",\"4.3437\",\"10.9853\",\"15.7859\",\"5.635\",\"2.974\",\"2.5019\",\"2.161\",\"1.223\",\"3.8675\",\"1.1137\",\"1.1974\",\"0.7366\",\"0.9423\",\"1.0566\",\"0.6261\",\"3.1306\",\"8.7667\",\"21.6009\",\"5.4785\",\"2.5995\",\"2.5045\",\"2.1914\",\"0.9392\",\"2.9584\",\"1.2533\",\"1.5661\",\"0.5646\",\"1.008\",\"1.1439\",\"0.7498\",\"3.9523\",\"10.1743\",\"13.3916\",\"5.6428\",\"2.661\",\"2.3479\",\"2.0505\",\"1.4103\",\"2.6297\",\"3.7598\",\"1.2084\",\"1.0957\",\"0.6496\",\"0.9395\",\"0.6261\",\"2.661\",\"7.8264\",\"18.7834\",\"5.4785\",\"2.3479\",\"2.1914\",\"2.0004\",\"0.9392\",\"2.8175\",\"1.2867\",\"1.2522\",\"0.7826\",\"0.7044\",\"0.7826\",\"3.1306\",\"7.8264\",\"5.2828\",\"4.4611\",\"3.0523\",\"1.0174\",\"1.0566\",\"1.0957\",\"1.7218\",\"0.6261\",\"0.9392\",\"1.0957\",\"0.7905\",\"4.1637\",\"4.6645\",\"5.8307\",\"2.8175\",\"1.9723\",\"1.2522\",\"1.5653\",\"3.6002\",\"1.5371\",\"2.3479\",\"0.6261\",\"1.0957\",\"0.8108\",\"4.9306\",\"8.3477\",\"10.3825\",\"6.2611\",\"3.1306\",\"1.5183\",\"1.5653\",\"3.3951\",\"1.5418\",\"1.2522\",\"0.7826\",\"0.7826\",\"3.1306\",\"3.9132\",\"3.1306\",\"1.3305\",\"1.2522\",\"1.174\",\"1.5653\",\"0.2614\",\"0.7826\",\"1.6952\",\"1.6733\",\"3.9132\",\"0.7826\",\"1.5653\",\"1.5653\",\"0.6782\",\"0.7826\",\"1.1218\",\"0.6523\",\"1.9305\",\"5.8698\",\"7.8264\",\"1.5653\",\"1.7218\",\"1.5132\",\"1.5653\",\"1.5121\",\"1.2679\",\"0.8766\",\"0.7513\",\"0.8609\",\"3.1306\",\"7.8264\",\"5.2828\",\"4.4611\",\"3.0523\",\"1.0174\",\"1.0566\",\"1.0957\",\"1.7218\",\"0.6261\",\"0.9392\",\"1.0957\",\"0.7905\",\"4.1637\",\"4.6645\",\"5.8307\",\"2.8175\",\"1.9723\",\"1.2522\",\"1.5653\",\"3.6002\",\"1.5371\",\"2.434\",\"0.6652\",\"1.1974\",\"0.864\",\"5.4785\",\"5.4785\",\"10.957\",\"6.2611\",\"3.1306\",\"1.5183\",\"1.5653\",\"3.392\",\"1.5418\",\"1.2522\",\"0.9079\",\"0.8218\",\"3.1306\",\"3.9132\",\"3.1306\",\"1.3821\",\"1.2131\",\"1.174\",\"1.4604\",\"0.2035\",\"0.695\",\"1.9128\",\"3.9132\",\"3.9132\",\"0.7826\",\"1.7735\",\"1.5653\",\"0.7826\",\"0.9392\",\"1.1218\",\"0.8343\",\"1.9305\",\"2.6093\",\"5.4785\",\"1.5653\",\"1.7218\",\"1.5132\",\"1.5653\",\"1.5121\",\"1.2522\",\"0.9392\",\"0.7044\",\"0.8014\",\"3.5469\",\"7.8264\",\"5.2828\",\"4.6426\",\"3.0523\",\"1.0957\",\"1.0566\",\"2.1382\",\"1.0957\",\"1.7562\",\"0.7482\",\"1.0973\",\"1.1974\",\"0.9079\",\"3.9195\",\"4.3828\",\"5.7915\",\"2.8175\",\"2.0349\",\"1.3305\",\"2.5045\",\"3.8976\",\"1.5731\",\"2.3479\",\"0.6261\",\"0.7983\",\"10.957\",\"5.4785\",\"11.4795\",\"6.2611\",\"3.1306\",\"1.5183\",\"1.5809\",\"2.6038\",\"1.3696\",\"0.9783\",\"1.5653\",\"0.7826\",\"3.4436\",\"4.6958\",\"3.1306\",\"1.3821\",\"1.2131\",\"1.174\",\"1.1834\",\"0.1847\",\"0.3913\",\"0.7482\",\"2.8566\",\"7.1079\",\"4.3828\",\"0.731\",\"1.6686\",\"1.5653\",\"1.5653\",\"0.2536\",\"1.03\",\"5.2233\",\"5.0433\",\"4.6958\",\"0.731\",\"1.5418\",\"0.9126\",\"1.4275\",\"1.0957\",\"0.7044\",\"2.8175\",\"12.6271\",\"4.0181\",\"6.9123\",\"1.5653\",\"1.2522\",\"1.1082\",\"1.2522\",\"0.7826\",\"0.4696\",\"0.8343\",\"3.9132\",\"7.8264\",\"5.2828\",\"4.904\",\"4.3828\",\"0.9908\",\"1.0675\",\"2.1382\",\"1.0957\",\"1.8783\",\"0.7826\",\"1.2209\",\"1.2522\",\"0.8609\",\"4.1402\",\"4.6958\",\"5.5693\",\"2.8175\",\"2.1945\",\"1.2522\",\"1.5262\",\"4.0134\",\"2.0114\",\"2.3479\",\"0.731\",\"0.7826\",\"8.6091\",\"5.4785\",\"10.6971\",\"5.4785\",\"3.1306\",\"1.4088\",\"1.4088\",\"2.6031\",\"1.2522\",\"0.9783\",\"0.9392\",\"0.9392\",\"3.1306\",\"5.1122\",\"3.1306\",\"1.3821\",\"1.21\",\"1.174\",\"1.1834\",\"0.3146\",\"0.3913\",\"0.6371\",\"3.2605\",\"5.3173\",\"3.6002\",\"0.731\",\"1.4604\",\"1.5653\",\"1.5653\",\"0.5212\",\"1.03\",\"3.1306\",\"5.2171\",\"3.9132\",\"0.7826\",\"1.5136\",\"1.9566\",\"1.2554\",\"1.0957\",\"0.7044\",\"1.5653\",\"1.3571\",\"4.0181\",\"1.9566\",\"1.5653\",\"1.2522\",\"1.1192\",\"1.271\",\"0.4696\",\"0.4931\",\"0.7639\",\"3.1306\",\"9.3917\",\"7.3568\",\"5.0089\",\"3.9132\",\"0.9987\",\"1.0675\",\"1.1239\",\"1.7453\",\"0.8155\",\"1.2397\",\"1.1301\",\"0.7826\",\"4.231\",\"7.9829\",\"5.5646\",\"2.8879\",\"2.157\",\"1.1865\",\"1.487\",\"3.7567\",\"2.1914\",\"2.3479\",\"0.7044\",\"1.1114\",\"0.8061\",\"8.3492\",\"8.3492\",\"9.6531\",\"5.4785\",\"3.1306\",\"1.5121\",\"1.57\",\"2.6046\",\"1.3555\",\"0.7826\",\"0.7905\",\"3.1384\",\"5.4785\",\"3.1306\",\"1.2522\",\"1.0049\",\"1.174\",\"1.3915\",\"0.3397\",\"0.7826\",\"2.9834\",\"9.3917\",\"3.6002\",\"0.6261\",\"1.4604\",\"1.3039\",\"1.8596\",\"0.2536\",\"3.1306\",\"1.0816\",\"5.2703\",\"3.9132\",\"1.5136\",\"1.5653\",\"0.5917\",\"1.4009\",\"1.1192\",\"1.2209\",\"0.7326\",\"1.9566\",\"1.4088\",\"4.0181\",\"2.1523\",\"1.5653\",\"1.0691\",\"1.0957\",\"1.2522\",\"0.4696\",\"0.5948\",\"0.7639\",\"3.1306\",\"9.3917\",\"7.3568\",\"4.9197\",\"3.9132\",\"0.9908\",\"1.2522\",\"1.0957\",\"1.8783\",\"0.8766\",\"1.2554\",\"1.0957\",\"0.8609\",\"4.3828\",\"10.1822\",\"5.4785\",\"2.8175\",\"1.7453\",\"1.2522\",\"1.5653\",\"3.4436\",\"2.5827\",\"2.3479\",\"0.7044\",\"1.1098\",\"0.7826\",\"6.0029\",\"8.3477\",\"7.565\",\"6.2611\",\"3.1306\",\"1.5136\",\"1.57\",\"2.6031\",\"1.5653\",\"0.7826\",\"0.7826\",\"3.1306\",\"5.1122\",\"3.1306\",\"1.2522\",\"1.03\",\"1.174\",\"2.6093\",\"0.2958\",\"1.066\",\"2.0881\",\"7.3913\",\"4.3828\",\"0.5745\",\"1.6702\",\"1.3039\",\"1.8267\",\"0.3131\",\"3.4342\",\"1.3571\",\"6.8841\",\"4.6958\",\"1.4604\",\"1.5653\",\"0.6261\",\"1.5496\",\"0.7826\",\"0.9392\",\"0.7044\",\"1.5653\",\"7.6182\",\"7.0438\",\"1.2522\",\"1.5653\",\"1.2522\",\"1.0957\",\"1.3634\",\"0.6261\",\"0.4696\",\"0.7826\",\"3.1384\",\"9.4073\",\"7.5134\",\"5.0089\",\"3.9132\",\"1.0174\",\"1.3774\",\"1.0957\",\"1.7922\",\"0.8014\",\"1.0957\",\"1.0722\",\"0.7826\",\"4.6958\",\"11.7396\",\"5.4785\",\"2.661\",\"1.6874\",\"1.1974\",\"1.487\",\"3.1306\",\"2.3479\",\"1.5622\",\"0.7513\",\"0.9705\",\"0.7983\",\"3.1306\",\"4.7992\",\"3.1306\",\"1.4088\",\"1.0957\",\"1.0957\",\"2.6125\",\"0.1972\",\"0.4524\",\"0.972\",\"1.5668\",\"5.3987\",\"4.4611\",\"0.7826\",\"1.3133\",\"1.4119\",\"0.7639\",\"0.8609\",\"0.6496\",\"1.5919\",\"7.8264\",\"6.9796\",\"1.174\",\"1.5684\",\"1.2131\",\"1.0174\",\"1.4181\",\"0.5557\",\"0.4383\",\"1.0487\",\"3.5219\",\"9.7048\",\"7.0125\",\"5.2437\",\"4.0697\",\"1.1317\",\"1.2835\",\"2.1914\",\"0.9705\",\"1.8783\",\"0.7513\",\"0.9439\",\"1.0988\",\"0.9392\",\"4.3828\",\"9.3917\",\"5.4785\",\"2.5827\",\"1.5449\",\"1.1035\",\"1.5653\",\"2.0349\",\"2.3479\",\"2.1523\",\"1.7218\",\"0.587\",\"0.8218\",\"1.0957\",\"3.4436\",\"4.6958\",\"3.6002\",\"1.4432\",\"1.5653\",\"0.9392\",\"2.6845\",\"0.1941\",\"0.36\",\"1.0957\",\"1.487\",\"4.6958\",\"4.3828\",\"0.9517\",\"1.2554\",\"1.5684\",\"0.7826\",\"0.8249\",\"0.8218\",\"2.4324\",\"7.9829\",\"7.0438\",\"1.3461\",\"1.2601\",\"1.7218\",\"0.9392\",\"1.2522\",\"0.4696\",\"0.7044\",\"0.7983\",\"3.1306\",\"7.3036\",\"7.3568\",\"4.2263\",\"3.1306\",\"0.9392\",\"1.0174\",\"1.5653\",\"1.2256\",\"1.5809\",\"0.7952\",\"1.0268\",\"1.0096\",\"0.8609\",\"4.6958\",\"10.5062\",\"5.0872\",\"2.3244\",\"1.2522\",\"1.0957\",\"1.487\",\"1.8846\",\"2.1131\",\"2.1914\",\"1.5418\",\"0.7826\",\"1.0174\",\"0.7826\",\"2.8175\",\"4.2263\",\"3.1306\",\"1.4088\",\"1.0957\",\"1.5653\",\"2.6093\",\"0.2489\",\"0.4524\",\"0.8265\",\"1.9472\",\"7.7466\",\"4.3828\",\"0.731\",\"1.4729\",\"1.3336\",\"0.2442\",\"0.5651\",\"1.1333\",\"2.8879\",\"6.438\",\"3.9132\",\"0.7826\",\"1.3555\",\"1.5653\",\"1.2632\",\"0.8813\",\"0.6339\",\"2.5123\",\"9.0035\",\"6.2611\",\"1.2287\",\"1.2162\",\"1.4088\",\"0.8609\",\"1.3774\",\"0.6026\",\"0.7826\",\"0.8766\",\"3.1306\",\"7.5134\",\"7.3568\",\"4.2263\",\"3.1306\",\"1.0644\",\"1.0174\",\"1.2522\",\"1.5731\",\"0.7842\",\"0.9908\",\"0.9392\",\"0.7826\",\"5.0793\",\"10.6439\",\"4.7146\",\"2.3479\",\"1.0988\",\"1.0957\",\"1.4088\",\"1.9566\",\"2.8175\",\"1.5418\",\"0.7826\",\"0.8609\",\"2.8175\",\"4.2263\",\"3.1306\",\"1.4088\",\"1.0957\",\"1.5653\",\"2.5984\",\"0.5792\",\"0.922\",\"2.3824\",\"8.1739\",\"3.6002\",\"0.7826\",\"1.5653\",\"1.2178\",\"1.4369\",\"0.4946\",\"0.5478\",\"0.7044\",\"1.5653\",\"7.8295\",\"7.0438\",\"1.2522\",\"1.5653\",\"1.2522\",\"1.9566\",\"1.487\",\"1.3774\",\"0.6026\",\"0.7826\",\"3.1306\",\"7.5134\",\"7.3568\",\"4.2263\",\"1.2522\",\"0.7842\",\"0.9908\",\"1.5418\",\"0.7826\",\"2.8175\",\"4.2263\",\"1.5653\",\"2.5984\",\"0.5792\",\"2.3824\",\"8.1739\",\"3.6002\",\"1.2178\",\"1.4635\",\"0.7826\",\"0.9392\",\"3.1306\",\"7.8264\",\"5.4785\",\"3.9132\",\"2.8175\",\"1.0957\",\"1.174\",\"1.0957\",\"1.7609\",\"0.8766\",\"1.174\",\"0.9392\",\"4.2263\",\"4.6958\",\"5.4785\",\"2.8175\",\"2.0349\",\"1.7296\",\"1.8079\",\"3.7645\",\"1.534\",\"2.1992\",\"0.72\",\"0.9548\",\"1.487\",\"5.0089\",\"5.8698\",\"10.6439\",\"6.2611\",\"3.9132\",\"1.5653\",\"1.5653\",\"1.4088\",\"1.534\",\"0.6261\",\"0.5478\",\"0.8609\",\"3.1306\",\"3.9132\",\"3.1306\",\"1.4088\",\"1.3305\",\"2.5045\",\"1.2522\",\"1.5888\",\"0.2113\",\"0.3804\",\"1.0174\",\"1.8783\",\"3.4436\",\"4.6958\",\"1.1395\",\"1.5653\",\"2.5076\",\"0.7858\",\"1.3305\",\"0.9079\",\"0.9861\",\"0.8609\",\"2.1131\",\"2.3479\",\"5.4785\",\"1.5653\",\"1.4088\",\"1.174\",\"1.4088\",\"1.5042\",\"0.7044\",\"0.6261\",\"0.7858\",\"3.4436\",\"7.8264\",\"5.9481\",\"3.9132\",\"3.1306\",\"1.2522\",\"1.174\",\"1.1834\",\"1.7218\",\"0.9861\",\"1.3634\",\"1.2601\",\"1.1035\",\"4.472\",\"5.7289\",\"5.4785\",\"2.8175\",\"1.8752\",\"1.8783\",\"3.1306\",\"1.5762\",\"2.0865\",\"0.6574\",\"1.3461\",\"5.4785\",\"5.7915\",\"10.957\",\"6.2611\",\"3.9132\",\"1.5653\",\"1.5262\",\"1.2694\",\"1.4839\",\"0.5901\",\"0.4931\",\"0.9392\",\"3.608\",\"3.9132\",\"3.1306\",\"1.4088\",\"1.3305\",\"1.2522\",\"1.6952\",\"0.2223\",\"0.3991\",\"1.0644\",\"1.7922\",\"3.154\",\"4.8602\",\"1.2522\",\"1.5778\",\"0.7826\",\"1.2867\",\"0.947\",\"0.6652\",\"1.847\",\"1.9566\",\"5.4785\",\"1.7609\",\"1.4088\",\"1.174\",\"1.4088\",\"1.2522\",\"0.4696\",\"0.7044\",\"0.7983\",\"3.1306\",\"7.3036\",\"7.3568\",\"4.3828\",\"3.1306\",\"0.9392\",\"1.0174\",\"1.174\",\"1.7484\",\"0.9673\",\"1.3696\",\"1.3461\",\"1.2522\",\"4.796\",\"7.5134\",\"5.4785\",\"2.3479\",\"1.8783\",\"1.991\",\"2.8175\",\"1.7922\",\"1.4401\",\"0.4884\",\"0.6261\",\"0.911\",\"3.6002\",\"4.3828\",\"3.1384\",\"1.174\",\"1.2522\",\"1.1301\",\"1.7531\",\"0.2004\",\"0.3757\",\"1.0253\",\"4.0697\",\"5.9481\",\"5.0089\",\"1.2804\",\"1.7609\",\"0.8719\",\"1.2522\",\"0.9407\",\"1.0065\",\"0.6261\",\"1.8815\",\"2.0693\",\"5.0872\",\"1.6905\",\"1.4088\",\"1.0957\",\"1.5653\",\"1.307\",\"1.2522\",\"0.5729\",\"0.7044\",\"0.7983\",\"3.1306\",\"7.2003\",\"7.3568\",\"4.3828\",\"3.1306\",\"1.0957\",\"1.174\",\"1.174\",\"1.7562\",\"0.994\",\"1.1348\",\"1.1192\",\"1.2209\",\"3.9132\",\"13.7432\",\"5.0872\",\"2.5827\",\"2.1131\",\"1.4088\",\"1.3477\",\"2.8175\",\"1.9957\",\"1.5653\",\"0.7826\",\"1.0174\",\"0.7826\",\"2.8175\",\"4.2263\",\"3.1306\",\"1.4088\",\"1.0957\",\"1.5653\",\"1.7969\",\"0.2035\",\"0.3835\",\"0.8343\",\"2.4778\",\"8.1755\",\"3.9132\",\"0.5995\",\"1.5653\",\"1.2992\",\"1.0988\",\"1.0644\",\"1.0253\",\"0.6605\",\"2.3479\",\"3.4436\",\"4.6958\",\"1.5653\",\"1.7531\",\"1.174\",\"1.5653\",\"1.3618\",\"0.5776\",\"0.6684\",\"0.8171\",\"3.4765\",\"7.5134\",\"7.8264\",\"4.3828\",\"3.1306\",\"1.0174\",\"1.1505\",\"1.2522\",\"1.858\",\"1.0957\",\"1.1442\",\"1.1364\",\"1.2554\",\"4.2889\",\"13.2266\",\"5.0872\",\"2.661\",\"2.2117\",\"1.5841\",\"1.4088\",\"2.9427\",\"2.0662\",\"1.534\",\"0.6261\",\"0.5478\",\"3.6002\",\"3.9132\",\"1.2522\",\"1.8783\",\"0.2583\",\"0.4007\",\"0.9392\",\"2.5045\",\"7.8608\",\"3.9132\",\"0.6292\",\"1.5653\",\"1.4166\",\"1.0957\",\"1.0018\",\"0.9439\",\"0.6261\",\"1.9566\",\"3.2949\",\"4.6958\",\"1.5653\",\"1.7688\",\"1.0957\",\"1.5684\",\"1.534\",\"1.3774\",\"0.5948\",\"0.6418\",\"0.7826\",\"3.4436\",\"7.0438\",\"7.8264\",\"4.3828\",\"3.9132\",\"1.174\",\"1.2522\",\"1.0425\",\"1.894\",\"1.1974\",\"1.2522\",\"1.2914\",\"1.2522\",\"3.4921\",\"10.957\",\"4.6958\",\"2.3479\",\"1.894\",\"1.5653\",\"1.487\",\"2.5045\",\"2.038\",\"1.7562\",\"0.8609\",\"1.0487\",\"0.8139\",\"3.1306\",\"3.9132\",\"3.4436\",\"1.2522\",\"1.3305\",\"2.0349\",\"1.6749\",\"1.6232\",\"0.2755\",\"0.4101\",\"0.8875\",\"4.3202\",\"8.3273\",\"3.6002\",\"0.6261\",\"1.4604\",\"1.3461\",\"1.5653\",\"0.3522\",\"0.695\",\"1.451\",\"5.4785\",\"15.6528\",\"7.1972\",\"3.9132\",\"0.5995\",\"2.0881\",\"1.2522\",\"1.0331\",\"0.9392\",\"0.7044\",\"2.8175\",\"3.9132\",\"4.6958\",\"1.8001\",\"1.8079\",\"1.2131\",\"1.8783\",\"1.3774\",\"0.5948\",\"0.7826\",\"3.4436\",\"7.0438\",\"7.8264\",\"4.3828\",\"3.9132\",\"1.174\",\"1.2522\",\"1.0425\",\"1.894\",\"1.1974\",\"1.2914\",\"1.2522\",\"3.4921\",\"10.957\",\"4.6958\",\"2.3479\",\"1.894\",\"1.5653\",\"1.487\",\"2.5045\",\"2.038\",\"1.7562\",\"0.8609\",\"1.0487\",\"0.8139\",\"3.1306\",\"3.9132\",\"3.4436\",\"1.2522\",\"1.3305\",\"2.0349\",\"1.6749\",\"1.6232\",\"0.2755\",\"0.4101\",\"0.8875\",\"4.3202\",\"8.3273\",\"3.6002\",\"0.6261\",\"1.4604\",\"1.3461\",\"1.5653\",\"0.3522\",\"0.695\",\"1.451\",\"5.4785\",\"15.6528\",\"7.1972\",\"3.9132\",\"0.5995\",\"2.0881\",\"1.2522\",\"1.0331\",\"0.9392\",\"0.7044\",\"2.8175\",\"3.9132\",\"4.6958\",\"1.8001\",\"1.8079\",\"1.2131\",\"1.8783\",\"1.2522\",\"0.5729\",\"0.7044\",\"0.7983\",\"3.1306\",\"7.3036\",\"7.3568\",\"4.3828\",\"2.3479\",\"1.0957\",\"1.174\",\"2.434\",\"1.0487\",\"1.5966\",\"1.1114\",\"1.0644\",\"1.2522\",\"1.1661\",\"3.3262\",\"9.7361\",\"3.9132\",\"2.1914\",\"1.5293\",\"1.487\",\"1.3305\",\"2.1601\",\"1.8783\",\"1.9691\",\"1.5653\",\"0.7826\",\"1.0174\",\"0.7826\",\"2.8175\",\"4.2263\",\"2.7392\",\"1.4088\",\"1.2397\",\"1.487\",\"1.9676\",\"0.3287\",\"0.4962\",\"0.8609\",\"3.7582\",\"7.2973\",\"4.0697\",\"0.6652\",\"1.2679\",\"1.7735\",\"0.4602\",\"0.6371\",\"1.1239\",\"4.3546\",\"12.5223\",\"5.9481\",\"4.6958\",\"0.6605\",\"1.5653\",\"2.1382\",\"1.2319\",\"1.0534\",\"0.6339\",\"3.4436\",\"4.3828\",\"4.6958\",\"1.8783\",\"2.0036\",\"1.2601\",\"2.0114\",\"1.5058\",\"0.7654\",\"1.1818\",\"2.1914\",\"6.2611\",\"10.1743\",\"4.6958\",\"2.8332\",\"1.1114\",\"1.6044\",\"1.4088\",\"1.2788\",\"0.5385\",\"0.6715\",\"0.8171\",\"3.1306\",\"7.2003\",\"7.0438\",\"4.3828\",\"2.3479\",\"1.0957\",\"1.174\",\"2.5123\",\"1.0425\",\"1.7375\",\"1.1583\",\"1.2757\",\"1.1896\",\"1.0957\",\"3.4436\",\"12.2092\",\"4.2263\",\"2.2305\",\"1.487\",\"1.6044\",\"1.4088\",\"2.1288\",\"1.9566\",\"2.0975\",\"1.5747\",\"0.7529\",\"0.9423\",\"0.8327\",\"2.8175\",\"4.2263\",\"2.8175\",\"1.4088\",\"1.0957\",\"1.4166\",\"1.6263\",\"0.2896\",\"0.4038\",\"1.1474\",\"2.0349\",\"4.3045\",\"3.6002\",\"0.6261\",\"1.4604\",\"1.8627\",\"1.8971\",\"0.3271\",\"1.0675\",\"3.8349\",\"9.3917\",\"5.4785\",\"4.6958\",\"0.6261\",\"1.5653\",\"2.1679\",\"1.2475\",\"0.7826\",\"0.7044\",\"1.9566\",\"1.5653\",\"5.4785\",\"1.5653\",\"1.5653\",\"1.199\",\"1.2522\",\"1.8236\",\"0.7232\",\"1.1035\",\"2.5045\",\"6.2611\",\"11.1166\",\"4.6958\",\"2.8175\",\"1.2522\",\"1.7218\",\"1.5262\",\"1.5371\",\"0.5087\",\"0.6261\",\"0.8437\",\"3.4749\",\"7.5916\",\"7.2582\",\"4.6958\",\"3.1572\",\"1.4088\",\"1.3305\",\"2.3511\",\"0.9016\",\"1.8345\",\"1.0957\",\"1.1348\",\"1.174\",\"1.2522\",\"3.9132\",\"9.3917\",\"4.6958\",\"2.3479\",\"1.5653\",\"1.9096\",\"1.5653\",\"2.1914\",\"1.8783\",\"2.2149\",\"1.7249\",\"0.6731\",\"0.7826\",\"0.8953\",\"3.6549\",\"4.0697\",\"2.8175\",\"1.4088\",\"1.4088\",\"1.2131\",\"1.8783\",\"0.3131\",\"0.3757\",\"1.2209\",\"2.3824\",\"4.195\",\"3.9915\",\"0.7858\",\"1.7062\",\"2.8958\",\"1.1301\",\"0.4038\",\"1.0957\",\"3.4123\",\"7.5259\",\"3.1619\",\"4.6958\",\"0.7858\",\"1.5684\",\"1.2522\",\"1.2554\",\"0.7826\",\"0.6731\",\"1.8783\",\"2.1131\",\"5.4785\",\"1.5653\",\"1.5653\",\"1.2522\",\"1.8783\",\"1.847\",\"0.7639\",\"1.1192\",\"2.5045\",\"7.8264\",\"10.7691\",\"4.6958\",\"3.1306\",\"1.2522\",\"1.7218\",\"1.4401\",\"1.5684\",\"0.4696\",\"0.5948\",\"0.947\",\"2.9725\",\"7.5134\",\"7.1721\",\"5.4785\",\"3.1306\",\"1.6435\",\"1.4088\",\"0.9392\",\"1.8345\",\"1.0957\",\"1.1348\",\"1.174\",\"1.2522\",\"3.9132\",\"9.3917\",\"4.6958\",\"2.3479\",\"1.5653\",\"1.9096\",\"1.5653\",\"1.8783\",\"2.2149\",\"1.7249\",\"0.6731\",\"0.8953\",\"3.6549\",\"4.0697\",\"2.8175\",\"1.4088\",\"1.4088\",\"1.2131\",\"1.8783\",\"0.3131\",\"1.2209\",\"2.3824\",\"4.195\",\"3.9915\",\"0.7858\",\"1.7062\",\"2.8958\",\"1.1301\",\"0.4038\",\"0.5134\",\"1.0957\",\"3.4123\",\"7.5259\",\"3.1619\",\"4.6958\",\"0.7858\",\"1.5684\",\"1.2522\",\"1.2554\",\"0.7826\",\"1.0018\",\"0.6731\",\"1.8783\",\"2.1131\",\"5.4785\",\"1.5653\",\"1.5653\",\"1.2522\",\"1.5653\",\"1.8783\",\"1.847\",\"0.7639\",\"0.9454\",\"1.1192\",\"2.5045\",\"7.8264\",\"10.7691\",\"4.6958\",\"3.1306\",\"1.2522\",\"1.7218\",\"2.3479\",\"1.4401\",\"1.75\",\"0.5979\",\"0.6371\",\"1.0096\",\"3.2401\",\"7.8264\",\"7.5134\",\"5.4785\",\"3.1306\",\"1.5653\",\"1.5653\",\"1.0957\",\"1.8345\",\"1.0957\",\"1.1348\",\"1.174\",\"1.2522\",\"3.9132\",\"9.3917\",\"4.6958\",\"2.3479\",\"1.5653\",\"1.9096\",\"1.5653\",\"1.8783\",\"2.2149\",\"1.894\",\"0.7435\",\"0.9736\",\"3.9132\",\"4.3828\",\"2.8175\",\"1.4088\",\"1.5653\",\"1.2522\",\"1.9879\",\"0.36\",\"1.127\",\"2.1914\",\"3.6002\",\"4.0697\",\"0.9235\",\"1.8001\",\"2.4575\",\"1.2522\",\"0.4696\",\"0.6292\",\"1.0644\",\"2.8175\",\"7.8264\",\"3.1306\",\"4.6958\",\"0.9392\",\"1.2522\",\"1.3555\",\"0.9548\",\"1.0644\",\"0.7044\",\"2.1131\",\"2.4512\",\"5.4785\",\"1.847\",\"1.7218\",\"1.4088\",\"1.8783\",\"1.8862\",\"0.7826\",\"1.0018\",\"1.174\",\"2.8175\",\"7.8264\",\"11.0431\",\"5.4785\",\"3.1306\",\"1.2522\",\"1.8251\",\"1.2522\",\"1.8032\",\"0.6292\",\"0.9626\",\"4.3828\",\"7.8264\",\"8.6936\",\"5.4785\",\"3.1306\",\"1.5653\",\"1.5653\",\"1.2522\",\"1.8314\",\"1.199\",\"1.2053\",\"1.3774\",\"4.339\",\"11.4391\",\"5.4785\",\"2.3479\",\"1.8314\",\"1.9566\",\"1.5653\",\"2.0349\",\"2.1914\",\"1.8752\",\"0.7513\",\"0.8108\",\"1.1035\",\"4.4611\",\"4.6958\",\"3.1306\",\"1.487\",\"1.5653\",\"2.3479\",\"1.2522\",\"1.941\",\"0.4774\",\"0.5604\",\"1.2522\",\"2.5107\",\"4.3828\",\"4.6958\",\"0.911\",\"3.1306\",\"2.4262\",\"1.7218\",\"0.6136\",\"0.6887\",\"1.2241\",\"3.4499\",\"7.8264\",\"3.7567\",\"4.6958\",\"0.9392\",\"1.8783\",\"1.5027\",\"1.4181\",\"0.9908\",\"1.0581\",\"0.7357\",\"2.3323\",\"2.6265\",\"5.4785\",\"1.9175\",\"1.7907\",\"1.487\",\"1.8783\",\"1.847\",\"0.8672\",\"1.0331\",\"1.2835\",\"3.6064\",\"7.8264\",\"12.5536\",\"5.4785\",\"3.1306\",\"1.4088\",\"1.8783\",\"1.4088\",\"1.5715\",\"0.6073\",\"0.6605\",\"0.9673\",\"5.0089\",\"7.5134\",\"8.8752\",\"5.4785\",\"3.1306\",\"1.487\",\"1.5653\",\"1.2601\",\"1.5715\",\"1.1583\",\"1.2068\",\"1.2178\",\"1.2522\",\"4.5018\",\"11.8414\",\"5.0872\",\"2.3479\",\"1.8971\",\"1.8783\",\"2.1914\",\"2.8175\",\"1.6749\",\"0.72\",\"0.7482\",\"1.1458\",\"4.7052\",\"4.6958\",\"3.1306\",\"1.3305\",\"1.5653\",\"1.3023\",\"1.8423\",\"0.4758\",\"0.5165\",\"1.2021\",\"3.3841\",\"4.7334\",\"4.6958\",\"0.8797\",\"1.5653\",\"2.2039\",\"3.5219\",\"0.5729\",\"0.6496\",\"1.1583\",\"4.2106\",\"7.8264\",\"5.1294\",\"4.3828\",\"0.9392\",\"1.5653\",\"2.1382\",\"1.354\",\"0.9705\",\"1.0331\",\"0.7545\",\"2.6234\",\"2.7455\",\"5.4785\",\"1.8783\",\"1.7218\",\"1.4088\",\"2.3949\",\"1.9253\",\"1.7218\",\"0.9705\",\"1.0894\",\"1.271\",\"2.3558\",\"7.8264\",\"12.8525\",\"5.4785\",\"2.8175\",\"1.4088\",\"1.5653\",\"2.8206\",\"1.8157\",\"1.6874\",\"0.7075\",\"0.756\",\"1.0362\",\"5.3611\",\"7.3568\",\"8.4181\",\"5.4785\",\"2.8175\",\"1.2522\",\"1.487\",\"1.3461\",\"1.4244\",\"1.2053\",\"1.2867\",\"1.1974\",\"1.3461\",\"4.364\",\"11.8445\",\"5.4785\",\"1.5653\",\"1.8783\",\"1.4088\",\"1.3305\",\"2.0709\",\"2.7424\",\"1.5825\",\"0.767\",\"0.7873\",\"1.1333\",\"5.0402\",\"4.6958\",\"2.661\",\"1.2522\",\"1.4088\",\"1.4213\",\"1.7218\",\"0.5134\",\"1.2209\",\"3.4468\",\"5.1654\",\"4.6958\",\"0.8609\",\"1.5653\",\"2.2196\",\"2.83\",\"0.6308\",\"0.7138\",\"1.1959\",\"4.4329\",\"7.8264\",\"5.3689\",\"4.6958\",\"0.9392\",\"1.5653\",\"2.1914\",\"1.2053\",\"1.0253\",\"1.091\",\"0.8499\",\"2.5514\",\"2.661\",\"4.6958\",\"1.2522\",\"1.5653\",\"1.174\",\"2.5545\",\"1.7249\",\"1.8157\",\"1.0425\",\"1.1317\",\"1.318\",\"2.9584\",\"7.8264\",\"13.3049\",\"5.4785\",\"2.0349\",\"1.4088\",\"1.5653\",\"3.1619\",\"2.0537\",\"1.5841\",\"0.6308\",\"0.6887\",\"0.9501\",\"5.635\",\"7.0438\",\"9.0786\",\"5.4785\",\"3.1306\",\"1.4088\",\"1.487\",\"1.4088\",\"1.5168\",\"1.2021\",\"1.2569\",\"1.1583\",\"1.2522\",\"4.6019\",\"12.3188\",\"5.4785\",\"1.9566\",\"1.9096\",\"1.5653\",\"1.4088\",\"2.207\",\"2.9506\",\"1.57\",\"0.756\",\"0.7701\",\"1.0973\",\"5.1654\",\"4.6958\",\"3.1306\",\"1.3305\",\"1.4088\",\"1.498\",\"1.6263\",\"0.3616\",\"0.4164\",\"0.9392\",\"3.4468\",\"5.9136\",\"4.3828\",\"0.6261\",\"1.4604\",\"2.3479\",\"2.83\",\"0.6308\",\"0.7138\",\"1.1959\",\"4.4329\",\"7.8264\",\"5.3689\",\"4.6958\",\"0.9392\",\"1.5653\",\"2.1914\",\"1.3383\",\"0.994\",\"1.0707\",\"0.7435\",\"2.7815\",\"2.8206\",\"5.4785\",\"1.5653\",\"1.5653\",\"1.2522\",\"2.5154\",\"1.9754\",\"1.6858\",\"1.008\",\"1.1098\",\"1.2914\",\"2.661\",\"7.8264\",\"13.1296\",\"5.4785\",\"2.3479\",\"1.4088\",\"1.5653\",\"3.0085\",\"1.9488\",\"1.57\",\"0.6605\",\"0.6919\",\"0.9987\",\"5.0183\",\"7.8264\",\"9.7392\",\"5.4785\",\"2.8175\",\"1.3305\",\"1.4088\",\"1.2522\",\"1.4119\",\"1.0613\",\"1.1896\",\"1.1661\",\"1.2522\",\"4.8524\",\"12.8572\",\"4.6958\",\"1.2522\",\"1.7844\",\"1.487\",\"1.2522\",\"1.8783\",\"2.3479\",\"1.534\",\"0.6856\",\"1.1505\",\"6.7307\",\"4.6958\",\"2.5045\",\"1.2522\",\"1.3305\",\"1.3305\",\"1.5715\",\"0.4508\",\"1.2522\",\"4.2889\",\"5.322\",\"4.6958\",\"0.7826\",\"1.7218\",\"2.0662\",\"2.1945\",\"0.6042\",\"0.6449\",\"1.174\",\"4.7303\",\"7.8264\",\"5.682\",\"4.6958\",\"0.9392\",\"1.5653\",\"1.8783\",\"1.152\",\"0.9047\",\"0.9705\",\"0.9\",\"2.8175\",\"3.1462\",\"4.6958\",\"1.2522\",\"1.2522\",\"1.174\",\"2.3479\",\"1.5653\",\"1.5809\",\"0.792\",\"1.0096\",\"1.3305\",\"2.9584\",\"7.8264\",\"13.787\",\"5.4785\",\"2.0349\",\"1.2522\",\"1.7218\",\"2.8175\",\"1.7218\",\"1.7375\",\"0.6449\",\"1.1114\",\"4.3828\",\"7.8264\",\"8.2052\",\"5.4785\",\"2.8175\",\"1.2522\",\"1.5653\",\"1.174\",\"1.6905\",\"0.9392\",\"1.2835\",\"1.4088\",\"4.0697\",\"11.8961\",\"4.3828\",\"1.8783\",\"1.7406\",\"1.4088\",\"1.5653\",\"1.5653\",\"2.0349\",\"1.8815\",\"0.6574\",\"0.6887\",\"1.1818\",\"6.4568\",\"4.6958\",\"2.3479\",\"1.2522\",\"1.7218\",\"2.1914\",\"1.2131\",\"1.8877\",\"0.6261\",\"0.7357\",\"1.4088\",\"4.1793\",\"5.635\",\"4.6958\",\"1.0957\",\"1.8783\",\"2.2697\",\"2.8175\",\"0.6778\",\"0.7451\",\"1.487\",\"5.2124\",\"7.8264\",\"5.9512\",\"4.6958\",\"1.2209\",\"1.7218\",\"2.0818\",\"1.1223\",\"0.8046\",\"0.9486\",\"0.9392\",\"2.5045\",\"2.8175\",\"4.6958\",\"1.5653\",\"1.2522\",\"1.4088\",\"1.4088\",\"1.847\",\"0.7513\",\"0.958\",\"1.4088\",\"3.1619\",\"7.8264\",\"11.5894\",\"5.4785\",\"1.8783\",\"1.2522\",\"1.7218\",\"1.487\",\"1.7594\",\"0.6856\",\"1.1614\",\"5.0089\",\"7.8264\",\"8.3304\",\"5.4785\",\"2.5045\",\"1.2522\",\"1.5653\",\"1.2522\",\"1.5841\",\"1.0456\",\"1.3148\",\"1.3696\",\"4.5174\",\"12.5379\",\"4.6958\",\"1.5653\",\"1.894\",\"1.4088\",\"1.5653\",\"1.5653\",\"1.9441\",\"1.8596\",\"0.7294\",\"0.8296\",\"1.2209\",\"6.6603\",\"4.6958\",\"2.3479\",\"1.2522\",\"1.5653\",\"2.0662\",\"1.3054\",\"1.8877\",\"0.6292\",\"0.6762\",\"1.5778\",\"4.3828\",\"5.851\",\"4.6958\",\"1.2522\",\"1.8783\",\"2.1131\",\"2.5514\",\"0.6058\",\"0.6512\",\"1.4088\",\"5.6914\",\"7.8264\",\"6.2611\",\"4.6958\",\"1.0957\",\"1.5653\",\"2.0036\",\"1.2397\",\"0.8922\",\"1.0018\",\"1.0112\",\"2.7862\",\"3.1619\",\"4.6958\",\"1.5653\",\"1.2522\",\"1.4088\",\"1.4088\",\"1.9128\",\"0.8046\",\"0.9987\",\"1.5747\",\"4.7741\",\"7.8264\",\"11.9807\",\"5.4785\",\"1.8783\",\"1.2522\",\"1.5653\",\"1.4088\",\"1.5684\",\"0.6339\",\"0.7388\",\"1.102\",\"4.6958\",\"7.0438\",\"7.5603\",\"5.4785\",\"2.3479\",\"1.4088\",\"1.5653\",\"2.1914\",\"1.5653\",\"1.7249\",\"0.9673\",\"1.0613\",\"1.2209\",\"1.4088\",\"3.5219\",\"8.3586\",\"4.6958\",\"1.5653\",\"1.9879\",\"1.5653\",\"1.4088\",\"2.3479\",\"2.0349\",\"2.0662\",\"1.7265\",\"0.6418\",\"0.7294\",\"1.1348\",\"6.355\",\"4.6958\",\"2.3479\",\"1.3305\",\"1.5653\",\"1.534\",\"1.9535\",\"0.5948\",\"0.6339\",\"1.8783\",\"3.453\",\"3.1368\",\"4.6958\",\"1.2522\",\"1.8783\",\"2.1961\",\"2.1006\",\"0.5635\",\"1.5653\",\"4.4924\",\"7.5134\",\"5.3564\",\"4.6958\",\"1.2522\",\"1.9566\",\"2.0662\",\"1.2569\",\"0.8171\",\"0.8609\",\"2.3667\",\"2.5045\",\"4.6958\",\"1.2522\",\"1.4088\",\"1.4088\",\"1.8783\",\"1.9253\",\"0.7623\",\"1.4088\",\"4.6019\",\"7.5134\",\"9.5482\",\"5.4785\",\"1.8783\",\"1.4088\",\"1.5653\",\"1.894\",\"1.5919\",\"0.5745\",\"0.6292\",\"1.0769\",\"4.6958\",\"7.0438\",\"5.1654\",\"5.4785\",\"2.3479\",\"1.3305\",\"1.5653\",\"1.9096\",\"1.2522\",\"1.6122\",\"0.864\",\"0.9423\",\"1.1301\",\"1.2522\",\"2.9427\",\"6.6681\",\"4.6958\",\"1.5653\",\"1.5841\",\"1.4088\",\"1.4088\",\"2.1726\",\"1.7218\",\"2.8175\",\"1.7907\",\"0.5165\",\"0.6433\",\"1.0988\",\"5.9481\",\"4.6958\",\"2.3479\",\"1.2522\",\"1.5653\",\"1.2522\",\"1.7218\",\"0.5729\",\"0.5854\",\"1.6749\",\"1.9096\",\"2.7111\",\"4.6958\",\"1.0957\",\"1.5653\",\"1.8971\",\"1.703\",\"0.504\",\"1.5653\",\"2.9161\",\"7.3568\",\"3.165\",\"4.6958\",\"0.9392\",\"1.5653\",\"1.8236\",\"1.3023\",\"0.7795\",\"0.8296\",\"2.0975\",\"2.1022\",\"4.6958\",\"1.2522\",\"1.4088\",\"1.3305\",\"1.5653\",\"1.8283\",\"0.6355\",\"1.3368\",\"4.3828\",\"7.2003\",\"7.5227\",\"5.4785\",\"1.8783\",\"1.487\",\"1.5653\",\"2.5984\",\"1.2522\",\"0.5729\",\"0.7044\",\"1.2522\",\"3.1306\",\"6.2611\",\"9.3917\",\"3.9132\",\"2.3479\",\"1.0957\",\"1.0174\",\"1.2522\",\"1.5528\",\"0.9126\",\"0.9736\",\"1.1896\",\"1.2522\",\"2.7392\",\"6.0545\",\"4.3828\",\"1.5653\",\"1.5747\",\"1.3305\",\"1.4088\",\"1.6905\",\"3.4436\",\"1.7015\",\"0.6418\",\"0.7419\",\"1.318\",\"4.2263\",\"4.6958\",\"2.3479\",\"1.174\",\"1.3305\",\"1.2835\",\"1.7218\",\"0.5729\",\"0.5854\",\"1.6749\",\"1.9096\",\"2.7111\",\"4.6958\",\"1.0957\",\"1.5653\",\"1.8971\",\"3.262\",\"0.1957\",\"1.1567\",\"3.7003\",\"7.8264\",\"5.9136\",\"4.3828\",\"0.6261\",\"1.5653\",\"2.3479\",\"1.2209\",\"0.7873\",\"0.8609\",\"2.1914\",\"1.9879\",\"3.9132\",\"1.2522\",\"1.3305\",\"1.174\",\"1.5653\",\"1.6686\",\"0.6292\",\"0.767\",\"1.2835\",\"4.0697\",\"7.8264\",\"8.3304\",\"4.6958\",\"1.7218\",\"1.2522\",\"1.487\",\"2.2791\",\"2.0349\",\"1.3148\",\"0.5322\",\"0.6496\",\"1.174\",\"3.4436\",\"5.7289\",\"10.3309\",\"3.9915\",\"2.3479\",\"1.0613\",\"1.174\",\"1.0425\",\"1.4526\",\"0.8108\",\"0.8797\",\"1.1458\",\"1.0957\",\"2.9584\",\"6.2142\",\"3.9132\",\"1.3305\",\"1.4088\",\"1.2522\",\"1.2522\",\"1.487\",\"2.8519\",\"1.5684\",\"0.6073\",\"1.2679\",\"5.0089\",\"4.6958\",\"2.3479\",\"1.0174\",\"1.2522\",\"1.1896\",\"1.5684\",\"0.4915\",\"1.4557\",\"2.7862\",\"3.1619\",\"4.6958\",\"0.9392\",\"1.4088\",\"1.894\",\"1.1145\",\"0.7513\",\"0.8797\",\"0.7983\",\"1.8783\",\"2.0912\",\"3.9132\",\"1.174\",\"1.2522\",\"1.0174\",\"1.4322\",\"1.4135\",\"0.4978\",\"0.5979\",\"1.2366\",\"3.6471\",\"5.4785\",\"10.6564\",\"3.9132\",\"2.3479\",\"1.0957\",\"1.4088\",\"0.9392\",\"1.4244\",\"0.7513\",\"0.7936\",\"1.2522\",\"1.2522\",\"2.614\",\"6.7307\",\"3.9132\",\"1.2522\",\"1.3555\",\"1.3305\",\"1.4088\",\"1.4088\",\"3.4749\",\"1.7218\",\"0.4852\",\"1.3649\",\"5.322\",\"4.6958\",\"2.3479\",\"1.0957\",\"1.487\",\"1.1035\",\"1.6999\",\"0.6699\",\"1.7249\",\"3.2871\",\"4.7585\",\"4.6958\",\"1.0957\",\"1.5653\",\"1.847\",\"1.3383\",\"0.7106\",\"0.8171\",\"0.9705\",\"1.6044\",\"2.8269\",\"3.9132\",\"1.174\",\"1.2522\",\"1.0957\",\"1.4088\",\"1.5762\",\"0.4508\",\"0.4962\",\"1.2835\",\"3.1306\",\"5.4785\",\"9.3995\",\"3.9132\",\"2.3479\",\"1.0957\",\"1.5653\",\"1.8001\",\"1.5308\",\"0.7294\",\"0.7654\",\"1.3461\",\"1.2522\",\"2.8801\",\"7.2942\",\"3.9132\",\"1.2522\",\"1.3774\",\"1.3305\",\"1.487\",\"2.0443\",\"1.4948\",\"3.5125\",\"1.7265\",\"0.4665\",\"0.4978\",\"1.3774\",\"5.1654\",\"4.6958\",\"2.3479\",\"1.0957\",\"1.5653\",\"1.0988\",\"1.7218\",\"0.8139\",\"0.8985\",\"1.8783\",\"3.5219\",\"5.1279\",\"4.6958\",\"1.0957\",\"1.9316\",\"1.4166\",\"0.6574\",\"0.767\",\"1.0174\",\"1.8314\",\"3.1462\",\"3.9132\",\"1.2522\",\"1.2522\",\"1.2522\",\"1.4495\",\"1.6404\",\"0.5917\",\"0.6324\",\"1.1583\",\"3.7567\",\"5.4785\",\"10.6439\",\"3.9132\",\"1.7218\",\"1.0957\",\"1.7218\",\"1.2522\",\"1.5105\",\"0.8186\",\"0.9188\",\"1.127\",\"1.2522\",\"3.2871\",\"10.6502\",\"3.9132\",\"1.174\",\"1.4448\",\"1.3305\",\"1.5653\",\"1.7375\",\"3.7035\",\"1.7547\",\"0.5134\",\"1.1927\",\"5.6726\",\"4.6958\",\"1.8783\",\"1.0957\",\"1.8783\",\"1.3618\",\"1.7562\",\"0.8781\",\"1.6435\",\"3.6878\",\"5.3564\",\"4.6958\",\"1.0957\",\"1.8783\",\"1.8627\",\"1.3931\",\"0.8077\",\"0.9298\",\"0.7983\",\"1.9253\",\"4.8555\",\"3.9132\",\"0.9392\",\"1.2522\",\"1.3305\",\"2.0349\",\"1.7218\",\"1.7249\",\"0.6292\",\"0.6778\",\"1.1035\",\"4.2936\",\"5.4785\",\"10.6752\",\"3.9132\",\"1.7218\",\"1.3305\",\"1.8783\",\"1.3461\",\"1.5027\",\"0.9032\",\"0.958\",\"1.0769\",\"1.5246\",\"3.7864\",\"10.9617\",\"3.9132\",\"1.174\",\"1.5246\",\"1.3305\",\"1.5653\",\"1.9816\",\"3.5626\",\"1.7062\",\"0.5917\",\"1.127\",\"6.0576\",\"4.6958\",\"1.8783\",\"1.0957\",\"1.9566\",\"1.3962\",\"1.8971\",\"0.9329\",\"1.7218\",\"3.7676\",\"5.4832\",\"4.6958\",\"1.0957\",\"1.8783\",\"1.6811\",\"1.3774\",\"0.9032\",\"0.9924\",\"0.7936\",\"2.1163\",\"5.4237\",\"3.9132\",\"0.9392\",\"1.2522\",\"1.4088\",\"2.1914\",\"1.8439\",\"1.5809\",\"0.6731\",\"0.7279\",\"0.9736\",\"3.6002\",\"6.2611\",\"6.9232\",\"3.9132\",\"1.7218\",\"1.2522\",\"1.5653\",\"1.174\",\"1.5496\",\"0.9423\",\"1.0597\",\"0.8922\",\"1.6514\",\"2.8175\",\"6.3081\",\"3.9132\",\"1.0957\",\"1.318\",\"1.2522\",\"1.4088\",\"1.8627\",\"3.8662\",\"1.7187\",\"0.6073\",\"1.0331\",\"5.4002\",\"4.6958\",\"1.8783\",\"0.9392\",\"1.5653\",\"1.2522\",\"1.5684\",\"0.4383\",\"1.199\",\"2.6954\",\"7.4539\",\"4.6958\",\"0.6418\",\"1.4088\",\"1.3571\",\"1.3555\",\"0.9799\",\"1.1239\",\"0.7513\",\"1.9441\",\"3.6784\",\"3.9132\",\"0.9392\",\"1.2522\",\"1.3305\",\"1.9253\",\"1.6592\",\"1.5825\",\"0.7905\",\"0.7545\",\"0.947\",\"4.1167\",\"6.2611\",\"8.1708\",\"3.9132\",\"1.8095\",\"1.3305\",\"1.5653\",\"1.3618\",\"1.5731\",\"0.994\",\"1.0988\",\"0.9266\",\"1.8251\",\"3.1681\",\"7.2332\",\"3.9132\",\"1.0957\",\"1.4307\",\"1.4088\",\"1.4088\",\"1.9253\",\"4.4298\",\"1.678\",\"0.7873\",\"1.1301\",\"6.2924\",\"4.6958\",\"1.8783\",\"1.0174\",\"1.5653\",\"1.4401\",\"1.8267\",\"0.5322\",\"1.2569\",\"3.0382\",\"7.7278\",\"4.6958\",\"0.7169\",\"1.4088\",\"1.3571\",\"1.318\",\"1.0049\",\"1.1755\",\"0.7639\",\"2.1977\",\"4.904\",\"3.9132\",\"0.9392\",\"1.3305\",\"1.2522\",\"2.0975\",\"1.8549\",\"1.7406\",\"0.9079\",\"0.911\",\"4.7318\",\"6.2611\",\"9.8644\",\"3.9132\",\"1.8783\",\"1.2522\",\"1.4088\",\"1.1114\",\"1.6999\",\"1.0487\",\"0.8077\",\"1.9112\",\"4.0228\",\"7.8311\",\"3.9132\",\"1.1896\",\"1.271\",\"1.2522\",\"1.2522\",\"1.5027\",\"4.1918\",\"1.6905\",\"0.8687\",\"0.7513\",\"1.0096\",\"8.4525\",\"4.6958\",\"1.8783\",\"0.9392\",\"1.4088\",\"2.1914\",\"1.2522\",\"1.8893\",\"0.6887\",\"0.7232\",\"1.235\",\"3.1744\",\"8.3586\",\"6.4568\",\"0.6668\",\"1.0613\",\"1.1442\",\"1.0988\",\"1.091\",\"0.5948\",\"2.5389\",\"6.762\",\"3.9132\",\"1.2522\",\"1.2522\",\"1.174\",\"1.5121\",\"1.8314\",\"0.9204\",\"0.9439\",\"4.328\",\"6.2611\",\"8.4588\",\"3.9132\",\"1.8783\",\"1.2522\",\"1.4088\",\"1.0174\",\"1.5809\",\"1.1082\",\"0.8609\",\"1.8658\",\"3.6659\",\"7.4601\",\"3.9132\",\"1.174\",\"1.2115\",\"1.2522\",\"1.3305\",\"1.4135\",\"4.3828\",\"1.7124\",\"0.8938\",\"0.7983\",\"1.0331\",\"8.656\",\"4.6958\",\"1.8783\",\"0.9392\",\"1.5653\",\"2.3088\",\"1.199\",\"1.8596\",\"0.5917\",\"0.6621\",\"1.2992\",\"2.9584\",\"7.2081\",\"6.2924\",\"0.6261\",\"0.8108\",\"1.2741\",\"1.1395\",\"1.1051\",\"0.6496\",\"2.3479\",\"6.5867\",\"3.9132\",\"1.2522\",\"1.2522\",\"1.2522\",\"1.4338\",\"1.6733\",\"0.9454\",\"0.8797\",\"0.9861\",\"4.5002\",\"6.2611\",\"8.7656\",\"3.9132\",\"1.8783\",\"1.2522\",\"1.4088\",\"1.0753\",\"1.6529\",\"1.0597\",\"1.2397\",\"0.8453\",\"1.9441\",\"3.7285\",\"7.4821\",\"3.9132\",\"1.174\",\"1.2647\",\"1.2522\",\"1.2522\",\"1.4166\",\"3.7567\",\"1.7234\",\"0.9047\",\"0.8014\",\"1.0487\",\"7.756\",\"4.6958\",\"1.8783\",\"0.9392\",\"1.4088\",\"1.2522\",\"1.8627\",\"0.6652\",\"0.6386\",\"1.1896\",\"2.9271\",\"7.3193\",\"5.4785\",\"0.6261\",\"1.4088\",\"0.947\",\"1.3039\",\"1.1489\",\"0.6652\",\"2.4168\",\"6.2721\",\"3.9132\",\"1.2522\",\"1.2522\",\"1.174\",\"1.4401\",\"1.6169\",\"1.0096\",\"0.922\",\"0.9188\",\"4.2294\",\"6.2611\",\"7.8734\",\"3.9132\",\"1.8783\",\"1.1896\",\"1.4088\",\"1.0988\",\"1.57\",\"1.127\",\"1.2757\",\"0.8139\",\"2.0537\",\"3.2871\",\"6.7151\",\"3.9132\",\"1.174\",\"1.3461\",\"1.2522\",\"1.2522\",\"1.7218\",\"4.2795\",\"1.775\",\"0.9752\",\"0.8578\",\"0.9564\",\"7.4586\",\"4.6958\",\"1.8783\",\"0.9392\",\"1.4088\",\"1.4088\",\"1.8063\",\"0.7858\",\"0.7545\",\"1.1614\",\"2.2963\",\"6.7464\",\"5.4785\",\"0.6261\",\"1.4088\",\"1.1317\",\"1.2679\",\"1.2585\",\"1.2178\",\"0.6261\",\"2.2791\",\"6.0608\",\"3.9132\",\"1.2522\",\"1.2522\",\"1.174\",\"2.1914\",\"1.5966\",\"1.5825\",\"0.8327\",\"0.8108\",\"0.8609\",\"5.0246\",\"7.8264\",\"5.0903\",\"3.9132\",\"1.8783\",\"1.0957\",\"1.4088\",\"0.9423\",\"1.6874\",\"0.9047\",\"0.9955\",\"0.8139\",\"1.8877\",\"3.3575\",\"7.0438\",\"3.9132\",\"1.174\",\"1.2037\",\"1.0957\",\"1.2522\",\"1.2569\",\"4.2779\",\"1.775\",\"0.792\",\"0.7404\",\"0.9188\",\"7.8264\",\"4.6958\",\"1.8783\",\"0.9392\",\"1.4088\",\"1.0331\",\"1.8846\",\"0.4727\",\"0.4336\",\"1.1192\",\"3.1431\",\"7.4069\",\"5.4785\",\"0.6261\",\"1.4088\",\"0.6261\",\"1.4432\",\"1.0644\",\"0.9783\",\"0.5948\",\"2.1225\",\"6.0639\",\"3.9132\",\"1.2522\",\"1.2522\",\"1.174\",\"2.0349\",\"1.3774\",\"1.7046\",\"0.7623\",\"0.6793\",\"0.9423\",\"4.4877\",\"7.8264\",\"4.544\",\"3.9132\",\"1.8783\",\"1.0957\",\"1.5653\",\"0.7826\",\"1.6623\",\"0.8061\",\"0.9439\",\"0.8609\",\"2.0662\",\"3.3967\",\"7.0438\",\"3.9132\",\"1.2522\",\"1.0957\",\"0.9392\",\"1.4088\",\"1.1896\",\"4.3984\",\"1.75\",\"0.7294\",\"0.6465\",\"0.9877\",\"7.8264\",\"4.6958\",\"1.9096\",\"0.9392\",\"1.5653\",\"1.847\",\"0.8719\",\"1.8956\",\"0.4774\",\"0.4273\",\"1.1896\",\"3.3544\",\"7.5447\",\"5.4785\",\"0.6261\",\"1.5653\",\"0.6339\",\"1.3493\",\"1.0331\",\"0.9047\",\"0.6261\",\"2.0036\",\"5.7289\",\"3.9132\",\"1.0957\",\"1.0957\",\"1.2522\",\"1.2679\",\"1.7265\",\"0.6339\",\"0.9564\",\"4.3624\",\"7.8264\",\"4.4141\",\"3.9132\",\"1.8783\",\"1.0957\",\"1.5653\",\"0.7826\",\"1.57\",\"0.8499\",\"0.8734\",\"1.9253\",\"3.4436\",\"7.2504\",\"3.9132\",\"1.2522\",\"1.271\",\"0.9392\",\"1.4088\",\"1.0957\",\"5.0089\",\"1.7234\",\"0.6324\",\"0.6105\",\"1.0018\",\"7.8264\",\"4.6958\",\"1.9566\",\"0.9392\",\"1.5653\",\"1.8971\",\"0.7513\",\"1.9597\",\"0.6449\",\"0.6058\",\"1.2209\",\"3.5626\",\"7.6887\",\"5.4785\",\"0.7826\",\"1.5653\",\"2.3714\",\"0.6887\",\"1.3227\",\"0.9736\",\"0.8296\",\"0.6418\",\"1.9456\",\"5.8103\",\"3.9132\",\"1.0957\",\"1.0957\",\"1.2522\",\"1.0957\",\"1.7594\",\"0.6762\",\"0.6934\",\"1.0597\",\"5.0152\",\"6.2611\",\"5.7055\",\"3.9132\",\"1.5653\",\"1.0957\",\"1.7218\",\"1.8486\",\"0.9658\",\"1.8063\",\"0.8906\",\"0.9032\",\"0.9439\",\"1.5559\",\"3.8929\",\"7.5181\",\"3.9132\",\"1.2522\",\"1.3477\",\"1.0957\",\"1.5653\",\"2.0004\",\"1.5308\",\"5.3251\",\"1.894\",\"0.6073\",\"0.6324\",\"1.0613\",\"5.0089\",\"4.6958\",\"1.8783\",\"0.9392\",\"1.7218\",\"0.8139\",\"1.9816\",\"0.792\",\"0.7498\",\"1.39\",\"2.9146\",\"4.7585\",\"4.6958\",\"1.0174\",\"1.7218\",\"1.2084\",\"1.3508\",\"0.9595\",\"0.6762\",\"2.0223\",\"5.4863\",\"3.9132\",\"1.0957\",\"1.0957\",\"1.2522\",\"1.3931\",\"1.7218\",\"0.7294\",\"0.7545\",\"1.0957\",\"5.5975\",\"5.4785\",\"6.7464\",\"3.9132\",\"1.4088\",\"0.9392\",\"1.7218\",\"1.0174\",\"1.5074\",\"0.9251\",\"0.9595\",\"0.8374\",\"1.3759\",\"4.087\",\"7.8608\",\"3.9132\",\"1.174\",\"1.199\",\"1.2522\",\"1.4088\",\"1.8846\",\"3.2527\",\"1.7547\",\"0.6449\",\"1.1114\",\"2.6344\",\"4.6958\",\"1.8783\",\"0.8609\",\"1.7218\",\"0.9392\",\"1.7218\",\"0.9188\",\"1.5653\",\"2.0521\",\"3.4436\",\"4.6958\",\"1.174\",\"1.7218\",\"2.0098\",\"1.1896\",\"1.0487\",\"1.1145\",\"0.7044\",\"2.2164\",\"5.2155\",\"3.9132\",\"0.9392\",\"1.2522\",\"1.174\",\"1.6122\",\"1.7328\",\"0.7388\",\"0.6308\",\"1.0644\",\"4.9713\",\"5.4785\",\"5.8385\",\"3.9132\",\"1.4088\",\"0.9392\",\"1.5653\",\"1.1129\",\"1.4682\",\"0.9673\",\"1.1114\",\"1.0597\",\"1.174\",\"3.1102\",\"5.1498\",\"3.9132\",\"1.174\",\"2.038\",\"1.0957\",\"1.3305\",\"1.6514\",\"2.8879\",\"1.7249\",\"0.695\",\"1.0644\",\"4.7052\",\"4.6958\",\"1.8001\",\"0.7826\",\"1.7218\",\"0.9501\",\"1.6357\",\"0.9908\",\"1.5308\",\"1.9785\",\"2.9318\",\"4.6958\",\"1.174\",\"1.5653\",\"1.8877\",\"1.4416\",\"0.9423\",\"1.0988\",\"0.7044\",\"2.049\",\"5.3548\",\"3.9132\",\"1.0957\",\"1.3305\",\"1.0957\",\"1.5465\",\"1.8689\",\"0.7858\",\"0.8515\",\"1.1427\",\"4.7819\",\"7.0438\",\"5.1466\",\"3.9132\",\"1.8783\",\"1.174\",\"1.8783\",\"1.1458\",\"1.5496\",\"0.9736\",\"1.1834\",\"1.2303\",\"1.3305\",\"4.2998\",\"6.9812\",\"4.6958\",\"1.3305\",\"2.207\",\"0.9392\",\"1.4088\",\"1.3508\",\"1.8783\",\"1.8236\",\"0.7529\",\"0.7936\",\"1.1348\",\"5.574\",\"4.6958\",\"1.9566\",\"0.9392\",\"1.7218\",\"0.9846\",\"1.9895\",\"1.116\",\"1.0362\",\"1.5997\",\"2.0458\",\"3.1666\",\"5.4785\",\"1.2522\",\"1.8783\",\"1.9284\",\"1.5105\",\"0.9908\",\"0.8609\",\"2.265\",\"5.7759\",\"3.9132\",\"1.2522\",\"1.3305\",\"1.2522\",\"1.6749\",\"1.8283\",\"0.7639\",\"0.7858\",\"1.1192\",\"3.1306\",\"5.4785\",\"5.2124\",\"4.6958\",\"1.8783\",\"1.174\",\"1.4088\",\"0.9595\",\"1.7218\",\"1.0049\",\"1.2053\",\"1.2428\",\"1.4307\",\"4.4266\",\"7.025\",\"4.6958\",\"1.4088\",\"2.2258\",\"1.0957\",\"1.4088\",\"1.3774\",\"2.063\",\"1.8032\",\"0.6152\",\"0.7482\",\"1.1051\",\"4.3515\",\"4.6958\",\"1.8783\",\"0.8609\",\"1.487\",\"0.947\",\"1.8502\",\"0.9517\",\"0.9736\",\"1.6185\",\"2.182\",\"2.9584\",\"5.4785\",\"1.3305\",\"1.8783\",\"2.085\",\"1.5308\",\"1.0456\",\"1.2397\",\"0.7826\",\"2.1444\",\"5.0277\",\"3.9132\",\"1.174\",\"1.4088\",\"1.2522\",\"2.3197\",\"1.7375\",\"1.7594\",\"0.9329\",\"0.803\",\"1.1614\",\"3.4436\",\"6.2611\",\"5.239\",\"4.6958\",\"2.0349\",\"1.174\",\"1.5653\",\"1.0613\",\"1.7625\",\"1.0644\",\"1.2303\",\"1.2585\",\"1.5089\",\"4.4814\",\"7.0312\",\"4.6958\",\"1.487\",\"2.207\",\"1.0957\",\"1.5653\",\"1.4244\",\"2.2603\",\"1.8596\",\"0.6292\",\"1.1896\",\"4.3984\",\"4.6958\",\"2.1131\",\"0.8609\",\"1.5653\",\"1.0566\",\"1.8658\",\"0.9673\",\"0.9955\",\"1.775\",\"2.2227\",\"2.9709\",\"5.4785\",\"1.4088\",\"1.8783\",\"2.2853\",\"1.5402\",\"1.0581\",\"1.2491\",\"0.8609\",\"2.171\",\"5.0778\",\"3.9132\",\"1.2522\",\"1.4088\",\"1.3305\",\"1.9723\",\"1.7281\",\"0.6605\",\"0.7357\",\"1.1239\",\"3.6628\",\"6.2611\",\"4.9025\",\"4.6958\",\"1.8783\",\"1.174\",\"1.4088\",\"0.9548\",\"1.5715\",\"1.0331\",\"1.1614\",\"1.2178\",\"1.4119\",\"4.4172\",\"6.5898\",\"4.6958\",\"1.4088\",\"2.1444\",\"1.0957\",\"1.4088\",\"1.3305\",\"2.171\",\"1.8439\",\"0.6073\",\"0.6512\",\"1.1427\",\"4.3891\",\"4.6958\",\"2.0349\",\"0.8609\",\"1.5653\",\"2.0036\",\"0.9908\",\"1.8423\",\"0.8953\",\"0.9564\",\"1.7938\",\"2.3197\",\"3.14\",\"5.4785\",\"1.4088\",\"1.8783\",\"2.0818\",\"1.4776\",\"0.9767\",\"1.1489\",\"0.8139\",\"2.0568\",\"4.8602\",\"3.9132\",\"1.2522\",\"1.4088\",\"1.174\",\"1.7688\",\"1.7343\",\"0.6543\",\"0.6778\",\"1.0675\",\"3.5501\",\"6.2611\",\"4.8117\",\"4.6958\",\"1.8783\",\"1.174\",\"1.2522\",\"2.4137\",\"0.9783\",\"1.5856\",\"0.9799\",\"1.1114\",\"1.1301\",\"1.39\",\"3.932\",\"5.9449\",\"4.6958\",\"1.4088\",\"1.9253\",\"1.0957\",\"1.2522\",\"2.3479\",\"1.2522\",\"2.0145\",\"1.8283\",\"0.5698\",\"0.6261\",\"1.0988\",\"4.173\",\"4.6958\",\"2.0349\",\"0.8609\",\"1.4088\",\"1.0096\",\"1.8517\",\"0.8766\",\"0.9141\",\"1.7406\",\"1.8846\",\"2.9365\",\"5.4785\",\"1.4088\",\"1.9566\",\"1.4526\",\"0.9548\",\"0.7435\",\"2.0192\",\"4.3515\",\"3.9132\",\"1.2522\",\"1.3305\",\"1.0957\",\"1.7296\"],\"yaxis\":\"y\",\"type\":\"scattergl\"}],                        {\"template\":{\"data\":{\"bar\":[{\"error_x\":{\"color\":\"#2a3f5f\"},\"error_y\":{\"color\":\"#2a3f5f\"},\"marker\":{\"line\":{\"color\":\"#E5ECF6\",\"width\":0.5},\"pattern\":{\"fillmode\":\"overlay\",\"size\":10,\"solidity\":0.2}},\"type\":\"bar\"}],\"barpolar\":[{\"marker\":{\"line\":{\"color\":\"#E5ECF6\",\"width\":0.5},\"pattern\":{\"fillmode\":\"overlay\",\"size\":10,\"solidity\":0.2}},\"type\":\"barpolar\"}],\"carpet\":[{\"aaxis\":{\"endlinecolor\":\"#2a3f5f\",\"gridcolor\":\"white\",\"linecolor\":\"white\",\"minorgridcolor\":\"white\",\"startlinecolor\":\"#2a3f5f\"},\"baxis\":{\"endlinecolor\":\"#2a3f5f\",\"gridcolor\":\"white\",\"linecolor\":\"white\",\"minorgridcolor\":\"white\",\"startlinecolor\":\"#2a3f5f\"},\"type\":\"carpet\"}],\"choropleth\":[{\"colorbar\":{\"outlinewidth\":0,\"ticks\":\"\"},\"type\":\"choropleth\"}],\"contour\":[{\"colorbar\":{\"outlinewidth\":0,\"ticks\":\"\"},\"colorscale\":[[0.0,\"#0d0887\"],[0.1111111111111111,\"#46039f\"],[0.2222222222222222,\"#7201a8\"],[0.3333333333333333,\"#9c179e\"],[0.4444444444444444,\"#bd3786\"],[0.5555555555555556,\"#d8576b\"],[0.6666666666666666,\"#ed7953\"],[0.7777777777777778,\"#fb9f3a\"],[0.8888888888888888,\"#fdca26\"],[1.0,\"#f0f921\"]],\"type\":\"contour\"}],\"contourcarpet\":[{\"colorbar\":{\"outlinewidth\":0,\"ticks\":\"\"},\"type\":\"contourcarpet\"}],\"heatmap\":[{\"colorbar\":{\"outlinewidth\":0,\"ticks\":\"\"},\"colorscale\":[[0.0,\"#0d0887\"],[0.1111111111111111,\"#46039f\"],[0.2222222222222222,\"#7201a8\"],[0.3333333333333333,\"#9c179e\"],[0.4444444444444444,\"#bd3786\"],[0.5555555555555556,\"#d8576b\"],[0.6666666666666666,\"#ed7953\"],[0.7777777777777778,\"#fb9f3a\"],[0.8888888888888888,\"#fdca26\"],[1.0,\"#f0f921\"]],\"type\":\"heatmap\"}],\"heatmapgl\":[{\"colorbar\":{\"outlinewidth\":0,\"ticks\":\"\"},\"colorscale\":[[0.0,\"#0d0887\"],[0.1111111111111111,\"#46039f\"],[0.2222222222222222,\"#7201a8\"],[0.3333333333333333,\"#9c179e\"],[0.4444444444444444,\"#bd3786\"],[0.5555555555555556,\"#d8576b\"],[0.6666666666666666,\"#ed7953\"],[0.7777777777777778,\"#fb9f3a\"],[0.8888888888888888,\"#fdca26\"],[1.0,\"#f0f921\"]],\"type\":\"heatmapgl\"}],\"histogram\":[{\"marker\":{\"pattern\":{\"fillmode\":\"overlay\",\"size\":10,\"solidity\":0.2}},\"type\":\"histogram\"}],\"histogram2d\":[{\"colorbar\":{\"outlinewidth\":0,\"ticks\":\"\"},\"colorscale\":[[0.0,\"#0d0887\"],[0.1111111111111111,\"#46039f\"],[0.2222222222222222,\"#7201a8\"],[0.3333333333333333,\"#9c179e\"],[0.4444444444444444,\"#bd3786\"],[0.5555555555555556,\"#d8576b\"],[0.6666666666666666,\"#ed7953\"],[0.7777777777777778,\"#fb9f3a\"],[0.8888888888888888,\"#fdca26\"],[1.0,\"#f0f921\"]],\"type\":\"histogram2d\"}],\"histogram2dcontour\":[{\"colorbar\":{\"outlinewidth\":0,\"ticks\":\"\"},\"colorscale\":[[0.0,\"#0d0887\"],[0.1111111111111111,\"#46039f\"],[0.2222222222222222,\"#7201a8\"],[0.3333333333333333,\"#9c179e\"],[0.4444444444444444,\"#bd3786\"],[0.5555555555555556,\"#d8576b\"],[0.6666666666666666,\"#ed7953\"],[0.7777777777777778,\"#fb9f3a\"],[0.8888888888888888,\"#fdca26\"],[1.0,\"#f0f921\"]],\"type\":\"histogram2dcontour\"}],\"mesh3d\":[{\"colorbar\":{\"outlinewidth\":0,\"ticks\":\"\"},\"type\":\"mesh3d\"}],\"parcoords\":[{\"line\":{\"colorbar\":{\"outlinewidth\":0,\"ticks\":\"\"}},\"type\":\"parcoords\"}],\"pie\":[{\"automargin\":true,\"type\":\"pie\"}],\"scatter\":[{\"marker\":{\"colorbar\":{\"outlinewidth\":0,\"ticks\":\"\"}},\"type\":\"scatter\"}],\"scatter3d\":[{\"line\":{\"colorbar\":{\"outlinewidth\":0,\"ticks\":\"\"}},\"marker\":{\"colorbar\":{\"outlinewidth\":0,\"ticks\":\"\"}},\"type\":\"scatter3d\"}],\"scattercarpet\":[{\"marker\":{\"colorbar\":{\"outlinewidth\":0,\"ticks\":\"\"}},\"type\":\"scattercarpet\"}],\"scattergeo\":[{\"marker\":{\"colorbar\":{\"outlinewidth\":0,\"ticks\":\"\"}},\"type\":\"scattergeo\"}],\"scattergl\":[{\"marker\":{\"colorbar\":{\"outlinewidth\":0,\"ticks\":\"\"}},\"type\":\"scattergl\"}],\"scattermapbox\":[{\"marker\":{\"colorbar\":{\"outlinewidth\":0,\"ticks\":\"\"}},\"type\":\"scattermapbox\"}],\"scatterpolar\":[{\"marker\":{\"colorbar\":{\"outlinewidth\":0,\"ticks\":\"\"}},\"type\":\"scatterpolar\"}],\"scatterpolargl\":[{\"marker\":{\"colorbar\":{\"outlinewidth\":0,\"ticks\":\"\"}},\"type\":\"scatterpolargl\"}],\"scatterternary\":[{\"marker\":{\"colorbar\":{\"outlinewidth\":0,\"ticks\":\"\"}},\"type\":\"scatterternary\"}],\"surface\":[{\"colorbar\":{\"outlinewidth\":0,\"ticks\":\"\"},\"colorscale\":[[0.0,\"#0d0887\"],[0.1111111111111111,\"#46039f\"],[0.2222222222222222,\"#7201a8\"],[0.3333333333333333,\"#9c179e\"],[0.4444444444444444,\"#bd3786\"],[0.5555555555555556,\"#d8576b\"],[0.6666666666666666,\"#ed7953\"],[0.7777777777777778,\"#fb9f3a\"],[0.8888888888888888,\"#fdca26\"],[1.0,\"#f0f921\"]],\"type\":\"surface\"}],\"table\":[{\"cells\":{\"fill\":{\"color\":\"#EBF0F8\"},\"line\":{\"color\":\"white\"}},\"header\":{\"fill\":{\"color\":\"#C8D4E3\"},\"line\":{\"color\":\"white\"}},\"type\":\"table\"}]},\"layout\":{\"annotationdefaults\":{\"arrowcolor\":\"#2a3f5f\",\"arrowhead\":0,\"arrowwidth\":1},\"autotypenumbers\":\"strict\",\"coloraxis\":{\"colorbar\":{\"outlinewidth\":0,\"ticks\":\"\"}},\"colorscale\":{\"diverging\":[[0,\"#8e0152\"],[0.1,\"#c51b7d\"],[0.2,\"#de77ae\"],[0.3,\"#f1b6da\"],[0.4,\"#fde0ef\"],[0.5,\"#f7f7f7\"],[0.6,\"#e6f5d0\"],[0.7,\"#b8e186\"],[0.8,\"#7fbc41\"],[0.9,\"#4d9221\"],[1,\"#276419\"]],\"sequential\":[[0.0,\"#0d0887\"],[0.1111111111111111,\"#46039f\"],[0.2222222222222222,\"#7201a8\"],[0.3333333333333333,\"#9c179e\"],[0.4444444444444444,\"#bd3786\"],[0.5555555555555556,\"#d8576b\"],[0.6666666666666666,\"#ed7953\"],[0.7777777777777778,\"#fb9f3a\"],[0.8888888888888888,\"#fdca26\"],[1.0,\"#f0f921\"]],\"sequentialminus\":[[0.0,\"#0d0887\"],[0.1111111111111111,\"#46039f\"],[0.2222222222222222,\"#7201a8\"],[0.3333333333333333,\"#9c179e\"],[0.4444444444444444,\"#bd3786\"],[0.5555555555555556,\"#d8576b\"],[0.6666666666666666,\"#ed7953\"],[0.7777777777777778,\"#fb9f3a\"],[0.8888888888888888,\"#fdca26\"],[1.0,\"#f0f921\"]]},\"colorway\":[\"#636efa\",\"#EF553B\",\"#00cc96\",\"#ab63fa\",\"#FFA15A\",\"#19d3f3\",\"#FF6692\",\"#B6E880\",\"#FF97FF\",\"#FECB52\"],\"font\":{\"color\":\"#2a3f5f\"},\"geo\":{\"bgcolor\":\"white\",\"lakecolor\":\"white\",\"landcolor\":\"#E5ECF6\",\"showlakes\":true,\"showland\":true,\"subunitcolor\":\"white\"},\"hoverlabel\":{\"align\":\"left\"},\"hovermode\":\"closest\",\"mapbox\":{\"style\":\"light\"},\"paper_bgcolor\":\"white\",\"plot_bgcolor\":\"#E5ECF6\",\"polar\":{\"angularaxis\":{\"gridcolor\":\"white\",\"linecolor\":\"white\",\"ticks\":\"\"},\"bgcolor\":\"#E5ECF6\",\"radialaxis\":{\"gridcolor\":\"white\",\"linecolor\":\"white\",\"ticks\":\"\"}},\"scene\":{\"xaxis\":{\"backgroundcolor\":\"#E5ECF6\",\"gridcolor\":\"white\",\"gridwidth\":2,\"linecolor\":\"white\",\"showbackground\":true,\"ticks\":\"\",\"zerolinecolor\":\"white\"},\"yaxis\":{\"backgroundcolor\":\"#E5ECF6\",\"gridcolor\":\"white\",\"gridwidth\":2,\"linecolor\":\"white\",\"showbackground\":true,\"ticks\":\"\",\"zerolinecolor\":\"white\"},\"zaxis\":{\"backgroundcolor\":\"#E5ECF6\",\"gridcolor\":\"white\",\"gridwidth\":2,\"linecolor\":\"white\",\"showbackground\":true,\"ticks\":\"\",\"zerolinecolor\":\"white\"}},\"shapedefaults\":{\"line\":{\"color\":\"#2a3f5f\"}},\"ternary\":{\"aaxis\":{\"gridcolor\":\"white\",\"linecolor\":\"white\",\"ticks\":\"\"},\"baxis\":{\"gridcolor\":\"white\",\"linecolor\":\"white\",\"ticks\":\"\"},\"bgcolor\":\"#E5ECF6\",\"caxis\":{\"gridcolor\":\"white\",\"linecolor\":\"white\",\"ticks\":\"\"}},\"title\":{\"x\":0.05},\"xaxis\":{\"automargin\":true,\"gridcolor\":\"white\",\"linecolor\":\"white\",\"ticks\":\"\",\"title\":{\"standoff\":15},\"zerolinecolor\":\"white\",\"zerolinewidth\":2},\"yaxis\":{\"automargin\":true,\"gridcolor\":\"white\",\"linecolor\":\"white\",\"ticks\":\"\",\"title\":{\"standoff\":15},\"zerolinecolor\":\"white\",\"zerolinewidth\":2}}},\"xaxis\":{\"anchor\":\"y\",\"domain\":[0.0,1.0],\"title\":{\"text\":\"date\"}},\"yaxis\":{\"anchor\":\"x\",\"domain\":[0.0,1.0],\"title\":{\"text\":\"usdprice\"}},\"legend\":{\"tracegroupgap\":0},\"margin\":{\"t\":60}},                        {\"responsive\": true}                    ).then(function(){\n",
              "                            \n",
              "var gd = document.getElementById('a28275dd-d8e9-4dd4-b812-daed7f4067a1');\n",
              "var x = new MutationObserver(function (mutations, observer) {{\n",
              "        var display = window.getComputedStyle(gd).display;\n",
              "        if (!display || display === 'none') {{\n",
              "            console.log([gd, 'removed!']);\n",
              "            Plotly.purge(gd);\n",
              "            observer.disconnect();\n",
              "        }}\n",
              "}});\n",
              "\n",
              "// Listen for the removal of the full notebook cells\n",
              "var notebookContainer = gd.closest('#notebook-container');\n",
              "if (notebookContainer) {{\n",
              "    x.observe(notebookContainer, {childList: true});\n",
              "}}\n",
              "\n",
              "// Listen for the clearing of the current output cell\n",
              "var outputEl = gd.closest('.output');\n",
              "if (outputEl) {{\n",
              "    x.observe(outputEl, {childList: true});\n",
              "}}\n",
              "\n",
              "                        })                };                            </script>        </div>\n",
              "</body>\n",
              "</html>"
            ]
          },
          "metadata": {}
        }
      ]
    },
    {
      "cell_type": "code",
      "source": [
        "congo_df"
      ],
      "metadata": {
        "id": "lbC8-RcLsRWl",
        "outputId": "2e838057-d1d8-4b40-b383-b1fbcd925991",
        "colab": {
          "base_uri": "https://localhost:8080/",
          "height": 815
        }
      },
      "execution_count": 20,
      "outputs": [
        {
          "output_type": "execute_result",
          "data": {
            "text/plain": [
              "           date       admin1        admin2  \\\n",
              "1    2011-01-15  Brazzaville   Brazzaville   \n",
              "2    2011-01-15  Brazzaville   Brazzaville   \n",
              "3    2011-01-15  Brazzaville   Brazzaville   \n",
              "4    2011-01-15  Brazzaville   Brazzaville   \n",
              "5    2011-01-15  Brazzaville   Brazzaville   \n",
              "...         ...          ...           ...   \n",
              "4756 2020-07-15  Point-Noire  Pointe-Noire   \n",
              "4757 2020-07-15  Point-Noire  Pointe-Noire   \n",
              "4758 2020-07-15  Point-Noire  Pointe-Noire   \n",
              "4759 2020-07-15  Point-Noire  Pointe-Noire   \n",
              "4760 2020-07-15  Point-Noire  Pointe-Noire   \n",
              "\n",
              "                                    market            latitude  \\\n",
              "1                                  Mikalou           -4.259167   \n",
              "2                                 Moungali           -4.259167   \n",
              "3                                 Moungali           -4.259167   \n",
              "4                                   Ouenzé          -4.2452176   \n",
              "5                                   Ouenzé          -4.2452176   \n",
              "...                                    ...                 ...   \n",
              "4756  Grand marché/Fond Ntié-Ntié/Nkouikou  -4.794722080230713   \n",
              "4757  Grand marché/Fond Ntié-Ntié/Nkouikou  -4.794722080230713   \n",
              "4758  Grand marché/Fond Ntié-Ntié/Nkouikou  -4.794722080230713   \n",
              "4759  Grand marché/Fond Ntié-Ntié/Nkouikou  -4.794722080230713   \n",
              "4760  Grand marché/Fond Ntié-Ntié/Nkouikou  -4.794722080230713   \n",
              "\n",
              "               longitude             category                  commodity unit  \\\n",
              "1              15.284722   cereals and tubers  Rice (mixed, low quality)   KG   \n",
              "2              15.284722   cereals and tubers  Rice (mixed, low quality)   KG   \n",
              "3              15.284722      pulses and nuts              Beans (white)   KG   \n",
              "4             15.2809247   cereals and tubers  Rice (mixed, low quality)   KG   \n",
              "5             15.2809247      pulses and nuts              Beans (white)   KG   \n",
              "...                  ...                  ...                        ...  ...   \n",
              "4756  11.846111297607422  meat, fish and eggs                Meat (beef)   KG   \n",
              "4757  11.846111297607422  meat, fish and eggs     Meat (chicken, frozen)   KG   \n",
              "4758  11.846111297607422         oil and fats                 Oil (palm)    L   \n",
              "4759  11.846111297607422         oil and fats            Oil (vegetable)    L   \n",
              "4760  11.846111297607422      pulses and nuts       Groundnuts (shelled)   KG   \n",
              "\n",
              "     priceflag pricetype currency   price usdprice  \n",
              "1       actual    Retail      XAF   635.0    0.994  \n",
              "2       actual    Retail      XAF   575.0      0.9  \n",
              "3       actual    Retail      XAF  1739.0    2.722  \n",
              "4       actual    Retail      XAF   595.0   0.9313  \n",
              "5       actual    Retail      XAF  1507.0   2.3589  \n",
              "...        ...       ...      ...     ...      ...  \n",
              "4756    actual    Retail      XAF  2500.0   3.9132  \n",
              "4757    actual    Retail      XAF   800.0   1.2522  \n",
              "4758    actual    Retail      XAF   850.0   1.3305  \n",
              "4759    actual    Retail      XAF   700.0   1.0957  \n",
              "4760    actual    Retail      XAF  1105.0   1.7296  \n",
              "\n",
              "[4760 rows x 14 columns]"
            ],
            "text/html": [
              "\n",
              "  <div id=\"df-197547e0-c7bb-43df-b35b-a113fd132449\">\n",
              "    <div class=\"colab-df-container\">\n",
              "      <div>\n",
              "<style scoped>\n",
              "    .dataframe tbody tr th:only-of-type {\n",
              "        vertical-align: middle;\n",
              "    }\n",
              "\n",
              "    .dataframe tbody tr th {\n",
              "        vertical-align: top;\n",
              "    }\n",
              "\n",
              "    .dataframe thead th {\n",
              "        text-align: right;\n",
              "    }\n",
              "</style>\n",
              "<table border=\"1\" class=\"dataframe\">\n",
              "  <thead>\n",
              "    <tr style=\"text-align: right;\">\n",
              "      <th></th>\n",
              "      <th>date</th>\n",
              "      <th>admin1</th>\n",
              "      <th>admin2</th>\n",
              "      <th>market</th>\n",
              "      <th>latitude</th>\n",
              "      <th>longitude</th>\n",
              "      <th>category</th>\n",
              "      <th>commodity</th>\n",
              "      <th>unit</th>\n",
              "      <th>priceflag</th>\n",
              "      <th>pricetype</th>\n",
              "      <th>currency</th>\n",
              "      <th>price</th>\n",
              "      <th>usdprice</th>\n",
              "    </tr>\n",
              "  </thead>\n",
              "  <tbody>\n",
              "    <tr>\n",
              "      <th>1</th>\n",
              "      <td>2011-01-15</td>\n",
              "      <td>Brazzaville</td>\n",
              "      <td>Brazzaville</td>\n",
              "      <td>Mikalou</td>\n",
              "      <td>-4.259167</td>\n",
              "      <td>15.284722</td>\n",
              "      <td>cereals and tubers</td>\n",
              "      <td>Rice (mixed, low quality)</td>\n",
              "      <td>KG</td>\n",
              "      <td>actual</td>\n",
              "      <td>Retail</td>\n",
              "      <td>XAF</td>\n",
              "      <td>635.0</td>\n",
              "      <td>0.994</td>\n",
              "    </tr>\n",
              "    <tr>\n",
              "      <th>2</th>\n",
              "      <td>2011-01-15</td>\n",
              "      <td>Brazzaville</td>\n",
              "      <td>Brazzaville</td>\n",
              "      <td>Moungali</td>\n",
              "      <td>-4.259167</td>\n",
              "      <td>15.284722</td>\n",
              "      <td>cereals and tubers</td>\n",
              "      <td>Rice (mixed, low quality)</td>\n",
              "      <td>KG</td>\n",
              "      <td>actual</td>\n",
              "      <td>Retail</td>\n",
              "      <td>XAF</td>\n",
              "      <td>575.0</td>\n",
              "      <td>0.9</td>\n",
              "    </tr>\n",
              "    <tr>\n",
              "      <th>3</th>\n",
              "      <td>2011-01-15</td>\n",
              "      <td>Brazzaville</td>\n",
              "      <td>Brazzaville</td>\n",
              "      <td>Moungali</td>\n",
              "      <td>-4.259167</td>\n",
              "      <td>15.284722</td>\n",
              "      <td>pulses and nuts</td>\n",
              "      <td>Beans (white)</td>\n",
              "      <td>KG</td>\n",
              "      <td>actual</td>\n",
              "      <td>Retail</td>\n",
              "      <td>XAF</td>\n",
              "      <td>1739.0</td>\n",
              "      <td>2.722</td>\n",
              "    </tr>\n",
              "    <tr>\n",
              "      <th>4</th>\n",
              "      <td>2011-01-15</td>\n",
              "      <td>Brazzaville</td>\n",
              "      <td>Brazzaville</td>\n",
              "      <td>Ouenzé</td>\n",
              "      <td>-4.2452176</td>\n",
              "      <td>15.2809247</td>\n",
              "      <td>cereals and tubers</td>\n",
              "      <td>Rice (mixed, low quality)</td>\n",
              "      <td>KG</td>\n",
              "      <td>actual</td>\n",
              "      <td>Retail</td>\n",
              "      <td>XAF</td>\n",
              "      <td>595.0</td>\n",
              "      <td>0.9313</td>\n",
              "    </tr>\n",
              "    <tr>\n",
              "      <th>5</th>\n",
              "      <td>2011-01-15</td>\n",
              "      <td>Brazzaville</td>\n",
              "      <td>Brazzaville</td>\n",
              "      <td>Ouenzé</td>\n",
              "      <td>-4.2452176</td>\n",
              "      <td>15.2809247</td>\n",
              "      <td>pulses and nuts</td>\n",
              "      <td>Beans (white)</td>\n",
              "      <td>KG</td>\n",
              "      <td>actual</td>\n",
              "      <td>Retail</td>\n",
              "      <td>XAF</td>\n",
              "      <td>1507.0</td>\n",
              "      <td>2.3589</td>\n",
              "    </tr>\n",
              "    <tr>\n",
              "      <th>...</th>\n",
              "      <td>...</td>\n",
              "      <td>...</td>\n",
              "      <td>...</td>\n",
              "      <td>...</td>\n",
              "      <td>...</td>\n",
              "      <td>...</td>\n",
              "      <td>...</td>\n",
              "      <td>...</td>\n",
              "      <td>...</td>\n",
              "      <td>...</td>\n",
              "      <td>...</td>\n",
              "      <td>...</td>\n",
              "      <td>...</td>\n",
              "      <td>...</td>\n",
              "    </tr>\n",
              "    <tr>\n",
              "      <th>4756</th>\n",
              "      <td>2020-07-15</td>\n",
              "      <td>Point-Noire</td>\n",
              "      <td>Pointe-Noire</td>\n",
              "      <td>Grand marché/Fond Ntié-Ntié/Nkouikou</td>\n",
              "      <td>-4.794722080230713</td>\n",
              "      <td>11.846111297607422</td>\n",
              "      <td>meat, fish and eggs</td>\n",
              "      <td>Meat (beef)</td>\n",
              "      <td>KG</td>\n",
              "      <td>actual</td>\n",
              "      <td>Retail</td>\n",
              "      <td>XAF</td>\n",
              "      <td>2500.0</td>\n",
              "      <td>3.9132</td>\n",
              "    </tr>\n",
              "    <tr>\n",
              "      <th>4757</th>\n",
              "      <td>2020-07-15</td>\n",
              "      <td>Point-Noire</td>\n",
              "      <td>Pointe-Noire</td>\n",
              "      <td>Grand marché/Fond Ntié-Ntié/Nkouikou</td>\n",
              "      <td>-4.794722080230713</td>\n",
              "      <td>11.846111297607422</td>\n",
              "      <td>meat, fish and eggs</td>\n",
              "      <td>Meat (chicken, frozen)</td>\n",
              "      <td>KG</td>\n",
              "      <td>actual</td>\n",
              "      <td>Retail</td>\n",
              "      <td>XAF</td>\n",
              "      <td>800.0</td>\n",
              "      <td>1.2522</td>\n",
              "    </tr>\n",
              "    <tr>\n",
              "      <th>4758</th>\n",
              "      <td>2020-07-15</td>\n",
              "      <td>Point-Noire</td>\n",
              "      <td>Pointe-Noire</td>\n",
              "      <td>Grand marché/Fond Ntié-Ntié/Nkouikou</td>\n",
              "      <td>-4.794722080230713</td>\n",
              "      <td>11.846111297607422</td>\n",
              "      <td>oil and fats</td>\n",
              "      <td>Oil (palm)</td>\n",
              "      <td>L</td>\n",
              "      <td>actual</td>\n",
              "      <td>Retail</td>\n",
              "      <td>XAF</td>\n",
              "      <td>850.0</td>\n",
              "      <td>1.3305</td>\n",
              "    </tr>\n",
              "    <tr>\n",
              "      <th>4759</th>\n",
              "      <td>2020-07-15</td>\n",
              "      <td>Point-Noire</td>\n",
              "      <td>Pointe-Noire</td>\n",
              "      <td>Grand marché/Fond Ntié-Ntié/Nkouikou</td>\n",
              "      <td>-4.794722080230713</td>\n",
              "      <td>11.846111297607422</td>\n",
              "      <td>oil and fats</td>\n",
              "      <td>Oil (vegetable)</td>\n",
              "      <td>L</td>\n",
              "      <td>actual</td>\n",
              "      <td>Retail</td>\n",
              "      <td>XAF</td>\n",
              "      <td>700.0</td>\n",
              "      <td>1.0957</td>\n",
              "    </tr>\n",
              "    <tr>\n",
              "      <th>4760</th>\n",
              "      <td>2020-07-15</td>\n",
              "      <td>Point-Noire</td>\n",
              "      <td>Pointe-Noire</td>\n",
              "      <td>Grand marché/Fond Ntié-Ntié/Nkouikou</td>\n",
              "      <td>-4.794722080230713</td>\n",
              "      <td>11.846111297607422</td>\n",
              "      <td>pulses and nuts</td>\n",
              "      <td>Groundnuts (shelled)</td>\n",
              "      <td>KG</td>\n",
              "      <td>actual</td>\n",
              "      <td>Retail</td>\n",
              "      <td>XAF</td>\n",
              "      <td>1105.0</td>\n",
              "      <td>1.7296</td>\n",
              "    </tr>\n",
              "  </tbody>\n",
              "</table>\n",
              "<p>4760 rows × 14 columns</p>\n",
              "</div>\n",
              "      <button class=\"colab-df-convert\" onclick=\"convertToInteractive('df-197547e0-c7bb-43df-b35b-a113fd132449')\"\n",
              "              title=\"Convert this dataframe to an interactive table.\"\n",
              "              style=\"display:none;\">\n",
              "        \n",
              "  <svg xmlns=\"http://www.w3.org/2000/svg\" height=\"24px\"viewBox=\"0 0 24 24\"\n",
              "       width=\"24px\">\n",
              "    <path d=\"M0 0h24v24H0V0z\" fill=\"none\"/>\n",
              "    <path d=\"M18.56 5.44l.94 2.06.94-2.06 2.06-.94-2.06-.94-.94-2.06-.94 2.06-2.06.94zm-11 1L8.5 8.5l.94-2.06 2.06-.94-2.06-.94L8.5 2.5l-.94 2.06-2.06.94zm10 10l.94 2.06.94-2.06 2.06-.94-2.06-.94-.94-2.06-.94 2.06-2.06.94z\"/><path d=\"M17.41 7.96l-1.37-1.37c-.4-.4-.92-.59-1.43-.59-.52 0-1.04.2-1.43.59L10.3 9.45l-7.72 7.72c-.78.78-.78 2.05 0 2.83L4 21.41c.39.39.9.59 1.41.59.51 0 1.02-.2 1.41-.59l7.78-7.78 2.81-2.81c.8-.78.8-2.07 0-2.86zM5.41 20L4 18.59l7.72-7.72 1.47 1.35L5.41 20z\"/>\n",
              "  </svg>\n",
              "      </button>\n",
              "      \n",
              "  <style>\n",
              "    .colab-df-container {\n",
              "      display:flex;\n",
              "      flex-wrap:wrap;\n",
              "      gap: 12px;\n",
              "    }\n",
              "\n",
              "    .colab-df-convert {\n",
              "      background-color: #E8F0FE;\n",
              "      border: none;\n",
              "      border-radius: 50%;\n",
              "      cursor: pointer;\n",
              "      display: none;\n",
              "      fill: #1967D2;\n",
              "      height: 32px;\n",
              "      padding: 0 0 0 0;\n",
              "      width: 32px;\n",
              "    }\n",
              "\n",
              "    .colab-df-convert:hover {\n",
              "      background-color: #E2EBFA;\n",
              "      box-shadow: 0px 1px 2px rgba(60, 64, 67, 0.3), 0px 1px 3px 1px rgba(60, 64, 67, 0.15);\n",
              "      fill: #174EA6;\n",
              "    }\n",
              "\n",
              "    [theme=dark] .colab-df-convert {\n",
              "      background-color: #3B4455;\n",
              "      fill: #D2E3FC;\n",
              "    }\n",
              "\n",
              "    [theme=dark] .colab-df-convert:hover {\n",
              "      background-color: #434B5C;\n",
              "      box-shadow: 0px 1px 3px 1px rgba(0, 0, 0, 0.15);\n",
              "      filter: drop-shadow(0px 1px 2px rgba(0, 0, 0, 0.3));\n",
              "      fill: #FFFFFF;\n",
              "    }\n",
              "  </style>\n",
              "\n",
              "      <script>\n",
              "        const buttonEl =\n",
              "          document.querySelector('#df-197547e0-c7bb-43df-b35b-a113fd132449 button.colab-df-convert');\n",
              "        buttonEl.style.display =\n",
              "          google.colab.kernel.accessAllowed ? 'block' : 'none';\n",
              "\n",
              "        async function convertToInteractive(key) {\n",
              "          const element = document.querySelector('#df-197547e0-c7bb-43df-b35b-a113fd132449');\n",
              "          const dataTable =\n",
              "            await google.colab.kernel.invokeFunction('convertToInteractive',\n",
              "                                                     [key], {});\n",
              "          if (!dataTable) return;\n",
              "\n",
              "          const docLinkHtml = 'Like what you see? Visit the ' +\n",
              "            '<a target=\"_blank\" href=https://colab.research.google.com/notebooks/data_table.ipynb>data table notebook</a>'\n",
              "            + ' to learn more about interactive tables.';\n",
              "          element.innerHTML = '';\n",
              "          dataTable['output_type'] = 'display_data';\n",
              "          await google.colab.output.renderOutput(dataTable, element);\n",
              "          const docLink = document.createElement('div');\n",
              "          docLink.innerHTML = docLinkHtml;\n",
              "          element.appendChild(docLink);\n",
              "        }\n",
              "      </script>\n",
              "    </div>\n",
              "  </div>\n",
              "  "
            ]
          },
          "metadata": {},
          "execution_count": 20
        }
      ]
    },
    {
      "cell_type": "code",
      "source": [
        "print(congo_df['date'].head(100))"
      ],
      "metadata": {
        "id": "PqVlqY4gsRTk",
        "outputId": "9df9c1ab-82ea-4665-de8d-947b772ba301",
        "colab": {
          "base_uri": "https://localhost:8080/"
        }
      },
      "execution_count": 23,
      "outputs": [
        {
          "output_type": "stream",
          "name": "stdout",
          "text": [
            "1     2011-01-15\n",
            "2     2011-01-15\n",
            "3     2011-01-15\n",
            "4     2011-01-15\n",
            "5     2011-01-15\n",
            "         ...    \n",
            "96    2011-08-15\n",
            "97    2011-08-15\n",
            "98    2011-08-15\n",
            "99    2011-08-15\n",
            "100   2011-08-15\n",
            "Name: date, Length: 100, dtype: datetime64[ns]\n"
          ]
        }
      ]
    },
    {
      "cell_type": "code",
      "source": [
        "# Creating an object using groupby\n",
        "grouped = df.groupby('Degree')\n",
        "  \n",
        "# the return type of the object 'grouped' is \n",
        "# pandas.core.groupby.generic.DataFrameGroupBy.\n",
        "  \n",
        "# Creating a dataframe from the object using get_group().\n",
        "# dataframe of students with Degree as MBA.\n",
        "df_grouped = grouped.get_group('MBA')\n",
        "\n",
        "\n",
        "# Creating another object using groupby\n",
        "grouped2 = df.groupby('Score')\n",
        "  \n",
        "# the return type of the object 'grouped2' is \n",
        "# pandas.core.groupby.generic.DataFrameGroupBy.\n",
        "  \n",
        "# Creating a dataframe from the object \n",
        "# using get_group() dataframe of students\n",
        "# with Score = 90\n",
        "df_grouped2 = grouped2.get_group(90)\n",
        "  \n",
        "print(df_grouped2)\n",
        "\n",
        "congo_grp = congo_df.groupby('category')\n",
        "\n",
        "grouped_df = grouped.get_group('cereals and tubers')\n",
        "\n",
        "congo_group2 = congo_df.groupby('price')\n",
        "\n",
        "congo_group2 = congo_group2.get_group\n",
        "\n",
        "\n"
      ],
      "metadata": {
        "id": "wwEHhU5-nhaD"
      },
      "execution_count": null,
      "outputs": []
    },
    {
      "cell_type": "code",
      "source": [
        "nga_df = pd.read_csv('wfp_food_prices_nga.csv')"
      ],
      "metadata": {
        "id": "JpTxnHDanhWi"
      },
      "execution_count": 19,
      "outputs": []
    },
    {
      "cell_type": "code",
      "source": [
        "nga_df.head()"
      ],
      "metadata": {
        "id": "LfSacBs9nhTR",
        "outputId": "996d2dfa-cf05-4b9c-a50c-a480166b042f",
        "colab": {
          "base_uri": "https://localhost:8080/",
          "height": 320
        }
      },
      "execution_count": 20,
      "outputs": [
        {
          "output_type": "execute_result",
          "data": {
            "text/plain": [
              "         date      admin1      admin2            market  latitude longitude  \\\n",
              "0       #date  #adm1+name  #adm2+name  #loc+market+name  #geo+lat  #geo+lon   \n",
              "1  2002-01-15     Katsina       Jibia       Jibia (CBM)     13.08      7.24   \n",
              "2  2002-01-15     Katsina       Jibia       Jibia (CBM)     13.08      7.24   \n",
              "3  2002-01-15     Katsina       Jibia       Jibia (CBM)     13.08      7.24   \n",
              "4  2002-01-15     Katsina       Jibia       Jibia (CBM)     13.08      7.24   \n",
              "\n",
              "             category        commodity        unit         priceflag  \\\n",
              "0          #item+type       #item+name  #item+unit  #item+price+flag   \n",
              "1  cereals and tubers            Maize          KG            actual   \n",
              "2  cereals and tubers           Millet          KG            actual   \n",
              "3  cereals and tubers  Rice (imported)          KG            actual   \n",
              "4  cereals and tubers          Sorghum          KG            actual   \n",
              "\n",
              "          pricetype   currency   price    usdprice  \n",
              "0  #item+price+type  #currency  #value  #value+usd  \n",
              "1         Wholesale        NGN  175.92      0.4198  \n",
              "2         Wholesale        NGN  150.18      0.3584  \n",
              "3         Wholesale        NGN   358.7      0.8561  \n",
              "4         Wholesale        NGN  155.61      0.3714  "
            ],
            "text/html": [
              "\n",
              "  <div id=\"df-34c0d19f-4e97-4685-a940-fe1367fc9259\">\n",
              "    <div class=\"colab-df-container\">\n",
              "      <div>\n",
              "<style scoped>\n",
              "    .dataframe tbody tr th:only-of-type {\n",
              "        vertical-align: middle;\n",
              "    }\n",
              "\n",
              "    .dataframe tbody tr th {\n",
              "        vertical-align: top;\n",
              "    }\n",
              "\n",
              "    .dataframe thead th {\n",
              "        text-align: right;\n",
              "    }\n",
              "</style>\n",
              "<table border=\"1\" class=\"dataframe\">\n",
              "  <thead>\n",
              "    <tr style=\"text-align: right;\">\n",
              "      <th></th>\n",
              "      <th>date</th>\n",
              "      <th>admin1</th>\n",
              "      <th>admin2</th>\n",
              "      <th>market</th>\n",
              "      <th>latitude</th>\n",
              "      <th>longitude</th>\n",
              "      <th>category</th>\n",
              "      <th>commodity</th>\n",
              "      <th>unit</th>\n",
              "      <th>priceflag</th>\n",
              "      <th>pricetype</th>\n",
              "      <th>currency</th>\n",
              "      <th>price</th>\n",
              "      <th>usdprice</th>\n",
              "    </tr>\n",
              "  </thead>\n",
              "  <tbody>\n",
              "    <tr>\n",
              "      <th>0</th>\n",
              "      <td>#date</td>\n",
              "      <td>#adm1+name</td>\n",
              "      <td>#adm2+name</td>\n",
              "      <td>#loc+market+name</td>\n",
              "      <td>#geo+lat</td>\n",
              "      <td>#geo+lon</td>\n",
              "      <td>#item+type</td>\n",
              "      <td>#item+name</td>\n",
              "      <td>#item+unit</td>\n",
              "      <td>#item+price+flag</td>\n",
              "      <td>#item+price+type</td>\n",
              "      <td>#currency</td>\n",
              "      <td>#value</td>\n",
              "      <td>#value+usd</td>\n",
              "    </tr>\n",
              "    <tr>\n",
              "      <th>1</th>\n",
              "      <td>2002-01-15</td>\n",
              "      <td>Katsina</td>\n",
              "      <td>Jibia</td>\n",
              "      <td>Jibia (CBM)</td>\n",
              "      <td>13.08</td>\n",
              "      <td>7.24</td>\n",
              "      <td>cereals and tubers</td>\n",
              "      <td>Maize</td>\n",
              "      <td>KG</td>\n",
              "      <td>actual</td>\n",
              "      <td>Wholesale</td>\n",
              "      <td>NGN</td>\n",
              "      <td>175.92</td>\n",
              "      <td>0.4198</td>\n",
              "    </tr>\n",
              "    <tr>\n",
              "      <th>2</th>\n",
              "      <td>2002-01-15</td>\n",
              "      <td>Katsina</td>\n",
              "      <td>Jibia</td>\n",
              "      <td>Jibia (CBM)</td>\n",
              "      <td>13.08</td>\n",
              "      <td>7.24</td>\n",
              "      <td>cereals and tubers</td>\n",
              "      <td>Millet</td>\n",
              "      <td>KG</td>\n",
              "      <td>actual</td>\n",
              "      <td>Wholesale</td>\n",
              "      <td>NGN</td>\n",
              "      <td>150.18</td>\n",
              "      <td>0.3584</td>\n",
              "    </tr>\n",
              "    <tr>\n",
              "      <th>3</th>\n",
              "      <td>2002-01-15</td>\n",
              "      <td>Katsina</td>\n",
              "      <td>Jibia</td>\n",
              "      <td>Jibia (CBM)</td>\n",
              "      <td>13.08</td>\n",
              "      <td>7.24</td>\n",
              "      <td>cereals and tubers</td>\n",
              "      <td>Rice (imported)</td>\n",
              "      <td>KG</td>\n",
              "      <td>actual</td>\n",
              "      <td>Wholesale</td>\n",
              "      <td>NGN</td>\n",
              "      <td>358.7</td>\n",
              "      <td>0.8561</td>\n",
              "    </tr>\n",
              "    <tr>\n",
              "      <th>4</th>\n",
              "      <td>2002-01-15</td>\n",
              "      <td>Katsina</td>\n",
              "      <td>Jibia</td>\n",
              "      <td>Jibia (CBM)</td>\n",
              "      <td>13.08</td>\n",
              "      <td>7.24</td>\n",
              "      <td>cereals and tubers</td>\n",
              "      <td>Sorghum</td>\n",
              "      <td>KG</td>\n",
              "      <td>actual</td>\n",
              "      <td>Wholesale</td>\n",
              "      <td>NGN</td>\n",
              "      <td>155.61</td>\n",
              "      <td>0.3714</td>\n",
              "    </tr>\n",
              "  </tbody>\n",
              "</table>\n",
              "</div>\n",
              "      <button class=\"colab-df-convert\" onclick=\"convertToInteractive('df-34c0d19f-4e97-4685-a940-fe1367fc9259')\"\n",
              "              title=\"Convert this dataframe to an interactive table.\"\n",
              "              style=\"display:none;\">\n",
              "        \n",
              "  <svg xmlns=\"http://www.w3.org/2000/svg\" height=\"24px\"viewBox=\"0 0 24 24\"\n",
              "       width=\"24px\">\n",
              "    <path d=\"M0 0h24v24H0V0z\" fill=\"none\"/>\n",
              "    <path d=\"M18.56 5.44l.94 2.06.94-2.06 2.06-.94-2.06-.94-.94-2.06-.94 2.06-2.06.94zm-11 1L8.5 8.5l.94-2.06 2.06-.94-2.06-.94L8.5 2.5l-.94 2.06-2.06.94zm10 10l.94 2.06.94-2.06 2.06-.94-2.06-.94-.94-2.06-.94 2.06-2.06.94z\"/><path d=\"M17.41 7.96l-1.37-1.37c-.4-.4-.92-.59-1.43-.59-.52 0-1.04.2-1.43.59L10.3 9.45l-7.72 7.72c-.78.78-.78 2.05 0 2.83L4 21.41c.39.39.9.59 1.41.59.51 0 1.02-.2 1.41-.59l7.78-7.78 2.81-2.81c.8-.78.8-2.07 0-2.86zM5.41 20L4 18.59l7.72-7.72 1.47 1.35L5.41 20z\"/>\n",
              "  </svg>\n",
              "      </button>\n",
              "      \n",
              "  <style>\n",
              "    .colab-df-container {\n",
              "      display:flex;\n",
              "      flex-wrap:wrap;\n",
              "      gap: 12px;\n",
              "    }\n",
              "\n",
              "    .colab-df-convert {\n",
              "      background-color: #E8F0FE;\n",
              "      border: none;\n",
              "      border-radius: 50%;\n",
              "      cursor: pointer;\n",
              "      display: none;\n",
              "      fill: #1967D2;\n",
              "      height: 32px;\n",
              "      padding: 0 0 0 0;\n",
              "      width: 32px;\n",
              "    }\n",
              "\n",
              "    .colab-df-convert:hover {\n",
              "      background-color: #E2EBFA;\n",
              "      box-shadow: 0px 1px 2px rgba(60, 64, 67, 0.3), 0px 1px 3px 1px rgba(60, 64, 67, 0.15);\n",
              "      fill: #174EA6;\n",
              "    }\n",
              "\n",
              "    [theme=dark] .colab-df-convert {\n",
              "      background-color: #3B4455;\n",
              "      fill: #D2E3FC;\n",
              "    }\n",
              "\n",
              "    [theme=dark] .colab-df-convert:hover {\n",
              "      background-color: #434B5C;\n",
              "      box-shadow: 0px 1px 3px 1px rgba(0, 0, 0, 0.15);\n",
              "      filter: drop-shadow(0px 1px 2px rgba(0, 0, 0, 0.3));\n",
              "      fill: #FFFFFF;\n",
              "    }\n",
              "  </style>\n",
              "\n",
              "      <script>\n",
              "        const buttonEl =\n",
              "          document.querySelector('#df-34c0d19f-4e97-4685-a940-fe1367fc9259 button.colab-df-convert');\n",
              "        buttonEl.style.display =\n",
              "          google.colab.kernel.accessAllowed ? 'block' : 'none';\n",
              "\n",
              "        async function convertToInteractive(key) {\n",
              "          const element = document.querySelector('#df-34c0d19f-4e97-4685-a940-fe1367fc9259');\n",
              "          const dataTable =\n",
              "            await google.colab.kernel.invokeFunction('convertToInteractive',\n",
              "                                                     [key], {});\n",
              "          if (!dataTable) return;\n",
              "\n",
              "          const docLinkHtml = 'Like what you see? Visit the ' +\n",
              "            '<a target=\"_blank\" href=https://colab.research.google.com/notebooks/data_table.ipynb>data table notebook</a>'\n",
              "            + ' to learn more about interactive tables.';\n",
              "          element.innerHTML = '';\n",
              "          dataTable['output_type'] = 'display_data';\n",
              "          await google.colab.output.renderOutput(dataTable, element);\n",
              "          const docLink = document.createElement('div');\n",
              "          docLink.innerHTML = docLinkHtml;\n",
              "          element.appendChild(docLink);\n",
              "        }\n",
              "      </script>\n",
              "    </div>\n",
              "  </div>\n",
              "  "
            ]
          },
          "metadata": {},
          "execution_count": 20
        }
      ]
    },
    {
      "cell_type": "code",
      "source": [
        "nga_df['category'].unique()"
      ],
      "metadata": {
        "id": "fKCJe6vKnhQn",
        "outputId": "3e37578d-24ce-401a-c867-f587e9b36a60",
        "colab": {
          "base_uri": "https://localhost:8080/"
        }
      },
      "execution_count": 21,
      "outputs": [
        {
          "output_type": "execute_result",
          "data": {
            "text/plain": [
              "array(['#item+type', 'cereals and tubers', 'pulses and nuts', 'non-food',\n",
              "       'oil and fats', 'meat, fish and eggs', 'milk and dairy',\n",
              "       'vegetables and fruits', 'miscellaneous food'], dtype=object)"
            ]
          },
          "metadata": {},
          "execution_count": 21
        }
      ]
    },
    {
      "cell_type": "code",
      "source": [
        "eth_df = pd.read_csv('wfp_food_prices_eth.csv')\n",
        "eth_df.head()\n",
        "eth_df['category'].unique()"
      ],
      "metadata": {
        "id": "pH14RvKGnhNJ",
        "outputId": "2843acc6-f6ca-4d45-9370-714dab554140",
        "colab": {
          "base_uri": "https://localhost:8080/"
        }
      },
      "execution_count": 22,
      "outputs": [
        {
          "output_type": "execute_result",
          "data": {
            "text/plain": [
              "array(['#item+type', 'cereals and tubers', 'pulses and nuts',\n",
              "       'milk and dairy', 'miscellaneous food', 'non-food',\n",
              "       'meat, fish and eggs', 'oil and fats', 'vegetables and fruits'],\n",
              "      dtype=object)"
            ]
          },
          "metadata": {},
          "execution_count": 22
        }
      ]
    },
    {
      "cell_type": "code",
      "source": [
        "afg_df = pd.read_csv('wfp_food_prices_afg.csv')\n",
        "afg_df.head()\n",
        "afg_df['category'].unique()"
      ],
      "metadata": {
        "id": "sk8wLsV2rU0S",
        "outputId": "773b3e00-c55d-4c20-892c-c9a1643cc1ee",
        "colab": {
          "base_uri": "https://localhost:8080/"
        }
      },
      "execution_count": 23,
      "outputs": [
        {
          "output_type": "execute_result",
          "data": {
            "text/plain": [
              "array(['#item+type', 'non-food', 'cereals and tubers',\n",
              "       'meat, fish and eggs', 'miscellaneous food', 'oil and fats',\n",
              "       'pulses and nuts'], dtype=object)"
            ]
          },
          "metadata": {},
          "execution_count": 23
        }
      ]
    },
    {
      "cell_type": "code",
      "source": [
        "yem_df = pd.read_csv('wfp_food_prices_yem.csv')\n",
        "yem_df.head()\n",
        "yem_df['category'].unique()"
      ],
      "metadata": {
        "id": "-ie3wEU9rUuI",
        "outputId": "2195a768-dcf9-4a75-90a3-ffc0a24bcb6b",
        "colab": {
          "base_uri": "https://localhost:8080/"
        }
      },
      "execution_count": 24,
      "outputs": [
        {
          "output_type": "execute_result",
          "data": {
            "text/plain": [
              "array(['#item+type', 'cereals and tubers', 'miscellaneous food',\n",
              "       'oil and fats', 'pulses and nuts', 'vegetables and fruits',\n",
              "       'meat, fish and eggs', 'non-food'], dtype=object)"
            ]
          },
          "metadata": {},
          "execution_count": 24
        }
      ]
    },
    {
      "cell_type": "code",
      "source": [
        ""
      ],
      "metadata": {
        "id": "IlVof3IprUn8"
      },
      "execution_count": null,
      "outputs": []
    },
    {
      "cell_type": "code",
      "source": [
        ""
      ],
      "metadata": {
        "id": "yAiPfQd8rUgx"
      },
      "execution_count": null,
      "outputs": []
    },
    {
      "cell_type": "code",
      "source": [
        "congo_slice = {}\n",
        "\n",
        "for cat in congo_df['category'].unique():\n",
        "\n",
        "    congo_slice[cat] = congo_df[  congo_df['category'] == cat ]"
      ],
      "metadata": {
        "id": "YJddGC8YiiQt"
      },
      "execution_count": 8,
      "outputs": []
    },
    {
      "cell_type": "code",
      "source": [
        "congo_df.head()"
      ],
      "metadata": {
        "id": "2QDAI3iuiiNe",
        "outputId": "525586ba-b7c9-46f2-8bdf-ccae8c523076",
        "colab": {
          "base_uri": "https://localhost:8080/",
          "height": 250
        }
      },
      "execution_count": 9,
      "outputs": [
        {
          "output_type": "execute_result",
          "data": {
            "text/plain": [
              "   index        date       admin1       admin2    market    latitude  \\\n",
              "0      1  2011-01-15  Brazzaville  Brazzaville   Mikalou   -4.259167   \n",
              "1      2  2011-01-15  Brazzaville  Brazzaville  Moungali   -4.259167   \n",
              "2      3  2011-01-15  Brazzaville  Brazzaville  Moungali   -4.259167   \n",
              "3      4  2011-01-15  Brazzaville  Brazzaville    Ouenzé  -4.2452176   \n",
              "4      5  2011-01-15  Brazzaville  Brazzaville    Ouenzé  -4.2452176   \n",
              "\n",
              "    longitude            category                  commodity unit priceflag  \\\n",
              "0   15.284722  cereals and tubers  Rice (mixed, low quality)   KG    actual   \n",
              "1   15.284722  cereals and tubers  Rice (mixed, low quality)   KG    actual   \n",
              "2   15.284722     pulses and nuts              Beans (white)   KG    actual   \n",
              "3  15.2809247  cereals and tubers  Rice (mixed, low quality)   KG    actual   \n",
              "4  15.2809247     pulses and nuts              Beans (white)   KG    actual   \n",
              "\n",
              "  pricetype currency   price usdprice  \n",
              "0    Retail      XAF   635.0    0.994  \n",
              "1    Retail      XAF   575.0      0.9  \n",
              "2    Retail      XAF  1739.0    2.722  \n",
              "3    Retail      XAF   595.0   0.9313  \n",
              "4    Retail      XAF  1507.0   2.3589  "
            ],
            "text/html": [
              "\n",
              "  <div id=\"df-8c264517-7d66-492b-baf9-0b78998eea91\">\n",
              "    <div class=\"colab-df-container\">\n",
              "      <div>\n",
              "<style scoped>\n",
              "    .dataframe tbody tr th:only-of-type {\n",
              "        vertical-align: middle;\n",
              "    }\n",
              "\n",
              "    .dataframe tbody tr th {\n",
              "        vertical-align: top;\n",
              "    }\n",
              "\n",
              "    .dataframe thead th {\n",
              "        text-align: right;\n",
              "    }\n",
              "</style>\n",
              "<table border=\"1\" class=\"dataframe\">\n",
              "  <thead>\n",
              "    <tr style=\"text-align: right;\">\n",
              "      <th></th>\n",
              "      <th>index</th>\n",
              "      <th>date</th>\n",
              "      <th>admin1</th>\n",
              "      <th>admin2</th>\n",
              "      <th>market</th>\n",
              "      <th>latitude</th>\n",
              "      <th>longitude</th>\n",
              "      <th>category</th>\n",
              "      <th>commodity</th>\n",
              "      <th>unit</th>\n",
              "      <th>priceflag</th>\n",
              "      <th>pricetype</th>\n",
              "      <th>currency</th>\n",
              "      <th>price</th>\n",
              "      <th>usdprice</th>\n",
              "    </tr>\n",
              "  </thead>\n",
              "  <tbody>\n",
              "    <tr>\n",
              "      <th>0</th>\n",
              "      <td>1</td>\n",
              "      <td>2011-01-15</td>\n",
              "      <td>Brazzaville</td>\n",
              "      <td>Brazzaville</td>\n",
              "      <td>Mikalou</td>\n",
              "      <td>-4.259167</td>\n",
              "      <td>15.284722</td>\n",
              "      <td>cereals and tubers</td>\n",
              "      <td>Rice (mixed, low quality)</td>\n",
              "      <td>KG</td>\n",
              "      <td>actual</td>\n",
              "      <td>Retail</td>\n",
              "      <td>XAF</td>\n",
              "      <td>635.0</td>\n",
              "      <td>0.994</td>\n",
              "    </tr>\n",
              "    <tr>\n",
              "      <th>1</th>\n",
              "      <td>2</td>\n",
              "      <td>2011-01-15</td>\n",
              "      <td>Brazzaville</td>\n",
              "      <td>Brazzaville</td>\n",
              "      <td>Moungali</td>\n",
              "      <td>-4.259167</td>\n",
              "      <td>15.284722</td>\n",
              "      <td>cereals and tubers</td>\n",
              "      <td>Rice (mixed, low quality)</td>\n",
              "      <td>KG</td>\n",
              "      <td>actual</td>\n",
              "      <td>Retail</td>\n",
              "      <td>XAF</td>\n",
              "      <td>575.0</td>\n",
              "      <td>0.9</td>\n",
              "    </tr>\n",
              "    <tr>\n",
              "      <th>2</th>\n",
              "      <td>3</td>\n",
              "      <td>2011-01-15</td>\n",
              "      <td>Brazzaville</td>\n",
              "      <td>Brazzaville</td>\n",
              "      <td>Moungali</td>\n",
              "      <td>-4.259167</td>\n",
              "      <td>15.284722</td>\n",
              "      <td>pulses and nuts</td>\n",
              "      <td>Beans (white)</td>\n",
              "      <td>KG</td>\n",
              "      <td>actual</td>\n",
              "      <td>Retail</td>\n",
              "      <td>XAF</td>\n",
              "      <td>1739.0</td>\n",
              "      <td>2.722</td>\n",
              "    </tr>\n",
              "    <tr>\n",
              "      <th>3</th>\n",
              "      <td>4</td>\n",
              "      <td>2011-01-15</td>\n",
              "      <td>Brazzaville</td>\n",
              "      <td>Brazzaville</td>\n",
              "      <td>Ouenzé</td>\n",
              "      <td>-4.2452176</td>\n",
              "      <td>15.2809247</td>\n",
              "      <td>cereals and tubers</td>\n",
              "      <td>Rice (mixed, low quality)</td>\n",
              "      <td>KG</td>\n",
              "      <td>actual</td>\n",
              "      <td>Retail</td>\n",
              "      <td>XAF</td>\n",
              "      <td>595.0</td>\n",
              "      <td>0.9313</td>\n",
              "    </tr>\n",
              "    <tr>\n",
              "      <th>4</th>\n",
              "      <td>5</td>\n",
              "      <td>2011-01-15</td>\n",
              "      <td>Brazzaville</td>\n",
              "      <td>Brazzaville</td>\n",
              "      <td>Ouenzé</td>\n",
              "      <td>-4.2452176</td>\n",
              "      <td>15.2809247</td>\n",
              "      <td>pulses and nuts</td>\n",
              "      <td>Beans (white)</td>\n",
              "      <td>KG</td>\n",
              "      <td>actual</td>\n",
              "      <td>Retail</td>\n",
              "      <td>XAF</td>\n",
              "      <td>1507.0</td>\n",
              "      <td>2.3589</td>\n",
              "    </tr>\n",
              "  </tbody>\n",
              "</table>\n",
              "</div>\n",
              "      <button class=\"colab-df-convert\" onclick=\"convertToInteractive('df-8c264517-7d66-492b-baf9-0b78998eea91')\"\n",
              "              title=\"Convert this dataframe to an interactive table.\"\n",
              "              style=\"display:none;\">\n",
              "        \n",
              "  <svg xmlns=\"http://www.w3.org/2000/svg\" height=\"24px\"viewBox=\"0 0 24 24\"\n",
              "       width=\"24px\">\n",
              "    <path d=\"M0 0h24v24H0V0z\" fill=\"none\"/>\n",
              "    <path d=\"M18.56 5.44l.94 2.06.94-2.06 2.06-.94-2.06-.94-.94-2.06-.94 2.06-2.06.94zm-11 1L8.5 8.5l.94-2.06 2.06-.94-2.06-.94L8.5 2.5l-.94 2.06-2.06.94zm10 10l.94 2.06.94-2.06 2.06-.94-2.06-.94-.94-2.06-.94 2.06-2.06.94z\"/><path d=\"M17.41 7.96l-1.37-1.37c-.4-.4-.92-.59-1.43-.59-.52 0-1.04.2-1.43.59L10.3 9.45l-7.72 7.72c-.78.78-.78 2.05 0 2.83L4 21.41c.39.39.9.59 1.41.59.51 0 1.02-.2 1.41-.59l7.78-7.78 2.81-2.81c.8-.78.8-2.07 0-2.86zM5.41 20L4 18.59l7.72-7.72 1.47 1.35L5.41 20z\"/>\n",
              "  </svg>\n",
              "      </button>\n",
              "      \n",
              "  <style>\n",
              "    .colab-df-container {\n",
              "      display:flex;\n",
              "      flex-wrap:wrap;\n",
              "      gap: 12px;\n",
              "    }\n",
              "\n",
              "    .colab-df-convert {\n",
              "      background-color: #E8F0FE;\n",
              "      border: none;\n",
              "      border-radius: 50%;\n",
              "      cursor: pointer;\n",
              "      display: none;\n",
              "      fill: #1967D2;\n",
              "      height: 32px;\n",
              "      padding: 0 0 0 0;\n",
              "      width: 32px;\n",
              "    }\n",
              "\n",
              "    .colab-df-convert:hover {\n",
              "      background-color: #E2EBFA;\n",
              "      box-shadow: 0px 1px 2px rgba(60, 64, 67, 0.3), 0px 1px 3px 1px rgba(60, 64, 67, 0.15);\n",
              "      fill: #174EA6;\n",
              "    }\n",
              "\n",
              "    [theme=dark] .colab-df-convert {\n",
              "      background-color: #3B4455;\n",
              "      fill: #D2E3FC;\n",
              "    }\n",
              "\n",
              "    [theme=dark] .colab-df-convert:hover {\n",
              "      background-color: #434B5C;\n",
              "      box-shadow: 0px 1px 3px 1px rgba(0, 0, 0, 0.15);\n",
              "      filter: drop-shadow(0px 1px 2px rgba(0, 0, 0, 0.3));\n",
              "      fill: #FFFFFF;\n",
              "    }\n",
              "  </style>\n",
              "\n",
              "      <script>\n",
              "        const buttonEl =\n",
              "          document.querySelector('#df-8c264517-7d66-492b-baf9-0b78998eea91 button.colab-df-convert');\n",
              "        buttonEl.style.display =\n",
              "          google.colab.kernel.accessAllowed ? 'block' : 'none';\n",
              "\n",
              "        async function convertToInteractive(key) {\n",
              "          const element = document.querySelector('#df-8c264517-7d66-492b-baf9-0b78998eea91');\n",
              "          const dataTable =\n",
              "            await google.colab.kernel.invokeFunction('convertToInteractive',\n",
              "                                                     [key], {});\n",
              "          if (!dataTable) return;\n",
              "\n",
              "          const docLinkHtml = 'Like what you see? Visit the ' +\n",
              "            '<a target=\"_blank\" href=https://colab.research.google.com/notebooks/data_table.ipynb>data table notebook</a>'\n",
              "            + ' to learn more about interactive tables.';\n",
              "          element.innerHTML = '';\n",
              "          dataTable['output_type'] = 'display_data';\n",
              "          await google.colab.output.renderOutput(dataTable, element);\n",
              "          const docLink = document.createElement('div');\n",
              "          docLink.innerHTML = docLinkHtml;\n",
              "          element.appendChild(docLink);\n",
              "        }\n",
              "      </script>\n",
              "    </div>\n",
              "  </div>\n",
              "  "
            ]
          },
          "metadata": {},
          "execution_count": 9
        }
      ]
    },
    {
      "cell_type": "code",
      "source": [
        "congo_df['category'].unique()"
      ],
      "metadata": {
        "id": "9lTjhaKXiiKm",
        "outputId": "60187100-fdcd-4a59-93c7-47acf729dae6",
        "colab": {
          "base_uri": "https://localhost:8080/"
        }
      },
      "execution_count": 15,
      "outputs": [
        {
          "output_type": "execute_result",
          "data": {
            "text/plain": [
              "array(['cereals and tubers', 'pulses and nuts', 'meat, fish and eggs',\n",
              "       'oil and fats', 'vegetables and fruits'], dtype=object)"
            ]
          },
          "metadata": {},
          "execution_count": 15
        }
      ]
    },
    {
      "cell_type": "code",
      "source": [
        "#congo_df['Date'] = pd.to_datetime(congo_df.Year.astype(str) + '/' + congo_df.Month.astype(str) + '/01')\n",
        "\n",
        "#df['DATE'] = pd.to_datetime(df[['YEAR', 'MONTH']]\n"
      ],
      "metadata": {
        "id": "zBQvyiBMVF1g"
      },
      "execution_count": 6,
      "outputs": []
    },
    {
      "cell_type": "code",
      "source": [
        "#congo_df.drop(congo_df[['Year','Month']],axis=1,inplace=True)"
      ],
      "metadata": {
        "id": "OdYVjS3oG7ZI"
      },
      "execution_count": 11,
      "outputs": []
    },
    {
      "cell_type": "code",
      "source": [
        "# #Finding the mean of the column having NaN\n",
        "# mean_value=congo_df['Price'].mean()\n",
        "  \n",
        "# # Replace NaNs in column S2 with the\n",
        "# # mean of values in the same column\n",
        "# congo_df['Price'].fillna(value=mean_value, inplace=True)"
      ],
      "metadata": {
        "id": "p36aVMKjX7XR"
      },
      "execution_count": 17,
      "outputs": []
    },
    {
      "cell_type": "code",
      "source": [
        "fig = px.line(congo_df, x='date', y='price')\n",
        "fig.show()"
      ],
      "metadata": {
        "id": "3f3MPkWdX7KN",
        "outputId": "93032fd7-fe7a-41b7-8a21-4aeeb6a71f13",
        "colab": {
          "base_uri": "https://localhost:8080/",
          "height": 542
        }
      },
      "execution_count": 11,
      "outputs": [
        {
          "output_type": "display_data",
          "data": {
            "text/html": [
              "<html>\n",
              "<head><meta charset=\"utf-8\" /></head>\n",
              "<body>\n",
              "    <div>            <script src=\"https://cdnjs.cloudflare.com/ajax/libs/mathjax/2.7.5/MathJax.js?config=TeX-AMS-MML_SVG\"></script><script type=\"text/javascript\">if (window.MathJax) {MathJax.Hub.Config({SVG: {font: \"STIX-Web\"}});}</script>                <script type=\"text/javascript\">window.PlotlyConfig = {MathJaxConfig: 'local'};</script>\n",
              "        <script src=\"https://cdn.plot.ly/plotly-2.8.3.min.js\"></script>                <div id=\"74f0b8fd-44a8-4685-99b1-670c4fe58c54\" class=\"plotly-graph-div\" style=\"height:525px; width:100%;\"></div>            <script type=\"text/javascript\">                                    window.PLOTLYENV=window.PLOTLYENV || {};                                    if (document.getElementById(\"74f0b8fd-44a8-4685-99b1-670c4fe58c54\")) {                    Plotly.newPlot(                        \"74f0b8fd-44a8-4685-99b1-670c4fe58c54\",                        [{\"hovertemplate\":\"date=%{x}<br>price=%{y}<extra></extra>\",\"legendgroup\":\"\",\"line\":{\"color\":\"#636efa\",\"dash\":\"solid\"},\"marker\":{\"symbol\":\"circle\"},\"mode\":\"lines\",\"name\":\"\",\"showlegend\":false,\"x\":[\"#date\",\"2011-01-15\",\"2011-01-15\",\"2011-01-15\",\"2011-01-15\",\"2011-01-15\",\"2011-01-15\",\"2011-02-15\",\"2011-02-15\",\"2011-02-15\",\"2011-02-15\",\"2011-02-15\",\"2011-02-15\",\"2011-02-15\",\"2011-02-15\",\"2011-02-15\",\"2011-02-15\",\"2011-02-15\",\"2011-02-15\",\"2011-02-15\",\"2011-02-15\",\"2011-02-15\",\"2011-02-15\",\"2011-02-15\",\"2011-03-15\",\"2011-03-15\",\"2011-03-15\",\"2011-03-15\",\"2011-03-15\",\"2011-03-15\",\"2011-03-15\",\"2011-03-15\",\"2011-03-15\",\"2011-03-15\",\"2011-03-15\",\"2011-03-15\",\"2011-03-15\",\"2011-03-15\",\"2011-03-15\",\"2011-03-15\",\"2011-03-15\",\"2011-04-15\",\"2011-04-15\",\"2011-04-15\",\"2011-04-15\",\"2011-04-15\",\"2011-04-15\",\"2011-04-15\",\"2011-04-15\",\"2011-04-15\",\"2011-04-15\",\"2011-04-15\",\"2011-04-15\",\"2011-04-15\",\"2011-04-15\",\"2011-04-15\",\"2011-04-15\",\"2011-05-15\",\"2011-05-15\",\"2011-05-15\",\"2011-05-15\",\"2011-05-15\",\"2011-05-15\",\"2011-05-15\",\"2011-05-15\",\"2011-05-15\",\"2011-05-15\",\"2011-05-15\",\"2011-05-15\",\"2011-05-15\",\"2011-05-15\",\"2011-05-15\",\"2011-07-15\",\"2011-07-15\",\"2011-07-15\",\"2011-07-15\",\"2011-07-15\",\"2011-07-15\",\"2011-07-15\",\"2011-07-15\",\"2011-07-15\",\"2011-07-15\",\"2011-07-15\",\"2011-07-15\",\"2011-07-15\",\"2011-07-15\",\"2011-07-15\",\"2011-07-15\",\"2011-07-15\",\"2011-07-15\",\"2011-07-15\",\"2011-07-15\",\"2011-07-15\",\"2011-07-15\",\"2011-07-15\",\"2011-08-15\",\"2011-08-15\",\"2011-08-15\",\"2011-08-15\",\"2011-08-15\",\"2011-08-15\",\"2011-08-15\",\"2011-08-15\",\"2011-08-15\",\"2011-08-15\",\"2011-08-15\",\"2011-08-15\",\"2011-08-15\",\"2011-08-15\",\"2011-08-15\",\"2011-08-15\",\"2011-08-15\",\"2011-08-15\",\"2011-08-15\",\"2011-08-15\",\"2011-08-15\",\"2011-08-15\",\"2011-08-15\",\"2011-09-15\",\"2011-09-15\",\"2011-09-15\",\"2011-09-15\",\"2011-09-15\",\"2011-09-15\",\"2011-09-15\",\"2011-09-15\",\"2011-09-15\",\"2011-09-15\",\"2011-09-15\",\"2011-09-15\",\"2011-09-15\",\"2011-09-15\",\"2011-09-15\",\"2011-09-15\",\"2011-09-15\",\"2011-09-15\",\"2011-09-15\",\"2011-09-15\",\"2011-09-15\",\"2011-09-15\",\"2011-09-15\",\"2011-09-15\",\"2011-10-15\",\"2011-10-15\",\"2011-10-15\",\"2011-10-15\",\"2011-10-15\",\"2011-10-15\",\"2011-10-15\",\"2011-10-15\",\"2011-10-15\",\"2011-10-15\",\"2011-10-15\",\"2011-10-15\",\"2011-10-15\",\"2011-10-15\",\"2011-10-15\",\"2011-10-15\",\"2011-10-15\",\"2011-10-15\",\"2011-10-15\",\"2011-10-15\",\"2011-10-15\",\"2011-10-15\",\"2011-11-15\",\"2011-11-15\",\"2011-11-15\",\"2011-11-15\",\"2011-11-15\",\"2011-11-15\",\"2011-11-15\",\"2011-11-15\",\"2011-11-15\",\"2011-11-15\",\"2011-11-15\",\"2011-11-15\",\"2011-11-15\",\"2011-11-15\",\"2011-11-15\",\"2011-11-15\",\"2011-11-15\",\"2011-11-15\",\"2011-11-15\",\"2011-11-15\",\"2011-11-15\",\"2011-11-15\",\"2011-12-15\",\"2011-12-15\",\"2011-12-15\",\"2011-12-15\",\"2011-12-15\",\"2011-12-15\",\"2011-12-15\",\"2011-12-15\",\"2011-12-15\",\"2011-12-15\",\"2011-12-15\",\"2011-12-15\",\"2011-12-15\",\"2011-12-15\",\"2011-12-15\",\"2011-12-15\",\"2011-12-15\",\"2011-12-15\",\"2011-12-15\",\"2011-12-15\",\"2011-12-15\",\"2011-12-15\",\"2012-01-15\",\"2012-01-15\",\"2012-01-15\",\"2012-01-15\",\"2012-01-15\",\"2012-01-15\",\"2012-01-15\",\"2012-01-15\",\"2012-01-15\",\"2012-01-15\",\"2012-01-15\",\"2012-01-15\",\"2012-01-15\",\"2012-01-15\",\"2012-01-15\",\"2012-01-15\",\"2012-01-15\",\"2012-01-15\",\"2012-01-15\",\"2012-01-15\",\"2012-01-15\",\"2012-01-15\",\"2012-01-15\",\"2012-01-15\",\"2012-01-15\",\"2012-01-15\",\"2012-01-15\",\"2012-01-15\",\"2012-01-15\",\"2012-01-15\",\"2012-01-15\",\"2012-01-15\",\"2012-01-15\",\"2012-01-15\",\"2012-01-15\",\"2012-01-15\",\"2012-01-15\",\"2012-01-15\",\"2012-01-15\",\"2012-01-15\",\"2012-01-15\",\"2012-02-15\",\"2012-02-15\",\"2012-02-15\",\"2012-02-15\",\"2012-02-15\",\"2012-02-15\",\"2012-02-15\",\"2012-02-15\",\"2012-02-15\",\"2012-02-15\",\"2012-02-15\",\"2012-02-15\",\"2012-02-15\",\"2012-02-15\",\"2012-02-15\",\"2012-02-15\",\"2012-02-15\",\"2012-02-15\",\"2012-02-15\",\"2012-02-15\",\"2012-02-15\",\"2012-02-15\",\"2012-02-15\",\"2012-02-15\",\"2012-02-15\",\"2012-02-15\",\"2012-02-15\",\"2012-02-15\",\"2012-02-15\",\"2012-02-15\",\"2012-02-15\",\"2012-02-15\",\"2012-02-15\",\"2012-02-15\",\"2012-02-15\",\"2012-02-15\",\"2012-02-15\",\"2012-02-15\",\"2012-02-15\",\"2012-02-15\",\"2012-02-15\",\"2012-03-15\",\"2012-03-15\",\"2012-03-15\",\"2012-03-15\",\"2012-03-15\",\"2012-03-15\",\"2012-03-15\",\"2012-03-15\",\"2012-03-15\",\"2012-03-15\",\"2012-03-15\",\"2012-03-15\",\"2012-03-15\",\"2012-03-15\",\"2012-03-15\",\"2012-03-15\",\"2012-03-15\",\"2012-03-15\",\"2012-03-15\",\"2012-03-15\",\"2012-03-15\",\"2012-03-15\",\"2012-03-15\",\"2012-03-15\",\"2012-03-15\",\"2012-03-15\",\"2012-03-15\",\"2012-03-15\",\"2012-03-15\",\"2012-03-15\",\"2012-03-15\",\"2012-03-15\",\"2012-03-15\",\"2012-03-15\",\"2012-03-15\",\"2012-03-15\",\"2012-03-15\",\"2012-03-15\",\"2012-03-15\",\"2012-03-15\",\"2012-03-15\",\"2012-03-15\",\"2012-07-15\",\"2012-07-15\",\"2012-07-15\",\"2012-07-15\",\"2012-07-15\",\"2012-07-15\",\"2012-07-15\",\"2012-07-15\",\"2012-07-15\",\"2012-07-15\",\"2012-07-15\",\"2012-07-15\",\"2012-07-15\",\"2012-07-15\",\"2012-07-15\",\"2012-08-15\",\"2012-08-15\",\"2012-08-15\",\"2012-08-15\",\"2012-08-15\",\"2012-08-15\",\"2012-08-15\",\"2012-08-15\",\"2012-08-15\",\"2012-08-15\",\"2012-08-15\",\"2012-08-15\",\"2012-08-15\",\"2012-08-15\",\"2012-08-15\",\"2012-09-15\",\"2012-09-15\",\"2012-09-15\",\"2012-09-15\",\"2012-09-15\",\"2012-09-15\",\"2012-09-15\",\"2012-09-15\",\"2012-09-15\",\"2012-09-15\",\"2012-09-15\",\"2012-09-15\",\"2012-09-15\",\"2012-09-15\",\"2012-09-15\",\"2012-09-15\",\"2012-09-15\",\"2012-10-15\",\"2012-10-15\",\"2012-10-15\",\"2012-10-15\",\"2012-10-15\",\"2012-10-15\",\"2012-10-15\",\"2012-10-15\",\"2012-10-15\",\"2012-10-15\",\"2012-10-15\",\"2012-10-15\",\"2012-10-15\",\"2012-10-15\",\"2012-10-15\",\"2012-10-15\",\"2012-11-15\",\"2012-11-15\",\"2012-11-15\",\"2012-11-15\",\"2012-11-15\",\"2012-11-15\",\"2012-11-15\",\"2012-11-15\",\"2012-11-15\",\"2012-11-15\",\"2012-11-15\",\"2012-11-15\",\"2012-11-15\",\"2012-11-15\",\"2012-11-15\",\"2012-11-15\",\"2012-12-15\",\"2012-12-15\",\"2012-12-15\",\"2012-12-15\",\"2012-12-15\",\"2012-12-15\",\"2012-12-15\",\"2012-12-15\",\"2012-12-15\",\"2012-12-15\",\"2012-12-15\",\"2012-12-15\",\"2012-12-15\",\"2012-12-15\",\"2012-12-15\",\"2012-12-15\",\"2013-01-15\",\"2013-01-15\",\"2013-01-15\",\"2013-01-15\",\"2013-01-15\",\"2013-01-15\",\"2013-01-15\",\"2013-01-15\",\"2013-01-15\",\"2013-01-15\",\"2013-01-15\",\"2013-01-15\",\"2013-01-15\",\"2013-01-15\",\"2013-01-15\",\"2013-01-15\",\"2013-01-15\",\"2013-01-15\",\"2013-02-15\",\"2013-02-15\",\"2013-02-15\",\"2013-02-15\",\"2013-02-15\",\"2013-02-15\",\"2013-02-15\",\"2013-02-15\",\"2013-02-15\",\"2013-02-15\",\"2013-02-15\",\"2013-02-15\",\"2013-02-15\",\"2013-02-15\",\"2013-02-15\",\"2013-02-15\",\"2013-02-15\",\"2013-02-15\",\"2013-02-15\",\"2013-02-15\",\"2013-02-15\",\"2013-02-15\",\"2013-02-15\",\"2013-02-15\",\"2013-02-15\",\"2013-02-15\",\"2013-02-15\",\"2013-02-15\",\"2013-02-15\",\"2013-02-15\",\"2013-02-15\",\"2013-02-15\",\"2013-02-15\",\"2013-02-15\",\"2013-02-15\",\"2013-02-15\",\"2013-02-15\",\"2013-02-15\",\"2013-02-15\",\"2013-02-15\",\"2013-02-15\",\"2013-03-15\",\"2013-03-15\",\"2013-03-15\",\"2013-03-15\",\"2013-03-15\",\"2013-03-15\",\"2013-03-15\",\"2013-03-15\",\"2013-03-15\",\"2013-03-15\",\"2013-03-15\",\"2013-03-15\",\"2013-03-15\",\"2013-03-15\",\"2013-03-15\",\"2013-03-15\",\"2013-03-15\",\"2013-03-15\",\"2013-03-15\",\"2013-03-15\",\"2013-03-15\",\"2013-03-15\",\"2013-03-15\",\"2013-03-15\",\"2013-03-15\",\"2013-03-15\",\"2013-03-15\",\"2013-03-15\",\"2013-03-15\",\"2013-03-15\",\"2013-03-15\",\"2013-03-15\",\"2013-03-15\",\"2013-03-15\",\"2013-03-15\",\"2013-03-15\",\"2013-03-15\",\"2013-03-15\",\"2013-03-15\",\"2013-03-15\",\"2013-03-15\",\"2013-04-15\",\"2013-04-15\",\"2013-04-15\",\"2013-04-15\",\"2013-04-15\",\"2013-04-15\",\"2013-04-15\",\"2013-04-15\",\"2013-04-15\",\"2013-04-15\",\"2013-04-15\",\"2013-04-15\",\"2013-04-15\",\"2013-04-15\",\"2013-04-15\",\"2013-04-15\",\"2013-04-15\",\"2013-04-15\",\"2013-04-15\",\"2013-04-15\",\"2013-04-15\",\"2013-04-15\",\"2013-04-15\",\"2013-04-15\",\"2013-04-15\",\"2013-04-15\",\"2013-04-15\",\"2013-04-15\",\"2013-04-15\",\"2013-04-15\",\"2013-04-15\",\"2013-04-15\",\"2013-04-15\",\"2013-04-15\",\"2013-04-15\",\"2013-04-15\",\"2013-04-15\",\"2013-04-15\",\"2013-04-15\",\"2013-04-15\",\"2013-05-15\",\"2013-05-15\",\"2013-05-15\",\"2013-05-15\",\"2013-05-15\",\"2013-05-15\",\"2013-05-15\",\"2013-05-15\",\"2013-05-15\",\"2013-05-15\",\"2013-05-15\",\"2013-05-15\",\"2013-05-15\",\"2013-05-15\",\"2013-05-15\",\"2013-05-15\",\"2013-05-15\",\"2013-05-15\",\"2013-05-15\",\"2013-05-15\",\"2013-05-15\",\"2013-05-15\",\"2013-05-15\",\"2013-05-15\",\"2013-05-15\",\"2013-05-15\",\"2013-05-15\",\"2013-05-15\",\"2013-05-15\",\"2013-05-15\",\"2013-05-15\",\"2013-05-15\",\"2013-05-15\",\"2013-05-15\",\"2013-05-15\",\"2013-05-15\",\"2013-05-15\",\"2013-05-15\",\"2013-05-15\",\"2013-06-15\",\"2013-06-15\",\"2013-06-15\",\"2013-06-15\",\"2013-06-15\",\"2013-06-15\",\"2013-06-15\",\"2013-06-15\",\"2013-06-15\",\"2013-06-15\",\"2013-06-15\",\"2013-06-15\",\"2013-06-15\",\"2013-06-15\",\"2013-06-15\",\"2013-06-15\",\"2013-06-15\",\"2013-06-15\",\"2013-06-15\",\"2013-06-15\",\"2013-06-15\",\"2013-06-15\",\"2013-06-15\",\"2013-06-15\",\"2013-06-15\",\"2013-06-15\",\"2013-06-15\",\"2013-06-15\",\"2013-06-15\",\"2013-06-15\",\"2013-06-15\",\"2013-06-15\",\"2013-06-15\",\"2013-06-15\",\"2013-06-15\",\"2013-06-15\",\"2013-06-15\",\"2013-06-15\",\"2013-06-15\",\"2013-07-15\",\"2013-07-15\",\"2013-07-15\",\"2013-07-15\",\"2013-07-15\",\"2013-07-15\",\"2013-07-15\",\"2013-07-15\",\"2013-07-15\",\"2013-07-15\",\"2013-07-15\",\"2013-07-15\",\"2013-07-15\",\"2013-07-15\",\"2013-07-15\",\"2013-07-15\",\"2013-07-15\",\"2013-07-15\",\"2013-07-15\",\"2013-07-15\",\"2013-07-15\",\"2013-07-15\",\"2013-07-15\",\"2013-07-15\",\"2013-07-15\",\"2013-07-15\",\"2013-07-15\",\"2013-07-15\",\"2013-07-15\",\"2013-07-15\",\"2013-07-15\",\"2013-07-15\",\"2013-07-15\",\"2013-07-15\",\"2013-07-15\",\"2013-07-15\",\"2013-07-15\",\"2013-07-15\",\"2013-07-15\",\"2013-08-15\",\"2013-08-15\",\"2013-08-15\",\"2013-08-15\",\"2013-08-15\",\"2013-08-15\",\"2013-08-15\",\"2013-08-15\",\"2013-08-15\",\"2013-08-15\",\"2013-08-15\",\"2013-08-15\",\"2013-08-15\",\"2013-08-15\",\"2013-08-15\",\"2013-08-15\",\"2013-08-15\",\"2013-08-15\",\"2013-08-15\",\"2013-08-15\",\"2013-08-15\",\"2013-08-15\",\"2013-08-15\",\"2013-08-15\",\"2013-08-15\",\"2013-08-15\",\"2013-08-15\",\"2013-08-15\",\"2013-08-15\",\"2013-08-15\",\"2013-08-15\",\"2013-08-15\",\"2013-08-15\",\"2013-08-15\",\"2013-08-15\",\"2013-08-15\",\"2013-08-15\",\"2013-08-15\",\"2013-08-15\",\"2013-08-15\",\"2013-09-15\",\"2013-09-15\",\"2013-09-15\",\"2013-09-15\",\"2013-09-15\",\"2013-09-15\",\"2013-09-15\",\"2013-09-15\",\"2013-09-15\",\"2013-09-15\",\"2013-09-15\",\"2013-09-15\",\"2013-09-15\",\"2013-09-15\",\"2013-09-15\",\"2013-09-15\",\"2013-09-15\",\"2013-09-15\",\"2013-09-15\",\"2013-09-15\",\"2013-09-15\",\"2013-09-15\",\"2013-09-15\",\"2013-09-15\",\"2013-09-15\",\"2013-09-15\",\"2013-09-15\",\"2013-09-15\",\"2013-09-15\",\"2013-09-15\",\"2013-09-15\",\"2013-09-15\",\"2013-09-15\",\"2013-09-15\",\"2013-09-15\",\"2013-09-15\",\"2013-09-15\",\"2013-09-15\",\"2013-09-15\",\"2013-09-15\",\"2013-09-15\",\"2013-10-15\",\"2013-10-15\",\"2013-10-15\",\"2013-10-15\",\"2013-10-15\",\"2013-10-15\",\"2013-10-15\",\"2013-10-15\",\"2013-10-15\",\"2013-10-15\",\"2013-10-15\",\"2013-10-15\",\"2013-10-15\",\"2013-10-15\",\"2013-10-15\",\"2013-10-15\",\"2013-10-15\",\"2013-10-15\",\"2013-10-15\",\"2013-10-15\",\"2013-10-15\",\"2013-10-15\",\"2013-10-15\",\"2013-10-15\",\"2013-10-15\",\"2013-10-15\",\"2013-10-15\",\"2013-10-15\",\"2013-10-15\",\"2013-10-15\",\"2013-10-15\",\"2013-10-15\",\"2013-10-15\",\"2013-10-15\",\"2013-10-15\",\"2013-10-15\",\"2013-10-15\",\"2013-10-15\",\"2013-10-15\",\"2013-10-15\",\"2013-11-15\",\"2013-11-15\",\"2013-11-15\",\"2013-11-15\",\"2013-11-15\",\"2013-11-15\",\"2013-11-15\",\"2013-11-15\",\"2013-11-15\",\"2013-11-15\",\"2013-11-15\",\"2013-11-15\",\"2013-11-15\",\"2013-11-15\",\"2013-11-15\",\"2013-11-15\",\"2013-11-15\",\"2013-11-15\",\"2013-11-15\",\"2013-11-15\",\"2013-11-15\",\"2013-11-15\",\"2013-11-15\",\"2013-11-15\",\"2013-11-15\",\"2013-11-15\",\"2013-11-15\",\"2013-11-15\",\"2013-11-15\",\"2013-11-15\",\"2013-11-15\",\"2013-11-15\",\"2013-11-15\",\"2013-11-15\",\"2013-11-15\",\"2013-11-15\",\"2013-11-15\",\"2013-11-15\",\"2013-11-15\",\"2013-12-15\",\"2013-12-15\",\"2013-12-15\",\"2013-12-15\",\"2013-12-15\",\"2013-12-15\",\"2013-12-15\",\"2013-12-15\",\"2013-12-15\",\"2013-12-15\",\"2013-12-15\",\"2013-12-15\",\"2013-12-15\",\"2013-12-15\",\"2013-12-15\",\"2013-12-15\",\"2013-12-15\",\"2013-12-15\",\"2013-12-15\",\"2013-12-15\",\"2013-12-15\",\"2013-12-15\",\"2013-12-15\",\"2013-12-15\",\"2013-12-15\",\"2013-12-15\",\"2013-12-15\",\"2013-12-15\",\"2013-12-15\",\"2013-12-15\",\"2013-12-15\",\"2013-12-15\",\"2013-12-15\",\"2013-12-15\",\"2013-12-15\",\"2013-12-15\",\"2013-12-15\",\"2014-01-15\",\"2014-01-15\",\"2014-01-15\",\"2014-01-15\",\"2014-01-15\",\"2014-01-15\",\"2014-01-15\",\"2014-01-15\",\"2014-01-15\",\"2014-01-15\",\"2014-01-15\",\"2014-01-15\",\"2014-01-15\",\"2014-01-15\",\"2014-01-15\",\"2014-01-15\",\"2014-01-15\",\"2014-01-15\",\"2014-01-15\",\"2014-01-15\",\"2014-01-15\",\"2014-01-15\",\"2014-01-15\",\"2014-01-15\",\"2014-01-15\",\"2014-01-15\",\"2014-01-15\",\"2014-01-15\",\"2014-01-15\",\"2014-01-15\",\"2014-01-15\",\"2014-01-15\",\"2014-01-15\",\"2014-01-15\",\"2014-01-15\",\"2014-01-15\",\"2014-01-15\",\"2014-01-15\",\"2014-01-15\",\"2014-01-15\",\"2015-04-15\",\"2015-04-15\",\"2015-04-15\",\"2015-04-15\",\"2015-04-15\",\"2015-04-15\",\"2015-04-15\",\"2015-04-15\",\"2015-04-15\",\"2015-04-15\",\"2015-04-15\",\"2015-04-15\",\"2015-04-15\",\"2015-04-15\",\"2015-04-15\",\"2015-04-15\",\"2015-04-15\",\"2015-04-15\",\"2015-04-15\",\"2015-04-15\",\"2015-04-15\",\"2015-04-15\",\"2015-04-15\",\"2015-04-15\",\"2015-04-15\",\"2015-04-15\",\"2015-04-15\",\"2015-04-15\",\"2015-04-15\",\"2015-04-15\",\"2015-04-15\",\"2015-05-15\",\"2015-05-15\",\"2015-05-15\",\"2015-05-15\",\"2015-05-15\",\"2015-05-15\",\"2015-05-15\",\"2015-05-15\",\"2015-05-15\",\"2015-05-15\",\"2015-05-15\",\"2015-05-15\",\"2015-05-15\",\"2015-05-15\",\"2015-05-15\",\"2015-05-15\",\"2015-05-15\",\"2015-05-15\",\"2015-05-15\",\"2015-05-15\",\"2015-05-15\",\"2015-05-15\",\"2015-05-15\",\"2015-05-15\",\"2015-05-15\",\"2015-05-15\",\"2015-05-15\",\"2015-05-15\",\"2015-05-15\",\"2015-06-15\",\"2015-06-15\",\"2015-06-15\",\"2015-06-15\",\"2015-06-15\",\"2015-06-15\",\"2015-06-15\",\"2015-06-15\",\"2015-06-15\",\"2015-06-15\",\"2015-06-15\",\"2015-06-15\",\"2015-06-15\",\"2015-06-15\",\"2015-06-15\",\"2015-06-15\",\"2015-06-15\",\"2015-06-15\",\"2015-06-15\",\"2015-06-15\",\"2015-06-15\",\"2015-06-15\",\"2015-06-15\",\"2015-06-15\",\"2015-06-15\",\"2015-06-15\",\"2015-06-15\",\"2015-06-15\",\"2015-06-15\",\"2015-07-15\",\"2015-07-15\",\"2015-07-15\",\"2015-07-15\",\"2015-07-15\",\"2015-07-15\",\"2015-07-15\",\"2015-07-15\",\"2015-07-15\",\"2015-07-15\",\"2015-07-15\",\"2015-07-15\",\"2015-07-15\",\"2015-07-15\",\"2015-07-15\",\"2015-07-15\",\"2015-07-15\",\"2015-07-15\",\"2015-07-15\",\"2015-07-15\",\"2015-07-15\",\"2015-07-15\",\"2015-07-15\",\"2015-07-15\",\"2015-07-15\",\"2015-07-15\",\"2015-07-15\",\"2015-07-15\",\"2015-07-15\",\"2015-07-15\",\"2015-08-15\",\"2015-08-15\",\"2015-08-15\",\"2015-08-15\",\"2015-08-15\",\"2015-08-15\",\"2015-08-15\",\"2015-08-15\",\"2015-08-15\",\"2015-08-15\",\"2015-08-15\",\"2015-08-15\",\"2015-08-15\",\"2015-08-15\",\"2015-08-15\",\"2015-08-15\",\"2015-08-15\",\"2015-08-15\",\"2015-08-15\",\"2015-08-15\",\"2015-08-15\",\"2015-08-15\",\"2015-08-15\",\"2015-08-15\",\"2015-08-15\",\"2015-08-15\",\"2015-08-15\",\"2015-08-15\",\"2015-08-15\",\"2015-09-15\",\"2015-09-15\",\"2015-09-15\",\"2015-09-15\",\"2015-09-15\",\"2015-09-15\",\"2015-09-15\",\"2015-09-15\",\"2015-09-15\",\"2015-09-15\",\"2015-09-15\",\"2015-09-15\",\"2015-09-15\",\"2015-09-15\",\"2015-09-15\",\"2015-09-15\",\"2015-09-15\",\"2015-09-15\",\"2015-09-15\",\"2015-09-15\",\"2015-09-15\",\"2015-09-15\",\"2015-09-15\",\"2015-09-15\",\"2015-09-15\",\"2015-09-15\",\"2015-09-15\",\"2015-09-15\",\"2015-09-15\",\"2015-09-15\",\"2015-10-15\",\"2015-10-15\",\"2015-10-15\",\"2015-10-15\",\"2015-10-15\",\"2015-10-15\",\"2015-10-15\",\"2015-10-15\",\"2015-10-15\",\"2015-10-15\",\"2015-10-15\",\"2015-10-15\",\"2015-10-15\",\"2015-10-15\",\"2015-10-15\",\"2015-10-15\",\"2015-10-15\",\"2015-10-15\",\"2015-10-15\",\"2015-10-15\",\"2015-10-15\",\"2015-10-15\",\"2015-10-15\",\"2015-10-15\",\"2015-10-15\",\"2015-10-15\",\"2015-10-15\",\"2015-10-15\",\"2015-10-15\",\"2015-10-15\",\"2015-11-15\",\"2015-11-15\",\"2015-11-15\",\"2015-11-15\",\"2015-11-15\",\"2015-11-15\",\"2015-11-15\",\"2015-11-15\",\"2015-11-15\",\"2015-11-15\",\"2015-11-15\",\"2015-11-15\",\"2015-11-15\",\"2015-11-15\",\"2015-11-15\",\"2015-11-15\",\"2015-11-15\",\"2015-11-15\",\"2015-11-15\",\"2015-11-15\",\"2015-11-15\",\"2015-11-15\",\"2015-11-15\",\"2015-11-15\",\"2015-11-15\",\"2015-11-15\",\"2015-11-15\",\"2015-11-15\",\"2015-11-15\",\"2015-11-15\",\"2015-12-15\",\"2015-12-15\",\"2015-12-15\",\"2015-12-15\",\"2015-12-15\",\"2015-12-15\",\"2015-12-15\",\"2015-12-15\",\"2015-12-15\",\"2015-12-15\",\"2015-12-15\",\"2015-12-15\",\"2015-12-15\",\"2015-12-15\",\"2015-12-15\",\"2015-12-15\",\"2015-12-15\",\"2015-12-15\",\"2015-12-15\",\"2015-12-15\",\"2015-12-15\",\"2015-12-15\",\"2015-12-15\",\"2015-12-15\",\"2015-12-15\",\"2015-12-15\",\"2015-12-15\",\"2015-12-15\",\"2015-12-15\",\"2015-12-15\",\"2016-01-15\",\"2016-01-15\",\"2016-01-15\",\"2016-01-15\",\"2016-01-15\",\"2016-01-15\",\"2016-01-15\",\"2016-01-15\",\"2016-01-15\",\"2016-01-15\",\"2016-01-15\",\"2016-01-15\",\"2016-01-15\",\"2016-01-15\",\"2016-01-15\",\"2016-01-15\",\"2016-01-15\",\"2016-01-15\",\"2016-01-15\",\"2016-01-15\",\"2016-01-15\",\"2016-01-15\",\"2016-01-15\",\"2016-01-15\",\"2016-01-15\",\"2016-01-15\",\"2016-01-15\",\"2016-01-15\",\"2016-01-15\",\"2016-01-15\",\"2016-01-15\",\"2016-01-15\",\"2016-01-15\",\"2016-01-15\",\"2016-01-15\",\"2016-01-15\",\"2016-01-15\",\"2016-01-15\",\"2016-01-15\",\"2016-01-15\",\"2016-01-15\",\"2016-01-15\",\"2016-01-15\",\"2016-01-15\",\"2016-01-15\",\"2016-01-15\",\"2016-01-15\",\"2016-01-15\",\"2016-01-15\",\"2016-01-15\",\"2016-01-15\",\"2016-01-15\",\"2016-01-15\",\"2016-01-15\",\"2016-01-15\",\"2016-01-15\",\"2016-01-15\",\"2016-01-15\",\"2016-01-15\",\"2016-01-15\",\"2016-01-15\",\"2016-01-15\",\"2016-01-15\",\"2016-01-15\",\"2016-01-15\",\"2016-01-15\",\"2016-01-15\",\"2016-01-15\",\"2016-01-15\",\"2016-02-15\",\"2016-02-15\",\"2016-02-15\",\"2016-02-15\",\"2016-02-15\",\"2016-02-15\",\"2016-02-15\",\"2016-02-15\",\"2016-02-15\",\"2016-02-15\",\"2016-02-15\",\"2016-02-15\",\"2016-02-15\",\"2016-02-15\",\"2016-02-15\",\"2016-02-15\",\"2016-02-15\",\"2016-02-15\",\"2016-02-15\",\"2016-02-15\",\"2016-02-15\",\"2016-02-15\",\"2016-02-15\",\"2016-02-15\",\"2016-02-15\",\"2016-02-15\",\"2016-02-15\",\"2016-02-15\",\"2016-02-15\",\"2016-02-15\",\"2016-02-15\",\"2016-02-15\",\"2016-02-15\",\"2016-02-15\",\"2016-02-15\",\"2016-02-15\",\"2016-02-15\",\"2016-02-15\",\"2016-02-15\",\"2016-02-15\",\"2016-02-15\",\"2016-02-15\",\"2016-02-15\",\"2016-02-15\",\"2016-02-15\",\"2016-02-15\",\"2016-02-15\",\"2016-02-15\",\"2016-02-15\",\"2016-02-15\",\"2016-02-15\",\"2016-02-15\",\"2016-02-15\",\"2016-02-15\",\"2016-02-15\",\"2016-02-15\",\"2016-02-15\",\"2016-02-15\",\"2016-02-15\",\"2016-02-15\",\"2016-02-15\",\"2016-02-15\",\"2016-02-15\",\"2016-02-15\",\"2016-02-15\",\"2016-02-15\",\"2016-02-15\",\"2016-02-15\",\"2016-02-15\",\"2016-03-15\",\"2016-03-15\",\"2016-03-15\",\"2016-03-15\",\"2016-03-15\",\"2016-03-15\",\"2016-03-15\",\"2016-03-15\",\"2016-03-15\",\"2016-03-15\",\"2016-03-15\",\"2016-03-15\",\"2016-03-15\",\"2016-03-15\",\"2016-03-15\",\"2016-03-15\",\"2016-03-15\",\"2016-03-15\",\"2016-03-15\",\"2016-03-15\",\"2016-03-15\",\"2016-03-15\",\"2016-03-15\",\"2016-03-15\",\"2016-03-15\",\"2016-03-15\",\"2016-03-15\",\"2016-03-15\",\"2016-03-15\",\"2016-03-15\",\"2016-03-15\",\"2016-03-15\",\"2016-03-15\",\"2016-03-15\",\"2016-03-15\",\"2016-03-15\",\"2016-03-15\",\"2016-03-15\",\"2016-03-15\",\"2016-03-15\",\"2016-03-15\",\"2016-03-15\",\"2016-03-15\",\"2016-03-15\",\"2016-03-15\",\"2016-03-15\",\"2016-03-15\",\"2016-03-15\",\"2016-03-15\",\"2016-03-15\",\"2016-03-15\",\"2016-03-15\",\"2016-03-15\",\"2016-03-15\",\"2016-03-15\",\"2016-03-15\",\"2016-03-15\",\"2016-03-15\",\"2016-03-15\",\"2016-03-15\",\"2016-03-15\",\"2016-03-15\",\"2016-03-15\",\"2016-03-15\",\"2016-03-15\",\"2016-03-15\",\"2016-03-15\",\"2016-03-15\",\"2016-03-15\",\"2016-03-15\",\"2016-03-15\",\"2016-03-15\",\"2016-03-15\",\"2016-03-15\",\"2016-03-15\",\"2016-03-15\",\"2016-03-15\",\"2016-04-15\",\"2016-04-15\",\"2016-04-15\",\"2016-04-15\",\"2016-04-15\",\"2016-04-15\",\"2016-04-15\",\"2016-04-15\",\"2016-04-15\",\"2016-04-15\",\"2016-04-15\",\"2016-04-15\",\"2016-04-15\",\"2016-04-15\",\"2016-04-15\",\"2016-04-15\",\"2016-04-15\",\"2016-04-15\",\"2016-04-15\",\"2016-04-15\",\"2016-04-15\",\"2016-04-15\",\"2016-04-15\",\"2016-04-15\",\"2016-04-15\",\"2016-04-15\",\"2016-04-15\",\"2016-04-15\",\"2016-04-15\",\"2016-04-15\",\"2016-04-15\",\"2016-04-15\",\"2016-04-15\",\"2016-04-15\",\"2016-04-15\",\"2016-04-15\",\"2016-04-15\",\"2016-04-15\",\"2016-04-15\",\"2016-04-15\",\"2016-04-15\",\"2016-04-15\",\"2016-04-15\",\"2016-04-15\",\"2016-04-15\",\"2016-04-15\",\"2016-04-15\",\"2016-04-15\",\"2016-04-15\",\"2016-04-15\",\"2016-04-15\",\"2016-04-15\",\"2016-04-15\",\"2016-04-15\",\"2016-04-15\",\"2016-04-15\",\"2016-04-15\",\"2016-04-15\",\"2016-04-15\",\"2016-04-15\",\"2016-04-15\",\"2016-04-15\",\"2016-04-15\",\"2016-04-15\",\"2016-04-15\",\"2016-04-15\",\"2016-04-15\",\"2016-04-15\",\"2016-04-15\",\"2016-04-15\",\"2016-04-15\",\"2016-04-15\",\"2016-04-15\",\"2016-04-15\",\"2016-04-15\",\"2016-04-15\",\"2016-04-15\",\"2016-05-15\",\"2016-05-15\",\"2016-05-15\",\"2016-05-15\",\"2016-05-15\",\"2016-05-15\",\"2016-05-15\",\"2016-05-15\",\"2016-05-15\",\"2016-05-15\",\"2016-05-15\",\"2016-05-15\",\"2016-05-15\",\"2016-05-15\",\"2016-05-15\",\"2016-05-15\",\"2016-05-15\",\"2016-05-15\",\"2016-05-15\",\"2016-05-15\",\"2016-05-15\",\"2016-05-15\",\"2016-05-15\",\"2016-05-15\",\"2016-05-15\",\"2016-05-15\",\"2016-05-15\",\"2016-05-15\",\"2016-05-15\",\"2016-05-15\",\"2016-05-15\",\"2016-05-15\",\"2016-05-15\",\"2016-05-15\",\"2016-05-15\",\"2016-05-15\",\"2016-05-15\",\"2016-05-15\",\"2016-05-15\",\"2016-05-15\",\"2016-05-15\",\"2016-05-15\",\"2016-05-15\",\"2016-05-15\",\"2016-05-15\",\"2016-05-15\",\"2016-05-15\",\"2016-05-15\",\"2016-05-15\",\"2016-05-15\",\"2016-05-15\",\"2016-05-15\",\"2016-05-15\",\"2016-05-15\",\"2016-05-15\",\"2016-05-15\",\"2016-05-15\",\"2016-05-15\",\"2016-05-15\",\"2016-05-15\",\"2016-05-15\",\"2016-05-15\",\"2016-05-15\",\"2016-05-15\",\"2016-05-15\",\"2016-05-15\",\"2016-05-15\",\"2016-05-15\",\"2016-05-15\",\"2016-05-15\",\"2016-05-15\",\"2016-05-15\",\"2016-05-15\",\"2016-05-15\",\"2016-05-15\",\"2016-05-15\",\"2016-06-15\",\"2016-06-15\",\"2016-06-15\",\"2016-06-15\",\"2016-06-15\",\"2016-06-15\",\"2016-06-15\",\"2016-06-15\",\"2016-06-15\",\"2016-06-15\",\"2016-06-15\",\"2016-06-15\",\"2016-06-15\",\"2016-06-15\",\"2016-06-15\",\"2016-06-15\",\"2016-06-15\",\"2016-06-15\",\"2016-06-15\",\"2016-06-15\",\"2016-06-15\",\"2016-06-15\",\"2016-06-15\",\"2016-06-15\",\"2016-06-15\",\"2016-06-15\",\"2016-06-15\",\"2016-06-15\",\"2016-06-15\",\"2016-06-15\",\"2016-06-15\",\"2016-06-15\",\"2016-06-15\",\"2016-06-15\",\"2016-06-15\",\"2016-06-15\",\"2016-06-15\",\"2016-06-15\",\"2016-06-15\",\"2016-06-15\",\"2016-06-15\",\"2016-06-15\",\"2016-06-15\",\"2016-06-15\",\"2016-06-15\",\"2016-06-15\",\"2016-06-15\",\"2016-06-15\",\"2016-06-15\",\"2016-06-15\",\"2016-06-15\",\"2016-06-15\",\"2016-06-15\",\"2016-06-15\",\"2016-06-15\",\"2016-06-15\",\"2016-06-15\",\"2016-06-15\",\"2016-06-15\",\"2016-06-15\",\"2016-06-15\",\"2016-06-15\",\"2016-06-15\",\"2016-06-15\",\"2016-06-15\",\"2016-06-15\",\"2016-06-15\",\"2016-06-15\",\"2016-06-15\",\"2016-06-15\",\"2016-06-15\",\"2016-06-15\",\"2016-06-15\",\"2016-06-15\",\"2016-06-15\",\"2016-06-15\",\"2016-07-15\",\"2016-07-15\",\"2016-07-15\",\"2016-07-15\",\"2016-07-15\",\"2016-07-15\",\"2016-07-15\",\"2016-07-15\",\"2016-07-15\",\"2016-07-15\",\"2016-07-15\",\"2016-07-15\",\"2016-07-15\",\"2016-07-15\",\"2016-07-15\",\"2016-07-15\",\"2016-07-15\",\"2016-07-15\",\"2016-07-15\",\"2016-07-15\",\"2016-07-15\",\"2016-07-15\",\"2016-07-15\",\"2016-07-15\",\"2016-07-15\",\"2016-07-15\",\"2016-07-15\",\"2016-07-15\",\"2016-07-15\",\"2016-07-15\",\"2016-07-15\",\"2016-07-15\",\"2016-07-15\",\"2016-07-15\",\"2016-07-15\",\"2016-07-15\",\"2016-07-15\",\"2016-07-15\",\"2016-07-15\",\"2016-07-15\",\"2016-07-15\",\"2016-07-15\",\"2016-07-15\",\"2016-07-15\",\"2016-07-15\",\"2016-07-15\",\"2016-07-15\",\"2016-07-15\",\"2016-07-15\",\"2016-07-15\",\"2016-07-15\",\"2016-07-15\",\"2016-07-15\",\"2016-07-15\",\"2016-07-15\",\"2016-07-15\",\"2016-08-15\",\"2016-08-15\",\"2016-08-15\",\"2016-08-15\",\"2016-08-15\",\"2016-08-15\",\"2016-08-15\",\"2016-08-15\",\"2016-08-15\",\"2016-08-15\",\"2016-08-15\",\"2016-08-15\",\"2016-08-15\",\"2016-08-15\",\"2016-08-15\",\"2016-08-15\",\"2016-08-15\",\"2016-08-15\",\"2016-08-15\",\"2016-08-15\",\"2016-08-15\",\"2016-08-15\",\"2016-08-15\",\"2016-08-15\",\"2016-08-15\",\"2016-08-15\",\"2016-08-15\",\"2016-08-15\",\"2016-08-15\",\"2016-08-15\",\"2016-08-15\",\"2016-08-15\",\"2016-08-15\",\"2016-08-15\",\"2016-08-15\",\"2016-08-15\",\"2016-08-15\",\"2016-08-15\",\"2016-08-15\",\"2016-08-15\",\"2016-08-15\",\"2016-08-15\",\"2016-08-15\",\"2016-08-15\",\"2016-08-15\",\"2016-08-15\",\"2016-08-15\",\"2016-08-15\",\"2016-08-15\",\"2016-08-15\",\"2016-08-15\",\"2016-08-15\",\"2016-08-15\",\"2016-08-15\",\"2016-08-15\",\"2016-08-15\",\"2016-08-15\",\"2016-08-15\",\"2016-09-15\",\"2016-09-15\",\"2016-09-15\",\"2016-09-15\",\"2016-09-15\",\"2016-09-15\",\"2016-09-15\",\"2016-09-15\",\"2016-09-15\",\"2016-09-15\",\"2016-09-15\",\"2016-09-15\",\"2016-09-15\",\"2016-09-15\",\"2016-09-15\",\"2016-09-15\",\"2016-09-15\",\"2016-09-15\",\"2016-09-15\",\"2016-09-15\",\"2016-09-15\",\"2016-09-15\",\"2016-09-15\",\"2016-09-15\",\"2016-09-15\",\"2016-09-15\",\"2016-09-15\",\"2016-09-15\",\"2016-09-15\",\"2016-09-15\",\"2016-09-15\",\"2016-09-15\",\"2016-09-15\",\"2016-09-15\",\"2016-09-15\",\"2016-09-15\",\"2016-09-15\",\"2016-09-15\",\"2016-09-15\",\"2016-09-15\",\"2016-09-15\",\"2016-09-15\",\"2016-09-15\",\"2016-09-15\",\"2016-09-15\",\"2016-09-15\",\"2016-09-15\",\"2016-09-15\",\"2016-09-15\",\"2016-09-15\",\"2016-09-15\",\"2016-09-15\",\"2016-09-15\",\"2016-09-15\",\"2016-09-15\",\"2016-09-15\",\"2016-09-15\",\"2016-09-15\",\"2016-09-15\",\"2016-09-15\",\"2016-09-15\",\"2016-09-15\",\"2016-09-15\",\"2016-09-15\",\"2016-09-15\",\"2016-09-15\",\"2016-09-15\",\"2016-10-15\",\"2016-10-15\",\"2016-10-15\",\"2016-10-15\",\"2016-10-15\",\"2016-10-15\",\"2016-10-15\",\"2016-10-15\",\"2016-10-15\",\"2016-10-15\",\"2016-10-15\",\"2016-10-15\",\"2016-10-15\",\"2016-10-15\",\"2016-10-15\",\"2016-10-15\",\"2016-10-15\",\"2016-10-15\",\"2016-10-15\",\"2016-10-15\",\"2016-10-15\",\"2016-10-15\",\"2016-10-15\",\"2016-10-15\",\"2016-10-15\",\"2016-10-15\",\"2016-10-15\",\"2016-10-15\",\"2016-10-15\",\"2016-10-15\",\"2016-10-15\",\"2016-10-15\",\"2016-10-15\",\"2016-10-15\",\"2016-10-15\",\"2016-10-15\",\"2016-10-15\",\"2016-10-15\",\"2016-10-15\",\"2016-10-15\",\"2016-10-15\",\"2016-10-15\",\"2016-10-15\",\"2016-10-15\",\"2016-10-15\",\"2016-10-15\",\"2016-10-15\",\"2016-10-15\",\"2016-10-15\",\"2016-10-15\",\"2016-10-15\",\"2016-10-15\",\"2016-10-15\",\"2016-10-15\",\"2016-10-15\",\"2016-10-15\",\"2016-11-15\",\"2016-11-15\",\"2016-11-15\",\"2016-11-15\",\"2016-11-15\",\"2016-11-15\",\"2016-11-15\",\"2016-11-15\",\"2016-11-15\",\"2016-11-15\",\"2016-11-15\",\"2016-11-15\",\"2016-11-15\",\"2016-11-15\",\"2016-11-15\",\"2016-11-15\",\"2016-11-15\",\"2016-11-15\",\"2016-11-15\",\"2016-11-15\",\"2016-11-15\",\"2016-12-15\",\"2016-12-15\",\"2016-12-15\",\"2016-12-15\",\"2016-12-15\",\"2016-12-15\",\"2016-12-15\",\"2016-12-15\",\"2016-12-15\",\"2016-12-15\",\"2016-12-15\",\"2016-12-15\",\"2016-12-15\",\"2016-12-15\",\"2016-12-15\",\"2016-12-15\",\"2016-12-15\",\"2016-12-15\",\"2016-12-15\",\"2016-12-15\",\"2016-12-15\",\"2016-12-15\",\"2016-12-15\",\"2016-12-15\",\"2016-12-15\",\"2016-12-15\",\"2016-12-15\",\"2016-12-15\",\"2016-12-15\",\"2016-12-15\",\"2016-12-15\",\"2016-12-15\",\"2016-12-15\",\"2016-12-15\",\"2016-12-15\",\"2016-12-15\",\"2016-12-15\",\"2016-12-15\",\"2016-12-15\",\"2016-12-15\",\"2016-12-15\",\"2016-12-15\",\"2016-12-15\",\"2016-12-15\",\"2016-12-15\",\"2016-12-15\",\"2016-12-15\",\"2016-12-15\",\"2016-12-15\",\"2016-12-15\",\"2016-12-15\",\"2016-12-15\",\"2016-12-15\",\"2016-12-15\",\"2016-12-15\",\"2016-12-15\",\"2016-12-15\",\"2016-12-15\",\"2016-12-15\",\"2016-12-15\",\"2016-12-15\",\"2016-12-15\",\"2016-12-15\",\"2016-12-15\",\"2016-12-15\",\"2016-12-15\",\"2016-12-15\",\"2016-12-15\",\"2016-12-15\",\"2017-01-15\",\"2017-01-15\",\"2017-01-15\",\"2017-01-15\",\"2017-01-15\",\"2017-01-15\",\"2017-01-15\",\"2017-01-15\",\"2017-01-15\",\"2017-01-15\",\"2017-01-15\",\"2017-01-15\",\"2017-01-15\",\"2017-01-15\",\"2017-01-15\",\"2017-01-15\",\"2017-01-15\",\"2017-01-15\",\"2017-01-15\",\"2017-01-15\",\"2017-01-15\",\"2017-01-15\",\"2017-01-15\",\"2017-01-15\",\"2017-01-15\",\"2017-01-15\",\"2017-01-15\",\"2017-01-15\",\"2017-01-15\",\"2017-01-15\",\"2017-01-15\",\"2017-01-15\",\"2017-01-15\",\"2017-01-15\",\"2017-01-15\",\"2017-01-15\",\"2017-01-15\",\"2017-01-15\",\"2017-01-15\",\"2017-01-15\",\"2017-01-15\",\"2017-01-15\",\"2017-01-15\",\"2017-01-15\",\"2017-01-15\",\"2017-01-15\",\"2017-01-15\",\"2017-01-15\",\"2017-01-15\",\"2017-01-15\",\"2017-01-15\",\"2017-01-15\",\"2017-01-15\",\"2017-01-15\",\"2017-01-15\",\"2017-01-15\",\"2017-01-15\",\"2017-01-15\",\"2017-01-15\",\"2017-01-15\",\"2017-01-15\",\"2017-01-15\",\"2017-01-15\",\"2017-01-15\",\"2017-01-15\",\"2017-01-15\",\"2017-02-15\",\"2017-02-15\",\"2017-02-15\",\"2017-02-15\",\"2017-02-15\",\"2017-02-15\",\"2017-02-15\",\"2017-02-15\",\"2017-02-15\",\"2017-02-15\",\"2017-02-15\",\"2017-02-15\",\"2017-02-15\",\"2017-02-15\",\"2017-02-15\",\"2017-02-15\",\"2017-02-15\",\"2017-02-15\",\"2017-02-15\",\"2017-02-15\",\"2017-02-15\",\"2017-02-15\",\"2017-02-15\",\"2017-02-15\",\"2017-02-15\",\"2017-02-15\",\"2017-02-15\",\"2017-02-15\",\"2017-02-15\",\"2017-02-15\",\"2017-02-15\",\"2017-02-15\",\"2017-02-15\",\"2017-02-15\",\"2017-02-15\",\"2017-02-15\",\"2017-02-15\",\"2017-02-15\",\"2017-02-15\",\"2017-02-15\",\"2017-02-15\",\"2017-02-15\",\"2017-02-15\",\"2017-02-15\",\"2017-02-15\",\"2017-02-15\",\"2017-02-15\",\"2017-02-15\",\"2017-02-15\",\"2017-02-15\",\"2017-02-15\",\"2017-02-15\",\"2017-02-15\",\"2017-02-15\",\"2017-02-15\",\"2017-02-15\",\"2017-02-15\",\"2017-03-15\",\"2017-03-15\",\"2017-03-15\",\"2017-03-15\",\"2017-03-15\",\"2017-03-15\",\"2017-03-15\",\"2017-03-15\",\"2017-03-15\",\"2017-03-15\",\"2017-03-15\",\"2017-03-15\",\"2017-03-15\",\"2017-03-15\",\"2017-03-15\",\"2017-03-15\",\"2017-03-15\",\"2017-03-15\",\"2017-03-15\",\"2017-03-15\",\"2017-03-15\",\"2017-03-15\",\"2017-03-15\",\"2017-03-15\",\"2017-03-15\",\"2017-03-15\",\"2017-03-15\",\"2017-03-15\",\"2017-03-15\",\"2017-03-15\",\"2017-03-15\",\"2017-03-15\",\"2017-03-15\",\"2017-03-15\",\"2017-03-15\",\"2017-03-15\",\"2017-03-15\",\"2017-03-15\",\"2017-03-15\",\"2017-03-15\",\"2017-03-15\",\"2017-03-15\",\"2017-03-15\",\"2017-03-15\",\"2017-03-15\",\"2017-03-15\",\"2017-03-15\",\"2017-03-15\",\"2017-03-15\",\"2017-03-15\",\"2017-03-15\",\"2017-03-15\",\"2017-03-15\",\"2017-03-15\",\"2017-03-15\",\"2017-03-15\",\"2017-03-15\",\"2017-04-15\",\"2017-04-15\",\"2017-04-15\",\"2017-04-15\",\"2017-04-15\",\"2017-04-15\",\"2017-04-15\",\"2017-04-15\",\"2017-04-15\",\"2017-04-15\",\"2017-04-15\",\"2017-04-15\",\"2017-04-15\",\"2017-04-15\",\"2017-04-15\",\"2017-04-15\",\"2017-04-15\",\"2017-04-15\",\"2017-04-15\",\"2017-04-15\",\"2017-04-15\",\"2017-04-15\",\"2017-04-15\",\"2017-04-15\",\"2017-04-15\",\"2017-04-15\",\"2017-04-15\",\"2017-04-15\",\"2017-04-15\",\"2017-04-15\",\"2017-04-15\",\"2017-04-15\",\"2017-04-15\",\"2017-04-15\",\"2017-04-15\",\"2017-04-15\",\"2017-04-15\",\"2017-04-15\",\"2017-04-15\",\"2017-04-15\",\"2017-04-15\",\"2017-04-15\",\"2017-04-15\",\"2017-04-15\",\"2017-04-15\",\"2017-04-15\",\"2017-04-15\",\"2017-04-15\",\"2017-04-15\",\"2017-04-15\",\"2017-04-15\",\"2017-04-15\",\"2017-04-15\",\"2017-04-15\",\"2017-05-15\",\"2017-05-15\",\"2017-05-15\",\"2017-05-15\",\"2017-05-15\",\"2017-05-15\",\"2017-05-15\",\"2017-05-15\",\"2017-05-15\",\"2017-05-15\",\"2017-05-15\",\"2017-05-15\",\"2017-05-15\",\"2017-05-15\",\"2017-05-15\",\"2017-05-15\",\"2017-05-15\",\"2017-05-15\",\"2017-05-15\",\"2017-05-15\",\"2017-05-15\",\"2017-05-15\",\"2017-05-15\",\"2017-05-15\",\"2017-05-15\",\"2017-05-15\",\"2017-05-15\",\"2017-05-15\",\"2017-05-15\",\"2017-05-15\",\"2017-05-15\",\"2017-05-15\",\"2017-05-15\",\"2017-05-15\",\"2017-05-15\",\"2017-05-15\",\"2017-05-15\",\"2017-05-15\",\"2017-05-15\",\"2017-05-15\",\"2017-05-15\",\"2017-05-15\",\"2017-05-15\",\"2017-05-15\",\"2017-05-15\",\"2017-05-15\",\"2017-05-15\",\"2017-05-15\",\"2017-05-15\",\"2017-05-15\",\"2017-05-15\",\"2017-05-15\",\"2017-05-15\",\"2017-05-15\",\"2017-05-15\",\"2017-05-15\",\"2017-05-15\",\"2017-05-15\",\"2017-05-15\",\"2017-05-15\",\"2017-05-15\",\"2017-05-15\",\"2017-05-15\",\"2017-05-15\",\"2017-05-15\",\"2017-05-15\",\"2017-05-15\",\"2017-05-15\",\"2017-06-15\",\"2017-06-15\",\"2017-06-15\",\"2017-06-15\",\"2017-06-15\",\"2017-06-15\",\"2017-06-15\",\"2017-06-15\",\"2017-06-15\",\"2017-06-15\",\"2017-06-15\",\"2017-06-15\",\"2017-06-15\",\"2017-06-15\",\"2017-06-15\",\"2017-06-15\",\"2017-06-15\",\"2017-06-15\",\"2017-06-15\",\"2017-06-15\",\"2017-06-15\",\"2017-06-15\",\"2017-06-15\",\"2017-06-15\",\"2017-06-15\",\"2017-06-15\",\"2017-06-15\",\"2017-06-15\",\"2017-06-15\",\"2017-06-15\",\"2017-06-15\",\"2017-06-15\",\"2017-06-15\",\"2017-06-15\",\"2017-06-15\",\"2017-06-15\",\"2017-06-15\",\"2017-06-15\",\"2017-06-15\",\"2017-06-15\",\"2017-06-15\",\"2017-06-15\",\"2017-06-15\",\"2017-06-15\",\"2017-06-15\",\"2017-06-15\",\"2017-06-15\",\"2017-06-15\",\"2017-06-15\",\"2017-06-15\",\"2017-06-15\",\"2017-06-15\",\"2017-06-15\",\"2017-06-15\",\"2017-06-15\",\"2017-06-15\",\"2017-06-15\",\"2017-06-15\",\"2017-06-15\",\"2017-06-15\",\"2017-06-15\",\"2017-06-15\",\"2017-06-15\",\"2017-06-15\",\"2017-06-15\",\"2017-06-15\",\"2017-07-15\",\"2017-07-15\",\"2017-07-15\",\"2017-07-15\",\"2017-07-15\",\"2017-07-15\",\"2017-07-15\",\"2017-07-15\",\"2017-07-15\",\"2017-07-15\",\"2017-07-15\",\"2017-07-15\",\"2017-07-15\",\"2017-07-15\",\"2017-07-15\",\"2017-07-15\",\"2017-07-15\",\"2017-07-15\",\"2017-07-15\",\"2017-07-15\",\"2017-07-15\",\"2017-07-15\",\"2017-07-15\",\"2017-07-15\",\"2017-07-15\",\"2017-07-15\",\"2017-07-15\",\"2017-07-15\",\"2017-07-15\",\"2017-07-15\",\"2017-07-15\",\"2017-07-15\",\"2017-07-15\",\"2017-07-15\",\"2017-07-15\",\"2017-07-15\",\"2017-07-15\",\"2017-07-15\",\"2017-07-15\",\"2017-07-15\",\"2017-07-15\",\"2017-07-15\",\"2017-07-15\",\"2017-07-15\",\"2017-07-15\",\"2017-07-15\",\"2017-07-15\",\"2017-07-15\",\"2017-07-15\",\"2017-07-15\",\"2017-07-15\",\"2017-07-15\",\"2017-07-15\",\"2017-07-15\",\"2017-07-15\",\"2017-07-15\",\"2017-07-15\",\"2017-07-15\",\"2017-07-15\",\"2017-07-15\",\"2017-07-15\",\"2017-07-15\",\"2017-07-15\",\"2017-07-15\",\"2017-07-15\",\"2017-07-15\",\"2017-07-15\",\"2017-07-15\",\"2017-07-15\",\"2017-07-15\",\"2017-07-15\",\"2017-07-15\",\"2017-07-15\",\"2017-07-15\",\"2017-07-15\",\"2017-07-15\",\"2017-07-15\",\"2017-07-15\",\"2017-07-15\",\"2017-08-15\",\"2017-08-15\",\"2017-08-15\",\"2017-08-15\",\"2017-08-15\",\"2017-08-15\",\"2017-08-15\",\"2017-08-15\",\"2017-08-15\",\"2017-08-15\",\"2017-08-15\",\"2017-08-15\",\"2017-08-15\",\"2017-08-15\",\"2017-08-15\",\"2017-08-15\",\"2017-08-15\",\"2017-08-15\",\"2017-08-15\",\"2017-08-15\",\"2017-08-15\",\"2017-08-15\",\"2017-08-15\",\"2017-08-15\",\"2017-08-15\",\"2017-08-15\",\"2017-08-15\",\"2017-08-15\",\"2017-08-15\",\"2017-08-15\",\"2017-08-15\",\"2017-08-15\",\"2017-08-15\",\"2017-08-15\",\"2017-08-15\",\"2017-08-15\",\"2017-08-15\",\"2017-08-15\",\"2017-08-15\",\"2017-08-15\",\"2017-08-15\",\"2017-08-15\",\"2017-08-15\",\"2017-08-15\",\"2017-08-15\",\"2017-08-15\",\"2017-08-15\",\"2017-08-15\",\"2017-08-15\",\"2017-08-15\",\"2017-08-15\",\"2017-08-15\",\"2017-08-15\",\"2017-08-15\",\"2017-08-15\",\"2017-08-15\",\"2017-08-15\",\"2017-08-15\",\"2017-08-15\",\"2017-08-15\",\"2017-08-15\",\"2017-08-15\",\"2017-08-15\",\"2017-08-15\",\"2017-08-15\",\"2017-08-15\",\"2017-08-15\",\"2017-08-15\",\"2017-08-15\",\"2017-08-15\",\"2017-08-15\",\"2017-08-15\",\"2017-08-15\",\"2017-08-15\",\"2017-08-15\",\"2017-08-15\",\"2017-08-15\",\"2017-08-15\",\"2017-08-15\",\"2017-09-15\",\"2017-09-15\",\"2017-09-15\",\"2017-09-15\",\"2017-09-15\",\"2017-09-15\",\"2017-09-15\",\"2017-09-15\",\"2017-09-15\",\"2017-09-15\",\"2017-09-15\",\"2017-09-15\",\"2017-09-15\",\"2017-09-15\",\"2017-09-15\",\"2017-09-15\",\"2017-09-15\",\"2017-09-15\",\"2017-09-15\",\"2017-09-15\",\"2017-09-15\",\"2017-09-15\",\"2017-09-15\",\"2017-09-15\",\"2017-09-15\",\"2017-09-15\",\"2017-09-15\",\"2017-09-15\",\"2017-09-15\",\"2017-09-15\",\"2017-09-15\",\"2017-09-15\",\"2017-09-15\",\"2017-09-15\",\"2017-09-15\",\"2017-09-15\",\"2017-09-15\",\"2017-09-15\",\"2017-09-15\",\"2017-09-15\",\"2017-09-15\",\"2017-09-15\",\"2017-09-15\",\"2017-09-15\",\"2017-09-15\",\"2017-09-15\",\"2017-09-15\",\"2017-09-15\",\"2017-09-15\",\"2017-09-15\",\"2017-09-15\",\"2017-09-15\",\"2017-09-15\",\"2017-09-15\",\"2017-09-15\",\"2017-09-15\",\"2017-09-15\",\"2017-09-15\",\"2017-09-15\",\"2017-09-15\",\"2017-09-15\",\"2017-09-15\",\"2017-09-15\",\"2017-09-15\",\"2017-09-15\",\"2017-09-15\",\"2017-09-15\",\"2017-09-15\",\"2017-09-15\",\"2017-09-15\",\"2017-09-15\",\"2017-09-15\",\"2017-09-15\",\"2017-09-15\",\"2017-09-15\",\"2017-09-15\",\"2017-09-15\",\"2017-09-15\",\"2017-09-15\",\"2017-10-15\",\"2017-10-15\",\"2017-10-15\",\"2017-10-15\",\"2017-10-15\",\"2017-10-15\",\"2017-10-15\",\"2017-10-15\",\"2017-10-15\",\"2017-10-15\",\"2017-10-15\",\"2017-10-15\",\"2017-10-15\",\"2017-10-15\",\"2017-10-15\",\"2017-10-15\",\"2017-10-15\",\"2017-10-15\",\"2017-10-15\",\"2017-10-15\",\"2017-10-15\",\"2017-10-15\",\"2017-10-15\",\"2017-10-15\",\"2017-10-15\",\"2017-10-15\",\"2017-10-15\",\"2017-10-15\",\"2017-10-15\",\"2017-10-15\",\"2017-10-15\",\"2017-10-15\",\"2017-10-15\",\"2017-10-15\",\"2017-10-15\",\"2017-10-15\",\"2017-10-15\",\"2017-10-15\",\"2017-10-15\",\"2017-10-15\",\"2017-10-15\",\"2017-10-15\",\"2017-10-15\",\"2017-10-15\",\"2017-10-15\",\"2017-10-15\",\"2017-10-15\",\"2017-10-15\",\"2017-10-15\",\"2017-10-15\",\"2017-10-15\",\"2017-10-15\",\"2017-10-15\",\"2017-10-15\",\"2017-10-15\",\"2017-10-15\",\"2017-10-15\",\"2017-10-15\",\"2017-10-15\",\"2017-10-15\",\"2017-10-15\",\"2017-10-15\",\"2017-10-15\",\"2017-10-15\",\"2017-10-15\",\"2017-10-15\",\"2017-10-15\",\"2017-10-15\",\"2017-10-15\",\"2017-10-15\",\"2017-10-15\",\"2017-10-15\",\"2017-10-15\",\"2017-10-15\",\"2017-10-15\",\"2017-10-15\",\"2017-10-15\",\"2017-10-15\",\"2017-10-15\",\"2017-10-15\",\"2017-11-15\",\"2017-11-15\",\"2017-11-15\",\"2017-11-15\",\"2017-11-15\",\"2017-11-15\",\"2017-11-15\",\"2017-11-15\",\"2017-11-15\",\"2017-11-15\",\"2017-11-15\",\"2017-11-15\",\"2017-11-15\",\"2017-11-15\",\"2017-11-15\",\"2017-11-15\",\"2017-11-15\",\"2017-11-15\",\"2017-11-15\",\"2017-11-15\",\"2017-11-15\",\"2017-11-15\",\"2017-11-15\",\"2017-11-15\",\"2017-11-15\",\"2017-11-15\",\"2017-11-15\",\"2017-11-15\",\"2017-11-15\",\"2017-11-15\",\"2017-11-15\",\"2017-11-15\",\"2017-11-15\",\"2017-11-15\",\"2017-11-15\",\"2017-11-15\",\"2017-11-15\",\"2017-11-15\",\"2017-11-15\",\"2017-11-15\",\"2017-11-15\",\"2017-11-15\",\"2017-11-15\",\"2017-11-15\",\"2017-11-15\",\"2017-11-15\",\"2017-11-15\",\"2017-11-15\",\"2017-11-15\",\"2017-11-15\",\"2017-11-15\",\"2017-11-15\",\"2017-11-15\",\"2017-11-15\",\"2017-11-15\",\"2017-11-15\",\"2017-11-15\",\"2017-11-15\",\"2017-11-15\",\"2017-11-15\",\"2017-11-15\",\"2017-11-15\",\"2017-11-15\",\"2017-11-15\",\"2017-11-15\",\"2017-11-15\",\"2017-11-15\",\"2017-11-15\",\"2017-11-15\",\"2017-11-15\",\"2017-11-15\",\"2017-11-15\",\"2017-11-15\",\"2017-11-15\",\"2017-11-15\",\"2017-11-15\",\"2017-11-15\",\"2017-12-15\",\"2017-12-15\",\"2017-12-15\",\"2017-12-15\",\"2017-12-15\",\"2017-12-15\",\"2017-12-15\",\"2017-12-15\",\"2017-12-15\",\"2017-12-15\",\"2017-12-15\",\"2017-12-15\",\"2017-12-15\",\"2017-12-15\",\"2017-12-15\",\"2017-12-15\",\"2017-12-15\",\"2017-12-15\",\"2017-12-15\",\"2017-12-15\",\"2017-12-15\",\"2017-12-15\",\"2017-12-15\",\"2017-12-15\",\"2017-12-15\",\"2017-12-15\",\"2017-12-15\",\"2017-12-15\",\"2017-12-15\",\"2017-12-15\",\"2017-12-15\",\"2017-12-15\",\"2017-12-15\",\"2017-12-15\",\"2017-12-15\",\"2017-12-15\",\"2017-12-15\",\"2017-12-15\",\"2017-12-15\",\"2017-12-15\",\"2017-12-15\",\"2017-12-15\",\"2017-12-15\",\"2017-12-15\",\"2017-12-15\",\"2017-12-15\",\"2017-12-15\",\"2017-12-15\",\"2017-12-15\",\"2017-12-15\",\"2017-12-15\",\"2017-12-15\",\"2017-12-15\",\"2017-12-15\",\"2017-12-15\",\"2017-12-15\",\"2017-12-15\",\"2017-12-15\",\"2017-12-15\",\"2017-12-15\",\"2017-12-15\",\"2017-12-15\",\"2017-12-15\",\"2017-12-15\",\"2017-12-15\",\"2017-12-15\",\"2017-12-15\",\"2017-12-15\",\"2017-12-15\",\"2017-12-15\",\"2017-12-15\",\"2017-12-15\",\"2017-12-15\",\"2017-12-15\",\"2017-12-15\",\"2017-12-15\",\"2017-12-15\",\"2017-12-15\",\"2017-12-15\",\"2018-01-15\",\"2018-01-15\",\"2018-01-15\",\"2018-01-15\",\"2018-01-15\",\"2018-01-15\",\"2018-01-15\",\"2018-01-15\",\"2018-01-15\",\"2018-01-15\",\"2018-01-15\",\"2018-01-15\",\"2018-01-15\",\"2018-01-15\",\"2018-01-15\",\"2018-01-15\",\"2018-01-15\",\"2018-01-15\",\"2018-01-15\",\"2018-01-15\",\"2018-01-15\",\"2018-01-15\",\"2018-01-15\",\"2018-01-15\",\"2018-01-15\",\"2018-01-15\",\"2018-01-15\",\"2018-01-15\",\"2018-01-15\",\"2018-01-15\",\"2018-01-15\",\"2018-01-15\",\"2018-01-15\",\"2018-01-15\",\"2018-01-15\",\"2018-01-15\",\"2018-01-15\",\"2018-01-15\",\"2018-01-15\",\"2018-01-15\",\"2018-01-15\",\"2018-01-15\",\"2018-01-15\",\"2018-01-15\",\"2018-01-15\",\"2018-01-15\",\"2018-01-15\",\"2018-01-15\",\"2018-01-15\",\"2018-01-15\",\"2018-01-15\",\"2018-01-15\",\"2018-01-15\",\"2018-01-15\",\"2018-01-15\",\"2018-01-15\",\"2018-01-15\",\"2018-01-15\",\"2018-01-15\",\"2018-01-15\",\"2018-01-15\",\"2018-01-15\",\"2018-01-15\",\"2018-01-15\",\"2018-01-15\",\"2018-01-15\",\"2018-01-15\",\"2018-01-15\",\"2018-01-15\",\"2018-01-15\",\"2018-01-15\",\"2018-01-15\",\"2018-01-15\",\"2018-01-15\",\"2018-01-15\",\"2018-01-15\",\"2018-01-15\",\"2018-01-15\",\"2018-01-15\",\"2018-01-15\",\"2018-01-15\",\"2018-02-15\",\"2018-02-15\",\"2018-02-15\",\"2018-02-15\",\"2018-02-15\",\"2018-02-15\",\"2018-02-15\",\"2018-02-15\",\"2018-02-15\",\"2018-02-15\",\"2018-02-15\",\"2018-02-15\",\"2018-02-15\",\"2018-02-15\",\"2018-02-15\",\"2018-02-15\",\"2018-02-15\",\"2018-02-15\",\"2018-02-15\",\"2018-02-15\",\"2018-02-15\",\"2018-02-15\",\"2018-02-15\",\"2018-02-15\",\"2018-02-15\",\"2018-02-15\",\"2018-02-15\",\"2018-02-15\",\"2018-02-15\",\"2018-02-15\",\"2018-02-15\",\"2018-02-15\",\"2018-02-15\",\"2018-02-15\",\"2018-02-15\",\"2018-02-15\",\"2018-02-15\",\"2018-02-15\",\"2018-02-15\",\"2018-02-15\",\"2018-02-15\",\"2018-02-15\",\"2018-02-15\",\"2018-02-15\",\"2018-02-15\",\"2018-02-15\",\"2018-02-15\",\"2018-02-15\",\"2018-02-15\",\"2018-02-15\",\"2018-02-15\",\"2018-02-15\",\"2018-02-15\",\"2018-02-15\",\"2018-02-15\",\"2018-02-15\",\"2018-02-15\",\"2018-02-15\",\"2018-02-15\",\"2018-02-15\",\"2018-02-15\",\"2018-02-15\",\"2018-02-15\",\"2018-02-15\",\"2018-02-15\",\"2018-02-15\",\"2018-02-15\",\"2018-02-15\",\"2018-02-15\",\"2018-02-15\",\"2018-02-15\",\"2018-02-15\",\"2018-02-15\",\"2018-02-15\",\"2018-02-15\",\"2018-02-15\",\"2018-02-15\",\"2018-02-15\",\"2018-02-15\",\"2018-02-15\",\"2018-02-15\",\"2018-03-15\",\"2018-03-15\",\"2018-03-15\",\"2018-03-15\",\"2018-03-15\",\"2018-03-15\",\"2018-03-15\",\"2018-03-15\",\"2018-03-15\",\"2018-03-15\",\"2018-03-15\",\"2018-03-15\",\"2018-03-15\",\"2018-03-15\",\"2018-03-15\",\"2018-03-15\",\"2018-03-15\",\"2018-03-15\",\"2018-03-15\",\"2018-03-15\",\"2018-03-15\",\"2018-03-15\",\"2018-03-15\",\"2018-03-15\",\"2018-03-15\",\"2018-03-15\",\"2018-03-15\",\"2018-03-15\",\"2018-03-15\",\"2018-03-15\",\"2018-03-15\",\"2018-03-15\",\"2018-03-15\",\"2018-03-15\",\"2018-03-15\",\"2018-03-15\",\"2018-03-15\",\"2018-03-15\",\"2018-03-15\",\"2018-03-15\",\"2018-03-15\",\"2018-03-15\",\"2018-03-15\",\"2018-03-15\",\"2018-03-15\",\"2018-03-15\",\"2018-03-15\",\"2018-03-15\",\"2018-03-15\",\"2018-03-15\",\"2018-03-15\",\"2018-03-15\",\"2018-03-15\",\"2018-03-15\",\"2018-03-15\",\"2018-03-15\",\"2018-03-15\",\"2018-03-15\",\"2018-03-15\",\"2018-03-15\",\"2018-03-15\",\"2018-03-15\",\"2018-03-15\",\"2018-03-15\",\"2018-03-15\",\"2018-03-15\",\"2018-03-15\",\"2018-03-15\",\"2018-03-15\",\"2018-03-15\",\"2018-03-15\",\"2018-03-15\",\"2018-03-15\",\"2018-03-15\",\"2018-03-15\",\"2018-03-15\",\"2018-03-15\",\"2018-03-15\",\"2018-03-15\",\"2018-03-15\",\"2018-03-15\",\"2018-03-15\",\"2018-04-15\",\"2018-04-15\",\"2018-04-15\",\"2018-04-15\",\"2018-04-15\",\"2018-04-15\",\"2018-04-15\",\"2018-04-15\",\"2018-04-15\",\"2018-04-15\",\"2018-04-15\",\"2018-04-15\",\"2018-04-15\",\"2018-04-15\",\"2018-04-15\",\"2018-04-15\",\"2018-04-15\",\"2018-04-15\",\"2018-04-15\",\"2018-04-15\",\"2018-04-15\",\"2018-04-15\",\"2018-04-15\",\"2018-04-15\",\"2018-04-15\",\"2018-04-15\",\"2018-04-15\",\"2018-04-15\",\"2018-04-15\",\"2018-04-15\",\"2018-04-15\",\"2018-04-15\",\"2018-04-15\",\"2018-04-15\",\"2018-04-15\",\"2018-04-15\",\"2018-04-15\",\"2018-04-15\",\"2018-04-15\",\"2018-04-15\",\"2018-04-15\",\"2018-04-15\",\"2018-04-15\",\"2018-04-15\",\"2018-04-15\",\"2018-04-15\",\"2018-04-15\",\"2018-04-15\",\"2018-04-15\",\"2018-04-15\",\"2018-04-15\",\"2018-04-15\",\"2018-04-15\",\"2018-04-15\",\"2018-04-15\",\"2018-04-15\",\"2018-04-15\",\"2018-04-15\",\"2018-04-15\",\"2018-04-15\",\"2018-04-15\",\"2018-04-15\",\"2018-04-15\",\"2018-04-15\",\"2018-04-15\",\"2018-04-15\",\"2018-04-15\",\"2018-04-15\",\"2018-04-15\",\"2018-04-15\",\"2018-04-15\",\"2018-04-15\",\"2018-04-15\",\"2018-04-15\",\"2018-04-15\",\"2018-04-15\",\"2018-04-15\",\"2018-04-15\",\"2018-04-15\",\"2018-04-15\",\"2018-05-15\",\"2018-05-15\",\"2018-05-15\",\"2018-05-15\",\"2018-05-15\",\"2018-05-15\",\"2018-05-15\",\"2018-05-15\",\"2018-05-15\",\"2018-05-15\",\"2018-05-15\",\"2018-05-15\",\"2018-05-15\",\"2018-05-15\",\"2018-05-15\",\"2018-05-15\",\"2018-05-15\",\"2018-05-15\",\"2018-05-15\",\"2018-05-15\",\"2018-05-15\",\"2018-05-15\",\"2018-05-15\",\"2018-05-15\",\"2018-05-15\",\"2018-05-15\",\"2018-05-15\",\"2018-05-15\",\"2018-05-15\",\"2018-05-15\",\"2018-05-15\",\"2018-05-15\",\"2018-05-15\",\"2018-05-15\",\"2018-05-15\",\"2018-05-15\",\"2018-05-15\",\"2018-05-15\",\"2018-05-15\",\"2018-05-15\",\"2018-05-15\",\"2018-05-15\",\"2018-05-15\",\"2018-05-15\",\"2018-05-15\",\"2018-05-15\",\"2018-05-15\",\"2018-05-15\",\"2018-05-15\",\"2018-05-15\",\"2018-05-15\",\"2018-05-15\",\"2018-05-15\",\"2018-05-15\",\"2018-05-15\",\"2018-05-15\",\"2018-05-15\",\"2018-05-15\",\"2018-05-15\",\"2018-05-15\",\"2018-05-15\",\"2018-05-15\",\"2018-05-15\",\"2018-05-15\",\"2018-05-15\",\"2018-05-15\",\"2018-05-15\",\"2018-05-15\",\"2018-05-15\",\"2018-05-15\",\"2018-05-15\",\"2018-05-15\",\"2018-05-15\",\"2018-05-15\",\"2018-05-15\",\"2018-05-15\",\"2018-05-15\",\"2018-05-15\",\"2018-05-15\",\"2018-06-15\",\"2018-06-15\",\"2018-06-15\",\"2018-06-15\",\"2018-06-15\",\"2018-06-15\",\"2018-06-15\",\"2018-06-15\",\"2018-06-15\",\"2018-06-15\",\"2018-06-15\",\"2018-06-15\",\"2018-06-15\",\"2018-06-15\",\"2018-06-15\",\"2018-06-15\",\"2018-06-15\",\"2018-06-15\",\"2018-06-15\",\"2018-06-15\",\"2018-06-15\",\"2018-06-15\",\"2018-06-15\",\"2018-06-15\",\"2018-06-15\",\"2018-06-15\",\"2018-06-15\",\"2018-06-15\",\"2018-06-15\",\"2018-06-15\",\"2018-06-15\",\"2018-06-15\",\"2018-06-15\",\"2018-06-15\",\"2018-06-15\",\"2018-06-15\",\"2018-06-15\",\"2018-06-15\",\"2018-06-15\",\"2018-06-15\",\"2018-06-15\",\"2018-06-15\",\"2018-06-15\",\"2018-06-15\",\"2018-06-15\",\"2018-06-15\",\"2018-06-15\",\"2018-06-15\",\"2018-06-15\",\"2018-06-15\",\"2018-06-15\",\"2018-06-15\",\"2018-06-15\",\"2018-06-15\",\"2018-06-15\",\"2018-06-15\",\"2018-06-15\",\"2018-06-15\",\"2018-06-15\",\"2018-06-15\",\"2018-06-15\",\"2018-06-15\",\"2018-06-15\",\"2018-06-15\",\"2018-06-15\",\"2018-06-15\",\"2018-06-15\",\"2018-06-15\",\"2018-06-15\",\"2018-06-15\",\"2018-06-15\",\"2018-06-15\",\"2018-06-15\",\"2018-06-15\",\"2018-06-15\",\"2018-06-15\",\"2018-06-15\",\"2018-06-15\",\"2018-06-15\",\"2018-07-15\",\"2018-07-15\",\"2018-07-15\",\"2018-07-15\",\"2018-07-15\",\"2018-07-15\",\"2018-07-15\",\"2018-07-15\",\"2018-07-15\",\"2018-07-15\",\"2018-07-15\",\"2018-07-15\",\"2018-07-15\",\"2018-07-15\",\"2018-07-15\",\"2018-07-15\",\"2018-07-15\",\"2018-07-15\",\"2018-07-15\",\"2018-07-15\",\"2018-07-15\",\"2018-07-15\",\"2018-07-15\",\"2018-07-15\",\"2018-07-15\",\"2018-07-15\",\"2018-07-15\",\"2018-07-15\",\"2018-07-15\",\"2018-07-15\",\"2018-07-15\",\"2018-07-15\",\"2018-07-15\",\"2018-07-15\",\"2018-07-15\",\"2018-07-15\",\"2018-07-15\",\"2018-07-15\",\"2018-07-15\",\"2018-07-15\",\"2018-07-15\",\"2018-07-15\",\"2018-07-15\",\"2018-07-15\",\"2018-07-15\",\"2018-07-15\",\"2018-07-15\",\"2018-07-15\",\"2018-07-15\",\"2018-07-15\",\"2018-07-15\",\"2018-07-15\",\"2018-07-15\",\"2018-07-15\",\"2018-07-15\",\"2018-07-15\",\"2018-07-15\",\"2018-07-15\",\"2018-07-15\",\"2018-07-15\",\"2018-07-15\",\"2018-07-15\",\"2018-07-15\",\"2018-07-15\",\"2018-07-15\",\"2018-07-15\",\"2018-07-15\",\"2018-07-15\",\"2018-07-15\",\"2018-07-15\",\"2018-07-15\",\"2018-07-15\",\"2018-07-15\",\"2018-07-15\",\"2018-07-15\",\"2018-07-15\",\"2018-07-15\",\"2018-07-15\",\"2018-07-15\",\"2018-08-15\",\"2018-08-15\",\"2018-08-15\",\"2018-08-15\",\"2018-08-15\",\"2018-08-15\",\"2018-08-15\",\"2018-08-15\",\"2018-08-15\",\"2018-08-15\",\"2018-08-15\",\"2018-08-15\",\"2018-08-15\",\"2018-08-15\",\"2018-08-15\",\"2018-08-15\",\"2018-08-15\",\"2018-08-15\",\"2018-08-15\",\"2018-08-15\",\"2018-08-15\",\"2018-08-15\",\"2018-08-15\",\"2018-08-15\",\"2018-08-15\",\"2018-08-15\",\"2018-08-15\",\"2018-08-15\",\"2018-08-15\",\"2018-08-15\",\"2018-08-15\",\"2018-08-15\",\"2018-08-15\",\"2018-08-15\",\"2018-08-15\",\"2018-08-15\",\"2018-08-15\",\"2018-08-15\",\"2018-08-15\",\"2018-08-15\",\"2018-08-15\",\"2018-08-15\",\"2018-08-15\",\"2018-08-15\",\"2018-08-15\",\"2018-08-15\",\"2018-08-15\",\"2018-08-15\",\"2018-08-15\",\"2018-08-15\",\"2018-08-15\",\"2018-08-15\",\"2018-08-15\",\"2018-08-15\",\"2018-08-15\",\"2018-08-15\",\"2018-08-15\",\"2018-08-15\",\"2018-08-15\",\"2018-08-15\",\"2018-08-15\",\"2018-08-15\",\"2018-08-15\",\"2018-08-15\",\"2018-08-15\",\"2018-08-15\",\"2018-08-15\",\"2018-08-15\",\"2018-08-15\",\"2018-08-15\",\"2018-08-15\",\"2018-08-15\",\"2018-08-15\",\"2018-08-15\",\"2018-08-15\",\"2018-08-15\",\"2018-08-15\",\"2018-08-15\",\"2018-08-15\",\"2018-09-15\",\"2018-09-15\",\"2018-09-15\",\"2018-09-15\",\"2018-09-15\",\"2018-09-15\",\"2018-09-15\",\"2018-09-15\",\"2018-09-15\",\"2018-09-15\",\"2018-09-15\",\"2018-09-15\",\"2018-09-15\",\"2018-09-15\",\"2018-09-15\",\"2018-09-15\",\"2018-09-15\",\"2018-09-15\",\"2018-09-15\",\"2018-09-15\",\"2018-09-15\",\"2018-09-15\",\"2018-09-15\",\"2018-09-15\",\"2018-09-15\",\"2018-09-15\",\"2018-09-15\",\"2018-09-15\",\"2018-09-15\",\"2018-09-15\",\"2018-09-15\",\"2018-09-15\",\"2018-09-15\",\"2018-09-15\",\"2018-09-15\",\"2018-09-15\",\"2018-09-15\",\"2018-09-15\",\"2018-09-15\",\"2018-09-15\",\"2018-09-15\",\"2018-09-15\",\"2018-09-15\",\"2018-09-15\",\"2018-09-15\",\"2018-09-15\",\"2018-09-15\",\"2018-09-15\",\"2018-09-15\",\"2018-09-15\",\"2018-09-15\",\"2018-09-15\",\"2018-09-15\",\"2018-09-15\",\"2018-09-15\",\"2018-09-15\",\"2018-09-15\",\"2018-09-15\",\"2018-09-15\",\"2018-09-15\",\"2018-09-15\",\"2018-09-15\",\"2018-09-15\",\"2018-09-15\",\"2018-09-15\",\"2018-09-15\",\"2018-09-15\",\"2018-09-15\",\"2018-09-15\",\"2018-09-15\",\"2018-09-15\",\"2018-09-15\",\"2018-09-15\",\"2018-09-15\",\"2018-09-15\",\"2018-09-15\",\"2018-09-15\",\"2018-09-15\",\"2018-09-15\",\"2018-10-15\",\"2018-10-15\",\"2018-10-15\",\"2018-10-15\",\"2018-10-15\",\"2018-10-15\",\"2018-10-15\",\"2018-10-15\",\"2018-10-15\",\"2018-10-15\",\"2018-10-15\",\"2018-10-15\",\"2018-10-15\",\"2018-10-15\",\"2018-10-15\",\"2018-10-15\",\"2018-10-15\",\"2018-10-15\",\"2018-10-15\",\"2018-10-15\",\"2018-10-15\",\"2018-10-15\",\"2018-10-15\",\"2018-10-15\",\"2018-10-15\",\"2018-10-15\",\"2018-10-15\",\"2018-10-15\",\"2018-10-15\",\"2018-10-15\",\"2018-10-15\",\"2018-10-15\",\"2018-10-15\",\"2018-10-15\",\"2018-10-15\",\"2018-10-15\",\"2018-10-15\",\"2018-10-15\",\"2018-10-15\",\"2018-10-15\",\"2018-10-15\",\"2018-10-15\",\"2018-10-15\",\"2018-10-15\",\"2018-10-15\",\"2018-10-15\",\"2018-10-15\",\"2018-10-15\",\"2018-10-15\",\"2018-10-15\",\"2018-10-15\",\"2018-10-15\",\"2018-10-15\",\"2018-10-15\",\"2018-10-15\",\"2018-11-15\",\"2018-11-15\",\"2018-11-15\",\"2018-11-15\",\"2018-11-15\",\"2018-11-15\",\"2018-11-15\",\"2018-11-15\",\"2018-11-15\",\"2018-11-15\",\"2018-11-15\",\"2018-11-15\",\"2018-11-15\",\"2018-11-15\",\"2018-11-15\",\"2018-11-15\",\"2018-11-15\",\"2018-11-15\",\"2018-11-15\",\"2018-11-15\",\"2018-11-15\",\"2018-11-15\",\"2018-11-15\",\"2018-11-15\",\"2018-11-15\",\"2018-11-15\",\"2018-11-15\",\"2018-11-15\",\"2018-11-15\",\"2018-11-15\",\"2018-11-15\",\"2018-11-15\",\"2018-11-15\",\"2018-11-15\",\"2018-11-15\",\"2018-11-15\",\"2018-11-15\",\"2018-11-15\",\"2018-11-15\",\"2018-11-15\",\"2018-11-15\",\"2018-11-15\",\"2018-11-15\",\"2018-11-15\",\"2018-11-15\",\"2018-11-15\",\"2018-11-15\",\"2018-11-15\",\"2018-11-15\",\"2018-11-15\",\"2018-11-15\",\"2018-11-15\",\"2018-11-15\",\"2018-11-15\",\"2018-11-15\",\"2018-12-15\",\"2018-12-15\",\"2018-12-15\",\"2018-12-15\",\"2018-12-15\",\"2018-12-15\",\"2018-12-15\",\"2018-12-15\",\"2018-12-15\",\"2018-12-15\",\"2018-12-15\",\"2018-12-15\",\"2018-12-15\",\"2018-12-15\",\"2018-12-15\",\"2018-12-15\",\"2018-12-15\",\"2018-12-15\",\"2018-12-15\",\"2018-12-15\",\"2018-12-15\",\"2018-12-15\",\"2018-12-15\",\"2018-12-15\",\"2018-12-15\",\"2018-12-15\",\"2018-12-15\",\"2018-12-15\",\"2018-12-15\",\"2018-12-15\",\"2018-12-15\",\"2018-12-15\",\"2018-12-15\",\"2018-12-15\",\"2018-12-15\",\"2018-12-15\",\"2018-12-15\",\"2018-12-15\",\"2018-12-15\",\"2018-12-15\",\"2018-12-15\",\"2018-12-15\",\"2018-12-15\",\"2018-12-15\",\"2018-12-15\",\"2018-12-15\",\"2018-12-15\",\"2018-12-15\",\"2018-12-15\",\"2018-12-15\",\"2018-12-15\",\"2018-12-15\",\"2018-12-15\",\"2018-12-15\",\"2018-12-15\",\"2018-12-15\",\"2018-12-15\",\"2019-01-15\",\"2019-01-15\",\"2019-01-15\",\"2019-01-15\",\"2019-01-15\",\"2019-01-15\",\"2019-01-15\",\"2019-01-15\",\"2019-01-15\",\"2019-01-15\",\"2019-01-15\",\"2019-01-15\",\"2019-01-15\",\"2019-01-15\",\"2019-01-15\",\"2019-01-15\",\"2019-01-15\",\"2019-01-15\",\"2019-01-15\",\"2019-01-15\",\"2019-01-15\",\"2019-01-15\",\"2019-01-15\",\"2019-01-15\",\"2019-01-15\",\"2019-01-15\",\"2019-01-15\",\"2019-01-15\",\"2019-01-15\",\"2019-01-15\",\"2019-01-15\",\"2019-01-15\",\"2019-01-15\",\"2019-01-15\",\"2019-01-15\",\"2019-01-15\",\"2019-01-15\",\"2019-01-15\",\"2019-01-15\",\"2019-01-15\",\"2019-01-15\",\"2019-01-15\",\"2019-01-15\",\"2019-01-15\",\"2019-01-15\",\"2019-01-15\",\"2019-01-15\",\"2019-01-15\",\"2019-01-15\",\"2019-01-15\",\"2019-01-15\",\"2019-01-15\",\"2019-01-15\",\"2019-01-15\",\"2019-01-15\",\"2019-01-15\",\"2019-02-15\",\"2019-02-15\",\"2019-02-15\",\"2019-02-15\",\"2019-02-15\",\"2019-02-15\",\"2019-02-15\",\"2019-02-15\",\"2019-02-15\",\"2019-02-15\",\"2019-02-15\",\"2019-02-15\",\"2019-02-15\",\"2019-02-15\",\"2019-02-15\",\"2019-02-15\",\"2019-02-15\",\"2019-02-15\",\"2019-02-15\",\"2019-02-15\",\"2019-02-15\",\"2019-02-15\",\"2019-02-15\",\"2019-02-15\",\"2019-02-15\",\"2019-02-15\",\"2019-02-15\",\"2019-02-15\",\"2019-02-15\",\"2019-02-15\",\"2019-02-15\",\"2019-02-15\",\"2019-02-15\",\"2019-02-15\",\"2019-02-15\",\"2019-02-15\",\"2019-02-15\",\"2019-02-15\",\"2019-02-15\",\"2019-02-15\",\"2019-02-15\",\"2019-02-15\",\"2019-02-15\",\"2019-02-15\",\"2019-02-15\",\"2019-02-15\",\"2019-02-15\",\"2019-02-15\",\"2019-02-15\",\"2019-02-15\",\"2019-02-15\",\"2019-02-15\",\"2019-02-15\",\"2019-02-15\",\"2019-02-15\",\"2019-02-15\",\"2019-03-15\",\"2019-03-15\",\"2019-03-15\",\"2019-03-15\",\"2019-03-15\",\"2019-03-15\",\"2019-03-15\",\"2019-03-15\",\"2019-03-15\",\"2019-03-15\",\"2019-03-15\",\"2019-03-15\",\"2019-03-15\",\"2019-03-15\",\"2019-03-15\",\"2019-03-15\",\"2019-03-15\",\"2019-03-15\",\"2019-03-15\",\"2019-03-15\",\"2019-03-15\",\"2019-03-15\",\"2019-03-15\",\"2019-03-15\",\"2019-03-15\",\"2019-03-15\",\"2019-03-15\",\"2019-03-15\",\"2019-03-15\",\"2019-03-15\",\"2019-03-15\",\"2019-03-15\",\"2019-03-15\",\"2019-03-15\",\"2019-03-15\",\"2019-03-15\",\"2019-03-15\",\"2019-03-15\",\"2019-03-15\",\"2019-03-15\",\"2019-03-15\",\"2019-03-15\",\"2019-03-15\",\"2019-03-15\",\"2019-03-15\",\"2019-03-15\",\"2019-03-15\",\"2019-03-15\",\"2019-03-15\",\"2019-03-15\",\"2019-03-15\",\"2019-03-15\",\"2019-03-15\",\"2019-03-15\",\"2019-03-15\",\"2019-03-15\",\"2019-04-15\",\"2019-04-15\",\"2019-04-15\",\"2019-04-15\",\"2019-04-15\",\"2019-04-15\",\"2019-04-15\",\"2019-04-15\",\"2019-04-15\",\"2019-04-15\",\"2019-04-15\",\"2019-04-15\",\"2019-04-15\",\"2019-04-15\",\"2019-04-15\",\"2019-04-15\",\"2019-04-15\",\"2019-04-15\",\"2019-04-15\",\"2019-04-15\",\"2019-04-15\",\"2019-04-15\",\"2019-04-15\",\"2019-04-15\",\"2019-04-15\",\"2019-04-15\",\"2019-04-15\",\"2019-04-15\",\"2019-04-15\",\"2019-04-15\",\"2019-04-15\",\"2019-04-15\",\"2019-04-15\",\"2019-04-15\",\"2019-04-15\",\"2019-04-15\",\"2019-04-15\",\"2019-04-15\",\"2019-04-15\",\"2019-04-15\",\"2019-04-15\",\"2019-04-15\",\"2019-04-15\",\"2019-04-15\",\"2019-04-15\",\"2019-04-15\",\"2019-04-15\",\"2019-04-15\",\"2019-04-15\",\"2019-04-15\",\"2019-04-15\",\"2019-04-15\",\"2019-04-15\",\"2019-04-15\",\"2019-04-15\",\"2019-04-15\",\"2019-05-15\",\"2019-05-15\",\"2019-05-15\",\"2019-05-15\",\"2019-05-15\",\"2019-05-15\",\"2019-05-15\",\"2019-05-15\",\"2019-05-15\",\"2019-05-15\",\"2019-05-15\",\"2019-05-15\",\"2019-05-15\",\"2019-05-15\",\"2019-05-15\",\"2019-05-15\",\"2019-05-15\",\"2019-05-15\",\"2019-05-15\",\"2019-05-15\",\"2019-05-15\",\"2019-05-15\",\"2019-05-15\",\"2019-05-15\",\"2019-05-15\",\"2019-05-15\",\"2019-05-15\",\"2019-05-15\",\"2019-05-15\",\"2019-05-15\",\"2019-05-15\",\"2019-05-15\",\"2019-05-15\",\"2019-05-15\",\"2019-05-15\",\"2019-05-15\",\"2019-05-15\",\"2019-05-15\",\"2019-05-15\",\"2019-05-15\",\"2019-05-15\",\"2019-05-15\",\"2019-05-15\",\"2019-05-15\",\"2019-05-15\",\"2019-05-15\",\"2019-05-15\",\"2019-05-15\",\"2019-05-15\",\"2019-05-15\",\"2019-05-15\",\"2019-05-15\",\"2019-05-15\",\"2019-05-15\",\"2019-05-15\",\"2019-06-15\",\"2019-06-15\",\"2019-06-15\",\"2019-06-15\",\"2019-06-15\",\"2019-06-15\",\"2019-06-15\",\"2019-06-15\",\"2019-06-15\",\"2019-06-15\",\"2019-06-15\",\"2019-06-15\",\"2019-06-15\",\"2019-06-15\",\"2019-06-15\",\"2019-06-15\",\"2019-06-15\",\"2019-06-15\",\"2019-06-15\",\"2019-06-15\",\"2019-06-15\",\"2019-06-15\",\"2019-06-15\",\"2019-06-15\",\"2019-06-15\",\"2019-06-15\",\"2019-06-15\",\"2019-06-15\",\"2019-06-15\",\"2019-06-15\",\"2019-06-15\",\"2019-06-15\",\"2019-06-15\",\"2019-06-15\",\"2019-06-15\",\"2019-06-15\",\"2019-06-15\",\"2019-06-15\",\"2019-06-15\",\"2019-06-15\",\"2019-06-15\",\"2019-06-15\",\"2019-06-15\",\"2019-06-15\",\"2019-06-15\",\"2019-06-15\",\"2019-06-15\",\"2019-06-15\",\"2019-06-15\",\"2019-06-15\",\"2019-06-15\",\"2019-06-15\",\"2019-06-15\",\"2019-06-15\",\"2019-06-15\",\"2019-07-15\",\"2019-07-15\",\"2019-07-15\",\"2019-07-15\",\"2019-07-15\",\"2019-07-15\",\"2019-07-15\",\"2019-07-15\",\"2019-07-15\",\"2019-07-15\",\"2019-07-15\",\"2019-07-15\",\"2019-07-15\",\"2019-07-15\",\"2019-07-15\",\"2019-07-15\",\"2019-07-15\",\"2019-07-15\",\"2019-07-15\",\"2019-07-15\",\"2019-07-15\",\"2019-07-15\",\"2019-07-15\",\"2019-07-15\",\"2019-07-15\",\"2019-07-15\",\"2019-07-15\",\"2019-07-15\",\"2019-07-15\",\"2019-07-15\",\"2019-07-15\",\"2019-07-15\",\"2019-07-15\",\"2019-07-15\",\"2019-07-15\",\"2019-07-15\",\"2019-07-15\",\"2019-07-15\",\"2019-07-15\",\"2019-07-15\",\"2019-07-15\",\"2019-07-15\",\"2019-07-15\",\"2019-07-15\",\"2019-07-15\",\"2019-07-15\",\"2019-07-15\",\"2019-07-15\",\"2019-07-15\",\"2019-07-15\",\"2019-07-15\",\"2019-07-15\",\"2019-07-15\",\"2019-07-15\",\"2019-07-15\",\"2019-07-15\",\"2019-08-15\",\"2019-08-15\",\"2019-08-15\",\"2019-08-15\",\"2019-08-15\",\"2019-08-15\",\"2019-08-15\",\"2019-08-15\",\"2019-08-15\",\"2019-08-15\",\"2019-08-15\",\"2019-08-15\",\"2019-08-15\",\"2019-08-15\",\"2019-08-15\",\"2019-08-15\",\"2019-08-15\",\"2019-08-15\",\"2019-08-15\",\"2019-08-15\",\"2019-08-15\",\"2019-08-15\",\"2019-08-15\",\"2019-08-15\",\"2019-08-15\",\"2019-08-15\",\"2019-08-15\",\"2019-08-15\",\"2019-08-15\",\"2019-08-15\",\"2019-08-15\",\"2019-08-15\",\"2019-08-15\",\"2019-08-15\",\"2019-08-15\",\"2019-08-15\",\"2019-08-15\",\"2019-08-15\",\"2019-08-15\",\"2019-08-15\",\"2019-08-15\",\"2019-08-15\",\"2019-08-15\",\"2019-08-15\",\"2019-08-15\",\"2019-08-15\",\"2019-08-15\",\"2019-08-15\",\"2019-08-15\",\"2019-08-15\",\"2019-08-15\",\"2019-08-15\",\"2019-08-15\",\"2019-08-15\",\"2019-08-15\",\"2019-08-15\",\"2019-08-15\",\"2019-08-15\",\"2019-09-15\",\"2019-09-15\",\"2019-09-15\",\"2019-09-15\",\"2019-09-15\",\"2019-09-15\",\"2019-09-15\",\"2019-09-15\",\"2019-09-15\",\"2019-09-15\",\"2019-09-15\",\"2019-09-15\",\"2019-09-15\",\"2019-09-15\",\"2019-09-15\",\"2019-09-15\",\"2019-09-15\",\"2019-09-15\",\"2019-09-15\",\"2019-09-15\",\"2019-09-15\",\"2019-09-15\",\"2019-09-15\",\"2019-09-15\",\"2019-09-15\",\"2019-09-15\",\"2019-09-15\",\"2019-09-15\",\"2019-09-15\",\"2019-09-15\",\"2019-09-15\",\"2019-09-15\",\"2019-09-15\",\"2019-09-15\",\"2019-09-15\",\"2019-09-15\",\"2019-09-15\",\"2019-09-15\",\"2019-09-15\",\"2019-09-15\",\"2019-09-15\",\"2019-09-15\",\"2019-09-15\",\"2019-09-15\",\"2019-09-15\",\"2019-09-15\",\"2019-09-15\",\"2019-09-15\",\"2019-09-15\",\"2019-09-15\",\"2019-09-15\",\"2019-09-15\",\"2019-09-15\",\"2019-09-15\",\"2019-09-15\",\"2019-09-15\",\"2019-09-15\",\"2019-09-15\",\"2019-10-15\",\"2019-10-15\",\"2019-10-15\",\"2019-10-15\",\"2019-10-15\",\"2019-10-15\",\"2019-10-15\",\"2019-10-15\",\"2019-10-15\",\"2019-10-15\",\"2019-10-15\",\"2019-10-15\",\"2019-10-15\",\"2019-10-15\",\"2019-10-15\",\"2019-10-15\",\"2019-10-15\",\"2019-10-15\",\"2019-10-15\",\"2019-10-15\",\"2019-10-15\",\"2019-10-15\",\"2019-10-15\",\"2019-10-15\",\"2019-10-15\",\"2019-10-15\",\"2019-10-15\",\"2019-10-15\",\"2019-10-15\",\"2019-10-15\",\"2019-10-15\",\"2019-10-15\",\"2019-10-15\",\"2019-10-15\",\"2019-10-15\",\"2019-10-15\",\"2019-10-15\",\"2019-10-15\",\"2019-10-15\",\"2019-10-15\",\"2019-10-15\",\"2019-10-15\",\"2019-10-15\",\"2019-10-15\",\"2019-10-15\",\"2019-10-15\",\"2019-10-15\",\"2019-10-15\",\"2019-10-15\",\"2019-10-15\",\"2019-10-15\",\"2019-10-15\",\"2019-10-15\",\"2019-10-15\",\"2019-10-15\",\"2019-10-15\",\"2019-10-15\",\"2019-10-15\",\"2019-11-15\",\"2019-11-15\",\"2019-11-15\",\"2019-11-15\",\"2019-11-15\",\"2019-11-15\",\"2019-11-15\",\"2019-11-15\",\"2019-11-15\",\"2019-11-15\",\"2019-11-15\",\"2019-11-15\",\"2019-11-15\",\"2019-11-15\",\"2019-11-15\",\"2019-11-15\",\"2019-11-15\",\"2019-11-15\",\"2019-11-15\",\"2019-11-15\",\"2019-11-15\",\"2019-11-15\",\"2019-11-15\",\"2019-11-15\",\"2019-11-15\",\"2019-11-15\",\"2019-11-15\",\"2019-11-15\",\"2019-11-15\",\"2019-11-15\",\"2019-11-15\",\"2019-11-15\",\"2019-11-15\",\"2019-11-15\",\"2019-11-15\",\"2019-11-15\",\"2019-11-15\",\"2019-11-15\",\"2019-11-15\",\"2019-11-15\",\"2019-11-15\",\"2019-11-15\",\"2019-11-15\",\"2019-11-15\",\"2019-11-15\",\"2019-11-15\",\"2019-11-15\",\"2019-11-15\",\"2019-11-15\",\"2019-11-15\",\"2019-11-15\",\"2019-11-15\",\"2019-11-15\",\"2019-11-15\",\"2019-11-15\",\"2019-11-15\",\"2019-11-15\",\"2019-12-15\",\"2019-12-15\",\"2019-12-15\",\"2019-12-15\",\"2019-12-15\",\"2019-12-15\",\"2019-12-15\",\"2019-12-15\",\"2019-12-15\",\"2019-12-15\",\"2019-12-15\",\"2019-12-15\",\"2019-12-15\",\"2019-12-15\",\"2019-12-15\",\"2019-12-15\",\"2019-12-15\",\"2019-12-15\",\"2019-12-15\",\"2019-12-15\",\"2019-12-15\",\"2019-12-15\",\"2019-12-15\",\"2019-12-15\",\"2019-12-15\",\"2019-12-15\",\"2019-12-15\",\"2019-12-15\",\"2019-12-15\",\"2019-12-15\",\"2019-12-15\",\"2019-12-15\",\"2019-12-15\",\"2019-12-15\",\"2019-12-15\",\"2019-12-15\",\"2019-12-15\",\"2019-12-15\",\"2019-12-15\",\"2019-12-15\",\"2019-12-15\",\"2019-12-15\",\"2019-12-15\",\"2019-12-15\",\"2019-12-15\",\"2019-12-15\",\"2019-12-15\",\"2019-12-15\",\"2019-12-15\",\"2019-12-15\",\"2019-12-15\",\"2019-12-15\",\"2019-12-15\",\"2019-12-15\",\"2019-12-15\",\"2019-12-15\",\"2019-12-15\",\"2019-12-15\",\"2020-01-15\",\"2020-01-15\",\"2020-01-15\",\"2020-01-15\",\"2020-01-15\",\"2020-01-15\",\"2020-01-15\",\"2020-01-15\",\"2020-01-15\",\"2020-01-15\",\"2020-01-15\",\"2020-01-15\",\"2020-01-15\",\"2020-01-15\",\"2020-01-15\",\"2020-01-15\",\"2020-01-15\",\"2020-01-15\",\"2020-01-15\",\"2020-01-15\",\"2020-01-15\",\"2020-01-15\",\"2020-01-15\",\"2020-01-15\",\"2020-01-15\",\"2020-01-15\",\"2020-01-15\",\"2020-01-15\",\"2020-01-15\",\"2020-01-15\",\"2020-01-15\",\"2020-01-15\",\"2020-01-15\",\"2020-01-15\",\"2020-01-15\",\"2020-01-15\",\"2020-01-15\",\"2020-01-15\",\"2020-01-15\",\"2020-01-15\",\"2020-01-15\",\"2020-01-15\",\"2020-01-15\",\"2020-01-15\",\"2020-01-15\",\"2020-01-15\",\"2020-01-15\",\"2020-01-15\",\"2020-01-15\",\"2020-01-15\",\"2020-01-15\",\"2020-01-15\",\"2020-01-15\",\"2020-01-15\",\"2020-01-15\",\"2020-02-15\",\"2020-02-15\",\"2020-02-15\",\"2020-02-15\",\"2020-02-15\",\"2020-02-15\",\"2020-02-15\",\"2020-02-15\",\"2020-02-15\",\"2020-02-15\",\"2020-02-15\",\"2020-02-15\",\"2020-02-15\",\"2020-02-15\",\"2020-02-15\",\"2020-02-15\",\"2020-02-15\",\"2020-02-15\",\"2020-02-15\",\"2020-02-15\",\"2020-02-15\",\"2020-02-15\",\"2020-02-15\",\"2020-02-15\",\"2020-02-15\",\"2020-02-15\",\"2020-02-15\",\"2020-02-15\",\"2020-02-15\",\"2020-02-15\",\"2020-02-15\",\"2020-02-15\",\"2020-02-15\",\"2020-02-15\",\"2020-02-15\",\"2020-02-15\",\"2020-02-15\",\"2020-02-15\",\"2020-02-15\",\"2020-02-15\",\"2020-02-15\",\"2020-02-15\",\"2020-02-15\",\"2020-02-15\",\"2020-02-15\",\"2020-02-15\",\"2020-02-15\",\"2020-02-15\",\"2020-02-15\",\"2020-02-15\",\"2020-02-15\",\"2020-02-15\",\"2020-02-15\",\"2020-02-15\",\"2020-02-15\",\"2020-03-15\",\"2020-03-15\",\"2020-03-15\",\"2020-03-15\",\"2020-03-15\",\"2020-03-15\",\"2020-03-15\",\"2020-03-15\",\"2020-03-15\",\"2020-03-15\",\"2020-03-15\",\"2020-03-15\",\"2020-03-15\",\"2020-03-15\",\"2020-03-15\",\"2020-03-15\",\"2020-03-15\",\"2020-03-15\",\"2020-03-15\",\"2020-03-15\",\"2020-03-15\",\"2020-03-15\",\"2020-03-15\",\"2020-03-15\",\"2020-03-15\",\"2020-03-15\",\"2020-03-15\",\"2020-03-15\",\"2020-03-15\",\"2020-03-15\",\"2020-03-15\",\"2020-03-15\",\"2020-03-15\",\"2020-03-15\",\"2020-03-15\",\"2020-03-15\",\"2020-03-15\",\"2020-03-15\",\"2020-03-15\",\"2020-03-15\",\"2020-03-15\",\"2020-03-15\",\"2020-03-15\",\"2020-03-15\",\"2020-03-15\",\"2020-03-15\",\"2020-03-15\",\"2020-03-15\",\"2020-03-15\",\"2020-03-15\",\"2020-03-15\",\"2020-03-15\",\"2020-03-15\",\"2020-03-15\",\"2020-03-15\",\"2020-03-15\",\"2020-04-15\",\"2020-04-15\",\"2020-04-15\",\"2020-04-15\",\"2020-04-15\",\"2020-04-15\",\"2020-04-15\",\"2020-04-15\",\"2020-04-15\",\"2020-04-15\",\"2020-04-15\",\"2020-04-15\",\"2020-04-15\",\"2020-04-15\",\"2020-04-15\",\"2020-04-15\",\"2020-04-15\",\"2020-04-15\",\"2020-04-15\",\"2020-04-15\",\"2020-04-15\",\"2020-04-15\",\"2020-04-15\",\"2020-04-15\",\"2020-04-15\",\"2020-04-15\",\"2020-04-15\",\"2020-04-15\",\"2020-04-15\",\"2020-04-15\",\"2020-04-15\",\"2020-04-15\",\"2020-04-15\",\"2020-04-15\",\"2020-04-15\",\"2020-04-15\",\"2020-04-15\",\"2020-04-15\",\"2020-04-15\",\"2020-04-15\",\"2020-04-15\",\"2020-04-15\",\"2020-04-15\",\"2020-04-15\",\"2020-04-15\",\"2020-04-15\",\"2020-04-15\",\"2020-04-15\",\"2020-04-15\",\"2020-04-15\",\"2020-04-15\",\"2020-04-15\",\"2020-04-15\",\"2020-04-15\",\"2020-04-15\",\"2020-04-15\",\"2020-04-15\",\"2020-04-15\",\"2020-05-15\",\"2020-05-15\",\"2020-05-15\",\"2020-05-15\",\"2020-05-15\",\"2020-05-15\",\"2020-05-15\",\"2020-05-15\",\"2020-05-15\",\"2020-05-15\",\"2020-05-15\",\"2020-05-15\",\"2020-05-15\",\"2020-05-15\",\"2020-05-15\",\"2020-05-15\",\"2020-05-15\",\"2020-05-15\",\"2020-05-15\",\"2020-05-15\",\"2020-05-15\",\"2020-05-15\",\"2020-05-15\",\"2020-05-15\",\"2020-05-15\",\"2020-05-15\",\"2020-05-15\",\"2020-05-15\",\"2020-05-15\",\"2020-05-15\",\"2020-05-15\",\"2020-05-15\",\"2020-05-15\",\"2020-05-15\",\"2020-05-15\",\"2020-05-15\",\"2020-05-15\",\"2020-05-15\",\"2020-05-15\",\"2020-05-15\",\"2020-05-15\",\"2020-05-15\",\"2020-05-15\",\"2020-05-15\",\"2020-05-15\",\"2020-05-15\",\"2020-05-15\",\"2020-05-15\",\"2020-05-15\",\"2020-05-15\",\"2020-05-15\",\"2020-05-15\",\"2020-05-15\",\"2020-05-15\",\"2020-05-15\",\"2020-05-15\",\"2020-06-15\",\"2020-06-15\",\"2020-06-15\",\"2020-06-15\",\"2020-06-15\",\"2020-06-15\",\"2020-06-15\",\"2020-06-15\",\"2020-06-15\",\"2020-06-15\",\"2020-06-15\",\"2020-06-15\",\"2020-06-15\",\"2020-06-15\",\"2020-06-15\",\"2020-06-15\",\"2020-06-15\",\"2020-06-15\",\"2020-06-15\",\"2020-06-15\",\"2020-06-15\",\"2020-06-15\",\"2020-06-15\",\"2020-06-15\",\"2020-06-15\",\"2020-06-15\",\"2020-06-15\",\"2020-06-15\",\"2020-06-15\",\"2020-06-15\",\"2020-06-15\",\"2020-06-15\",\"2020-06-15\",\"2020-06-15\",\"2020-06-15\",\"2020-06-15\",\"2020-06-15\",\"2020-06-15\",\"2020-06-15\",\"2020-06-15\",\"2020-06-15\",\"2020-06-15\",\"2020-06-15\",\"2020-06-15\",\"2020-06-15\",\"2020-06-15\",\"2020-06-15\",\"2020-06-15\",\"2020-06-15\",\"2020-06-15\",\"2020-06-15\",\"2020-06-15\",\"2020-06-15\",\"2020-06-15\",\"2020-06-15\",\"2020-06-15\",\"2020-06-15\",\"2020-06-15\",\"2020-07-15\",\"2020-07-15\",\"2020-07-15\",\"2020-07-15\",\"2020-07-15\",\"2020-07-15\",\"2020-07-15\",\"2020-07-15\",\"2020-07-15\",\"2020-07-15\",\"2020-07-15\",\"2020-07-15\",\"2020-07-15\",\"2020-07-15\",\"2020-07-15\",\"2020-07-15\",\"2020-07-15\",\"2020-07-15\",\"2020-07-15\",\"2020-07-15\",\"2020-07-15\",\"2020-07-15\",\"2020-07-15\",\"2020-07-15\",\"2020-07-15\",\"2020-07-15\",\"2020-07-15\",\"2020-07-15\",\"2020-07-15\",\"2020-07-15\",\"2020-07-15\",\"2020-07-15\",\"2020-07-15\",\"2020-07-15\",\"2020-07-15\",\"2020-07-15\",\"2020-07-15\",\"2020-07-15\",\"2020-07-15\",\"2020-07-15\",\"2020-07-15\",\"2020-07-15\",\"2020-07-15\",\"2020-07-15\",\"2020-07-15\",\"2020-07-15\",\"2020-07-15\",\"2020-07-15\",\"2020-07-15\",\"2020-07-15\",\"2020-07-15\",\"2020-07-15\",\"2020-07-15\",\"2020-07-15\",\"2020-07-15\",\"2020-07-15\",\"2020-07-15\"],\"xaxis\":\"x\",\"y\":[\"#value\",\"635.0\",\"575.0\",\"1739.0\",\"595.0\",\"1507.0\",\"514.0\",\"631.0\",\"633.0\",\"557.0\",\"604.0\",\"1728.0\",\"562.0\",\"620.0\",\"1723.0\",\"576.0\",\"596.0\",\"450.0\",\"600.0\",\"600.0\",\"600.0\",\"446.0\",\"500.0\",\"1573.0\",\"654.0\",\"633.0\",\"550.0\",\"604.0\",\"1355.0\",\"521.0\",\"620.0\",\"1572.0\",\"551.0\",\"596.0\",\"450.0\",\"600.0\",\"515.0\",\"600.0\",\"625.0\",\"500.0\",\"1500.0\",\"662.0\",\"620.0\",\"581.0\",\"600.0\",\"1428.0\",\"545.0\",\"600.0\",\"532.0\",\"590.0\",\"600.0\",\"600.0\",\"600.0\",\"600.0\",\"625.0\",\"500.0\",\"1614.0\",\"701.0\",\"650.0\",\"575.0\",\"600.0\",\"1524.0\",\"581.0\",\"614.0\",\"531.0\",\"596.0\",\"485.0\",\"600.0\",\"600.0\",\"600.0\",\"550.0\",\"500.0\",\"395.0\",\"540.0\",\"696.0\",\"400.0\",\"500.0\",\"697.0\",\"1357.0\",\"430.0\",\"525.0\",\"695.0\",\"360.0\",\"500.0\",\"695.0\",\"1285.0\",\"190.0\",\"170.0\",\"450.0\",\"600.0\",\"200.0\",\"560.0\",\"720.0\",\"600.0\",\"550.0\",\"400.0\",\"520.0\",\"596.0\",\"430.0\",\"550.0\",\"596.0\",\"1357.0\",\"420.0\",\"530.0\",\"596.0\",\"380.0\",\"500.0\",\"596.0\",\"1285.0\",\"200.0\",\"225.0\",\"500.0\",\"600.0\",\"185.0\",\"625.0\",\"740.0\",\"650.0\",\"600.0\",\"417.0\",\"500.0\",\"795.0\",\"420.0\",\"500.0\",\"695.0\",\"1285.0\",\"434.0\",\"500.0\",\"696.0\",\"400.0\",\"500.0\",\"696.0\",\"1285.0\",\"200.0\",\"250.0\",\"500.0\",\"600.0\",\"200.0\",\"645.0\",\"600.0\",\"400.0\",\"500.0\",\"500.0\",\"430.0\",\"500.0\",\"711.0\",\"425.0\",\"571.0\",\"599.0\",\"1285.0\",\"432.0\",\"500.0\",\"696.0\",\"415.0\",\"500.0\",\"696.0\",\"166.0\",\"500.0\",\"600.0\",\"195.0\",\"710.0\",\"550.0\",\"400.0\",\"500.0\",\"450.0\",\"434.0\",\"500.0\",\"711.0\",\"430.0\",\"571.0\",\"599.0\",\"1285.0\",\"432.0\",\"500.0\",\"696.0\",\"420.0\",\"500.0\",\"696.0\",\"200.0\",\"500.0\",\"600.0\",\"204.0\",\"705.0\",\"550.0\",\"400.0\",\"500.0\",\"450.0\",\"433.0\",\"571.0\",\"596.0\",\"400.0\",\"500.0\",\"579.0\",\"1381.0\",\"426.0\",\"500.0\",\"596.0\",\"410.0\",\"500.0\",\"596.0\",\"183.0\",\"550.0\",\"600.0\",\"210.0\",\"665.0\",\"505.0\",\"410.0\",\"500.0\",\"450.0\",\"408.0\",\"531.0\",\"662.0\",\"571.0\",\"696.0\",\"1563.0\",\"2800.0\",\"1350.0\",\"864.0\",\"833.0\",\"400.0\",\"455.0\",\"500.0\",\"630.0\",\"1400.0\",\"2767.0\",\"1300.0\",\"833.0\",\"900.0\",\"1381.0\",\"435.0\",\"480.0\",\"778.0\",\"500.0\",\"596.0\",\"1700.0\",\"2800.0\",\"1300.0\",\"833.0\",\"867.0\",\"1475.0\",\"415.0\",\"484.0\",\"662.0\",\"500.0\",\"596.0\",\"1351.0\",\"2767.0\",\"1300.0\",\"865.0\",\"700.0\",\"408.0\",\"532.0\",\"607.0\",\"571.0\",\"696.0\",\"1563.0\",\"2800.0\",\"1350.0\",\"864.0\",\"783.0\",\"400.0\",\"455.0\",\"500.0\",\"630.0\",\"1450.0\",\"2767.0\",\"1300.0\",\"833.0\",\"767.0\",\"1381.0\",\"435.0\",\"472.0\",\"778.0\",\"500.0\",\"596.0\",\"1700.0\",\"2800.0\",\"1300.0\",\"833.0\",\"867.0\",\"1475.0\",\"415.0\",\"403.0\",\"662.0\",\"500.0\",\"596.0\",\"1362.0\",\"2767.0\",\"1300.0\",\"865.0\",\"750.0\",\"415.0\",\"532.0\",\"571.0\",\"696.0\",\"1563.0\",\"2733.0\",\"1350.0\",\"833.0\",\"783.0\",\"400.0\",\"458.0\",\"662.0\",\"595.0\",\"579.0\",\"1450.0\",\"2767.0\",\"1300.0\",\"833.0\",\"783.0\",\"1381.0\",\"440.0\",\"472.0\",\"662.0\",\"500.0\",\"596.0\",\"1700.0\",\"2800.0\",\"1300.0\",\"833.0\",\"867.0\",\"1475.0\",\"415.0\",\"400.0\",\"662.0\",\"571.0\",\"596.0\",\"1651.0\",\"2733.0\",\"1300.0\",\"865.0\",\"750.0\",\"1285.0\",\"425.0\",\"650.0\",\"634.0\",\"420.0\",\"540.0\",\"610.0\",\"612.0\",\"1200.0\",\"408.0\",\"525.0\",\"657.0\",\"625.0\",\"415.0\",\"559.0\",\"645.0\",\"425.0\",\"650.0\",\"647.0\",\"425.0\",\"540.0\",\"660.0\",\"620.0\",\"1100.0\",\"415.0\",\"524.0\",\"650.0\",\"656.0\",\"435.0\",\"640.0\",\"645.0\",\"420.0\",\"700.0\",\"640.0\",\"420.0\",\"788.0\",\"700.0\",\"620.0\",\"1400.0\",\"410.0\",\"784.0\",\"730.0\",\"650.0\",\"430.0\",\"768.0\",\"670.0\",\"630.0\",\"1385.0\",\"428.0\",\"562.0\",\"600.0\",\"600.0\",\"425.0\",\"571.0\",\"594.0\",\"1285.0\",\"427.0\",\"555.0\",\"573.0\",\"594.0\",\"435.0\",\"570.0\",\"575.0\",\"600.0\",\"430.0\",\"562.0\",\"620.0\",\"600.0\",\"425.0\",\"600.0\",\"596.0\",\"1214.0\",\"425.0\",\"525.0\",\"602.0\",\"595.0\",\"425.0\",\"553.0\",\"645.0\",\"596.0\",\"432.0\",\"560.0\",\"620.0\",\"696.0\",\"438.0\",\"544.0\",\"624.0\",\"693.0\",\"1420.0\",\"435.0\",\"558.0\",\"624.0\",\"696.0\",\"422.0\",\"645.0\",\"695.0\",\"432.0\",\"560.0\",\"642.0\",\"696.0\",\"437.0\",\"624.0\",\"693.0\",\"1424.0\",\"435.0\",\"560.0\",\"625.0\",\"696.0\",\"1424.0\",\"430.0\",\"562.0\",\"645.0\",\"695.0\",\"1428.0\",\"423.0\",\"560.0\",\"760.0\",\"642.0\",\"696.0\",\"2395.0\",\"2800.0\",\"1846.0\",\"860.0\",\"1111.0\",\"437.0\",\"827.0\",\"624.0\",\"693.0\",\"2350.0\",\"2700.0\",\"1807.0\",\"850.0\",\"1200.0\",\"1203.0\",\"416.0\",\"560.0\",\"812.0\",\"625.0\",\"696.0\",\"2365.0\",\"2750.0\",\"1807.0\",\"851.0\",\"1105.0\",\"1111.0\",\"444.0\",\"562.0\",\"662.0\",\"645.0\",\"695.0\",\"2400.0\",\"2800.0\",\"1846.0\",\"857.0\",\"1111.0\",\"416.0\",\"560.0\",\"760.0\",\"571.0\",\"696.0\",\"2377.0\",\"2800.0\",\"1846.0\",\"750.0\",\"925.0\",\"423.0\",\"827.0\",\"607.0\",\"693.0\",\"2350.0\",\"2700.0\",\"1769.0\",\"750.0\",\"1100.0\",\"1111.0\",\"442.0\",\"560.0\",\"812.0\",\"573.0\",\"696.0\",\"2365.0\",\"2750.0\",\"1807.0\",\"700.0\",\"1018.0\",\"444.0\",\"562.0\",\"662.0\",\"571.0\",\"695.0\",\"2380.0\",\"2800.0\",\"1846.0\",\"700.0\",\"1000.0\",\"925.0\",\"420.0\",\"560.0\",\"760.0\",\"571.0\",\"696.0\",\"2377.0\",\"2750.0\",\"1846.0\",\"750.0\",\"925.0\",\"422.0\",\"827.0\",\"607.0\",\"696.0\",\"2350.0\",\"2800.0\",\"1769.0\",\"800.0\",\"1357.0\",\"1111.0\",\"440.0\",\"560.0\",\"812.0\",\"573.0\",\"696.0\",\"2365.0\",\"2800.0\",\"1807.0\",\"800.0\",\"1018.0\",\"441.0\",\"562.0\",\"662.0\",\"571.0\",\"696.0\",\"2380.0\",\"2800.0\",\"1846.0\",\"800.0\",\"925.0\",\"417.0\",\"560.0\",\"760.0\",\"571.0\",\"696.0\",\"2377.0\",\"2800.0\",\"1846.0\",\"800.0\",\"925.0\",\"425.0\",\"532.0\",\"827.0\",\"642.0\",\"696.0\",\"2350.0\",\"2800.0\",\"1769.0\",\"800.0\",\"1357.0\",\"1111.0\",\"440.0\",\"642.0\",\"696.0\",\"2365.0\",\"2816.0\",\"1807.0\",\"800.0\",\"1018.0\",\"446.0\",\"562.0\",\"662.0\",\"571.0\",\"696.0\",\"2380.0\",\"2800.0\",\"1769.0\",\"800.0\",\"925.0\",\"417.0\",\"560.0\",\"760.0\",\"571.0\",\"696.0\",\"2377.0\",\"2800.0\",\"1846.0\",\"800.0\",\"1018.0\",\"432.0\",\"540.0\",\"827.0\",\"571.0\",\"696.0\",\"2350.0\",\"2800.0\",\"1769.0\",\"800.0\",\"1357.0\",\"1111.0\",\"416.0\",\"571.0\",\"696.0\",\"2365.0\",\"2816.0\",\"1807.0\",\"900.0\",\"1018.0\",\"450.0\",\"560.0\",\"697.0\",\"571.0\",\"696.0\",\"2380.0\",\"2800.0\",\"1769.0\",\"800.0\",\"925.0\",\"408.0\",\"571.0\",\"696.0\",\"2377.0\",\"2800.0\",\"1846.0\",\"800.0\",\"1018.0\",\"421.0\",\"526.0\",\"827.0\",\"571.0\",\"696.0\",\"2365.0\",\"2800.0\",\"1769.0\",\"800.0\",\"1428.0\",\"1115.0\",\"445.0\",\"560.0\",\"812.0\",\"500.0\",\"696.0\",\"2365.0\",\"2925.0\",\"1807.0\",\"900.0\",\"1018.0\",\"500.0\",\"550.0\",\"571.0\",\"696.0\",\"2380.0\",\"2800.0\",\"1769.0\",\"800.0\",\"1285.0\",\"1018.0\",\"460.0\",\"555.0\",\"658.0\",\"696.0\",\"2226.0\",\"2800.0\",\"1887.0\",\"883.0\",\"1018.0\",\"460.0\",\"526.0\",\"827.0\",\"656.0\",\"696.0\",\"2226.0\",\"2900.0\",\"1888.0\",\"866.0\",\"1792.0\",\"1115.0\",\"464.0\",\"560.0\",\"812.0\",\"650.0\",\"696.0\",\"2226.0\",\"2900.0\",\"1886.0\",\"900.0\",\"1018.0\",\"462.0\",\"550.0\",\"650.0\",\"696.0\",\"2226.0\",\"2800.0\",\"1887.0\",\"883.0\",\"1792.0\",\"1018.0\",\"477.0\",\"555.0\",\"650.0\",\"696.0\",\"2096.0\",\"2900.0\",\"1900.0\",\"912.0\",\"1018.0\",\"477.0\",\"526.0\",\"827.0\",\"654.0\",\"696.0\",\"2090.0\",\"2900.0\",\"1950.0\",\"903.0\",\"1699.0\",\"1115.0\",\"477.0\",\"560.0\",\"812.0\",\"652.0\",\"696.0\",\"2095.0\",\"2900.0\",\"2000.0\",\"912.0\",\"1018.0\",\"477.0\",\"550.0\",\"827.0\",\"652.0\",\"696.0\",\"2100.0\",\"2900.0\",\"1950.0\",\"921.0\",\"1660.0\",\"1018.0\",\"470.0\",\"557.0\",\"827.0\",\"720.0\",\"696.0\",\"2200.0\",\"2850.0\",\"1904.0\",\"834.0\",\"1018.0\",\"465.0\",\"550.0\",\"720.0\",\"696.0\",\"2220.0\",\"3000.0\",\"1904.0\",\"800.0\",\"1779.0\",\"1115.0\",\"460.0\",\"560.0\",\"812.0\",\"720.0\",\"696.0\",\"2365.0\",\"2925.0\",\"1904.0\",\"860.0\",\"1018.0\",\"465.0\",\"570.0\",\"827.0\",\"720.0\",\"696.0\",\"2228.0\",\"2850.0\",\"1904.0\",\"832.0\",\"1018.0\",\"419.0\",\"560.0\",\"827.0\",\"646.0\",\"696.0\",\"2398.0\",\"2800.0\",\"1846.0\",\"832.0\",\"1018.0\",\"421.0\",\"530.0\",\"646.0\",\"696.0\",\"2430.0\",\"2800.0\",\"1800.0\",\"832.0\",\"1811.0\",\"1115.0\",\"420.0\",\"812.0\",\"646.0\",\"696.0\",\"2432.0\",\"2850.0\",\"1802.0\",\"832.0\",\"1018.0\",\"420.0\",\"545.0\",\"827.0\",\"646.0\",\"696.0\",\"2436.0\",\"2850.0\",\"1798.0\",\"832.0\",\"1018.0\",\"408.0\",\"827.0\",\"571.0\",\"696.0\",\"2377.0\",\"2800.0\",\"1846.0\",\"800.0\",\"1018.0\",\"421.0\",\"526.0\",\"827.0\",\"571.0\",\"696.0\",\"2365.0\",\"2800.0\",\"1769.0\",\"800.0\",\"1428.0\",\"1115.0\",\"445.0\",\"560.0\",\"500.0\",\"696.0\",\"2365.0\",\"2925.0\",\"1807.0\",\"900.0\",\"1018.0\",\"500.0\",\"571.0\",\"696.0\",\"2380.0\",\"2800.0\",\"1769.0\",\"800.0\",\"1018.0\",\"408.0\",\"555.0\",\"827.0\",\"571.0\",\"696.0\",\"2377.0\",\"2800.0\",\"1846.0\",\"800.0\",\"1018.0\",\"421.0\",\"571.0\",\"696.0\",\"2365.0\",\"2800.0\",\"1769.0\",\"800.0\",\"1428.0\",\"1115.0\",\"445.0\",\"560.0\",\"812.0\",\"500.0\",\"696.0\",\"2365.0\",\"2925.0\",\"1807.0\",\"900.0\",\"1428.0\",\"1018.0\",\"500.0\",\"550.0\",\"827.0\",\"571.0\",\"696.0\",\"2380.0\",\"2800.0\",\"1769.0\",\"800.0\",\"1018.0\",\"1055.0\",\"370.0\",\"569.0\",\"705.0\",\"560.0\",\"2200.0\",\"6212.0\",\"8528.0\",\"3790.0\",\"1800.0\",\"1311.0\",\"1225.0\",\"811.0\",\"2204.0\",\"595.0\",\"765.0\",\"400.0\",\"583.0\",\"615.0\",\"496.0\",\"1600.0\",\"5368.0\",\"11400.0\",\"3645.0\",\"1500.0\",\"1397.0\",\"1375.0\",\"696.0\",\"1685.0\",\"1658.0\",\"612.0\",\"1015.0\",\"371.0\",\"600.0\",\"655.0\",\"3618.0\",\"6600.0\",\"10420.0\",\"4715.0\",\"1341.0\",\"1142.0\",\"851.0\",\"793.0\",\"3121.0\",\"764.0\",\"745.0\",\"370.0\",\"605.0\",\"462.0\",\"503.0\",\"3464.0\",\"5005.0\",\"12560.0\",\"3785.0\",\"1261.0\",\"1302.0\",\"966.0\",\"703.0\",\"1664.0\",\"601.0\",\"1090.0\",\"402.0\",\"606.0\",\"620.0\",\"3555.0\",\"7110.0\",\"10773.0\",\"4183.0\",\"1384.0\",\"1254.0\",\"840.0\",\"805.0\",\"3571.0\",\"681.0\",\"735.0\",\"372.0\",\"595.0\",\"472.0\",\"492.0\",\"3464.0\",\"5500.0\",\"13000.0\",\"3793.0\",\"1262.0\",\"1302.0\",\"953.0\",\"694.0\",\"1664.0\",\"602.0\",\"1040.0\",\"375.0\",\"600.0\",\"720.0\",\"550.0\",\"2315.0\",\"6341.0\",\"9018.0\",\"3720.0\",\"1810.0\",\"1345.0\",\"1255.0\",\"800.0\",\"1785.0\",\"2276.0\",\"802.0\",\"723.0\",\"425.0\",\"625.0\",\"422.0\",\"1700.0\",\"5444.0\",\"12100.0\",\"3615.0\",\"1500.0\",\"1418.0\",\"1390.0\",\"625.0\",\"1700.0\",\"700.0\",\"1077.0\",\"360.0\",\"600.0\",\"762.0\",\"570.0\",\"2435.0\",\"7002.0\",\"9200.0\",\"3700.0\",\"1807.0\",\"1390.0\",\"1300.0\",\"807.0\",\"2301.0\",\"822.0\",\"725.0\",\"435.0\",\"655.0\",\"400.0\",\"1785.0\",\"5600.0\",\"12315.0\",\"3602.0\",\"1550.0\",\"1450.0\",\"1360.0\",\"632.0\",\"1722.0\",\"750.0\",\"1100.0\",\"325.0\",\"600.0\",\"770.0\",\"552.0\",\"2502.0\",\"7111.0\",\"9400.0\",\"3700.0\",\"1805.0\",\"1401.0\",\"1322.0\",\"810.0\",\"2363.0\",\"800.0\",\"715.0\",\"415.0\",\"550.0\",\"680.0\",\"410.0\",\"1800.0\",\"5600.0\",\"12400.0\",\"3550.0\",\"1500.0\",\"1480.0\",\"1380.0\",\"650.0\",\"1750.0\",\"775.0\",\"1003.0\",\"350.0\",\"630.0\",\"770.0\",\"552.0\",\"2500.0\",\"7003.0\",\"9315.0\",\"3680.0\",\"1800.0\",\"1425.0\",\"1300.0\",\"800.0\",\"2369.0\",\"764.0\",\"710.0\",\"425.0\",\"570.0\",\"680.0\",\"410.0\",\"1855.0\",\"5555.0\",\"12300.0\",\"3500.0\",\"1500.0\",\"1496.0\",\"1340.0\",\"625.0\",\"1765.0\",\"706.0\",\"1005.0\",\"390.0\",\"680.0\",\"752.8\",\"521.0\",\"2775.0\",\"7018.1\",\"10085.0\",\"3600.0\",\"1900.0\",\"1598.4\",\"1380.6\",\"781.3\",\"2470.8\",\"711.5\",\"765.0\",\"470.6\",\"602.0\",\"675.0\",\"400.0\",\"2000.0\",\"5600.7\",\"13800.0\",\"3500.0\",\"1660.7\",\"1600.0\",\"1400.0\",\"600.0\",\"1890.0\",\"800.7\",\"1000.52\",\"360.7\",\"644.0\",\"730.8\",\"479.0\",\"2525.0\",\"6500.0\",\"8555.4\",\"3605.0\",\"1700.0\",\"1500.0\",\"1310.0\",\"901.0\",\"1680.0\",\"2402.0\",\"772.0\",\"700.0\",\"415.0\",\"600.2\",\"400.0\",\"1700.0\",\"5000.0\",\"12000.0\",\"3500.0\",\"1500.0\",\"1400.0\",\"1278.0\",\"600.0\",\"1800.0\",\"822.0\",\"800.0\",\"500.0\",\"450.0\",\"500.0\",\"2000.0\",\"5000.0\",\"3375.0\",\"2850.0\",\"1950.0\",\"650.0\",\"675.0\",\"700.0\",\"1100.0\",\"400.0\",\"600.0\",\"700.0\",\"505.0\",\"2660.0\",\"2980.0\",\"3725.0\",\"1800.0\",\"1260.0\",\"800.0\",\"1000.0\",\"2300.0\",\"982.0\",\"1500.0\",\"400.0\",\"700.0\",\"518.0\",\"3150.0\",\"5333.0\",\"6633.0\",\"4000.0\",\"2000.0\",\"970.0\",\"1000.0\",\"2169.0\",\"985.0\",\"800.0\",\"500.0\",\"500.0\",\"2000.0\",\"2500.0\",\"2000.0\",\"850.0\",\"800.0\",\"750.0\",\"1000.0\",\"167.0\",\"500.0\",\"1083.0\",\"1069.0\",\"2500.0\",\"500.0\",\"1000.0\",\"1000.0\",\"433.3\",\"500.0\",\"716.7\",\"416.7\",\"1233.3\",\"3750.0\",\"5000.0\",\"1000.0\",\"1100.0\",\"966.7\",\"1000.0\",\"966.0\",\"810.0\",\"560.0\",\"480.0\",\"550.0\",\"2000.0\",\"5000.0\",\"3375.0\",\"2850.0\",\"1950.0\",\"650.0\",\"675.0\",\"700.0\",\"1100.0\",\"400.0\",\"600.0\",\"700.0\",\"505.0\",\"2660.0\",\"2980.0\",\"3725.0\",\"1800.0\",\"1260.0\",\"800.0\",\"1000.0\",\"2300.0\",\"982.0\",\"1555.0\",\"425.0\",\"765.0\",\"552.0\",\"3500.0\",\"3500.0\",\"7000.0\",\"4000.0\",\"2000.0\",\"970.0\",\"1000.0\",\"2167.0\",\"985.0\",\"800.0\",\"580.0\",\"525.0\",\"2000.0\",\"2500.0\",\"2000.0\",\"883.0\",\"775.0\",\"750.0\",\"933.0\",\"130.0\",\"444.0\",\"1222.0\",\"2500.0\",\"2500.0\",\"500.0\",\"1133.0\",\"1000.0\",\"500.0\",\"600.0\",\"716.7\",\"533.0\",\"1233.3\",\"1667.0\",\"3500.0\",\"1000.0\",\"1100.0\",\"966.7\",\"1000.0\",\"966.0\",\"800.0\",\"600.0\",\"450.0\",\"512.0\",\"2266.0\",\"5000.0\",\"3375.0\",\"2966.0\",\"1950.0\",\"700.0\",\"675.0\",\"1366.0\",\"700.0\",\"1122.0\",\"478.0\",\"701.0\",\"765.0\",\"580.0\",\"2504.0\",\"2800.0\",\"3700.0\",\"1800.0\",\"1300.0\",\"850.0\",\"1600.0\",\"2490.0\",\"1005.0\",\"1500.0\",\"400.0\",\"510.0\",\"7000.0\",\"3500.0\",\"7333.8\",\"4000.0\",\"2000.0\",\"970.0\",\"1010.0\",\"1663.5\",\"875.0\",\"625.0\",\"1000.0\",\"500.0\",\"2200.0\",\"3000.0\",\"2000.0\",\"883.0\",\"775.0\",\"750.0\",\"756.0\",\"118.0\",\"250.0\",\"478.0\",\"1825.0\",\"4541.0\",\"2800.0\",\"467.0\",\"1066.0\",\"1000.0\",\"1000.0\",\"162.0\",\"658.0\",\"3337.0\",\"3222.0\",\"3000.0\",\"467.0\",\"985.0\",\"583.0\",\"912.0\",\"700.0\",\"450.0\",\"1800.0\",\"8067.0\",\"2567.0\",\"4416.0\",\"1000.0\",\"800.0\",\"708.0\",\"800.0\",\"500.0\",\"300.0\",\"533.0\",\"2500.0\",\"5000.0\",\"3375.0\",\"3133.0\",\"2800.0\",\"633.0\",\"682.0\",\"1366.0\",\"700.0\",\"1200.0\",\"500.0\",\"780.0\",\"800.0\",\"550.0\",\"2645.0\",\"3000.0\",\"3558.0\",\"1800.0\",\"1402.0\",\"800.0\",\"975.0\",\"2564.0\",\"1285.0\",\"1500.0\",\"467.0\",\"500.0\",\"5500.0\",\"3500.0\",\"6834.0\",\"3500.0\",\"2000.0\",\"900.0\",\"900.0\",\"1663.0\",\"800.0\",\"625.0\",\"600.0\",\"600.0\",\"2000.0\",\"3266.0\",\"2000.0\",\"883.0\",\"773.0\",\"750.0\",\"756.0\",\"201.0\",\"250.0\",\"407.0\",\"2083.0\",\"3397.0\",\"2300.0\",\"467.0\",\"933.0\",\"1000.0\",\"1000.0\",\"333.0\",\"658.0\",\"2000.0\",\"3333.0\",\"2500.0\",\"500.0\",\"967.0\",\"1250.0\",\"802.0\",\"700.0\",\"450.0\",\"1000.0\",\"867.0\",\"2567.0\",\"1250.0\",\"1000.0\",\"800.0\",\"715.0\",\"812.0\",\"300.0\",\"315.0\",\"488.0\",\"2000.0\",\"6000.0\",\"4700.0\",\"3200.0\",\"2500.0\",\"638.0\",\"682.0\",\"718.0\",\"1115.0\",\"521.0\",\"792.0\",\"722.0\",\"500.0\",\"2703.0\",\"5100.0\",\"3555.0\",\"1845.0\",\"1378.0\",\"758.0\",\"950.0\",\"2400.0\",\"1400.0\",\"1500.0\",\"450.0\",\"710.0\",\"515.0\",\"5334.0\",\"5334.0\",\"6167.0\",\"3500.0\",\"2000.0\",\"966.0\",\"1003.0\",\"1664.0\",\"866.0\",\"500.0\",\"505.0\",\"2005.0\",\"3500.0\",\"2000.0\",\"800.0\",\"642.0\",\"750.0\",\"889.0\",\"217.0\",\"500.0\",\"1906.0\",\"6000.0\",\"2300.0\",\"400.0\",\"933.0\",\"833.0\",\"1188.0\",\"162.0\",\"2000.0\",\"691.0\",\"3367.0\",\"2500.0\",\"967.0\",\"1000.0\",\"378.0\",\"895.0\",\"715.0\",\"780.0\",\"468.0\",\"1250.0\",\"900.0\",\"2567.0\",\"1375.0\",\"1000.0\",\"683.0\",\"700.0\",\"800.0\",\"300.0\",\"380.0\",\"488.0\",\"2000.0\",\"6000.0\",\"4700.0\",\"3143.0\",\"2500.0\",\"633.0\",\"800.0\",\"700.0\",\"1200.0\",\"560.0\",\"802.0\",\"700.0\",\"550.0\",\"2800.0\",\"6505.0\",\"3500.0\",\"1800.0\",\"1115.0\",\"800.0\",\"1000.0\",\"2200.0\",\"1650.0\",\"1500.0\",\"450.0\",\"709.0\",\"500.0\",\"3835.0\",\"5333.0\",\"4833.0\",\"4000.0\",\"2000.0\",\"967.0\",\"1003.0\",\"1663.0\",\"1000.0\",\"500.0\",\"500.0\",\"2000.0\",\"3266.0\",\"2000.0\",\"800.0\",\"658.0\",\"750.0\",\"1667.0\",\"189.0\",\"681.0\",\"1334.0\",\"4722.0\",\"2800.0\",\"367.0\",\"1067.0\",\"833.0\",\"1167.0\",\"200.0\",\"2194.0\",\"867.0\",\"4398.0\",\"3000.0\",\"933.0\",\"1000.0\",\"400.0\",\"990.0\",\"500.0\",\"600.0\",\"450.0\",\"1000.0\",\"4867.0\",\"4500.0\",\"800.0\",\"1000.0\",\"800.0\",\"700.0\",\"871.0\",\"400.0\",\"300.0\",\"500.0\",\"2005.0\",\"6010.0\",\"4800.0\",\"3200.0\",\"2500.0\",\"650.0\",\"880.0\",\"700.0\",\"1145.0\",\"512.0\",\"700.0\",\"685.0\",\"500.0\",\"3000.0\",\"7500.0\",\"3500.0\",\"1700.0\",\"1078.0\",\"765.0\",\"950.0\",\"2000.0\",\"1500.0\",\"998.0\",\"480.0\",\"620.0\",\"510.0\",\"2000.0\",\"3066.0\",\"2000.0\",\"900.0\",\"700.0\",\"700.0\",\"1669.0\",\"126.0\",\"289.0\",\"621.0\",\"1001.0\",\"3449.0\",\"2850.0\",\"500.0\",\"839.0\",\"902.0\",\"488.0\",\"550.0\",\"415.0\",\"1017.0\",\"5000.0\",\"4459.0\",\"750.0\",\"1002.0\",\"775.0\",\"650.0\",\"906.0\",\"355.0\",\"280.0\",\"670.0\",\"2250.0\",\"6200.0\",\"4480.0\",\"3350.0\",\"2600.0\",\"723.0\",\"820.0\",\"1400.0\",\"620.0\",\"1200.0\",\"480.0\",\"603.0\",\"702.0\",\"600.0\",\"2800.0\",\"6000.0\",\"3500.0\",\"1650.0\",\"987.0\",\"705.0\",\"1000.0\",\"1300.0\",\"1500.0\",\"1375.0\",\"1100.0\",\"375.0\",\"525.0\",\"700.0\",\"2200.0\",\"3000.0\",\"2300.0\",\"922.0\",\"1000.0\",\"600.0\",\"1715.0\",\"124.0\",\"230.0\",\"700.0\",\"950.0\",\"3000.0\",\"2800.0\",\"608.0\",\"802.0\",\"1002.0\",\"500.0\",\"527.0\",\"525.0\",\"1554.0\",\"5100.0\",\"4500.0\",\"860.0\",\"805.0\",\"1100.0\",\"600.0\",\"800.0\",\"300.0\",\"450.0\",\"510.0\",\"2000.0\",\"4666.0\",\"4700.0\",\"2700.0\",\"2000.0\",\"600.0\",\"650.0\",\"1000.0\",\"783.0\",\"1010.0\",\"508.0\",\"656.0\",\"645.0\",\"550.0\",\"3000.0\",\"6712.0\",\"3250.0\",\"1485.0\",\"800.0\",\"700.0\",\"950.0\",\"1204.0\",\"1350.0\",\"1400.0\",\"985.0\",\"500.0\",\"650.0\",\"500.0\",\"1800.0\",\"2700.0\",\"2000.0\",\"900.0\",\"700.0\",\"1000.0\",\"1667.0\",\"159.0\",\"289.0\",\"528.0\",\"1244.0\",\"4949.0\",\"2800.0\",\"467.0\",\"941.0\",\"852.0\",\"156.0\",\"361.0\",\"724.0\",\"1845.0\",\"4113.0\",\"2500.0\",\"500.0\",\"866.0\",\"1000.0\",\"807.0\",\"563.0\",\"405.0\",\"1605.0\",\"5752.0\",\"4000.0\",\"785.0\",\"777.0\",\"900.0\",\"550.0\",\"880.0\",\"385.0\",\"500.0\",\"560.0\",\"2000.0\",\"4800.0\",\"4700.0\",\"2700.0\",\"2000.0\",\"680.0\",\"650.0\",\"800.0\",\"1005.0\",\"501.0\",\"633.0\",\"600.0\",\"500.0\",\"3245.0\",\"6800.0\",\"3012.0\",\"1500.0\",\"702.0\",\"700.0\",\"900.0\",\"1250.0\",\"1800.0\",\"985.0\",\"500.0\",\"550.0\",\"1800.0\",\"2700.0\",\"2000.0\",\"900.0\",\"700.0\",\"1000.0\",\"1660.0\",\"370.0\",\"589.0\",\"1522.0\",\"5222.0\",\"2300.0\",\"500.0\",\"1000.0\",\"778.0\",\"918.0\",\"316.0\",\"350.0\",\"450.0\",\"1000.0\",\"5002.0\",\"4500.0\",\"800.0\",\"1000.0\",\"800.0\",\"1250.0\",\"950.0\",\"880.0\",\"385.0\",\"500.0\",\"2000.0\",\"4800.0\",\"4700.0\",\"2700.0\",\"800.0\",\"501.0\",\"633.0\",\"985.0\",\"500.0\",\"1800.0\",\"2700.0\",\"1000.0\",\"1660.0\",\"370.0\",\"1522.0\",\"5222.0\",\"2300.0\",\"778.0\",\"935.0\",\"500.0\",\"600.0\",\"2000.0\",\"5000.0\",\"3500.0\",\"2500.0\",\"1800.0\",\"700.0\",\"750.0\",\"700.0\",\"1125.0\",\"560.0\",\"750.0\",\"600.0\",\"2700.0\",\"3000.0\",\"3500.0\",\"1800.0\",\"1300.0\",\"1105.0\",\"1155.0\",\"2405.0\",\"980.0\",\"1405.0\",\"460.0\",\"610.0\",\"950.0\",\"3200.0\",\"3750.0\",\"6800.0\",\"4000.0\",\"2500.0\",\"1000.0\",\"1000.0\",\"900.0\",\"980.0\",\"400.0\",\"350.0\",\"550.0\",\"2000.0\",\"2500.0\",\"2000.0\",\"900.0\",\"850.0\",\"1600.0\",\"800.0\",\"1015.0\",\"135.0\",\"243.0\",\"650.0\",\"1200.0\",\"2200.0\",\"3000.0\",\"728.0\",\"1000.0\",\"1602.0\",\"502.0\",\"850.0\",\"580.0\",\"630.0\",\"550.0\",\"1350.0\",\"1500.0\",\"3500.0\",\"1000.0\",\"900.0\",\"750.0\",\"900.0\",\"961.0\",\"450.0\",\"400.0\",\"502.0\",\"2200.0\",\"5000.0\",\"3800.0\",\"2500.0\",\"2000.0\",\"800.0\",\"750.0\",\"756.0\",\"1100.0\",\"630.0\",\"871.0\",\"805.0\",\"705.0\",\"2857.0\",\"3660.0\",\"3500.0\",\"1800.0\",\"1198.0\",\"1200.0\",\"2000.0\",\"1007.0\",\"1333.0\",\"420.0\",\"860.0\",\"3500.0\",\"3700.0\",\"7000.0\",\"4000.0\",\"2500.0\",\"1000.0\",\"975.0\",\"811.0\",\"948.0\",\"377.0\",\"315.0\",\"600.0\",\"2305.0\",\"2500.0\",\"2000.0\",\"900.0\",\"850.0\",\"800.0\",\"1083.0\",\"142.0\",\"255.0\",\"680.0\",\"1145.0\",\"2015.0\",\"3105.0\",\"800.0\",\"1008.0\",\"500.0\",\"822.0\",\"605.0\",\"425.0\",\"1180.0\",\"1250.0\",\"3500.0\",\"1125.0\",\"900.0\",\"750.0\",\"900.0\",\"800.0\",\"300.0\",\"450.0\",\"510.0\",\"2000.0\",\"4666.0\",\"4700.0\",\"2800.0\",\"2000.0\",\"600.0\",\"650.0\",\"750.0\",\"1117.0\",\"618.0\",\"875.0\",\"860.0\",\"800.0\",\"3064.0\",\"4800.0\",\"3500.0\",\"1500.0\",\"1200.0\",\"1272.0\",\"1800.0\",\"1145.0\",\"920.0\",\"312.0\",\"400.0\",\"582.0\",\"2300.0\",\"2800.0\",\"2005.0\",\"750.0\",\"800.0\",\"722.0\",\"1120.0\",\"128.0\",\"240.0\",\"655.0\",\"2600.0\",\"3800.0\",\"3200.0\",\"818.0\",\"1125.0\",\"557.0\",\"800.0\",\"601.0\",\"643.0\",\"400.0\",\"1202.0\",\"1322.0\",\"3250.0\",\"1080.0\",\"900.0\",\"700.0\",\"1000.0\",\"835.0\",\"800.0\",\"366.0\",\"450.0\",\"510.0\",\"2000.0\",\"4600.0\",\"4700.0\",\"2800.0\",\"2000.0\",\"700.0\",\"750.0\",\"750.0\",\"1122.0\",\"635.0\",\"725.0\",\"715.0\",\"780.0\",\"2500.0\",\"8780.0\",\"3250.0\",\"1650.0\",\"1350.0\",\"900.0\",\"861.0\",\"1800.0\",\"1275.0\",\"1000.0\",\"500.0\",\"650.0\",\"500.0\",\"1800.0\",\"2700.0\",\"2000.0\",\"900.0\",\"700.0\",\"1000.0\",\"1148.0\",\"130.0\",\"245.0\",\"533.0\",\"1583.0\",\"5223.0\",\"2500.0\",\"383.0\",\"1000.0\",\"830.0\",\"702.0\",\"680.0\",\"655.0\",\"422.0\",\"1500.0\",\"2200.0\",\"3000.0\",\"1000.0\",\"1120.0\",\"750.0\",\"1000.0\",\"870.0\",\"369.0\",\"427.0\",\"522.0\",\"2221.0\",\"4800.0\",\"5000.0\",\"2800.0\",\"2000.0\",\"650.0\",\"735.0\",\"800.0\",\"1187.0\",\"700.0\",\"731.0\",\"726.0\",\"802.0\",\"2740.0\",\"8450.0\",\"3250.0\",\"1700.0\",\"1413.0\",\"1012.0\",\"900.0\",\"1880.0\",\"1320.0\",\"980.0\",\"400.0\",\"350.0\",\"2300.0\",\"2500.0\",\"800.0\",\"1200.0\",\"165.0\",\"256.0\",\"600.0\",\"1600.0\",\"5022.0\",\"2500.0\",\"402.0\",\"1000.0\",\"905.0\",\"700.0\",\"640.0\",\"603.0\",\"400.0\",\"1250.0\",\"2105.0\",\"3000.0\",\"1000.0\",\"1130.0\",\"700.0\",\"1002.0\",\"980.0\",\"880.0\",\"380.0\",\"410.0\",\"500.0\",\"2200.0\",\"4500.0\",\"5000.0\",\"2800.0\",\"2500.0\",\"750.0\",\"800.0\",\"666.0\",\"1210.0\",\"765.0\",\"800.0\",\"825.0\",\"800.0\",\"2231.0\",\"7000.0\",\"3000.0\",\"1500.0\",\"1210.0\",\"1000.0\",\"950.0\",\"1600.0\",\"1302.0\",\"1122.0\",\"550.0\",\"670.0\",\"520.0\",\"2000.0\",\"2500.0\",\"2200.0\",\"800.0\",\"850.0\",\"1300.0\",\"1070.0\",\"1037.0\",\"176.0\",\"262.0\",\"567.0\",\"2760.0\",\"5320.0\",\"2300.0\",\"400.0\",\"933.0\",\"860.0\",\"1000.0\",\"225.0\",\"444.0\",\"927.0\",\"3500.0\",\"10000.0\",\"4598.0\",\"2500.0\",\"383.0\",\"1334.0\",\"800.0\",\"660.0\",\"600.0\",\"450.0\",\"1800.0\",\"2500.0\",\"3000.0\",\"1150.0\",\"1155.0\",\"775.0\",\"1200.0\",\"880.0\",\"380.0\",\"500.0\",\"2200.0\",\"4500.0\",\"5000.0\",\"2800.0\",\"2500.0\",\"750.0\",\"800.0\",\"666.0\",\"1210.0\",\"765.0\",\"825.0\",\"800.0\",\"2231.0\",\"7000.0\",\"3000.0\",\"1500.0\",\"1210.0\",\"1000.0\",\"950.0\",\"1600.0\",\"1302.0\",\"1122.0\",\"550.0\",\"670.0\",\"520.0\",\"2000.0\",\"2500.0\",\"2200.0\",\"800.0\",\"850.0\",\"1300.0\",\"1070.0\",\"1037.0\",\"176.0\",\"262.0\",\"567.0\",\"2760.0\",\"5320.0\",\"2300.0\",\"400.0\",\"933.0\",\"860.0\",\"1000.0\",\"225.0\",\"444.0\",\"927.0\",\"3500.0\",\"10000.0\",\"4598.0\",\"2500.0\",\"383.0\",\"1334.0\",\"800.0\",\"660.0\",\"600.0\",\"450.0\",\"1800.0\",\"2500.0\",\"3000.0\",\"1150.0\",\"1155.0\",\"775.0\",\"1200.0\",\"800.0\",\"366.0\",\"450.0\",\"510.0\",\"2000.0\",\"4666.0\",\"4700.0\",\"2800.0\",\"1500.0\",\"700.0\",\"750.0\",\"1555.0\",\"670.0\",\"1020.0\",\"710.0\",\"680.0\",\"800.0\",\"745.0\",\"2125.0\",\"6220.0\",\"2500.0\",\"1400.0\",\"977.0\",\"950.0\",\"850.0\",\"1380.0\",\"1200.0\",\"1258.0\",\"1000.0\",\"500.0\",\"650.0\",\"500.0\",\"1800.0\",\"2700.0\",\"1750.0\",\"900.0\",\"792.0\",\"950.0\",\"1257.0\",\"210.0\",\"317.0\",\"550.0\",\"2401.0\",\"4662.0\",\"2600.0\",\"425.0\",\"810.0\",\"1133.0\",\"294.0\",\"407.0\",\"718.0\",\"2782.0\",\"8000.0\",\"3800.0\",\"3000.0\",\"422.0\",\"1000.0\",\"1366.0\",\"787.0\",\"673.0\",\"405.0\",\"2200.0\",\"2800.0\",\"3000.0\",\"1200.0\",\"1280.0\",\"805.0\",\"1285.0\",\"962.0\",\"489.0\",\"755.0\",\"1400.0\",\"4000.0\",\"6500.0\",\"3000.0\",\"1810.0\",\"710.0\",\"1025.0\",\"900.0\",\"817.0\",\"344.0\",\"429.0\",\"522.0\",\"2000.0\",\"4600.0\",\"4500.0\",\"2800.0\",\"1500.0\",\"700.0\",\"750.0\",\"1605.0\",\"666.0\",\"1110.0\",\"740.0\",\"815.0\",\"760.0\",\"700.0\",\"2200.0\",\"7800.0\",\"2700.0\",\"1425.0\",\"950.0\",\"1025.0\",\"900.0\",\"1360.0\",\"1250.0\",\"1340.0\",\"1006.0\",\"481.0\",\"602.0\",\"532.0\",\"1800.0\",\"2700.0\",\"1800.0\",\"900.0\",\"700.0\",\"905.0\",\"1039.0\",\"185.0\",\"258.0\",\"733.0\",\"1300.0\",\"2750.0\",\"2300.0\",\"400.0\",\"933.0\",\"1190.0\",\"1212.0\",\"209.0\",\"682.0\",\"2450.0\",\"6000.0\",\"3500.0\",\"3000.0\",\"400.0\",\"1000.0\",\"1385.0\",\"797.0\",\"500.0\",\"450.0\",\"1250.0\",\"1000.0\",\"3500.0\",\"1000.0\",\"1000.0\",\"766.0\",\"800.0\",\"1165.0\",\"462.0\",\"705.0\",\"1600.0\",\"4000.0\",\"7102.0\",\"3000.0\",\"1800.0\",\"800.0\",\"1100.0\",\"975.0\",\"982.0\",\"325.0\",\"400.0\",\"539.0\",\"2220.0\",\"4850.0\",\"4637.0\",\"3000.0\",\"2017.0\",\"900.0\",\"850.0\",\"1502.0\",\"576.0\",\"1172.0\",\"700.0\",\"725.0\",\"750.0\",\"800.0\",\"2500.0\",\"6000.0\",\"3000.0\",\"1500.0\",\"1000.0\",\"1220.0\",\"1000.0\",\"1400.0\",\"1200.0\",\"1415.0\",\"1102.0\",\"430.0\",\"500.0\",\"572.0\",\"2335.0\",\"2600.0\",\"1800.0\",\"900.0\",\"900.0\",\"775.0\",\"1200.0\",\"200.0\",\"240.0\",\"780.0\",\"1522.0\",\"2680.0\",\"2550.0\",\"502.0\",\"1090.0\",\"1850.0\",\"722.0\",\"258.0\",\"700.0\",\"2180.0\",\"4808.0\",\"2020.0\",\"3000.0\",\"502.0\",\"1002.0\",\"800.0\",\"802.0\",\"500.0\",\"430.0\",\"1200.0\",\"1350.0\",\"3500.0\",\"1000.0\",\"1000.0\",\"800.0\",\"1200.0\",\"1180.0\",\"488.0\",\"715.0\",\"1600.0\",\"5000.0\",\"6880.0\",\"3000.0\",\"2000.0\",\"800.0\",\"1100.0\",\"920.0\",\"1002.0\",\"300.0\",\"380.0\",\"605.0\",\"1899.0\",\"4800.0\",\"4582.0\",\"3500.0\",\"2000.0\",\"1050.0\",\"900.0\",\"600.0\",\"1172.0\",\"700.0\",\"725.0\",\"750.0\",\"800.0\",\"2500.0\",\"6000.0\",\"3000.0\",\"1500.0\",\"1000.0\",\"1220.0\",\"1000.0\",\"1200.0\",\"1415.0\",\"1102.0\",\"430.0\",\"572.0\",\"2335.0\",\"2600.0\",\"1800.0\",\"900.0\",\"900.0\",\"775.0\",\"1200.0\",\"200.0\",\"780.0\",\"1522.0\",\"2680.0\",\"2550.0\",\"502.0\",\"1090.0\",\"1850.0\",\"722.0\",\"258.0\",\"328.0\",\"700.0\",\"2180.0\",\"4808.0\",\"2020.0\",\"3000.0\",\"502.0\",\"1002.0\",\"800.0\",\"802.0\",\"500.0\",\"640.0\",\"430.0\",\"1200.0\",\"1350.0\",\"3500.0\",\"1000.0\",\"1000.0\",\"800.0\",\"1000.0\",\"1200.0\",\"1180.0\",\"488.0\",\"604.0\",\"715.0\",\"1600.0\",\"5000.0\",\"6880.0\",\"3000.0\",\"2000.0\",\"800.0\",\"1100.0\",\"1500.0\",\"920.0\",\"1118.0\",\"382.0\",\"407.0\",\"645.0\",\"2070.0\",\"5000.0\",\"4800.0\",\"3500.0\",\"2000.0\",\"1000.0\",\"1000.0\",\"700.0\",\"1172.0\",\"700.0\",\"725.0\",\"750.0\",\"800.0\",\"2500.0\",\"6000.0\",\"3000.0\",\"1500.0\",\"1000.0\",\"1220.0\",\"1000.0\",\"1200.0\",\"1415.0\",\"1210.0\",\"475.0\",\"622.0\",\"2500.0\",\"2800.0\",\"1800.0\",\"900.0\",\"1000.0\",\"800.0\",\"1270.0\",\"230.0\",\"720.0\",\"1400.0\",\"2300.0\",\"2600.0\",\"590.0\",\"1150.0\",\"1570.0\",\"800.0\",\"300.0\",\"402.0\",\"680.0\",\"1800.0\",\"5000.0\",\"2000.0\",\"3000.0\",\"600.0\",\"800.0\",\"866.0\",\"610.0\",\"680.0\",\"450.0\",\"1350.0\",\"1566.0\",\"3500.0\",\"1180.0\",\"1100.0\",\"900.0\",\"1200.0\",\"1205.0\",\"500.0\",\"640.0\",\"750.0\",\"1800.0\",\"5000.0\",\"7055.0\",\"3500.0\",\"2000.0\",\"800.0\",\"1166.0\",\"800.0\",\"1152.0\",\"402.0\",\"615.0\",\"2800.0\",\"5000.0\",\"5554.0\",\"3500.0\",\"2000.0\",\"1000.0\",\"1000.0\",\"800.0\",\"1170.0\",\"766.0\",\"770.0\",\"880.0\",\"2772.0\",\"7308.0\",\"3500.0\",\"1500.0\",\"1170.0\",\"1250.0\",\"1000.0\",\"1300.0\",\"1400.0\",\"1198.0\",\"480.0\",\"518.0\",\"705.0\",\"2850.0\",\"3000.0\",\"2000.0\",\"950.0\",\"1000.0\",\"1500.0\",\"800.0\",\"1240.0\",\"305.0\",\"358.0\",\"800.0\",\"1604.0\",\"2800.0\",\"3000.0\",\"582.0\",\"2000.0\",\"1550.0\",\"1100.0\",\"392.0\",\"440.0\",\"782.0\",\"2204.0\",\"5000.0\",\"2400.0\",\"3000.0\",\"600.0\",\"1200.0\",\"960.0\",\"906.0\",\"633.0\",\"676.0\",\"470.0\",\"1490.0\",\"1678.0\",\"3500.0\",\"1225.0\",\"1144.0\",\"950.0\",\"1200.0\",\"1180.0\",\"554.0\",\"660.0\",\"820.0\",\"2304.0\",\"5000.0\",\"8020.0\",\"3500.0\",\"2000.0\",\"900.0\",\"1200.0\",\"900.0\",\"1004.0\",\"388.0\",\"422.0\",\"618.0\",\"3200.0\",\"4800.0\",\"5670.0\",\"3500.0\",\"2000.0\",\"950.0\",\"1000.0\",\"805.0\",\"1004.0\",\"740.0\",\"771.0\",\"778.0\",\"800.0\",\"2876.0\",\"7565.0\",\"3250.0\",\"1500.0\",\"1212.0\",\"1200.0\",\"1400.0\",\"1800.0\",\"1070.0\",\"460.0\",\"478.0\",\"732.0\",\"3006.0\",\"3000.0\",\"2000.0\",\"850.0\",\"1000.0\",\"832.0\",\"1177.0\",\"304.0\",\"330.0\",\"768.0\",\"2162.0\",\"3024.0\",\"3000.0\",\"562.0\",\"1000.0\",\"1408.0\",\"2250.0\",\"366.0\",\"415.0\",\"740.0\",\"2690.0\",\"5000.0\",\"3277.0\",\"2800.0\",\"600.0\",\"1000.0\",\"1366.0\",\"865.0\",\"620.0\",\"660.0\",\"482.0\",\"1676.0\",\"1754.0\",\"3500.0\",\"1200.0\",\"1100.0\",\"900.0\",\"1530.0\",\"1230.0\",\"1100.0\",\"620.0\",\"696.0\",\"812.0\",\"1505.0\",\"5000.0\",\"8211.0\",\"3500.0\",\"1800.0\",\"900.0\",\"1000.0\",\"1802.0\",\"1160.0\",\"1078.0\",\"452.0\",\"483.0\",\"662.0\",\"3425.0\",\"4700.0\",\"5378.0\",\"3500.0\",\"1800.0\",\"800.0\",\"950.0\",\"860.0\",\"910.0\",\"770.0\",\"822.0\",\"765.0\",\"860.0\",\"2788.0\",\"7567.0\",\"3500.0\",\"1000.0\",\"1200.0\",\"900.0\",\"850.0\",\"1323.0\",\"1752.0\",\"1011.0\",\"490.0\",\"503.0\",\"724.0\",\"3220.0\",\"3000.0\",\"1700.0\",\"800.0\",\"900.0\",\"908.0\",\"1100.0\",\"328.0\",\"780.0\",\"2202.0\",\"3300.0\",\"3000.0\",\"550.0\",\"1000.0\",\"1418.0\",\"1808.0\",\"403.0\",\"456.0\",\"764.0\",\"2832.0\",\"5000.0\",\"3430.0\",\"3000.0\",\"600.0\",\"1000.0\",\"1400.0\",\"770.0\",\"655.0\",\"697.0\",\"543.0\",\"1630.0\",\"1700.0\",\"3000.0\",\"800.0\",\"1000.0\",\"750.0\",\"1632.0\",\"1102.0\",\"1160.0\",\"666.0\",\"723.0\",\"842.0\",\"1890.0\",\"5000.0\",\"8500.0\",\"3500.0\",\"1300.0\",\"900.0\",\"1000.0\",\"2020.0\",\"1312.0\",\"1012.0\",\"403.0\",\"440.0\",\"607.0\",\"3600.0\",\"4500.0\",\"5800.0\",\"3500.0\",\"2000.0\",\"900.0\",\"950.0\",\"900.0\",\"969.0\",\"768.0\",\"803.0\",\"740.0\",\"800.0\",\"2940.0\",\"7870.0\",\"3500.0\",\"1250.0\",\"1220.0\",\"1000.0\",\"900.0\",\"1410.0\",\"1885.0\",\"1003.0\",\"483.0\",\"492.0\",\"701.0\",\"3300.0\",\"3000.0\",\"2000.0\",\"850.0\",\"900.0\",\"957.0\",\"1039.0\",\"231.0\",\"266.0\",\"600.0\",\"2202.0\",\"3778.0\",\"2800.0\",\"400.0\",\"933.0\",\"1500.0\",\"1808.0\",\"403.0\",\"456.0\",\"764.0\",\"2832.0\",\"5000.0\",\"3430.0\",\"3000.0\",\"600.0\",\"1000.0\",\"1400.0\",\"855.0\",\"635.0\",\"684.0\",\"475.0\",\"1777.0\",\"1802.0\",\"3500.0\",\"1000.0\",\"1000.0\",\"800.0\",\"1607.0\",\"1262.0\",\"1077.0\",\"644.0\",\"709.0\",\"825.0\",\"1700.0\",\"5000.0\",\"8388.0\",\"3500.0\",\"1500.0\",\"900.0\",\"1000.0\",\"1922.0\",\"1245.0\",\"1003.0\",\"422.0\",\"442.0\",\"638.0\",\"3206.0\",\"5000.0\",\"6222.0\",\"3500.0\",\"1800.0\",\"850.0\",\"900.0\",\"800.0\",\"902.0\",\"678.0\",\"760.0\",\"745.0\",\"800.0\",\"3100.0\",\"8214.0\",\"3000.0\",\"800.0\",\"1140.0\",\"950.0\",\"800.0\",\"1200.0\",\"1500.0\",\"980.0\",\"438.0\",\"735.0\",\"4300.0\",\"3000.0\",\"1600.0\",\"800.0\",\"850.0\",\"850.0\",\"1004.0\",\"288.0\",\"800.0\",\"2740.0\",\"3400.0\",\"3000.0\",\"500.0\",\"1100.0\",\"1320.0\",\"1402.0\",\"386.0\",\"412.0\",\"750.0\",\"3022.0\",\"5000.0\",\"3630.0\",\"3000.0\",\"600.0\",\"1000.0\",\"1200.0\",\"736.0\",\"578.0\",\"620.0\",\"575.0\",\"1800.0\",\"2010.0\",\"3000.0\",\"800.0\",\"800.0\",\"750.0\",\"1500.0\",\"1000.0\",\"1010.0\",\"506.0\",\"645.0\",\"850.0\",\"1890.0\",\"5000.0\",\"8808.0\",\"3500.0\",\"1300.0\",\"800.0\",\"1100.0\",\"1800.0\",\"1100.0\",\"1110.0\",\"412.0\",\"710.0\",\"2800.0\",\"5000.0\",\"5242.0\",\"3500.0\",\"1800.0\",\"800.0\",\"1000.0\",\"750.0\",\"1080.0\",\"600.0\",\"820.0\",\"900.0\",\"2600.0\",\"7600.0\",\"2800.0\",\"1200.0\",\"1112.0\",\"900.0\",\"1000.0\",\"1000.0\",\"1300.0\",\"1202.0\",\"420.0\",\"440.0\",\"755.0\",\"4125.0\",\"3000.0\",\"1500.0\",\"800.0\",\"1100.0\",\"1400.0\",\"775.0\",\"1206.0\",\"400.0\",\"470.0\",\"900.0\",\"2670.0\",\"3600.0\",\"3000.0\",\"700.0\",\"1200.0\",\"1450.0\",\"1800.0\",\"433.0\",\"476.0\",\"950.0\",\"3330.0\",\"5000.0\",\"3802.0\",\"3000.0\",\"780.0\",\"1100.0\",\"1330.0\",\"717.0\",\"514.0\",\"606.0\",\"600.0\",\"1600.0\",\"1800.0\",\"3000.0\",\"1000.0\",\"800.0\",\"900.0\",\"900.0\",\"1180.0\",\"480.0\",\"612.0\",\"900.0\",\"2020.0\",\"5000.0\",\"7404.0\",\"3500.0\",\"1200.0\",\"800.0\",\"1100.0\",\"950.0\",\"1124.0\",\"438.0\",\"742.0\",\"3200.0\",\"5000.0\",\"5322.0\",\"3500.0\",\"1600.0\",\"800.0\",\"1000.0\",\"800.0\",\"1012.0\",\"668.0\",\"840.0\",\"875.0\",\"2886.0\",\"8010.0\",\"3000.0\",\"1000.0\",\"1210.0\",\"900.0\",\"1000.0\",\"1000.0\",\"1242.0\",\"1188.0\",\"466.0\",\"530.0\",\"780.0\",\"4255.0\",\"3000.0\",\"1500.0\",\"800.0\",\"1000.0\",\"1320.0\",\"834.0\",\"1206.0\",\"402.0\",\"432.0\",\"1008.0\",\"2800.0\",\"3738.0\",\"3000.0\",\"800.0\",\"1200.0\",\"1350.0\",\"1630.0\",\"387.0\",\"416.0\",\"900.0\",\"3636.0\",\"5000.0\",\"4000.0\",\"3000.0\",\"700.0\",\"1000.0\",\"1280.0\",\"792.0\",\"570.0\",\"640.0\",\"646.0\",\"1780.0\",\"2020.0\",\"3000.0\",\"1000.0\",\"800.0\",\"900.0\",\"900.0\",\"1222.0\",\"514.0\",\"638.0\",\"1006.0\",\"3050.0\",\"5000.0\",\"7654.0\",\"3500.0\",\"1200.0\",\"800.0\",\"1000.0\",\"900.0\",\"1002.0\",\"405.0\",\"472.0\",\"704.0\",\"3000.0\",\"4500.0\",\"4830.0\",\"3500.0\",\"1500.0\",\"900.0\",\"1000.0\",\"1400.0\",\"1000.0\",\"1102.0\",\"618.0\",\"678.0\",\"780.0\",\"900.0\",\"2250.0\",\"5340.0\",\"3000.0\",\"1000.0\",\"1270.0\",\"1000.0\",\"900.0\",\"1500.0\",\"1300.0\",\"1320.0\",\"1103.0\",\"410.0\",\"466.0\",\"725.0\",\"4060.0\",\"3000.0\",\"1500.0\",\"850.0\",\"1000.0\",\"980.0\",\"1248.0\",\"380.0\",\"405.0\",\"1200.0\",\"2206.0\",\"2004.0\",\"3000.0\",\"800.0\",\"1200.0\",\"1403.0\",\"1342.0\",\"360.0\",\"1000.0\",\"2870.0\",\"4800.0\",\"3422.0\",\"3000.0\",\"800.0\",\"1250.0\",\"1320.0\",\"803.0\",\"522.0\",\"550.0\",\"1512.0\",\"1600.0\",\"3000.0\",\"800.0\",\"900.0\",\"900.0\",\"1200.0\",\"1230.0\",\"487.0\",\"900.0\",\"2940.0\",\"4800.0\",\"6100.0\",\"3500.0\",\"1200.0\",\"900.0\",\"1000.0\",\"1210.0\",\"1017.0\",\"367.0\",\"402.0\",\"688.0\",\"3000.0\",\"4500.0\",\"3300.0\",\"3500.0\",\"1500.0\",\"850.0\",\"1000.0\",\"1220.0\",\"800.0\",\"1030.0\",\"552.0\",\"602.0\",\"722.0\",\"800.0\",\"1880.0\",\"4260.0\",\"3000.0\",\"1000.0\",\"1012.0\",\"900.0\",\"900.0\",\"1388.0\",\"1100.0\",\"1800.0\",\"1144.0\",\"330.0\",\"411.0\",\"702.0\",\"3800.0\",\"3000.0\",\"1500.0\",\"800.0\",\"1000.0\",\"800.0\",\"1100.0\",\"366.0\",\"374.0\",\"1070.0\",\"1220.0\",\"1732.0\",\"3000.0\",\"700.0\",\"1000.0\",\"1212.0\",\"1088.0\",\"322.0\",\"1000.0\",\"1863.0\",\"4700.0\",\"2022.0\",\"3000.0\",\"600.0\",\"1000.0\",\"1165.0\",\"832.0\",\"498.0\",\"530.0\",\"1340.0\",\"1343.0\",\"3000.0\",\"800.0\",\"900.0\",\"850.0\",\"1000.0\",\"1168.0\",\"406.0\",\"854.0\",\"2800.0\",\"4600.0\",\"4806.0\",\"3500.0\",\"1200.0\",\"950.0\",\"1000.0\",\"1660.0\",\"800.0\",\"366.0\",\"450.0\",\"800.0\",\"2000.0\",\"4000.0\",\"6000.0\",\"2500.0\",\"1500.0\",\"700.0\",\"650.0\",\"800.0\",\"992.0\",\"583.0\",\"622.0\",\"760.0\",\"800.0\",\"1750.0\",\"3868.0\",\"2800.0\",\"1000.0\",\"1006.0\",\"850.0\",\"900.0\",\"1080.0\",\"2200.0\",\"1087.0\",\"410.0\",\"474.0\",\"842.0\",\"2700.0\",\"3000.0\",\"1500.0\",\"750.0\",\"850.0\",\"820.0\",\"1100.0\",\"366.0\",\"374.0\",\"1070.0\",\"1220.0\",\"1732.0\",\"3000.0\",\"700.0\",\"1000.0\",\"1212.0\",\"2084.0\",\"125.0\",\"739.0\",\"2364.0\",\"5000.0\",\"3778.0\",\"2800.0\",\"400.0\",\"1000.0\",\"1500.0\",\"780.0\",\"503.0\",\"550.0\",\"1400.0\",\"1270.0\",\"2500.0\",\"800.0\",\"850.0\",\"750.0\",\"1000.0\",\"1066.0\",\"402.0\",\"490.0\",\"820.0\",\"2600.0\",\"5000.0\",\"5322.0\",\"3000.0\",\"1100.0\",\"800.0\",\"950.0\",\"1456.0\",\"1300.0\",\"840.0\",\"340.0\",\"415.0\",\"750.0\",\"2200.0\",\"3660.0\",\"6600.0\",\"2550.0\",\"1500.0\",\"678.0\",\"750.0\",\"666.0\",\"928.0\",\"518.0\",\"562.0\",\"732.0\",\"700.0\",\"1890.0\",\"3970.0\",\"2500.0\",\"850.0\",\"900.0\",\"800.0\",\"800.0\",\"950.0\",\"1822.0\",\"1002.0\",\"388.0\",\"810.0\",\"3200.0\",\"3000.0\",\"1500.0\",\"650.0\",\"800.0\",\"760.0\",\"1002.0\",\"314.0\",\"930.0\",\"1780.0\",\"2020.0\",\"3000.0\",\"600.0\",\"900.0\",\"1210.0\",\"712.0\",\"480.0\",\"562.0\",\"510.0\",\"1200.0\",\"1336.0\",\"2500.0\",\"750.0\",\"800.0\",\"650.0\",\"915.0\",\"903.0\",\"318.0\",\"382.0\",\"790.0\",\"2330.0\",\"3500.0\",\"6808.0\",\"2500.0\",\"1500.0\",\"700.0\",\"900.0\",\"600.0\",\"910.0\",\"480.0\",\"507.0\",\"800.0\",\"800.0\",\"1670.0\",\"4300.0\",\"2500.0\",\"800.0\",\"866.0\",\"850.0\",\"900.0\",\"900.0\",\"2220.0\",\"1100.0\",\"310.0\",\"872.0\",\"3400.0\",\"3000.0\",\"1500.0\",\"700.0\",\"950.0\",\"705.0\",\"1086.0\",\"428.0\",\"1102.0\",\"2100.0\",\"3040.0\",\"3000.0\",\"700.0\",\"1000.0\",\"1180.0\",\"855.0\",\"454.0\",\"522.0\",\"620.0\",\"1025.0\",\"1806.0\",\"2500.0\",\"750.0\",\"800.0\",\"700.0\",\"900.0\",\"1007.0\",\"288.0\",\"317.0\",\"820.0\",\"2000.0\",\"3500.0\",\"6005.0\",\"2500.0\",\"1500.0\",\"700.0\",\"1000.0\",\"1150.0\",\"978.0\",\"466.0\",\"489.0\",\"860.0\",\"800.0\",\"1840.0\",\"4660.0\",\"2500.0\",\"800.0\",\"880.0\",\"850.0\",\"950.0\",\"1306.0\",\"955.0\",\"2244.0\",\"1103.0\",\"298.0\",\"318.0\",\"880.0\",\"3300.0\",\"3000.0\",\"1500.0\",\"700.0\",\"1000.0\",\"702.0\",\"1100.0\",\"520.0\",\"574.0\",\"1200.0\",\"2250.0\",\"3276.0\",\"3000.0\",\"700.0\",\"1234.0\",\"905.0\",\"420.0\",\"490.0\",\"650.0\",\"1170.0\",\"2010.0\",\"2500.0\",\"800.0\",\"800.0\",\"800.0\",\"926.0\",\"1048.0\",\"378.0\",\"404.0\",\"740.0\",\"2400.0\",\"3500.0\",\"6800.0\",\"2500.0\",\"1100.0\",\"700.0\",\"1100.0\",\"800.0\",\"965.0\",\"523.0\",\"587.0\",\"720.0\",\"800.0\",\"2100.0\",\"6804.0\",\"2500.0\",\"750.0\",\"923.0\",\"850.0\",\"1000.0\",\"1110.0\",\"2366.0\",\"1121.0\",\"328.0\",\"762.0\",\"3624.0\",\"3000.0\",\"1200.0\",\"700.0\",\"1200.0\",\"870.0\",\"1122.0\",\"561.0\",\"1050.0\",\"2356.0\",\"3422.0\",\"3000.0\",\"700.0\",\"1200.0\",\"1190.0\",\"890.0\",\"516.0\",\"594.0\",\"510.0\",\"1230.0\",\"3102.0\",\"2500.0\",\"600.0\",\"800.0\",\"850.0\",\"1300.0\",\"1100.0\",\"1102.0\",\"402.0\",\"433.0\",\"705.0\",\"2743.0\",\"3500.0\",\"6820.0\",\"2500.0\",\"1100.0\",\"850.0\",\"1200.0\",\"860.0\",\"960.0\",\"577.0\",\"612.0\",\"688.0\",\"974.0\",\"2419.0\",\"7003.0\",\"2500.0\",\"750.0\",\"974.0\",\"850.0\",\"1000.0\",\"1266.0\",\"2276.0\",\"1090.0\",\"378.0\",\"720.0\",\"3870.0\",\"3000.0\",\"1200.0\",\"700.0\",\"1250.0\",\"892.0\",\"1212.0\",\"596.0\",\"1100.0\",\"2407.0\",\"3503.0\",\"3000.0\",\"700.0\",\"1200.0\",\"1074.0\",\"880.0\",\"577.0\",\"634.0\",\"507.0\",\"1352.0\",\"3465.0\",\"2500.0\",\"600.0\",\"800.0\",\"900.0\",\"1400.0\",\"1178.0\",\"1010.0\",\"430.0\",\"465.0\",\"622.0\",\"2300.0\",\"4000.0\",\"4423.0\",\"2500.0\",\"1100.0\",\"800.0\",\"1000.0\",\"750.0\",\"990.0\",\"602.0\",\"677.0\",\"570.0\",\"1055.0\",\"1800.0\",\"4030.0\",\"2500.0\",\"700.0\",\"842.0\",\"800.0\",\"900.0\",\"1190.0\",\"2470.0\",\"1098.0\",\"388.0\",\"660.0\",\"3450.0\",\"3000.0\",\"1200.0\",\"600.0\",\"1000.0\",\"800.0\",\"1002.0\",\"280.0\",\"766.0\",\"1722.0\",\"4762.0\",\"3000.0\",\"410.0\",\"900.0\",\"867.0\",\"866.0\",\"626.0\",\"718.0\",\"480.0\",\"1242.0\",\"2350.0\",\"2500.0\",\"600.0\",\"800.0\",\"850.0\",\"1230.0\",\"1060.0\",\"1011.0\",\"505.0\",\"482.0\",\"605.0\",\"2630.0\",\"4000.0\",\"5220.0\",\"2500.0\",\"1156.0\",\"850.0\",\"1000.0\",\"870.0\",\"1005.0\",\"635.0\",\"702.0\",\"592.0\",\"1166.0\",\"2024.0\",\"4621.0\",\"2500.0\",\"700.0\",\"914.0\",\"900.0\",\"900.0\",\"1230.0\",\"2830.0\",\"1072.0\",\"503.0\",\"722.0\",\"4020.0\",\"3000.0\",\"1200.0\",\"650.0\",\"1000.0\",\"920.0\",\"1167.0\",\"340.0\",\"803.0\",\"1941.0\",\"4937.0\",\"3000.0\",\"458.0\",\"900.0\",\"867.0\",\"842.0\",\"642.0\",\"751.0\",\"488.0\",\"1404.0\",\"3133.0\",\"2500.0\",\"600.0\",\"850.0\",\"800.0\",\"1340.0\",\"1185.0\",\"1112.0\",\"580.0\",\"582.0\",\"3023.0\",\"4000.0\",\"6302.0\",\"2500.0\",\"1200.0\",\"800.0\",\"900.0\",\"710.0\",\"1086.0\",\"670.0\",\"516.0\",\"1221.0\",\"2570.0\",\"5003.0\",\"2500.0\",\"760.0\",\"812.0\",\"800.0\",\"800.0\",\"960.0\",\"2678.0\",\"1080.0\",\"555.0\",\"480.0\",\"645.0\",\"5400.0\",\"3000.0\",\"1200.0\",\"600.0\",\"900.0\",\"1400.0\",\"800.0\",\"1207.0\",\"440.0\",\"462.0\",\"789.0\",\"2028.0\",\"5340.0\",\"4125.0\",\"426.0\",\"678.0\",\"731.0\",\"702.0\",\"697.0\",\"380.0\",\"1622.0\",\"4320.0\",\"2500.0\",\"800.0\",\"800.0\",\"750.0\",\"966.0\",\"1170.0\",\"588.0\",\"603.0\",\"2765.0\",\"4000.0\",\"5404.0\",\"2500.0\",\"1200.0\",\"800.0\",\"900.0\",\"650.0\",\"1010.0\",\"708.0\",\"550.0\",\"1192.0\",\"2342.0\",\"4766.0\",\"2500.0\",\"750.0\",\"774.0\",\"800.0\",\"850.0\",\"903.0\",\"2800.0\",\"1094.0\",\"571.0\",\"510.0\",\"660.0\",\"5530.0\",\"3000.0\",\"1200.0\",\"600.0\",\"1000.0\",\"1475.0\",\"766.0\",\"1188.0\",\"378.0\",\"423.0\",\"830.0\",\"1890.0\",\"4605.0\",\"4020.0\",\"400.0\",\"518.0\",\"814.0\",\"728.0\",\"706.0\",\"415.0\",\"1500.0\",\"4208.0\",\"2500.0\",\"800.0\",\"800.0\",\"800.0\",\"916.0\",\"1069.0\",\"604.0\",\"562.0\",\"630.0\",\"2875.0\",\"4000.0\",\"5600.0\",\"2500.0\",\"1200.0\",\"800.0\",\"900.0\",\"687.0\",\"1056.0\",\"677.0\",\"792.0\",\"540.0\",\"1242.0\",\"2382.0\",\"4780.0\",\"2500.0\",\"750.0\",\"808.0\",\"800.0\",\"800.0\",\"905.0\",\"2400.0\",\"1101.0\",\"578.0\",\"512.0\",\"670.0\",\"4955.0\",\"3000.0\",\"1200.0\",\"600.0\",\"900.0\",\"800.0\",\"1190.0\",\"425.0\",\"408.0\",\"760.0\",\"1870.0\",\"4676.0\",\"3500.0\",\"400.0\",\"900.0\",\"605.0\",\"833.0\",\"734.0\",\"425.0\",\"1544.0\",\"4007.0\",\"2500.0\",\"800.0\",\"800.0\",\"750.0\",\"920.0\",\"1033.0\",\"645.0\",\"589.0\",\"587.0\",\"2702.0\",\"4000.0\",\"5030.0\",\"2500.0\",\"1200.0\",\"760.0\",\"900.0\",\"702.0\",\"1003.0\",\"720.0\",\"815.0\",\"520.0\",\"1312.0\",\"2100.0\",\"4290.0\",\"2500.0\",\"750.0\",\"860.0\",\"800.0\",\"800.0\",\"1100.0\",\"2734.0\",\"1134.0\",\"623.0\",\"548.0\",\"611.0\",\"4765.0\",\"3000.0\",\"1200.0\",\"600.0\",\"900.0\",\"900.0\",\"1154.0\",\"502.0\",\"482.0\",\"742.0\",\"1467.0\",\"4310.0\",\"3500.0\",\"400.0\",\"900.0\",\"723.0\",\"810.0\",\"804.0\",\"778.0\",\"400.0\",\"1456.0\",\"3872.0\",\"2500.0\",\"800.0\",\"800.0\",\"750.0\",\"1400.0\",\"1020.0\",\"1011.0\",\"532.0\",\"518.0\",\"550.0\",\"3210.0\",\"5000.0\",\"3252.0\",\"2500.0\",\"1200.0\",\"700.0\",\"900.0\",\"602.0\",\"1078.0\",\"578.0\",\"636.0\",\"520.0\",\"1206.0\",\"2145.0\",\"4500.0\",\"2500.0\",\"750.0\",\"769.0\",\"700.0\",\"800.0\",\"803.0\",\"2733.0\",\"1134.0\",\"506.0\",\"473.0\",\"587.0\",\"5000.0\",\"3000.0\",\"1200.0\",\"600.0\",\"900.0\",\"660.0\",\"1204.0\",\"302.0\",\"277.0\",\"715.0\",\"2008.0\",\"4732.0\",\"3500.0\",\"400.0\",\"900.0\",\"400.0\",\"922.0\",\"680.0\",\"625.0\",\"380.0\",\"1356.0\",\"3874.0\",\"2500.0\",\"800.0\",\"800.0\",\"750.0\",\"1300.0\",\"880.0\",\"1089.0\",\"487.0\",\"434.0\",\"602.0\",\"2867.0\",\"5000.0\",\"2903.0\",\"2500.0\",\"1200.0\",\"700.0\",\"1000.0\",\"500.0\",\"1062.0\",\"515.0\",\"603.0\",\"550.0\",\"1320.0\",\"2170.0\",\"4500.0\",\"2500.0\",\"800.0\",\"700.0\",\"600.0\",\"900.0\",\"760.0\",\"2810.0\",\"1118.0\",\"466.0\",\"413.0\",\"631.0\",\"5000.0\",\"3000.0\",\"1220.0\",\"600.0\",\"1000.0\",\"1180.0\",\"557.0\",\"1211.0\",\"305.0\",\"273.0\",\"760.0\",\"2143.0\",\"4820.0\",\"3500.0\",\"400.0\",\"1000.0\",\"405.0\",\"862.0\",\"660.0\",\"578.0\",\"400.0\",\"1280.0\",\"3660.0\",\"2500.0\",\"700.0\",\"700.0\",\"800.0\",\"810.0\",\"1103.0\",\"405.0\",\"611.0\",\"2787.0\",\"5000.0\",\"2820.0\",\"2500.0\",\"1200.0\",\"700.0\",\"1000.0\",\"500.0\",\"1003.0\",\"543.0\",\"558.0\",\"1230.0\",\"2200.0\",\"4632.0\",\"2500.0\",\"800.0\",\"812.0\",\"600.0\",\"900.0\",\"700.0\",\"3200.0\",\"1101.0\",\"404.0\",\"390.0\",\"640.0\",\"5000.0\",\"3000.0\",\"1250.0\",\"600.0\",\"1000.0\",\"1212.0\",\"480.0\",\"1252.0\",\"412.0\",\"387.0\",\"780.0\",\"2276.0\",\"4912.0\",\"3500.0\",\"500.0\",\"1000.0\",\"1515.0\",\"440.0\",\"845.0\",\"622.0\",\"530.0\",\"410.0\",\"1243.0\",\"3712.0\",\"2500.0\",\"700.0\",\"700.0\",\"800.0\",\"700.0\",\"1124.0\",\"432.0\",\"443.0\",\"677.0\",\"3204.0\",\"4000.0\",\"3645.0\",\"2500.0\",\"1000.0\",\"700.0\",\"1100.0\",\"1181.0\",\"617.0\",\"1154.0\",\"569.0\",\"577.0\",\"603.0\",\"994.0\",\"2487.0\",\"4803.0\",\"2500.0\",\"800.0\",\"861.0\",\"700.0\",\"1000.0\",\"1278.0\",\"978.0\",\"3402.0\",\"1210.0\",\"388.0\",\"404.0\",\"678.0\",\"3200.0\",\"3000.0\",\"1200.0\",\"600.0\",\"1100.0\",\"520.0\",\"1266.0\",\"506.0\",\"479.0\",\"888.0\",\"1862.0\",\"3040.0\",\"3000.0\",\"650.0\",\"1100.0\",\"772.0\",\"863.0\",\"613.0\",\"432.0\",\"1292.0\",\"3505.0\",\"2500.0\",\"700.0\",\"700.0\",\"800.0\",\"890.0\",\"1100.0\",\"466.0\",\"482.0\",\"700.0\",\"3576.0\",\"3500.0\",\"4310.0\",\"2500.0\",\"900.0\",\"600.0\",\"1100.0\",\"650.0\",\"963.0\",\"591.0\",\"613.0\",\"535.0\",\"879.0\",\"2611.0\",\"5022.0\",\"2500.0\",\"750.0\",\"766.0\",\"800.0\",\"900.0\",\"1204.0\",\"2078.0\",\"1121.0\",\"412.0\",\"710.0\",\"1683.0\",\"3000.0\",\"1200.0\",\"550.0\",\"1100.0\",\"600.0\",\"1100.0\",\"587.0\",\"1000.0\",\"1311.0\",\"2200.0\",\"3000.0\",\"750.0\",\"1100.0\",\"1284.0\",\"760.0\",\"670.0\",\"712.0\",\"450.0\",\"1416.0\",\"3332.0\",\"2500.0\",\"600.0\",\"800.0\",\"750.0\",\"1030.0\",\"1107.0\",\"472.0\",\"403.0\",\"680.0\",\"3176.0\",\"3500.0\",\"3730.0\",\"2500.0\",\"900.0\",\"600.0\",\"1000.0\",\"711.0\",\"938.0\",\"618.0\",\"710.0\",\"677.0\",\"750.0\",\"1987.0\",\"3290.0\",\"2500.0\",\"750.0\",\"1302.0\",\"700.0\",\"850.0\",\"1055.0\",\"1845.0\",\"1102.0\",\"444.0\",\"680.0\",\"3006.0\",\"3000.0\",\"1150.0\",\"500.0\",\"1100.0\",\"607.0\",\"1045.0\",\"633.0\",\"978.0\",\"1264.0\",\"1873.0\",\"3000.0\",\"750.0\",\"1000.0\",\"1206.0\",\"921.0\",\"602.0\",\"702.0\",\"450.0\",\"1309.0\",\"3421.0\",\"2500.0\",\"700.0\",\"850.0\",\"700.0\",\"988.0\",\"1194.0\",\"502.0\",\"544.0\",\"730.0\",\"3055.0\",\"4500.0\",\"3288.0\",\"2500.0\",\"1200.0\",\"750.0\",\"1200.0\",\"732.0\",\"990.0\",\"622.0\",\"756.0\",\"786.0\",\"850.0\",\"2747.0\",\"4460.0\",\"3000.0\",\"850.0\",\"1410.0\",\"600.0\",\"900.0\",\"863.0\",\"1200.0\",\"1165.0\",\"481.0\",\"507.0\",\"725.0\",\"3561.0\",\"3000.0\",\"1250.0\",\"600.0\",\"1100.0\",\"629.0\",\"1271.0\",\"713.0\",\"662.0\",\"1022.0\",\"1307.0\",\"2023.0\",\"3500.0\",\"800.0\",\"1200.0\",\"1232.0\",\"965.0\",\"633.0\",\"550.0\",\"1447.0\",\"3690.0\",\"2500.0\",\"800.0\",\"850.0\",\"800.0\",\"1070.0\",\"1168.0\",\"488.0\",\"502.0\",\"715.0\",\"2000.0\",\"3500.0\",\"3330.0\",\"3000.0\",\"1200.0\",\"750.0\",\"900.0\",\"613.0\",\"1100.0\",\"642.0\",\"770.0\",\"794.0\",\"914.0\",\"2828.0\",\"4488.0\",\"3000.0\",\"900.0\",\"1422.0\",\"700.0\",\"900.0\",\"880.0\",\"1318.0\",\"1152.0\",\"393.0\",\"478.0\",\"706.0\",\"2780.0\",\"3000.0\",\"1200.0\",\"550.0\",\"950.0\",\"605.0\",\"1182.0\",\"608.0\",\"622.0\",\"1034.0\",\"1394.0\",\"1890.0\",\"3500.0\",\"850.0\",\"1200.0\",\"1332.0\",\"978.0\",\"668.0\",\"792.0\",\"500.0\",\"1370.0\",\"3212.0\",\"2500.0\",\"750.0\",\"900.0\",\"800.0\",\"1482.0\",\"1110.0\",\"1124.0\",\"596.0\",\"513.0\",\"742.0\",\"2200.0\",\"4000.0\",\"3347.0\",\"3000.0\",\"1300.0\",\"750.0\",\"1000.0\",\"678.0\",\"1126.0\",\"680.0\",\"786.0\",\"804.0\",\"964.0\",\"2863.0\",\"4492.0\",\"3000.0\",\"950.0\",\"1410.0\",\"700.0\",\"1000.0\",\"910.0\",\"1444.0\",\"1188.0\",\"402.0\",\"760.0\",\"2810.0\",\"3000.0\",\"1350.0\",\"550.0\",\"1000.0\",\"675.0\",\"1192.0\",\"618.0\",\"636.0\",\"1134.0\",\"1420.0\",\"1898.0\",\"3500.0\",\"900.0\",\"1200.0\",\"1460.0\",\"984.0\",\"676.0\",\"798.0\",\"550.0\",\"1387.0\",\"3244.0\",\"2500.0\",\"800.0\",\"900.0\",\"850.0\",\"1260.0\",\"1104.0\",\"422.0\",\"470.0\",\"718.0\",\"2340.0\",\"4000.0\",\"3132.0\",\"3000.0\",\"1200.0\",\"750.0\",\"900.0\",\"610.0\",\"1004.0\",\"660.0\",\"742.0\",\"778.0\",\"902.0\",\"2822.0\",\"4210.0\",\"3000.0\",\"900.0\",\"1370.0\",\"700.0\",\"900.0\",\"850.0\",\"1387.0\",\"1178.0\",\"388.0\",\"416.0\",\"730.0\",\"2804.0\",\"3000.0\",\"1300.0\",\"550.0\",\"1000.0\",\"1280.0\",\"633.0\",\"1177.0\",\"572.0\",\"611.0\",\"1146.0\",\"1482.0\",\"2006.0\",\"3500.0\",\"900.0\",\"1200.0\",\"1330.0\",\"944.0\",\"624.0\",\"734.0\",\"520.0\",\"1314.0\",\"3105.0\",\"2500.0\",\"800.0\",\"900.0\",\"750.0\",\"1130.0\",\"1108.0\",\"418.0\",\"433.0\",\"682.0\",\"2268.0\",\"4000.0\",\"3074.0\",\"3000.0\",\"1200.0\",\"750.0\",\"800.0\",\"1542.0\",\"625.0\",\"1013.0\",\"626.0\",\"710.0\",\"722.0\",\"888.0\",\"2512.0\",\"3798.0\",\"3000.0\",\"900.0\",\"1230.0\",\"700.0\",\"800.0\",\"1500.0\",\"800.0\",\"1287.0\",\"1168.0\",\"364.0\",\"400.0\",\"702.0\",\"2666.0\",\"3000.0\",\"1300.0\",\"550.0\",\"900.0\",\"645.0\",\"1183.0\",\"560.0\",\"584.0\",\"1112.0\",\"1204.0\",\"1876.0\",\"3500.0\",\"900.0\",\"1250.0\",\"928.0\",\"610.0\",\"475.0\",\"1290.0\",\"2780.0\",\"2500.0\",\"800.0\",\"850.0\",\"700.0\",\"1105.0\"],\"yaxis\":\"y\",\"type\":\"scattergl\"}],                        {\"template\":{\"data\":{\"bar\":[{\"error_x\":{\"color\":\"#2a3f5f\"},\"error_y\":{\"color\":\"#2a3f5f\"},\"marker\":{\"line\":{\"color\":\"#E5ECF6\",\"width\":0.5},\"pattern\":{\"fillmode\":\"overlay\",\"size\":10,\"solidity\":0.2}},\"type\":\"bar\"}],\"barpolar\":[{\"marker\":{\"line\":{\"color\":\"#E5ECF6\",\"width\":0.5},\"pattern\":{\"fillmode\":\"overlay\",\"size\":10,\"solidity\":0.2}},\"type\":\"barpolar\"}],\"carpet\":[{\"aaxis\":{\"endlinecolor\":\"#2a3f5f\",\"gridcolor\":\"white\",\"linecolor\":\"white\",\"minorgridcolor\":\"white\",\"startlinecolor\":\"#2a3f5f\"},\"baxis\":{\"endlinecolor\":\"#2a3f5f\",\"gridcolor\":\"white\",\"linecolor\":\"white\",\"minorgridcolor\":\"white\",\"startlinecolor\":\"#2a3f5f\"},\"type\":\"carpet\"}],\"choropleth\":[{\"colorbar\":{\"outlinewidth\":0,\"ticks\":\"\"},\"type\":\"choropleth\"}],\"contour\":[{\"colorbar\":{\"outlinewidth\":0,\"ticks\":\"\"},\"colorscale\":[[0.0,\"#0d0887\"],[0.1111111111111111,\"#46039f\"],[0.2222222222222222,\"#7201a8\"],[0.3333333333333333,\"#9c179e\"],[0.4444444444444444,\"#bd3786\"],[0.5555555555555556,\"#d8576b\"],[0.6666666666666666,\"#ed7953\"],[0.7777777777777778,\"#fb9f3a\"],[0.8888888888888888,\"#fdca26\"],[1.0,\"#f0f921\"]],\"type\":\"contour\"}],\"contourcarpet\":[{\"colorbar\":{\"outlinewidth\":0,\"ticks\":\"\"},\"type\":\"contourcarpet\"}],\"heatmap\":[{\"colorbar\":{\"outlinewidth\":0,\"ticks\":\"\"},\"colorscale\":[[0.0,\"#0d0887\"],[0.1111111111111111,\"#46039f\"],[0.2222222222222222,\"#7201a8\"],[0.3333333333333333,\"#9c179e\"],[0.4444444444444444,\"#bd3786\"],[0.5555555555555556,\"#d8576b\"],[0.6666666666666666,\"#ed7953\"],[0.7777777777777778,\"#fb9f3a\"],[0.8888888888888888,\"#fdca26\"],[1.0,\"#f0f921\"]],\"type\":\"heatmap\"}],\"heatmapgl\":[{\"colorbar\":{\"outlinewidth\":0,\"ticks\":\"\"},\"colorscale\":[[0.0,\"#0d0887\"],[0.1111111111111111,\"#46039f\"],[0.2222222222222222,\"#7201a8\"],[0.3333333333333333,\"#9c179e\"],[0.4444444444444444,\"#bd3786\"],[0.5555555555555556,\"#d8576b\"],[0.6666666666666666,\"#ed7953\"],[0.7777777777777778,\"#fb9f3a\"],[0.8888888888888888,\"#fdca26\"],[1.0,\"#f0f921\"]],\"type\":\"heatmapgl\"}],\"histogram\":[{\"marker\":{\"pattern\":{\"fillmode\":\"overlay\",\"size\":10,\"solidity\":0.2}},\"type\":\"histogram\"}],\"histogram2d\":[{\"colorbar\":{\"outlinewidth\":0,\"ticks\":\"\"},\"colorscale\":[[0.0,\"#0d0887\"],[0.1111111111111111,\"#46039f\"],[0.2222222222222222,\"#7201a8\"],[0.3333333333333333,\"#9c179e\"],[0.4444444444444444,\"#bd3786\"],[0.5555555555555556,\"#d8576b\"],[0.6666666666666666,\"#ed7953\"],[0.7777777777777778,\"#fb9f3a\"],[0.8888888888888888,\"#fdca26\"],[1.0,\"#f0f921\"]],\"type\":\"histogram2d\"}],\"histogram2dcontour\":[{\"colorbar\":{\"outlinewidth\":0,\"ticks\":\"\"},\"colorscale\":[[0.0,\"#0d0887\"],[0.1111111111111111,\"#46039f\"],[0.2222222222222222,\"#7201a8\"],[0.3333333333333333,\"#9c179e\"],[0.4444444444444444,\"#bd3786\"],[0.5555555555555556,\"#d8576b\"],[0.6666666666666666,\"#ed7953\"],[0.7777777777777778,\"#fb9f3a\"],[0.8888888888888888,\"#fdca26\"],[1.0,\"#f0f921\"]],\"type\":\"histogram2dcontour\"}],\"mesh3d\":[{\"colorbar\":{\"outlinewidth\":0,\"ticks\":\"\"},\"type\":\"mesh3d\"}],\"parcoords\":[{\"line\":{\"colorbar\":{\"outlinewidth\":0,\"ticks\":\"\"}},\"type\":\"parcoords\"}],\"pie\":[{\"automargin\":true,\"type\":\"pie\"}],\"scatter\":[{\"marker\":{\"colorbar\":{\"outlinewidth\":0,\"ticks\":\"\"}},\"type\":\"scatter\"}],\"scatter3d\":[{\"line\":{\"colorbar\":{\"outlinewidth\":0,\"ticks\":\"\"}},\"marker\":{\"colorbar\":{\"outlinewidth\":0,\"ticks\":\"\"}},\"type\":\"scatter3d\"}],\"scattercarpet\":[{\"marker\":{\"colorbar\":{\"outlinewidth\":0,\"ticks\":\"\"}},\"type\":\"scattercarpet\"}],\"scattergeo\":[{\"marker\":{\"colorbar\":{\"outlinewidth\":0,\"ticks\":\"\"}},\"type\":\"scattergeo\"}],\"scattergl\":[{\"marker\":{\"colorbar\":{\"outlinewidth\":0,\"ticks\":\"\"}},\"type\":\"scattergl\"}],\"scattermapbox\":[{\"marker\":{\"colorbar\":{\"outlinewidth\":0,\"ticks\":\"\"}},\"type\":\"scattermapbox\"}],\"scatterpolar\":[{\"marker\":{\"colorbar\":{\"outlinewidth\":0,\"ticks\":\"\"}},\"type\":\"scatterpolar\"}],\"scatterpolargl\":[{\"marker\":{\"colorbar\":{\"outlinewidth\":0,\"ticks\":\"\"}},\"type\":\"scatterpolargl\"}],\"scatterternary\":[{\"marker\":{\"colorbar\":{\"outlinewidth\":0,\"ticks\":\"\"}},\"type\":\"scatterternary\"}],\"surface\":[{\"colorbar\":{\"outlinewidth\":0,\"ticks\":\"\"},\"colorscale\":[[0.0,\"#0d0887\"],[0.1111111111111111,\"#46039f\"],[0.2222222222222222,\"#7201a8\"],[0.3333333333333333,\"#9c179e\"],[0.4444444444444444,\"#bd3786\"],[0.5555555555555556,\"#d8576b\"],[0.6666666666666666,\"#ed7953\"],[0.7777777777777778,\"#fb9f3a\"],[0.8888888888888888,\"#fdca26\"],[1.0,\"#f0f921\"]],\"type\":\"surface\"}],\"table\":[{\"cells\":{\"fill\":{\"color\":\"#EBF0F8\"},\"line\":{\"color\":\"white\"}},\"header\":{\"fill\":{\"color\":\"#C8D4E3\"},\"line\":{\"color\":\"white\"}},\"type\":\"table\"}]},\"layout\":{\"annotationdefaults\":{\"arrowcolor\":\"#2a3f5f\",\"arrowhead\":0,\"arrowwidth\":1},\"autotypenumbers\":\"strict\",\"coloraxis\":{\"colorbar\":{\"outlinewidth\":0,\"ticks\":\"\"}},\"colorscale\":{\"diverging\":[[0,\"#8e0152\"],[0.1,\"#c51b7d\"],[0.2,\"#de77ae\"],[0.3,\"#f1b6da\"],[0.4,\"#fde0ef\"],[0.5,\"#f7f7f7\"],[0.6,\"#e6f5d0\"],[0.7,\"#b8e186\"],[0.8,\"#7fbc41\"],[0.9,\"#4d9221\"],[1,\"#276419\"]],\"sequential\":[[0.0,\"#0d0887\"],[0.1111111111111111,\"#46039f\"],[0.2222222222222222,\"#7201a8\"],[0.3333333333333333,\"#9c179e\"],[0.4444444444444444,\"#bd3786\"],[0.5555555555555556,\"#d8576b\"],[0.6666666666666666,\"#ed7953\"],[0.7777777777777778,\"#fb9f3a\"],[0.8888888888888888,\"#fdca26\"],[1.0,\"#f0f921\"]],\"sequentialminus\":[[0.0,\"#0d0887\"],[0.1111111111111111,\"#46039f\"],[0.2222222222222222,\"#7201a8\"],[0.3333333333333333,\"#9c179e\"],[0.4444444444444444,\"#bd3786\"],[0.5555555555555556,\"#d8576b\"],[0.6666666666666666,\"#ed7953\"],[0.7777777777777778,\"#fb9f3a\"],[0.8888888888888888,\"#fdca26\"],[1.0,\"#f0f921\"]]},\"colorway\":[\"#636efa\",\"#EF553B\",\"#00cc96\",\"#ab63fa\",\"#FFA15A\",\"#19d3f3\",\"#FF6692\",\"#B6E880\",\"#FF97FF\",\"#FECB52\"],\"font\":{\"color\":\"#2a3f5f\"},\"geo\":{\"bgcolor\":\"white\",\"lakecolor\":\"white\",\"landcolor\":\"#E5ECF6\",\"showlakes\":true,\"showland\":true,\"subunitcolor\":\"white\"},\"hoverlabel\":{\"align\":\"left\"},\"hovermode\":\"closest\",\"mapbox\":{\"style\":\"light\"},\"paper_bgcolor\":\"white\",\"plot_bgcolor\":\"#E5ECF6\",\"polar\":{\"angularaxis\":{\"gridcolor\":\"white\",\"linecolor\":\"white\",\"ticks\":\"\"},\"bgcolor\":\"#E5ECF6\",\"radialaxis\":{\"gridcolor\":\"white\",\"linecolor\":\"white\",\"ticks\":\"\"}},\"scene\":{\"xaxis\":{\"backgroundcolor\":\"#E5ECF6\",\"gridcolor\":\"white\",\"gridwidth\":2,\"linecolor\":\"white\",\"showbackground\":true,\"ticks\":\"\",\"zerolinecolor\":\"white\"},\"yaxis\":{\"backgroundcolor\":\"#E5ECF6\",\"gridcolor\":\"white\",\"gridwidth\":2,\"linecolor\":\"white\",\"showbackground\":true,\"ticks\":\"\",\"zerolinecolor\":\"white\"},\"zaxis\":{\"backgroundcolor\":\"#E5ECF6\",\"gridcolor\":\"white\",\"gridwidth\":2,\"linecolor\":\"white\",\"showbackground\":true,\"ticks\":\"\",\"zerolinecolor\":\"white\"}},\"shapedefaults\":{\"line\":{\"color\":\"#2a3f5f\"}},\"ternary\":{\"aaxis\":{\"gridcolor\":\"white\",\"linecolor\":\"white\",\"ticks\":\"\"},\"baxis\":{\"gridcolor\":\"white\",\"linecolor\":\"white\",\"ticks\":\"\"},\"bgcolor\":\"#E5ECF6\",\"caxis\":{\"gridcolor\":\"white\",\"linecolor\":\"white\",\"ticks\":\"\"}},\"title\":{\"x\":0.05},\"xaxis\":{\"automargin\":true,\"gridcolor\":\"white\",\"linecolor\":\"white\",\"ticks\":\"\",\"title\":{\"standoff\":15},\"zerolinecolor\":\"white\",\"zerolinewidth\":2},\"yaxis\":{\"automargin\":true,\"gridcolor\":\"white\",\"linecolor\":\"white\",\"ticks\":\"\",\"title\":{\"standoff\":15},\"zerolinecolor\":\"white\",\"zerolinewidth\":2}}},\"xaxis\":{\"anchor\":\"y\",\"domain\":[0.0,1.0],\"title\":{\"text\":\"date\"}},\"yaxis\":{\"anchor\":\"x\",\"domain\":[0.0,1.0],\"title\":{\"text\":\"price\"}},\"legend\":{\"tracegroupgap\":0},\"margin\":{\"t\":60}},                        {\"responsive\": true}                    ).then(function(){\n",
              "                            \n",
              "var gd = document.getElementById('74f0b8fd-44a8-4685-99b1-670c4fe58c54');\n",
              "var x = new MutationObserver(function (mutations, observer) {{\n",
              "        var display = window.getComputedStyle(gd).display;\n",
              "        if (!display || display === 'none') {{\n",
              "            console.log([gd, 'removed!']);\n",
              "            Plotly.purge(gd);\n",
              "            observer.disconnect();\n",
              "        }}\n",
              "}});\n",
              "\n",
              "// Listen for the removal of the full notebook cells\n",
              "var notebookContainer = gd.closest('#notebook-container');\n",
              "if (notebookContainer) {{\n",
              "    x.observe(notebookContainer, {childList: true});\n",
              "}}\n",
              "\n",
              "// Listen for the clearing of the current output cell\n",
              "var outputEl = gd.closest('.output');\n",
              "if (outputEl) {{\n",
              "    x.observe(outputEl, {childList: true});\n",
              "}}\n",
              "\n",
              "                        })                };                            </script>        </div>\n",
              "</body>\n",
              "</html>"
            ]
          },
          "metadata": {}
        }
      ]
    },
    {
      "cell_type": "code",
      "source": [
        ""
      ],
      "metadata": {
        "id": "UwWHTryrX7G0"
      },
      "execution_count": null,
      "outputs": []
    },
    {
      "cell_type": "code",
      "source": [
        "# Histograms for univariate analysis\n",
        "for col in congo_df:\n",
        "    fig = px.histogram(x = congo_df[col],\n",
        "                       title='Histogram for {}'.format(col),\n",
        "                       labels={'x':col},\n",
        "                       nbins=30,\n",
        "                       color_discrete_sequence=colorblind_seq,\n",
        "                       width=700,\n",
        "                       height=500)\n",
        "\n",
        "    fig.show()"
      ],
      "metadata": {
        "id": "i_CNexka3Vbo"
      },
      "execution_count": null,
      "outputs": []
    },
    {
      "cell_type": "code",
      "source": [
        "df_corr = congo_df.corr() # Generate correlation matrix\n",
        "\n",
        "fig = go.Figure()\n",
        "fig.add_trace(\n",
        "    go.Heatmap(\n",
        "        x = df_corr.columns,\n",
        "        y = df_corr.index,\n",
        "        z = np.array(df_corr)\n",
        "    )\n",
        ")\n"
      ],
      "metadata": {
        "colab": {
          "base_uri": "https://localhost:8080/",
          "height": 542
        },
        "id": "hFyh_KLu3VU0",
        "outputId": "633fc655-1ec0-4166-aa41-d9355ad72bd6"
      },
      "execution_count": null,
      "outputs": [
        {
          "output_type": "display_data",
          "data": {
            "text/html": [
              "<html>\n",
              "<head><meta charset=\"utf-8\" /></head>\n",
              "<body>\n",
              "    <div>            <script src=\"https://cdnjs.cloudflare.com/ajax/libs/mathjax/2.7.5/MathJax.js?config=TeX-AMS-MML_SVG\"></script><script type=\"text/javascript\">if (window.MathJax) {MathJax.Hub.Config({SVG: {font: \"STIX-Web\"}});}</script>                <script type=\"text/javascript\">window.PlotlyConfig = {MathJaxConfig: 'local'};</script>\n",
              "        <script src=\"https://cdn.plot.ly/plotly-2.8.3.min.js\"></script>                <div id=\"e38c97f4-b3e5-4727-9d82-9841c4eaaad7\" class=\"plotly-graph-div\" style=\"height:525px; width:100%;\"></div>            <script type=\"text/javascript\">                                    window.PLOTLYENV=window.PLOTLYENV || {};                                    if (document.getElementById(\"e38c97f4-b3e5-4727-9d82-9841c4eaaad7\")) {                    Plotly.newPlot(                        \"e38c97f4-b3e5-4727-9d82-9841c4eaaad7\",                        [{\"x\":[\"Year\",\"Month\",\"Price\",\"Data Source\"],\"y\":[\"Year\",\"Month\",\"Price\",\"Data Source\"],\"z\":[[1.0,-0.07503754943888666,0.5240812271445482,null],[-0.07503754943888666,1.0,0.14439279663430615,null],[0.5240812271445482,0.14439279663430615,1.0,null],[null,null,null,null]],\"type\":\"heatmap\"}],                        {\"template\":{\"data\":{\"bar\":[{\"error_x\":{\"color\":\"#2a3f5f\"},\"error_y\":{\"color\":\"#2a3f5f\"},\"marker\":{\"line\":{\"color\":\"#E5ECF6\",\"width\":0.5},\"pattern\":{\"fillmode\":\"overlay\",\"size\":10,\"solidity\":0.2}},\"type\":\"bar\"}],\"barpolar\":[{\"marker\":{\"line\":{\"color\":\"#E5ECF6\",\"width\":0.5},\"pattern\":{\"fillmode\":\"overlay\",\"size\":10,\"solidity\":0.2}},\"type\":\"barpolar\"}],\"carpet\":[{\"aaxis\":{\"endlinecolor\":\"#2a3f5f\",\"gridcolor\":\"white\",\"linecolor\":\"white\",\"minorgridcolor\":\"white\",\"startlinecolor\":\"#2a3f5f\"},\"baxis\":{\"endlinecolor\":\"#2a3f5f\",\"gridcolor\":\"white\",\"linecolor\":\"white\",\"minorgridcolor\":\"white\",\"startlinecolor\":\"#2a3f5f\"},\"type\":\"carpet\"}],\"choropleth\":[{\"colorbar\":{\"outlinewidth\":0,\"ticks\":\"\"},\"type\":\"choropleth\"}],\"contour\":[{\"colorbar\":{\"outlinewidth\":0,\"ticks\":\"\"},\"colorscale\":[[0.0,\"#0d0887\"],[0.1111111111111111,\"#46039f\"],[0.2222222222222222,\"#7201a8\"],[0.3333333333333333,\"#9c179e\"],[0.4444444444444444,\"#bd3786\"],[0.5555555555555556,\"#d8576b\"],[0.6666666666666666,\"#ed7953\"],[0.7777777777777778,\"#fb9f3a\"],[0.8888888888888888,\"#fdca26\"],[1.0,\"#f0f921\"]],\"type\":\"contour\"}],\"contourcarpet\":[{\"colorbar\":{\"outlinewidth\":0,\"ticks\":\"\"},\"type\":\"contourcarpet\"}],\"heatmap\":[{\"colorbar\":{\"outlinewidth\":0,\"ticks\":\"\"},\"colorscale\":[[0.0,\"#0d0887\"],[0.1111111111111111,\"#46039f\"],[0.2222222222222222,\"#7201a8\"],[0.3333333333333333,\"#9c179e\"],[0.4444444444444444,\"#bd3786\"],[0.5555555555555556,\"#d8576b\"],[0.6666666666666666,\"#ed7953\"],[0.7777777777777778,\"#fb9f3a\"],[0.8888888888888888,\"#fdca26\"],[1.0,\"#f0f921\"]],\"type\":\"heatmap\"}],\"heatmapgl\":[{\"colorbar\":{\"outlinewidth\":0,\"ticks\":\"\"},\"colorscale\":[[0.0,\"#0d0887\"],[0.1111111111111111,\"#46039f\"],[0.2222222222222222,\"#7201a8\"],[0.3333333333333333,\"#9c179e\"],[0.4444444444444444,\"#bd3786\"],[0.5555555555555556,\"#d8576b\"],[0.6666666666666666,\"#ed7953\"],[0.7777777777777778,\"#fb9f3a\"],[0.8888888888888888,\"#fdca26\"],[1.0,\"#f0f921\"]],\"type\":\"heatmapgl\"}],\"histogram\":[{\"marker\":{\"pattern\":{\"fillmode\":\"overlay\",\"size\":10,\"solidity\":0.2}},\"type\":\"histogram\"}],\"histogram2d\":[{\"colorbar\":{\"outlinewidth\":0,\"ticks\":\"\"},\"colorscale\":[[0.0,\"#0d0887\"],[0.1111111111111111,\"#46039f\"],[0.2222222222222222,\"#7201a8\"],[0.3333333333333333,\"#9c179e\"],[0.4444444444444444,\"#bd3786\"],[0.5555555555555556,\"#d8576b\"],[0.6666666666666666,\"#ed7953\"],[0.7777777777777778,\"#fb9f3a\"],[0.8888888888888888,\"#fdca26\"],[1.0,\"#f0f921\"]],\"type\":\"histogram2d\"}],\"histogram2dcontour\":[{\"colorbar\":{\"outlinewidth\":0,\"ticks\":\"\"},\"colorscale\":[[0.0,\"#0d0887\"],[0.1111111111111111,\"#46039f\"],[0.2222222222222222,\"#7201a8\"],[0.3333333333333333,\"#9c179e\"],[0.4444444444444444,\"#bd3786\"],[0.5555555555555556,\"#d8576b\"],[0.6666666666666666,\"#ed7953\"],[0.7777777777777778,\"#fb9f3a\"],[0.8888888888888888,\"#fdca26\"],[1.0,\"#f0f921\"]],\"type\":\"histogram2dcontour\"}],\"mesh3d\":[{\"colorbar\":{\"outlinewidth\":0,\"ticks\":\"\"},\"type\":\"mesh3d\"}],\"parcoords\":[{\"line\":{\"colorbar\":{\"outlinewidth\":0,\"ticks\":\"\"}},\"type\":\"parcoords\"}],\"pie\":[{\"automargin\":true,\"type\":\"pie\"}],\"scatter\":[{\"marker\":{\"colorbar\":{\"outlinewidth\":0,\"ticks\":\"\"}},\"type\":\"scatter\"}],\"scatter3d\":[{\"line\":{\"colorbar\":{\"outlinewidth\":0,\"ticks\":\"\"}},\"marker\":{\"colorbar\":{\"outlinewidth\":0,\"ticks\":\"\"}},\"type\":\"scatter3d\"}],\"scattercarpet\":[{\"marker\":{\"colorbar\":{\"outlinewidth\":0,\"ticks\":\"\"}},\"type\":\"scattercarpet\"}],\"scattergeo\":[{\"marker\":{\"colorbar\":{\"outlinewidth\":0,\"ticks\":\"\"}},\"type\":\"scattergeo\"}],\"scattergl\":[{\"marker\":{\"colorbar\":{\"outlinewidth\":0,\"ticks\":\"\"}},\"type\":\"scattergl\"}],\"scattermapbox\":[{\"marker\":{\"colorbar\":{\"outlinewidth\":0,\"ticks\":\"\"}},\"type\":\"scattermapbox\"}],\"scatterpolar\":[{\"marker\":{\"colorbar\":{\"outlinewidth\":0,\"ticks\":\"\"}},\"type\":\"scatterpolar\"}],\"scatterpolargl\":[{\"marker\":{\"colorbar\":{\"outlinewidth\":0,\"ticks\":\"\"}},\"type\":\"scatterpolargl\"}],\"scatterternary\":[{\"marker\":{\"colorbar\":{\"outlinewidth\":0,\"ticks\":\"\"}},\"type\":\"scatterternary\"}],\"surface\":[{\"colorbar\":{\"outlinewidth\":0,\"ticks\":\"\"},\"colorscale\":[[0.0,\"#0d0887\"],[0.1111111111111111,\"#46039f\"],[0.2222222222222222,\"#7201a8\"],[0.3333333333333333,\"#9c179e\"],[0.4444444444444444,\"#bd3786\"],[0.5555555555555556,\"#d8576b\"],[0.6666666666666666,\"#ed7953\"],[0.7777777777777778,\"#fb9f3a\"],[0.8888888888888888,\"#fdca26\"],[1.0,\"#f0f921\"]],\"type\":\"surface\"}],\"table\":[{\"cells\":{\"fill\":{\"color\":\"#EBF0F8\"},\"line\":{\"color\":\"white\"}},\"header\":{\"fill\":{\"color\":\"#C8D4E3\"},\"line\":{\"color\":\"white\"}},\"type\":\"table\"}]},\"layout\":{\"annotationdefaults\":{\"arrowcolor\":\"#2a3f5f\",\"arrowhead\":0,\"arrowwidth\":1},\"autotypenumbers\":\"strict\",\"coloraxis\":{\"colorbar\":{\"outlinewidth\":0,\"ticks\":\"\"}},\"colorscale\":{\"diverging\":[[0,\"#8e0152\"],[0.1,\"#c51b7d\"],[0.2,\"#de77ae\"],[0.3,\"#f1b6da\"],[0.4,\"#fde0ef\"],[0.5,\"#f7f7f7\"],[0.6,\"#e6f5d0\"],[0.7,\"#b8e186\"],[0.8,\"#7fbc41\"],[0.9,\"#4d9221\"],[1,\"#276419\"]],\"sequential\":[[0.0,\"#0d0887\"],[0.1111111111111111,\"#46039f\"],[0.2222222222222222,\"#7201a8\"],[0.3333333333333333,\"#9c179e\"],[0.4444444444444444,\"#bd3786\"],[0.5555555555555556,\"#d8576b\"],[0.6666666666666666,\"#ed7953\"],[0.7777777777777778,\"#fb9f3a\"],[0.8888888888888888,\"#fdca26\"],[1.0,\"#f0f921\"]],\"sequentialminus\":[[0.0,\"#0d0887\"],[0.1111111111111111,\"#46039f\"],[0.2222222222222222,\"#7201a8\"],[0.3333333333333333,\"#9c179e\"],[0.4444444444444444,\"#bd3786\"],[0.5555555555555556,\"#d8576b\"],[0.6666666666666666,\"#ed7953\"],[0.7777777777777778,\"#fb9f3a\"],[0.8888888888888888,\"#fdca26\"],[1.0,\"#f0f921\"]]},\"colorway\":[\"#636efa\",\"#EF553B\",\"#00cc96\",\"#ab63fa\",\"#FFA15A\",\"#19d3f3\",\"#FF6692\",\"#B6E880\",\"#FF97FF\",\"#FECB52\"],\"font\":{\"color\":\"#2a3f5f\"},\"geo\":{\"bgcolor\":\"white\",\"lakecolor\":\"white\",\"landcolor\":\"#E5ECF6\",\"showlakes\":true,\"showland\":true,\"subunitcolor\":\"white\"},\"hoverlabel\":{\"align\":\"left\"},\"hovermode\":\"closest\",\"mapbox\":{\"style\":\"light\"},\"paper_bgcolor\":\"white\",\"plot_bgcolor\":\"#E5ECF6\",\"polar\":{\"angularaxis\":{\"gridcolor\":\"white\",\"linecolor\":\"white\",\"ticks\":\"\"},\"bgcolor\":\"#E5ECF6\",\"radialaxis\":{\"gridcolor\":\"white\",\"linecolor\":\"white\",\"ticks\":\"\"}},\"scene\":{\"xaxis\":{\"backgroundcolor\":\"#E5ECF6\",\"gridcolor\":\"white\",\"gridwidth\":2,\"linecolor\":\"white\",\"showbackground\":true,\"ticks\":\"\",\"zerolinecolor\":\"white\"},\"yaxis\":{\"backgroundcolor\":\"#E5ECF6\",\"gridcolor\":\"white\",\"gridwidth\":2,\"linecolor\":\"white\",\"showbackground\":true,\"ticks\":\"\",\"zerolinecolor\":\"white\"},\"zaxis\":{\"backgroundcolor\":\"#E5ECF6\",\"gridcolor\":\"white\",\"gridwidth\":2,\"linecolor\":\"white\",\"showbackground\":true,\"ticks\":\"\",\"zerolinecolor\":\"white\"}},\"shapedefaults\":{\"line\":{\"color\":\"#2a3f5f\"}},\"ternary\":{\"aaxis\":{\"gridcolor\":\"white\",\"linecolor\":\"white\",\"ticks\":\"\"},\"baxis\":{\"gridcolor\":\"white\",\"linecolor\":\"white\",\"ticks\":\"\"},\"bgcolor\":\"#E5ECF6\",\"caxis\":{\"gridcolor\":\"white\",\"linecolor\":\"white\",\"ticks\":\"\"}},\"title\":{\"x\":0.05},\"xaxis\":{\"automargin\":true,\"gridcolor\":\"white\",\"linecolor\":\"white\",\"ticks\":\"\",\"title\":{\"standoff\":15},\"zerolinecolor\":\"white\",\"zerolinewidth\":2},\"yaxis\":{\"automargin\":true,\"gridcolor\":\"white\",\"linecolor\":\"white\",\"ticks\":\"\",\"title\":{\"standoff\":15},\"zerolinecolor\":\"white\",\"zerolinewidth\":2}}}},                        {\"responsive\": true}                    ).then(function(){\n",
              "                            \n",
              "var gd = document.getElementById('e38c97f4-b3e5-4727-9d82-9841c4eaaad7');\n",
              "var x = new MutationObserver(function (mutations, observer) {{\n",
              "        var display = window.getComputedStyle(gd).display;\n",
              "        if (!display || display === 'none') {{\n",
              "            console.log([gd, 'removed!']);\n",
              "            Plotly.purge(gd);\n",
              "            observer.disconnect();\n",
              "        }}\n",
              "}});\n",
              "\n",
              "// Listen for the removal of the full notebook cells\n",
              "var notebookContainer = gd.closest('#notebook-container');\n",
              "if (notebookContainer) {{\n",
              "    x.observe(notebookContainer, {childList: true});\n",
              "}}\n",
              "\n",
              "// Listen for the clearing of the current output cell\n",
              "var outputEl = gd.closest('.output');\n",
              "if (outputEl) {{\n",
              "    x.observe(outputEl, {childList: true});\n",
              "}}\n",
              "\n",
              "                        })                };                            </script>        </div>\n",
              "</body>\n",
              "</html>"
            ]
          },
          "metadata": {}
        }
      ]
    },
    {
      "cell_type": "code",
      "source": [
        "#Finding the mean of the column having NaN\n",
        "mean_value=congo_df['Price'].mean()\n",
        "  \n",
        "# Replace NaNs in column S2 with the\n",
        "# mean of values in the same column\n",
        "congo_df['Price'].fillna(value=mean_value, inplace=True)"
      ],
      "metadata": {
        "id": "pZ8LtQtI3VRL"
      },
      "execution_count": null,
      "outputs": []
    },
    {
      "cell_type": "code",
      "source": [
        "fig = px.histogram(x = congo_df['Price'],\n",
        "                   title='Histogram for {}'.format('Price'),\n",
        "                   labels={'x':'Price'},\n",
        "                   nbins=30,\n",
        "                   color_discrete_sequence=colorblind_seq,\n",
        "                   width=700,\n",
        "                   height=500)\n",
        "\n",
        "fig.show()"
      ],
      "metadata": {
        "colab": {
          "base_uri": "https://localhost:8080/",
          "height": 517
        },
        "id": "Kj0Tu8bq3VN7",
        "outputId": "e4c1a64d-29df-4ca8-c76c-3ebbf2ce3629"
      },
      "execution_count": null,
      "outputs": [
        {
          "output_type": "display_data",
          "data": {
            "text/html": [
              "<html>\n",
              "<head><meta charset=\"utf-8\" /></head>\n",
              "<body>\n",
              "    <div>            <script src=\"https://cdnjs.cloudflare.com/ajax/libs/mathjax/2.7.5/MathJax.js?config=TeX-AMS-MML_SVG\"></script><script type=\"text/javascript\">if (window.MathJax) {MathJax.Hub.Config({SVG: {font: \"STIX-Web\"}});}</script>                <script type=\"text/javascript\">window.PlotlyConfig = {MathJaxConfig: 'local'};</script>\n",
              "        <script src=\"https://cdn.plot.ly/plotly-2.8.3.min.js\"></script>                <div id=\"43155937-baa7-466b-b15a-3a48d7ab0e7f\" class=\"plotly-graph-div\" style=\"height:500px; width:700px;\"></div>            <script type=\"text/javascript\">                                    window.PLOTLYENV=window.PLOTLYENV || {};                                    if (document.getElementById(\"43155937-baa7-466b-b15a-3a48d7ab0e7f\")) {                    Plotly.newPlot(                        \"43155937-baa7-466b-b15a-3a48d7ab0e7f\",                        [{\"alignmentgroup\":\"True\",\"bingroup\":\"x\",\"hovertemplate\":\"Price=%{x}<br>count=%{y}<extra></extra>\",\"legendgroup\":\"\",\"marker\":{\"color\":\"#8856a7\",\"pattern\":{\"shape\":\"\"}},\"name\":\"\",\"nbinsx\":30,\"offsetgroup\":\"\",\"orientation\":\"v\",\"showlegend\":false,\"x\":[579.75,546.0,552.29,592.15,574.71,638.1232291666666,525.0,553.57,520.72,540.14,539.43,540.86,517.75,517.75,559.25,638.1232291666666,638.1232291666666,638.1232291666666,619.0,650.0,700.0,579.75,616.75,628.25,634.0,634.0,580.5,580.5,606.5,571.0,553.25,653.5,652.0,720.0,646.0,553.25,553.25,638.1232291666666,638.1232291666666,638.1232291666666,638.1232291666666,638.1232291666666,638.1232291666666,638.1232291666666,638.1232291666666,638.1232291666666,638.1232291666666,638.1232291666666,638.1232291666666,638.1232291666666,638.1232291666666,660.0,531.0,539.0,672.5,708.5,725.0,725.0,713.9,665.5,522.45,550.67,553.29,564.0,555.57,598.0,546.2,659.4,552.0,549.8,638.1232291666666,675.0,645.33,601.4,536.0,562.0,631.5,631.5,605.43,626.29,640.86,650.29,659.57,708.86,704.29,725.72,673.14,727.57,805.0,846.0,837.0,795.14,797.29,746.4,836.8,882.0,756.4,744.0,619.6,642.0,582.4,611.6,605.0,572.0,550.4,588.6,599.8,655.6,679.0,693.0,762.6,749.8,798.0,778.4,738.6],\"xaxis\":\"x\",\"yaxis\":\"y\",\"type\":\"histogram\"}],                        {\"template\":{\"data\":{\"bar\":[{\"error_x\":{\"color\":\"#2a3f5f\"},\"error_y\":{\"color\":\"#2a3f5f\"},\"marker\":{\"line\":{\"color\":\"#E5ECF6\",\"width\":0.5},\"pattern\":{\"fillmode\":\"overlay\",\"size\":10,\"solidity\":0.2}},\"type\":\"bar\"}],\"barpolar\":[{\"marker\":{\"line\":{\"color\":\"#E5ECF6\",\"width\":0.5},\"pattern\":{\"fillmode\":\"overlay\",\"size\":10,\"solidity\":0.2}},\"type\":\"barpolar\"}],\"carpet\":[{\"aaxis\":{\"endlinecolor\":\"#2a3f5f\",\"gridcolor\":\"white\",\"linecolor\":\"white\",\"minorgridcolor\":\"white\",\"startlinecolor\":\"#2a3f5f\"},\"baxis\":{\"endlinecolor\":\"#2a3f5f\",\"gridcolor\":\"white\",\"linecolor\":\"white\",\"minorgridcolor\":\"white\",\"startlinecolor\":\"#2a3f5f\"},\"type\":\"carpet\"}],\"choropleth\":[{\"colorbar\":{\"outlinewidth\":0,\"ticks\":\"\"},\"type\":\"choropleth\"}],\"contour\":[{\"colorbar\":{\"outlinewidth\":0,\"ticks\":\"\"},\"colorscale\":[[0.0,\"#0d0887\"],[0.1111111111111111,\"#46039f\"],[0.2222222222222222,\"#7201a8\"],[0.3333333333333333,\"#9c179e\"],[0.4444444444444444,\"#bd3786\"],[0.5555555555555556,\"#d8576b\"],[0.6666666666666666,\"#ed7953\"],[0.7777777777777778,\"#fb9f3a\"],[0.8888888888888888,\"#fdca26\"],[1.0,\"#f0f921\"]],\"type\":\"contour\"}],\"contourcarpet\":[{\"colorbar\":{\"outlinewidth\":0,\"ticks\":\"\"},\"type\":\"contourcarpet\"}],\"heatmap\":[{\"colorbar\":{\"outlinewidth\":0,\"ticks\":\"\"},\"colorscale\":[[0.0,\"#0d0887\"],[0.1111111111111111,\"#46039f\"],[0.2222222222222222,\"#7201a8\"],[0.3333333333333333,\"#9c179e\"],[0.4444444444444444,\"#bd3786\"],[0.5555555555555556,\"#d8576b\"],[0.6666666666666666,\"#ed7953\"],[0.7777777777777778,\"#fb9f3a\"],[0.8888888888888888,\"#fdca26\"],[1.0,\"#f0f921\"]],\"type\":\"heatmap\"}],\"heatmapgl\":[{\"colorbar\":{\"outlinewidth\":0,\"ticks\":\"\"},\"colorscale\":[[0.0,\"#0d0887\"],[0.1111111111111111,\"#46039f\"],[0.2222222222222222,\"#7201a8\"],[0.3333333333333333,\"#9c179e\"],[0.4444444444444444,\"#bd3786\"],[0.5555555555555556,\"#d8576b\"],[0.6666666666666666,\"#ed7953\"],[0.7777777777777778,\"#fb9f3a\"],[0.8888888888888888,\"#fdca26\"],[1.0,\"#f0f921\"]],\"type\":\"heatmapgl\"}],\"histogram\":[{\"marker\":{\"pattern\":{\"fillmode\":\"overlay\",\"size\":10,\"solidity\":0.2}},\"type\":\"histogram\"}],\"histogram2d\":[{\"colorbar\":{\"outlinewidth\":0,\"ticks\":\"\"},\"colorscale\":[[0.0,\"#0d0887\"],[0.1111111111111111,\"#46039f\"],[0.2222222222222222,\"#7201a8\"],[0.3333333333333333,\"#9c179e\"],[0.4444444444444444,\"#bd3786\"],[0.5555555555555556,\"#d8576b\"],[0.6666666666666666,\"#ed7953\"],[0.7777777777777778,\"#fb9f3a\"],[0.8888888888888888,\"#fdca26\"],[1.0,\"#f0f921\"]],\"type\":\"histogram2d\"}],\"histogram2dcontour\":[{\"colorbar\":{\"outlinewidth\":0,\"ticks\":\"\"},\"colorscale\":[[0.0,\"#0d0887\"],[0.1111111111111111,\"#46039f\"],[0.2222222222222222,\"#7201a8\"],[0.3333333333333333,\"#9c179e\"],[0.4444444444444444,\"#bd3786\"],[0.5555555555555556,\"#d8576b\"],[0.6666666666666666,\"#ed7953\"],[0.7777777777777778,\"#fb9f3a\"],[0.8888888888888888,\"#fdca26\"],[1.0,\"#f0f921\"]],\"type\":\"histogram2dcontour\"}],\"mesh3d\":[{\"colorbar\":{\"outlinewidth\":0,\"ticks\":\"\"},\"type\":\"mesh3d\"}],\"parcoords\":[{\"line\":{\"colorbar\":{\"outlinewidth\":0,\"ticks\":\"\"}},\"type\":\"parcoords\"}],\"pie\":[{\"automargin\":true,\"type\":\"pie\"}],\"scatter\":[{\"marker\":{\"colorbar\":{\"outlinewidth\":0,\"ticks\":\"\"}},\"type\":\"scatter\"}],\"scatter3d\":[{\"line\":{\"colorbar\":{\"outlinewidth\":0,\"ticks\":\"\"}},\"marker\":{\"colorbar\":{\"outlinewidth\":0,\"ticks\":\"\"}},\"type\":\"scatter3d\"}],\"scattercarpet\":[{\"marker\":{\"colorbar\":{\"outlinewidth\":0,\"ticks\":\"\"}},\"type\":\"scattercarpet\"}],\"scattergeo\":[{\"marker\":{\"colorbar\":{\"outlinewidth\":0,\"ticks\":\"\"}},\"type\":\"scattergeo\"}],\"scattergl\":[{\"marker\":{\"colorbar\":{\"outlinewidth\":0,\"ticks\":\"\"}},\"type\":\"scattergl\"}],\"scattermapbox\":[{\"marker\":{\"colorbar\":{\"outlinewidth\":0,\"ticks\":\"\"}},\"type\":\"scattermapbox\"}],\"scatterpolar\":[{\"marker\":{\"colorbar\":{\"outlinewidth\":0,\"ticks\":\"\"}},\"type\":\"scatterpolar\"}],\"scatterpolargl\":[{\"marker\":{\"colorbar\":{\"outlinewidth\":0,\"ticks\":\"\"}},\"type\":\"scatterpolargl\"}],\"scatterternary\":[{\"marker\":{\"colorbar\":{\"outlinewidth\":0,\"ticks\":\"\"}},\"type\":\"scatterternary\"}],\"surface\":[{\"colorbar\":{\"outlinewidth\":0,\"ticks\":\"\"},\"colorscale\":[[0.0,\"#0d0887\"],[0.1111111111111111,\"#46039f\"],[0.2222222222222222,\"#7201a8\"],[0.3333333333333333,\"#9c179e\"],[0.4444444444444444,\"#bd3786\"],[0.5555555555555556,\"#d8576b\"],[0.6666666666666666,\"#ed7953\"],[0.7777777777777778,\"#fb9f3a\"],[0.8888888888888888,\"#fdca26\"],[1.0,\"#f0f921\"]],\"type\":\"surface\"}],\"table\":[{\"cells\":{\"fill\":{\"color\":\"#EBF0F8\"},\"line\":{\"color\":\"white\"}},\"header\":{\"fill\":{\"color\":\"#C8D4E3\"},\"line\":{\"color\":\"white\"}},\"type\":\"table\"}]},\"layout\":{\"annotationdefaults\":{\"arrowcolor\":\"#2a3f5f\",\"arrowhead\":0,\"arrowwidth\":1},\"autotypenumbers\":\"strict\",\"coloraxis\":{\"colorbar\":{\"outlinewidth\":0,\"ticks\":\"\"}},\"colorscale\":{\"diverging\":[[0,\"#8e0152\"],[0.1,\"#c51b7d\"],[0.2,\"#de77ae\"],[0.3,\"#f1b6da\"],[0.4,\"#fde0ef\"],[0.5,\"#f7f7f7\"],[0.6,\"#e6f5d0\"],[0.7,\"#b8e186\"],[0.8,\"#7fbc41\"],[0.9,\"#4d9221\"],[1,\"#276419\"]],\"sequential\":[[0.0,\"#0d0887\"],[0.1111111111111111,\"#46039f\"],[0.2222222222222222,\"#7201a8\"],[0.3333333333333333,\"#9c179e\"],[0.4444444444444444,\"#bd3786\"],[0.5555555555555556,\"#d8576b\"],[0.6666666666666666,\"#ed7953\"],[0.7777777777777778,\"#fb9f3a\"],[0.8888888888888888,\"#fdca26\"],[1.0,\"#f0f921\"]],\"sequentialminus\":[[0.0,\"#0d0887\"],[0.1111111111111111,\"#46039f\"],[0.2222222222222222,\"#7201a8\"],[0.3333333333333333,\"#9c179e\"],[0.4444444444444444,\"#bd3786\"],[0.5555555555555556,\"#d8576b\"],[0.6666666666666666,\"#ed7953\"],[0.7777777777777778,\"#fb9f3a\"],[0.8888888888888888,\"#fdca26\"],[1.0,\"#f0f921\"]]},\"colorway\":[\"#636efa\",\"#EF553B\",\"#00cc96\",\"#ab63fa\",\"#FFA15A\",\"#19d3f3\",\"#FF6692\",\"#B6E880\",\"#FF97FF\",\"#FECB52\"],\"font\":{\"color\":\"#2a3f5f\"},\"geo\":{\"bgcolor\":\"white\",\"lakecolor\":\"white\",\"landcolor\":\"#E5ECF6\",\"showlakes\":true,\"showland\":true,\"subunitcolor\":\"white\"},\"hoverlabel\":{\"align\":\"left\"},\"hovermode\":\"closest\",\"mapbox\":{\"style\":\"light\"},\"paper_bgcolor\":\"white\",\"plot_bgcolor\":\"#E5ECF6\",\"polar\":{\"angularaxis\":{\"gridcolor\":\"white\",\"linecolor\":\"white\",\"ticks\":\"\"},\"bgcolor\":\"#E5ECF6\",\"radialaxis\":{\"gridcolor\":\"white\",\"linecolor\":\"white\",\"ticks\":\"\"}},\"scene\":{\"xaxis\":{\"backgroundcolor\":\"#E5ECF6\",\"gridcolor\":\"white\",\"gridwidth\":2,\"linecolor\":\"white\",\"showbackground\":true,\"ticks\":\"\",\"zerolinecolor\":\"white\"},\"yaxis\":{\"backgroundcolor\":\"#E5ECF6\",\"gridcolor\":\"white\",\"gridwidth\":2,\"linecolor\":\"white\",\"showbackground\":true,\"ticks\":\"\",\"zerolinecolor\":\"white\"},\"zaxis\":{\"backgroundcolor\":\"#E5ECF6\",\"gridcolor\":\"white\",\"gridwidth\":2,\"linecolor\":\"white\",\"showbackground\":true,\"ticks\":\"\",\"zerolinecolor\":\"white\"}},\"shapedefaults\":{\"line\":{\"color\":\"#2a3f5f\"}},\"ternary\":{\"aaxis\":{\"gridcolor\":\"white\",\"linecolor\":\"white\",\"ticks\":\"\"},\"baxis\":{\"gridcolor\":\"white\",\"linecolor\":\"white\",\"ticks\":\"\"},\"bgcolor\":\"#E5ECF6\",\"caxis\":{\"gridcolor\":\"white\",\"linecolor\":\"white\",\"ticks\":\"\"}},\"title\":{\"x\":0.05},\"xaxis\":{\"automargin\":true,\"gridcolor\":\"white\",\"linecolor\":\"white\",\"ticks\":\"\",\"title\":{\"standoff\":15},\"zerolinecolor\":\"white\",\"zerolinewidth\":2},\"yaxis\":{\"automargin\":true,\"gridcolor\":\"white\",\"linecolor\":\"white\",\"ticks\":\"\",\"title\":{\"standoff\":15},\"zerolinecolor\":\"white\",\"zerolinewidth\":2}}},\"xaxis\":{\"anchor\":\"y\",\"domain\":[0.0,1.0],\"title\":{\"text\":\"Price\"}},\"yaxis\":{\"anchor\":\"x\",\"domain\":[0.0,1.0],\"title\":{\"text\":\"count\"}},\"legend\":{\"tracegroupgap\":0},\"title\":{\"text\":\"Histogram for Price\"},\"barmode\":\"relative\",\"height\":500,\"width\":700},                        {\"responsive\": true}                    ).then(function(){\n",
              "                            \n",
              "var gd = document.getElementById('43155937-baa7-466b-b15a-3a48d7ab0e7f');\n",
              "var x = new MutationObserver(function (mutations, observer) {{\n",
              "        var display = window.getComputedStyle(gd).display;\n",
              "        if (!display || display === 'none') {{\n",
              "            console.log([gd, 'removed!']);\n",
              "            Plotly.purge(gd);\n",
              "            observer.disconnect();\n",
              "        }}\n",
              "}});\n",
              "\n",
              "// Listen for the removal of the full notebook cells\n",
              "var notebookContainer = gd.closest('#notebook-container');\n",
              "if (notebookContainer) {{\n",
              "    x.observe(notebookContainer, {childList: true});\n",
              "}}\n",
              "\n",
              "// Listen for the clearing of the current output cell\n",
              "var outputEl = gd.closest('.output');\n",
              "if (outputEl) {{\n",
              "    x.observe(outputEl, {childList: true});\n",
              "}}\n",
              "\n",
              "                        })                };                            </script>        </div>\n",
              "</body>\n",
              "</html>"
            ]
          },
          "metadata": {}
        }
      ]
    },
    {
      "cell_type": "code",
      "source": [
        "print(mean_value)"
      ],
      "metadata": {
        "colab": {
          "base_uri": "https://localhost:8080/"
        },
        "id": "_1oxHlUC3VKJ",
        "outputId": "d00645b5-077c-4bcd-b35e-321a8d98390a"
      },
      "execution_count": null,
      "outputs": [
        {
          "output_type": "stream",
          "name": "stdout",
          "text": [
            "638.1232291666666\n"
          ]
        }
      ]
    },
    {
      "cell_type": "code",
      "source": [
        "congo_df['Price']"
      ],
      "metadata": {
        "colab": {
          "base_uri": "https://localhost:8080/"
        },
        "id": "W96IuNxT9IS9",
        "outputId": "a737ff49-69d5-4c0c-9237-1da659125d05"
      },
      "execution_count": null,
      "outputs": [
        {
          "output_type": "execute_result",
          "data": {
            "text/plain": [
              "0      579.75\n",
              "1      546.00\n",
              "2      552.29\n",
              "3      592.15\n",
              "4      574.71\n",
              "        ...  \n",
              "110    762.60\n",
              "111    749.80\n",
              "112    798.00\n",
              "113    778.40\n",
              "114    738.60\n",
              "Name: Price, Length: 115, dtype: float64"
            ]
          },
          "metadata": {},
          "execution_count": 24
        }
      ]
    },
    {
      "cell_type": "code",
      "source": [
        ""
      ],
      "metadata": {
        "id": "l15OkpnE9IPu"
      },
      "execution_count": null,
      "outputs": []
    },
    {
      "cell_type": "code",
      "source": [
        ""
      ],
      "metadata": {
        "id": "duEf9PiM9INf"
      },
      "execution_count": null,
      "outputs": []
    },
    {
      "cell_type": "code",
      "source": [
        ""
      ],
      "metadata": {
        "id": "IaLor4QT9IJk"
      },
      "execution_count": null,
      "outputs": []
    },
    {
      "cell_type": "code",
      "source": [
        ""
      ],
      "metadata": {
        "id": "91-49iUG9IGJ"
      },
      "execution_count": null,
      "outputs": []
    },
    {
      "cell_type": "code",
      "source": [
        ""
      ],
      "metadata": {
        "id": "wRBHDgOg9IDQ"
      },
      "execution_count": null,
      "outputs": []
    },
    {
      "cell_type": "code",
      "source": [
        ""
      ],
      "metadata": {
        "id": "BE1CQnna9H_P"
      },
      "execution_count": null,
      "outputs": []
    },
    {
      "cell_type": "code",
      "source": [
        ""
      ],
      "metadata": {
        "id": "sIIMV2KQ9H7o"
      },
      "execution_count": null,
      "outputs": []
    },
    {
      "cell_type": "markdown",
      "source": [
        "## Exploratory Data Analysis"
      ],
      "metadata": {
        "id": "TQxRpyzJLIwJ"
      }
    },
    {
      "cell_type": "markdown",
      "source": [
        "### Analysis of Numerical Features"
      ],
      "metadata": {
        "id": "SxOt-ALKAWB3"
      }
    },
    {
      "cell_type": "code",
      "source": [
        "# # Plot numerical column\n",
        "# for col in congo_df:\n",
        "#     plt.figure()\n",
        "#     sns.histplot(data=congo_df,x=col,bins=15,color=hex_color)\n",
        "#     plt.title(f\"Distribution of {col}\")\n",
        "#     print('\\n')\n",
        "plt.figure()\n",
        "sns.histplot(data=congo_df,x=congo_df['Price'],bins=15,color=hex_color)\n",
        "plt.title(f\"Distribution of Price\")"
      ],
      "metadata": {
        "id": "bPARDeXpSG8a",
        "colab": {
          "base_uri": "https://localhost:8080/",
          "height": 312
        },
        "outputId": "02cca6ce-6479-40e2-f61c-9a5d9b775152"
      },
      "execution_count": null,
      "outputs": [
        {
          "output_type": "execute_result",
          "data": {
            "text/plain": [
              "Text(0.5, 1.0, 'Distribution of Price')"
            ]
          },
          "metadata": {},
          "execution_count": 26
        },
        {
          "output_type": "display_data",
          "data": {
            "text/plain": [
              "<Figure size 432x288 with 1 Axes>"
            ],
            "image/png": "[encoded data removed]"
          },
          "metadata": {
            "needs_background": "light"
          }
        }
      ]
    },
    {
      "cell_type": "code",
      "source": [
        "# for x in congo_df['Price']:\n",
        "#     if x >= 4000:\n",
        "\n",
        "\n",
        "# [congo_df['Price'].iloc[x] == 0 for x in congo_df['Price'] if x > 4000]\n",
        "\n",
        "congo_df['Price'] = congo_df['Price'] <= 4000\n",
        "congo_df['Price'].count()\n"
      ],
      "metadata": {
        "colab": {
          "base_uri": "https://localhost:8080/"
        },
        "id": "-oYX2E4thkNv",
        "outputId": "89a7d179-1797-4a3f-bf54-078f86b2555a"
      },
      "execution_count": null,
      "outputs": [
        {
          "output_type": "execute_result",
          "data": {
            "text/plain": [
              "935"
            ]
          },
          "metadata": {},
          "execution_count": 31
        }
      ]
    },
    {
      "cell_type": "code",
      "source": [
        "plt.figure()\n",
        "sns.histplot(data=congo_df,x=congo_df['Price'],bins=15,color=hex_color)\n",
        "plt.title(f\"Distribution of Price\")"
      ],
      "metadata": {
        "colab": {
          "base_uri": "https://localhost:8080/",
          "height": 312
        },
        "id": "m5HJuWfBhkEh",
        "outputId": "fb0be016-0622-4dc3-d22f-ea8af80ee7ea"
      },
      "execution_count": null,
      "outputs": [
        {
          "output_type": "execute_result",
          "data": {
            "text/plain": [
              "Text(0.5, 1.0, 'Distribution of Price')"
            ]
          },
          "metadata": {},
          "execution_count": 32
        },
        {
          "output_type": "display_data",
          "data": {
            "text/plain": [
              "<Figure size 432x288 with 1 Axes>"
            ],
            "image/png": "[encoded data removed]"
          },
          "metadata": {
            "needs_background": "light"
          }
        }
      ]
    },
    {
      "cell_type": "code",
      "source": [
        ""
      ],
      "metadata": {
        "id": "0VvIdfbThj_P"
      },
      "execution_count": null,
      "outputs": []
    },
    {
      "cell_type": "code",
      "source": [
        "# Combine all columns into list\n",
        "explore_cols = explore_df.columns.to_list()\n",
        "explore_cols"
      ],
      "metadata": {
        "colab": {
          "base_uri": "https://localhost:8080/"
        },
        "id": "fvNth99PSG__",
        "outputId": "6b10c4de-6df7-4765-fa1f-9b88a9d4aa75"
      },
      "execution_count": null,
      "outputs": [
        {
          "output_type": "execute_result",
          "data": {
            "text/plain": [
              "['Age', 'Sex', 'BP', 'Cholesterol', 'Na_to_K', 'Drug']"
            ]
          },
          "metadata": {},
          "execution_count": 5
        }
      ]
    },
    {
      "cell_type": "code",
      "source": [
        "!pip install jupyter-dash;"
      ],
      "metadata": {
        "id": "RAJreKJ2DK7z"
      },
      "execution_count": null,
      "outputs": []
    },
    {
      "cell_type": "code",
      "source": [
        "# # Build App\n",
        "# app = JupyterDash(__name__)\n",
        "# app.layout = html.Div([\n",
        "#     html.H1('Feature Analysis'),\n",
        "#     dcc.Graph(id='graph'),\n",
        "#     html.Label([\n",
        "#         \"colorscale\",\n",
        "#         dcc.Dropdown(\n",
        "#             id='colorscale-dropdown', clearable=False,\n",
        "#             value='plasma', options=[\n",
        "#                 {'label': c, 'value': c}\n",
        "#                 for c in px.colors.named_colorscales()\n",
        "#             ])\n",
        "#     ]),\n",
        "# ])\n",
        "# # Define callback to update graph\n",
        "# @app.callback(\n",
        "#     Output('graph', 'figure'),\n",
        "#     [Input(\"colorscale-dropdown\", \"value\")]\n",
        "# )\n",
        "# def update_figure(colorscale):\n",
        "#     return px.scatter(\n",
        "#         df, x=\"total_bill\", y=\"tip\", color=\"size\",\n",
        "#         color_continuous_scale=colorscale,\n",
        "#         render_mode=\"webgl\", title=\"Tips\"\n",
        "#     )\n",
        "# # Run app and display result inline in the notebook\n",
        "# app.run_server(mode='inline')"
      ],
      "metadata": {
        "id": "8InYhaeuJv8B"
      },
      "execution_count": null,
      "outputs": []
    },
    {
      "cell_type": "code",
      "source": [
        "explore_df.count()"
      ],
      "metadata": {
        "colab": {
          "base_uri": "https://localhost:8080/"
        },
        "id": "QiOZ2VMSN-EC",
        "outputId": "4c918234-4db4-42a2-c135-cba48535cdd3"
      },
      "execution_count": null,
      "outputs": [
        {
          "output_type": "execute_result",
          "data": {
            "text/plain": [
              "Age            200\n",
              "Sex            200\n",
              "BP             200\n",
              "Cholesterol    200\n",
              "Na_to_K        200\n",
              "Drug           200\n",
              "dtype: int64"
            ]
          },
          "metadata": {},
          "execution_count": 7
        }
      ]
    },
    {
      "cell_type": "code",
      "source": [
        "import dash\n",
        "import plotly.express as px\n",
        "from jupyter_dash import JupyterDash\n",
        "import dash_core_components as dcc\n",
        "from dash import html\n",
        "from dash.dependencies import Input, Output\n",
        "import plotly.graph_objects as go\n",
        "import plotly.express as px\n",
        "\n",
        "# Load Data\n",
        "#df = px.data.tips()\n",
        "# Build App\n",
        "app = JupyterDash(__name__)\n",
        "df = explore_df\n",
        "\n",
        "\n",
        "app.layout = html.Div(id = 'parent', children = [\n",
        "    html.H1(id = 'H1', children = 'Feature Analysis', style = {'textAlign':'center',\\\n",
        "                                            'marginTop':40,'marginBottom':40}),\n",
        "\n",
        "        dcc.Dropdown( id = 'dropdown',\n",
        "        options = [{'label':'Google', 'value':'GOOG' },\n",
        "                   {'label': 'Apple', 'value':'AAPL'},\n",
        "                   {'label': 'Amazon', 'value':'AMZN'},],\n",
        "        value = 'Age'),\n",
        "        dcc.Graph(id = 'bar_plot')\n",
        "    ])\n",
        "    \n",
        "    \n",
        "@app.callback(Output(component_id='bar_plot', component_property= 'figure'),\n",
        "              [Input(component_id='dropdown', component_property= 'value')])\n",
        "def graph_update(dropdown_value):\n",
        "    print(dropdown_value)\n",
        "    fig = go.Figure([go.Histogram(explore_df, x = df['{}'.format(dropdown_value)])])\n",
        "    \n",
        "    fig.update_layout(title = 'Initial distributions',\n",
        "                      xaxis_title = 'Dates',\n",
        "                      yaxis_title = 'Count'\n",
        "                      )\n",
        "    return fig  \n",
        "\n",
        "# Run app and display result inline in the notebook\n",
        "app.run_server(mode='inline')\n",
        "\n",
        "# app = Dash(__name__)\n",
        "\n",
        "# app.layout = html.Div([\n",
        "#     dcc.Graph(id='graph-with-slider'),\n",
        "#     dcc.Slider(\n",
        "#         df['year'].min(),\n",
        "#         df['year'].max(),\n",
        "#         step=None,\n",
        "#         value=df['year'].min(),\n",
        "#         marks={str(year): str(year) for year in df['year'].unique()},\n",
        "#         id='year-slider'\n",
        "#     )\n",
        "# ])\n",
        "\n",
        "\n",
        "# @app.callback(\n",
        "#     Output('graph-with-slider', 'figure'),\n",
        "#     Input('year-slider', 'value'))\n",
        "# def update_figure(selected_year):\n",
        "#     filtered_df = df[df.year == selected_year]\n",
        "\n",
        "#     fig = px.scatter(filtered_df, x=\"gdpPercap\", y=\"lifeExp\",\n",
        "#                      size=\"pop\", color=\"continent\", hover_name=\"country\",\n",
        "#                      log_x=True, size_max=55)\n",
        "\n",
        "#     fig.update_layout(transition_duration=500)\n",
        "\n",
        "#     return fig\n"
      ],
      "metadata": {
        "colab": {
          "base_uri": "https://localhost:8080/",
          "height": 671
        },
        "id": "XQOsQA99CoSF",
        "outputId": "7dbdfb42-321a-4e2d-de45-ed4e84e6bd79"
      },
      "execution_count": null,
      "outputs": [
        {
          "output_type": "display_data",
          "data": {
            "text/plain": [
              "<IPython.core.display.Javascript object>"
            ],
            "application/javascript": [
              "(async (port, path, width, height, cache, element) => {\n",
              "    if (!google.colab.kernel.accessAllowed && !cache) {\n",
              "      return;\n",
              "    }\n",
              "    element.appendChild(document.createTextNode(''));\n",
              "    const url = await google.colab.kernel.proxyPort(port, {cache});\n",
              "    const iframe = document.createElement('iframe');\n",
              "    iframe.src = new URL(path, url).toString();\n",
              "    iframe.height = height;\n",
              "    iframe.width = width;\n",
              "    iframe.style.border = 0;\n",
              "    element.appendChild(iframe);\n",
              "  })(8050, \"/\", \"100%\", 650, false, window.element)"
            ]
          },
          "metadata": {}
        }
      ]
    },
    {
      "cell_type": "code",
      "source": [
        ""
      ],
      "metadata": {
        "id": "YoyQrZkgCoNV"
      },
      "execution_count": null,
      "outputs": []
    },
    {
      "cell_type": "code",
      "source": [
        ""
      ],
      "metadata": {
        "id": "R74IRMu7CoJd"
      },
      "execution_count": null,
      "outputs": []
    },
    {
      "cell_type": "code",
      "source": [
        ""
      ],
      "metadata": {
        "id": "_FoeQcrlCoFw"
      },
      "execution_count": null,
      "outputs": []
    },
    {
      "cell_type": "code",
      "source": [
        ""
      ],
      "metadata": {
        "id": "PbDCiKk_Cn8d"
      },
      "execution_count": null,
      "outputs": []
    },
    {
      "cell_type": "markdown",
      "source": [
        "**Inference:** Na_to_k has a positive skew. Check skewness and kurtosis of Na_to_K"
      ],
      "metadata": {
        "id": "JKp_O2mvBlMR"
      }
    },
    {
      "cell_type": "code",
      "source": [
        "# Skewness\n",
        "print(\"Skewness: %f\" % explore_df['Na_to_K'].skew())"
      ],
      "metadata": {
        "id": "LmTF9C3xBb_R",
        "outputId": "0d8d44b5-6517-47f5-c8af-8ac2a5e6f715",
        "colab": {
          "base_uri": "https://localhost:8080/"
        }
      },
      "execution_count": null,
      "outputs": [
        {
          "output_type": "stream",
          "name": "stdout",
          "text": [
            "Skewness: 1.039341\n"
          ]
        }
      ]
    },
    {
      "cell_type": "markdown",
      "source": [
        "**Inference**: Drug Y is widely used compared to other drugs."
      ],
      "metadata": {
        "id": "DM9V3F-0UbK7"
      }
    },
    {
      "cell_type": "markdown",
      "source": [
        "### Bivariate Analysis"
      ],
      "metadata": {
        "id": "1rCJ-1ZNUxaw"
      }
    },
    {
      "cell_type": "code",
      "source": [
        "# Bivariate for numerical columns\n",
        "for col in explore_cols:\n",
        "    plt.figure(figsize=(14,6))\n",
        "    sns.swarmplot(data=explore_df,x='Drug',y=col,palette=vis_color)\n",
        "    plt.title(f\"Distribution of Drug with respect to {col}\")"
      ],
      "metadata": {
        "id": "YtJ9dG_nNEZQ",
        "colab": {
          "base_uri": "https://localhost:8080/",
          "height": 1000
        },
        "outputId": "6219ff99-cc96-478a-ae22-5884881c5904"
      },
      "execution_count": null,
      "outputs": [
        {
          "output_type": "stream",
          "name": "stderr",
          "text": [
            "/usr/local/lib/python3.7/dist-packages/seaborn/categorical.py:1296: UserWarning: 49.5% of the points cannot be placed; you may want to decrease the size of the markers or use stripplot.\n",
            "  warnings.warn(msg, UserWarning)\n",
            "/usr/local/lib/python3.7/dist-packages/seaborn/categorical.py:1296: UserWarning: 14.8% of the points cannot be placed; you may want to decrease the size of the markers or use stripplot.\n",
            "  warnings.warn(msg, UserWarning)\n",
            "/usr/local/lib/python3.7/dist-packages/seaborn/categorical.py:1296: UserWarning: 24.2% of the points cannot be placed; you may want to decrease the size of the markers or use stripplot.\n",
            "  warnings.warn(msg, UserWarning)\n",
            "/usr/local/lib/python3.7/dist-packages/seaborn/categorical.py:1296: UserWarning: 24.1% of the points cannot be placed; you may want to decrease the size of the markers or use stripplot.\n",
            "  warnings.warn(msg, UserWarning)\n",
            "/usr/local/lib/python3.7/dist-packages/seaborn/categorical.py:1296: UserWarning: 49.5% of the points cannot be placed; you may want to decrease the size of the markers or use stripplot.\n",
            "  warnings.warn(msg, UserWarning)\n",
            "/usr/local/lib/python3.7/dist-packages/seaborn/categorical.py:1296: UserWarning: 20.4% of the points cannot be placed; you may want to decrease the size of the markers or use stripplot.\n",
            "  warnings.warn(msg, UserWarning)\n",
            "/usr/local/lib/python3.7/dist-packages/seaborn/categorical.py:1296: UserWarning: 74.7% of the points cannot be placed; you may want to decrease the size of the markers or use stripplot.\n",
            "  warnings.warn(msg, UserWarning)\n",
            "/usr/local/lib/python3.7/dist-packages/seaborn/categorical.py:1296: UserWarning: 57.4% of the points cannot be placed; you may want to decrease the size of the markers or use stripplot.\n",
            "  warnings.warn(msg, UserWarning)\n"
          ]
        },
        {
          "output_type": "display_data",
          "data": {
            "text/plain": [
              "<Figure size 1008x432 with 1 Axes>"
            ],
            "image/png": "[encoded data removed]"
          },
          "metadata": {
            "needs_background": "light"
          }
        },
        {
          "output_type": "display_data",
          "data": {
            "text/plain": [
              "<Figure size 1008x432 with 1 Axes>"
            ],
            "image/png": "[encoded data removed]"
          },
          "metadata": {
            "needs_background": "light"
          }
        },
        {
          "output_type": "display_data",
          "data": {
            "text/plain": [
              "<Figure size 1008x432 with 1 Axes>"
            ],
            "image/png": "[encoded data removed]"
          },
          "metadata": {
            "needs_background": "light"
          }
        },
        {
          "output_type": "display_data",
          "data": {
            "text/plain": [
              "<Figure size 1008x432 with 1 Axes>"
            ],
            "image/png": "[encoded data removed]"
          },
          "metadata": {
            "needs_background": "light"
          }
        },
        {
          "output_type": "display_data",
          "data": {
            "text/plain": [
              "<Figure size 1008x432 with 1 Axes>"
            ],
            "image/png": "[encoded data removed]"
          },
          "metadata": {
            "needs_background": "light"
          }
        },
        {
          "output_type": "display_data",
          "data": {
            "text/plain": [
              "<Figure size 1008x432 with 1 Axes>"
            ],
            "image/png": "[encoded data removed]"
          },
          "metadata": {
            "needs_background": "light"
          }
        }
      ]
    },
    {
      "cell_type": "markdown",
      "source": [
        "**Inference:** Age may have a correlation with drugA and drugB. Na_to_K appears to have a high correlation to drugY."
      ],
      "metadata": {
        "id": "khCtgW9nLht8"
      }
    },
    {
      "cell_type": "markdown",
      "source": [
        "### Multivariate Analysis"
      ],
      "metadata": {
        "id": "ER-d-02-gGso"
      }
    },
    {
      "cell_type": "code",
      "source": [
        "# Create correlation matrix\n",
        "plt.figure(figsize=(14, 6))\n",
        "heatmap = sns.heatmap(explore_df.corr(), vmin=-1, vmax=1, annot=True, cmap=cmap_color)\n",
        "heatmap.set_title('Correlation Heatmap');"
      ],
      "metadata": {
        "id": "dTEVHqExUDnU",
        "outputId": "5e0af632-1566-4ffe-b372-561fc1f2f983",
        "colab": {
          "base_uri": "https://localhost:8080/",
          "height": 391
        }
      },
      "execution_count": null,
      "outputs": [
        {
          "output_type": "display_data",
          "data": {
            "text/plain": [
              "<Figure size 1008x432 with 2 Axes>"
            ],
            "image/png": "[encoded data removed]"
          },
          "metadata": {
            "needs_background": "light"
          }
        }
      ]
    },
    {
      "cell_type": "code",
      "source": [
        ""
      ],
      "metadata": {
        "id": "O8KQaIjiUKMk"
      },
      "execution_count": null,
      "outputs": []
    },
    {
      "cell_type": "code",
      "source": [
        ""
      ],
      "metadata": {
        "id": "m-AgCDM4UKIa"
      },
      "execution_count": null,
      "outputs": []
    },
    {
      "cell_type": "code",
      "source": [
        ""
      ],
      "metadata": {
        "id": "0KEMPEkEUKEP"
      },
      "execution_count": null,
      "outputs": []
    },
    {
      "cell_type": "code",
      "source": [
        ""
      ],
      "metadata": {
        "id": "m7Hwru_QUJ-W"
      },
      "execution_count": null,
      "outputs": []
    },
    {
      "cell_type": "code",
      "source": [
        "explore_df.columns\n"
      ],
      "metadata": {
        "colab": {
          "base_uri": "https://localhost:8080/"
        },
        "id": "5wIKtrIaUJ6U",
        "outputId": "63be9931-418a-4848-c533-64ac9bc931c9"
      },
      "execution_count": null,
      "outputs": [
        {
          "output_type": "execute_result",
          "data": {
            "text/plain": [
              "Index(['Age', 'Sex', 'BP', 'Cholesterol', 'Na_to_K', 'Drug'], dtype='object')"
            ]
          },
          "metadata": {},
          "execution_count": 9
        }
      ]
    },
    {
      "cell_type": "code",
      "source": [
        ""
      ],
      "metadata": {
        "id": "WRLcBywbUJ2C"
      },
      "execution_count": null,
      "outputs": []
    },
    {
      "cell_type": "code",
      "source": [
        ""
      ],
      "metadata": {
        "id": "foUFdZHBUJyj"
      },
      "execution_count": null,
      "outputs": []
    },
    {
      "cell_type": "code",
      "source": [
        "# target_cols = ['DrugY', 'drugA', 'drugB', 'drugC', 'drugX']\n",
        "# feat_cols = ['Age', 'Na_to_K', 'Sex_F', 'Sex_M', 'BP_HIGH', 'BP_LOW', 'BP_NORMAL','Cholesterol_HIGH', 'Cholesterol_NORMAL']\n",
        "\n",
        "# for col in feat_cols:\n",
        "#     # View the distrubution of drug compared with Na_to_K and BP\n",
        "#     plt.figure(figsize=(14,6))\n",
        "#     sns.barplot(x=target_cols,y=explore_df[col],palette=vis_color)\n",
        "#     plt.title('Distribution of Drug with respect to Na_to_K and Blood Pressure')"
      ],
      "metadata": {
        "id": "8ZCtZSDAUJp8"
      },
      "execution_count": null,
      "outputs": []
    },
    {
      "cell_type": "code",
      "source": [
        "# for col in feat_cols:\n",
        "#     # View the distrubution of drug compared with Na_to_K and BP\n",
        "#     plt.figure(figsize=(14,6))\n",
        "#     sns.swarmplot(data=explore_df,x=target_cols,y=col,hue='BP',palette=vis_color)\n",
        "#     plt.title('Distribution of Drug with respect to Na_to_K and Blood Pressure')"
      ],
      "metadata": {
        "id": "nQUAGCbYfA1X"
      },
      "execution_count": null,
      "outputs": []
    },
    {
      "cell_type": "markdown",
      "source": [
        "## Data Wrangling\n"
      ],
      "metadata": {
        "id": "w0hVoBBlCGoM"
      }
    },
    {
      "cell_type": "code",
      "source": [
        "# # Handle the skewness in Na_to_K\n",
        "# print('The original skewness of Na_to_K')\n",
        "# print(\"Skewness: %f\" % explore_df['Na_to_K'].skew())\n",
        "\n",
        "# print('\\n')\n",
        "\n",
        "# # Use square root to adjust the skewness\n",
        "# explore_df['Na_to_K'] = np.sqrt(explore_df['Na_to_K'])\n",
        "\n",
        "# #Plot new\n",
        "# plt.figure(figsize=(14,6))\n",
        "# sns.histplot(data=explore_df,x='Na_to_K',bins=15,color=hex_color)\n",
        "# plt.title(f\"New Distribution of Na_to_K\")\n",
        "\n",
        "# print('The new skewness of Na_to_K')\n",
        "# print(\"Skewness: %f\" % explore_df['Na_to_K'].skew())"
      ],
      "metadata": {
        "id": "_AMEHuZsf9a2"
      },
      "execution_count": null,
      "outputs": []
    },
    {
      "cell_type": "code",
      "source": [
        "# Make age into 7 groups\n",
        "bin_age = [0, 19, 29, 39, 49, 59, 69, 80]\n",
        "category_age = ['<20s', '20s', '30s', '40s', '50s', '60s', '>60s']\n",
        "explore_df['Age_binned'] = pd.cut(explore_df['Age'], bins=bin_age, labels=category_age)\n",
        "df_drug = explore_df.drop(['Age'], axis = 1)"
      ],
      "metadata": {
        "id": "3lTPXXvEkUrO"
      },
      "execution_count": null,
      "outputs": []
    },
    {
      "cell_type": "code",
      "source": [
        "# Make Na_to_K into 5 groups\n",
        "bin_NatoK = [0, 9, 19, 29, 50]\n",
        "category_NatoK = ['<10', '10-20', '20-30', '>30']\n",
        "explore_df['Na_to_K_binned'] = pd.cut(explore_df['Na_to_K'], bins=bin_NatoK, labels=category_NatoK)\n",
        "explore_df = explore_df.drop(['Na_to_K'], axis = 1)"
      ],
      "metadata": {
        "id": "uObf_6SCfAzI"
      },
      "execution_count": null,
      "outputs": []
    },
    {
      "cell_type": "code",
      "source": [
        "# Split data into features and target\n",
        "y_df = explore_df['Drug']\n",
        "X_df = explore_df.drop(['Drug'],axis=1)\n"
      ],
      "metadata": {
        "id": "-HldoRSAOhND",
        "outputId": "93b304bc-3b98-413a-c685-17e62969b61f",
        "colab": {
          "base_uri": "https://localhost:8080/",
          "height": 424
        }
      },
      "execution_count": null,
      "outputs": [
        {
          "output_type": "execute_result",
          "data": {
            "text/plain": [
              "     Age Sex      BP Cholesterol Age_binned Na_to_K_binned\n",
              "0     23   F    HIGH        HIGH        20s          20-30\n",
              "1     47   M     LOW        HIGH        40s          10-20\n",
              "2     47   M     LOW        HIGH        40s          10-20\n",
              "3     28   F  NORMAL        HIGH        20s            <10\n",
              "4     61   F     LOW        HIGH        60s          10-20\n",
              "..   ...  ..     ...         ...        ...            ...\n",
              "195   56   F     LOW        HIGH        50s          10-20\n",
              "196   16   M     LOW        HIGH       <20s          10-20\n",
              "197   52   M  NORMAL        HIGH        50s          10-20\n",
              "198   23   M  NORMAL      NORMAL        20s          10-20\n",
              "199   40   F     LOW      NORMAL        40s          10-20\n",
              "\n",
              "[200 rows x 6 columns]"
            ],
            "text/html": [
              "\n",
              "  <div id=\"df-bee645dc-f433-4729-8e6a-68f69d55ecbb\">\n",
              "    <div class=\"colab-df-container\">\n",
              "      <div>\n",
              "<style scoped>\n",
              "    .dataframe tbody tr th:only-of-type {\n",
              "        vertical-align: middle;\n",
              "    }\n",
              "\n",
              "    .dataframe tbody tr th {\n",
              "        vertical-align: top;\n",
              "    }\n",
              "\n",
              "    .dataframe thead th {\n",
              "        text-align: right;\n",
              "    }\n",
              "</style>\n",
              "<table border=\"1\" class=\"dataframe\">\n",
              "  <thead>\n",
              "    <tr style=\"text-align: right;\">\n",
              "      <th></th>\n",
              "      <th>Age</th>\n",
              "      <th>Sex</th>\n",
              "      <th>BP</th>\n",
              "      <th>Cholesterol</th>\n",
              "      <th>Age_binned</th>\n",
              "      <th>Na_to_K_binned</th>\n",
              "    </tr>\n",
              "  </thead>\n",
              "  <tbody>\n",
              "    <tr>\n",
              "      <th>0</th>\n",
              "      <td>23</td>\n",
              "      <td>F</td>\n",
              "      <td>HIGH</td>\n",
              "      <td>HIGH</td>\n",
              "      <td>20s</td>\n",
              "      <td>20-30</td>\n",
              "    </tr>\n",
              "    <tr>\n",
              "      <th>1</th>\n",
              "      <td>47</td>\n",
              "      <td>M</td>\n",
              "      <td>LOW</td>\n",
              "      <td>HIGH</td>\n",
              "      <td>40s</td>\n",
              "      <td>10-20</td>\n",
              "    </tr>\n",
              "    <tr>\n",
              "      <th>2</th>\n",
              "      <td>47</td>\n",
              "      <td>M</td>\n",
              "      <td>LOW</td>\n",
              "      <td>HIGH</td>\n",
              "      <td>40s</td>\n",
              "      <td>10-20</td>\n",
              "    </tr>\n",
              "    <tr>\n",
              "      <th>3</th>\n",
              "      <td>28</td>\n",
              "      <td>F</td>\n",
              "      <td>NORMAL</td>\n",
              "      <td>HIGH</td>\n",
              "      <td>20s</td>\n",
              "      <td>&lt;10</td>\n",
              "    </tr>\n",
              "    <tr>\n",
              "      <th>4</th>\n",
              "      <td>61</td>\n",
              "      <td>F</td>\n",
              "      <td>LOW</td>\n",
              "      <td>HIGH</td>\n",
              "      <td>60s</td>\n",
              "      <td>10-20</td>\n",
              "    </tr>\n",
              "    <tr>\n",
              "      <th>...</th>\n",
              "      <td>...</td>\n",
              "      <td>...</td>\n",
              "      <td>...</td>\n",
              "      <td>...</td>\n",
              "      <td>...</td>\n",
              "      <td>...</td>\n",
              "    </tr>\n",
              "    <tr>\n",
              "      <th>195</th>\n",
              "      <td>56</td>\n",
              "      <td>F</td>\n",
              "      <td>LOW</td>\n",
              "      <td>HIGH</td>\n",
              "      <td>50s</td>\n",
              "      <td>10-20</td>\n",
              "    </tr>\n",
              "    <tr>\n",
              "      <th>196</th>\n",
              "      <td>16</td>\n",
              "      <td>M</td>\n",
              "      <td>LOW</td>\n",
              "      <td>HIGH</td>\n",
              "      <td>&lt;20s</td>\n",
              "      <td>10-20</td>\n",
              "    </tr>\n",
              "    <tr>\n",
              "      <th>197</th>\n",
              "      <td>52</td>\n",
              "      <td>M</td>\n",
              "      <td>NORMAL</td>\n",
              "      <td>HIGH</td>\n",
              "      <td>50s</td>\n",
              "      <td>10-20</td>\n",
              "    </tr>\n",
              "    <tr>\n",
              "      <th>198</th>\n",
              "      <td>23</td>\n",
              "      <td>M</td>\n",
              "      <td>NORMAL</td>\n",
              "      <td>NORMAL</td>\n",
              "      <td>20s</td>\n",
              "      <td>10-20</td>\n",
              "    </tr>\n",
              "    <tr>\n",
              "      <th>199</th>\n",
              "      <td>40</td>\n",
              "      <td>F</td>\n",
              "      <td>LOW</td>\n",
              "      <td>NORMAL</td>\n",
              "      <td>40s</td>\n",
              "      <td>10-20</td>\n",
              "    </tr>\n",
              "  </tbody>\n",
              "</table>\n",
              "<p>200 rows × 6 columns</p>\n",
              "</div>\n",
              "      <button class=\"colab-df-convert\" onclick=\"convertToInteractive('df-bee645dc-f433-4729-8e6a-68f69d55ecbb')\"\n",
              "              title=\"Convert this dataframe to an interactive table.\"\n",
              "              style=\"display:none;\">\n",
              "        \n",
              "  <svg xmlns=\"http://www.w3.org/2000/svg\" height=\"24px\"viewBox=\"0 0 24 24\"\n",
              "       width=\"24px\">\n",
              "    <path d=\"M0 0h24v24H0V0z\" fill=\"none\"/>\n",
              "    <path d=\"M18.56 5.44l.94 2.06.94-2.06 2.06-.94-2.06-.94-.94-2.06-.94 2.06-2.06.94zm-11 1L8.5 8.5l.94-2.06 2.06-.94-2.06-.94L8.5 2.5l-.94 2.06-2.06.94zm10 10l.94 2.06.94-2.06 2.06-.94-2.06-.94-.94-2.06-.94 2.06-2.06.94z\"/><path d=\"M17.41 7.96l-1.37-1.37c-.4-.4-.92-.59-1.43-.59-.52 0-1.04.2-1.43.59L10.3 9.45l-7.72 7.72c-.78.78-.78 2.05 0 2.83L4 21.41c.39.39.9.59 1.41.59.51 0 1.02-.2 1.41-.59l7.78-7.78 2.81-2.81c.8-.78.8-2.07 0-2.86zM5.41 20L4 18.59l7.72-7.72 1.47 1.35L5.41 20z\"/>\n",
              "  </svg>\n",
              "      </button>\n",
              "      \n",
              "  <style>\n",
              "    .colab-df-container {\n",
              "      display:flex;\n",
              "      flex-wrap:wrap;\n",
              "      gap: 12px;\n",
              "    }\n",
              "\n",
              "    .colab-df-convert {\n",
              "      background-color: #E8F0FE;\n",
              "      border: none;\n",
              "      border-radius: 50%;\n",
              "      cursor: pointer;\n",
              "      display: none;\n",
              "      fill: #1967D2;\n",
              "      height: 32px;\n",
              "      padding: 0 0 0 0;\n",
              "      width: 32px;\n",
              "    }\n",
              "\n",
              "    .colab-df-convert:hover {\n",
              "      background-color: #E2EBFA;\n",
              "      box-shadow: 0px 1px 2px rgba(60, 64, 67, 0.3), 0px 1px 3px 1px rgba(60, 64, 67, 0.15);\n",
              "      fill: #174EA6;\n",
              "    }\n",
              "\n",
              "    [theme=dark] .colab-df-convert {\n",
              "      background-color: #3B4455;\n",
              "      fill: #D2E3FC;\n",
              "    }\n",
              "\n",
              "    [theme=dark] .colab-df-convert:hover {\n",
              "      background-color: #434B5C;\n",
              "      box-shadow: 0px 1px 3px 1px rgba(0, 0, 0, 0.15);\n",
              "      filter: drop-shadow(0px 1px 2px rgba(0, 0, 0, 0.3));\n",
              "      fill: #FFFFFF;\n",
              "    }\n",
              "  </style>\n",
              "\n",
              "      <script>\n",
              "        const buttonEl =\n",
              "          document.querySelector('#df-bee645dc-f433-4729-8e6a-68f69d55ecbb button.colab-df-convert');\n",
              "        buttonEl.style.display =\n",
              "          google.colab.kernel.accessAllowed ? 'block' : 'none';\n",
              "\n",
              "        async function convertToInteractive(key) {\n",
              "          const element = document.querySelector('#df-bee645dc-f433-4729-8e6a-68f69d55ecbb');\n",
              "          const dataTable =\n",
              "            await google.colab.kernel.invokeFunction('convertToInteractive',\n",
              "                                                     [key], {});\n",
              "          if (!dataTable) return;\n",
              "\n",
              "          const docLinkHtml = 'Like what you see? Visit the ' +\n",
              "            '<a target=\"_blank\" href=https://colab.research.google.com/notebooks/data_table.ipynb>data table notebook</a>'\n",
              "            + ' to learn more about interactive tables.';\n",
              "          element.innerHTML = '';\n",
              "          dataTable['output_type'] = 'display_data';\n",
              "          await google.colab.output.renderOutput(dataTable, element);\n",
              "          const docLink = document.createElement('div');\n",
              "          docLink.innerHTML = docLinkHtml;\n",
              "          element.appendChild(docLink);\n",
              "        }\n",
              "      </script>\n",
              "    </div>\n",
              "  </div>\n",
              "  "
            ]
          },
          "metadata": {},
          "execution_count": 15
        }
      ]
    },
    {
      "cell_type": "markdown",
      "source": [
        "## Split, Encode, Train, and Test the Data"
      ],
      "metadata": {
        "id": "i0XzzcuTOX28"
      }
    },
    {
      "cell_type": "code",
      "source": [
        "# Split the data\n",
        "X_train, X_test, y_train, y_test = train_test_split(X_df, y_df, test_size=0.2, random_state=22)"
      ],
      "metadata": {
        "id": "NvOqsdLHLdxJ"
      },
      "execution_count": null,
      "outputs": []
    },
    {
      "cell_type": "code",
      "source": [
        "# \n",
        "X_train = pd.get_dummies(X_train)\n",
        "X_test = pd.get_dummies(X_test)"
      ],
      "metadata": {
        "id": "3XbpWFonAIgp"
      },
      "execution_count": null,
      "outputs": []
    },
    {
      "cell_type": "code",
      "source": [
        "# SMOTE to correct DrugY having more than the others\n",
        "from imblearn.over_sampling import SMOTE\n",
        "X_train, y_train = SMOTE().fit_resample(X_train, y_train)"
      ],
      "metadata": {
        "id": "AX7eeL24meJq"
      },
      "execution_count": null,
      "outputs": []
    },
    {
      "cell_type": "code",
      "source": [
        "# Train the data on the Random Forest Classifier and test the accuracy\n",
        "rfc = RandomForestClassifier(max_leaf_nodes=15)\n",
        "rfc.fit(X_train,y_train)\n",
        "\n",
        "# Making predictions\n",
        "y_train_pred = rfc.predict(X_train)\n",
        "y_test_pred = rfc.predict(X_test)\n",
        "\n",
        "# Get Scores\n",
        "print('Results for Random Forest Classifier')\n",
        "print('F1 Score: ', round(f1_score(y_test, y_test_pred, average='weighted')*100,2),'%')\n",
        "print(classification_report(y_test,y_test_pred))"
      ],
      "metadata": {
        "id": "wB8dZvOSZ4G6",
        "colab": {
          "base_uri": "https://localhost:8080/"
        },
        "outputId": "bc2f98af-c57a-4c59-8cb1-dcfb78f5c6be"
      },
      "execution_count": null,
      "outputs": [
        {
          "output_type": "stream",
          "name": "stdout",
          "text": [
            "Results for Random Forest Classifier\n",
            "F1 Score:  85.66 %\n",
            "              precision    recall  f1-score   support\n",
            "\n",
            "       DrugY       1.00      0.70      0.82        20\n",
            "       drugA       0.70      1.00      0.82         7\n",
            "       drugB       1.00      1.00      1.00         4\n",
            "       drugC       0.33      1.00      0.50         1\n",
            "       drugX       0.89      1.00      0.94         8\n",
            "\n",
            "    accuracy                           0.85        40\n",
            "   macro avg       0.78      0.94      0.82        40\n",
            "weighted avg       0.91      0.85      0.86        40\n",
            "\n"
          ]
        }
      ]
    },
    {
      "cell_type": "code",
      "source": [
        "# Train the data on the Decision Tree Classifier and test the accuracy\n",
        "dtc = DecisionTreeClassifier(max_leaf_nodes=30)\n",
        "dtc.fit(X_train,y_train)\n",
        "\n",
        "# Making predictions\n",
        "y_train_pred = dtc.predict(X_train)\n",
        "y_test_pred = dtc.predict(X_test)\n",
        "\n",
        "# Get Scores\n",
        "print('Results for Decision Tree Classifier')\n",
        "print('F1 Score: ', round(f1_score(y_test, y_test_pred, average='weighted')*100,2),'%')\n",
        "print(classification_report(y_test,y_test_pred))"
      ],
      "metadata": {
        "id": "zweJGy-T3WDc",
        "colab": {
          "base_uri": "https://localhost:8080/"
        },
        "outputId": "42e147ec-6a82-45f3-ea70-7fb57a8b9747"
      },
      "execution_count": null,
      "outputs": [
        {
          "output_type": "stream",
          "name": "stdout",
          "text": [
            "Results for Decision Tree Classifier\n",
            "F1 Score:  83.35 %\n",
            "              precision    recall  f1-score   support\n",
            "\n",
            "       DrugY       0.84      0.80      0.82        20\n",
            "       drugA       0.86      0.86      0.86         7\n",
            "       drugB       1.00      0.75      0.86         4\n",
            "       drugC       0.33      1.00      0.50         1\n",
            "       drugX       0.88      0.88      0.88         8\n",
            "\n",
            "    accuracy                           0.82        40\n",
            "   macro avg       0.78      0.86      0.78        40\n",
            "weighted avg       0.85      0.82      0.83        40\n",
            "\n"
          ]
        }
      ]
    },
    {
      "cell_type": "code",
      "source": [
        ""
      ],
      "metadata": {
        "id": "yjYMSGxrljTg"
      },
      "execution_count": null,
      "outputs": []
    }
  ]
}